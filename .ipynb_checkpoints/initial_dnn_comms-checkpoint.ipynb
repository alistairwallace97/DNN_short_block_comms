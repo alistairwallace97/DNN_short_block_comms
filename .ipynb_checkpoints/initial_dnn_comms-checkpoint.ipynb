{
 "cells": [
  {
   "cell_type": "code",
   "execution_count": 1,
   "metadata": {},
   "outputs": [
    {
     "name": "stderr",
     "output_type": "stream",
     "text": [
      "Using TensorFlow backend.\n"
     ]
    }
   ],
   "source": [
    "import tensorflow as tf\n",
    "import keras \n",
    "import numpy as np\n",
    "from keras.layers import Input, Dense, Lambda\n",
    "from keras.models import Model\n",
    "from keras.layers.normalization import BatchNormalization \n",
    "from keras import backend as K\n",
    "from keras.layers import GaussianNoise, advanced_activations\n",
    "from keras.engine.topology import Layer\n",
    "from keras.legacy import interfaces\n",
    "from keras.initializers import Zeros as kZeros\n",
    "from keras.utils import multi_gpu_model\n",
    "import matplotlib.pyplot as plt\n",
    "import seaborn as sns\n",
    "from keras.models import load_model\n",
    "from keras.callbacks import EarlyStopping\n",
    "import sklearn\n",
    "from sklearn.model_selection import train_test_split\n",
    "plt.ylabel(\"Block error rate (BLER)\")\n",
    "plt.legend([\"Relu (2,2)\", \"Leaky-Relu (2,2)\", \"Leaky-Relu (8,8)\", \\\n",
    "            \"Leaky-Relu (7,4)\", \"LR (2,2) new EbN0\", \"LR (8,8) new EbN0\", \\\n",
    "            \"LR (7,4) Rr=4/7\"])\n",
    "plt.show()\n",
    "from sklearn.manifold import TSNE\n",
    "# from tqdm import tqdm_notebook, tnrange\n",
    "from time import time\n",
    "import pickle"
   ]
  },
  {
   "cell_type": "code",
   "execution_count": 68,
   "metadata": {},
   "outputs": [
    {
     "ename": "ModuleNotFoundError",
     "evalue": "No module named 'tqdm'",
     "output_type": "error",
     "traceback": [
      "\u001b[0;31m---------------------------------------------------------------------------\u001b[0m",
      "\u001b[0;31mModuleNotFoundError\u001b[0m                       Traceback (most recent call last)",
      "\u001b[0;32m<ipython-input-68-7d0a051c6aeb>\u001b[0m in \u001b[0;36m<module>\u001b[0;34m()\u001b[0m\n\u001b[0;32m----> 1\u001b[0;31m \u001b[0;32mfrom\u001b[0m \u001b[0mtqdm\u001b[0m \u001b[0;32mimport\u001b[0m \u001b[0mtqdm_notebook\u001b[0m\u001b[0;34m,\u001b[0m \u001b[0mtnrange\u001b[0m\u001b[0;34m\u001b[0m\u001b[0m\n\u001b[0m",
      "\u001b[0;31mModuleNotFoundError\u001b[0m: No module named 'tqdm'"
     ]
    }
   ],
   "source": [
    "from tqdm import tqdm_notebook, tnrange"
   ]
  },
  {
   "cell_type": "markdown",
   "metadata": {},
   "source": [
    "### Function Definitions"
   ]
  },
  {
   "cell_type": "markdown",
   "metadata": {},
   "source": [
    "#### Most Likely Symbol Layer\n",
    "I have intially done this with a normal function, however this hasn't been working with Keras. What I'm probably going to do next is make a custom layer for this as well and then add this. <br>\n",
    "Not sure whether to use this in training though as using softwax may be a good way of training the model to give decisive decisions and it's also pretty useful for seeing the probabilities, and therefore confidence in it's decisions."
   ]
  },
  {
   "cell_type": "markdown",
   "metadata": {},
   "source": [
    "Numpy function"
   ]
  },
  {
   "cell_type": "code",
   "execution_count": 2,
   "metadata": {},
   "outputs": [],
   "source": [
    "def most_likely_symbol(posterior_probs):\n",
    "    row_indices = np.arange(posterior_probs.shape[0])\n",
    "    col_indices = np.argmax(posterior_probs, axis=1)\n",
    "    ret_arr = np.zeros(posterior_probs.shape)\n",
    "    ret_arr[row_indices,col_indices] = 1\n",
    "    return ret_arr"
   ]
  },
  {
   "cell_type": "markdown",
   "metadata": {},
   "source": [
    "Keras backend (tensorflow) function"
   ]
  },
  {
   "cell_type": "code",
   "execution_count": 3,
   "metadata": {},
   "outputs": [],
   "source": [
    "def most_likely(posterior_probs):\n",
    "    max_vals = K.max(posterior_probs, axis=1, keepdims=True) \n",
    "    max_vals = K.cast(max_vals, 'float32')\n",
    "    geT = K.greater_equal(posterior_probs, max_vals)\n",
    "    return K.cast(geT, 'float32')"
   ]
  },
  {
   "cell_type": "markdown",
   "metadata": {},
   "source": [
    "#### Custom most likely symbol layer\n",
    "This layer need to, for all in-phase and quaternary outputs, pick the most likely symbol. <br>\n",
    "I need to take in a softmax probability distribution for all the possible symbols (One hot encoded) and pick the one with the maximum likelyhood (value). Say $M$=2, then $S$ = {01,10} so $\\hat{S}$ = {01,10}. This layer converts something that looks something like [0.63,0.27] to [1,0] <br>\n",
    "**Note:** This layer should only be used in testing because gradients do not propogate through round functions. So this is a layer that should only be used at test time. "
   ]
  },
  {
   "cell_type": "code",
   "execution_count": 4,
   "metadata": {},
   "outputs": [],
   "source": [
    "class MostLikelySymbol(Layer):\n",
    "    \"\"\"Return the most likely symbol from a softmax input in the\n",
    "    one hot encoded form.\n",
    "\n",
    "    This layer is only active at test time as otherwise it would\n",
    "    stop gradient propogation during training. Also it is useful\n",
    "    to train with a softmax output to encourage a decisive \n",
    "    decision and because it means you can assess confidence.\n",
    "\n",
    "    # Arguments\n",
    "        None\n",
    "\n",
    "    # Input shape\n",
    "        Arbitrary. Use the keyword argument `input_shape`\n",
    "        (tuple of integers, does not include the samples axis)\n",
    "        when using this layer as the first layer in a model.\n",
    "\n",
    "    # Output shape\n",
    "        Same shape as input.\n",
    "    \"\"\"\n",
    "\n",
    "    @interfaces.legacy_gaussiannoise_support\n",
    "    def __init__(self, **kwargs):\n",
    "        super(MostLikelySymbol, self).__init__(**kwargs)\n",
    "        self.supports_masking = True\n",
    "\n",
    "    def call(self, inputs, training=None):\n",
    "        def most_likely():\n",
    "            max_vals = K.max(inputs, axis=1, keepdims=True) \n",
    "            max_vals = K.cast(max_vals, 'float32')\n",
    "            geT = K.greater_equal(inputs, max_vals)\n",
    "            return K.cast(geT, 'float32')            \n",
    "        return K.in_train_phase(inputs, most_likely, training=training)\n",
    "\n",
    "    def get_config(self):\n",
    "        config = {}\n",
    "        base_config = super(MostLikelySymbol, self).get_config()\n",
    "        return dict(list(base_config.items()) + list(config.items()))\n",
    "\n",
    "    def compute_output_shape(self, input_shape):\n",
    "        return input_shape"
   ]
  },
  {
   "cell_type": "markdown",
   "metadata": {},
   "source": [
    "#### Custom GaussianNoise layer\n",
    "Ok, so the problem with the built in GaussianNoise layer is that it only adds noise at training time and not at testing time. So I've had a look in the source code and found how this is enacted. <br>\n",
    "I'm now going to define my own custom layer which does exactly the same thing, but just adds the noise at both training time and testing time. <br>\n",
    "I'm going to copy the source code from keras then just fiddle it so it does what I want."
   ]
  },
  {
   "cell_type": "code",
   "execution_count": 5,
   "metadata": {},
   "outputs": [],
   "source": [
    "class GaussianNoise2(Layer):\n",
    "    \"\"\"Apply additive zero-centered Gaussian noise at both traning\n",
    "    and test time.\n",
    "\n",
    "    This is useful to mitigate overfitting\n",
    "    (you could see it as a form of random data augmentation).\n",
    "    Gaussian Noise (GS) is a natural choice as corruption process\n",
    "    for real valued inputs.\n",
    "\n",
    "    Unlike the built in GaussianNoise regularisation layer it is \n",
    "    active at both training and test time. \n",
    "\n",
    "    # Arguments\n",
    "        stddev: float, standard deviation of the noise distribution.\n",
    "\n",
    "    # Input shape\n",
    "        Arbitrary. Use the keyword argument `input_shape`\n",
    "        (tuple of integers, does not include the samples axis)\n",
    "        when using this layer as the first layer in a model.\n",
    "\n",
    "    # Output shape\n",
    "        Same shape as input.\n",
    "    \"\"\"\n",
    "\n",
    "    @interfaces.legacy_gaussiannoise_support\n",
    "    def __init__(self, stddev, **kwargs):\n",
    "        super(GaussianNoise2, self).__init__(**kwargs)\n",
    "        self.supports_masking = True\n",
    "        self.stddev = stddev\n",
    "\n",
    "    def call(self, inputs, training=None):\n",
    "        def noised():\n",
    "            return inputs + K.random_normal(shape=K.shape(inputs),\n",
    "                                            mean=0.,\n",
    "                                            stddev=self.stddev)\n",
    "        return K.in_train_phase(noised, noised, training=training)\n",
    "\n",
    "    def get_config(self):\n",
    "        config = {'stddev': self.stddev}\n",
    "        base_config = super(GaussianNoise2, self).get_config()\n",
    "        return dict(list(base_config.items()) + list(config.items()))\n",
    "\n",
    "    def compute_output_shape(self, input_shape):\n",
    "        return input_shape"
   ]
  },
  {
   "cell_type": "code",
   "execution_count": 6,
   "metadata": {},
   "outputs": [],
   "source": [
    "def make_model(M, R, sigma, activation_func):\n",
    "    ### Initialising Parameters\n",
    "    k = np.log2(M) # Number of bits needed to represent M \n",
    "                   # messages\n",
    "    Nc = int(round(k/R)) # Number of bit being used to represent\n",
    "                        # channel symbols being used \n",
    "                        # Number of complex channel uses\n",
    "    Nr = Nc*2 # Number of real channel uses\n",
    "    \n",
    "    ### Defining Layers\n",
    "    ## TRANSMITTER\n",
    "    # This is my input placeholder\n",
    "    input_message = Input(shape=(M,), name=\"input\")\n",
    "    # Encoded representation of the input\n",
    "    # Relu layer to capture non-linearity\n",
    "    tx1 = Dense(Nr,activation=activation_func, name=\"tx1\")\\\n",
    "                (input_message)\n",
    "    # Linear layer to give channel symbols not\n",
    "    # clustered around 0 and 1.\n",
    "    tx2 = Dense(Nr,activation=activation_func, name=\"tx2\")(tx1)\n",
    "    # Reshape it to complex channel symbols\n",
    "    tx_complex = Lambda(lambda x : K.reshape(x, (-1,Nc,2)),\n",
    "                       output_shape=(Nc,2), \\\n",
    "                        name=\"tx_reshape\")(tx2)\n",
    "\n",
    "    # Normalisation Layer\n",
    "    tx_norm = Lambda(lambda x : K.l2_normalize(x,axis=2),\n",
    "                     output_shape=(Nc,2), name=\"tx_norm\")\\\n",
    "                        (tx_complex)\n",
    "#     tx_norm = BatchNormalization(axis=2)(tx_complex)\n",
    "\n",
    "    # Add Noise \n",
    "    noise = GaussianNoise2(sigma)(tx_norm)\n",
    "\n",
    "    ## RECIEVER\n",
    "    # Flatten the input\n",
    "    noise_flat = Lambda(lambda x : K.reshape(x, (-1,Nr)),\n",
    "                       output_shape=(Nr,),\\\n",
    "                        name=\"noise_flat\")(noise)\n",
    "    # Multiple Dense Layers\n",
    "    # Dense relu layer to capture non linearity\n",
    "    rx1 = Dense(M,activation=activation_func, name=\"rx1\")\\\n",
    "                (noise_flat)\n",
    "    # Dense layer with softmax activation\n",
    "    rx_softmax = Dense(M,activation='softmax', \\\n",
    "                       name=\"rx_softmax\")(rx1)\n",
    "    # Select the symbols with the maximum probabilities\n",
    "    ml_symbs = MostLikelySymbol()(rx_softmax)\n",
    "    \n",
    "    ###Defining the models\n",
    "    autoencoder = Model(input_message, rx_softmax)\n",
    "    ## Model the Tx and Rx seperately as well\n",
    "    # Model the Tx\n",
    "    transmitter = Model(input_message, tx_norm)\n",
    "    # Model the Tx plus the noise\n",
    "    channel_sym_with_noise = Model(input_message, noise)\n",
    "    channel_symbol = Input(shape=(Nr,))\n",
    "    # Take the last layer of the autoencoder model\n",
    "    reciever_layers = autoencoder.layers[-2](channel_symbol)\n",
    "    reciever_layers = autoencoder.layers[-1](reciever_layers)\n",
    "\n",
    "    # Create a model of the reciever\n",
    "    reciever = Model(channel_symbol, reciever_layers)\n",
    "    autoencoder_symbs = Model(input_message,ml_symbs) \n",
    "    \n",
    "    # Compile the model\n",
    "    autoencoder.compile(loss='categorical_crossentropy',\n",
    "                        optimizer=\"adam\")\n",
    "    return autoencoder, transmitter, reciever,\\\n",
    "            autoencoder_symbs, k, Nc, Nr"
   ]
  },
  {
   "cell_type": "code",
   "execution_count": 7,
   "metadata": {},
   "outputs": [],
   "source": [
    "def make_non_complex_channel_model(k, Nr, sigma, activation_func):\n",
    "    ### Initialising Parameters\n",
    "    assert(round(k) == k)\n",
    "    M = 2**k\n",
    "\n",
    "    ### Defining Layers\n",
    "    ## TRANSMITTER\n",
    "    # This is my input placeholder\n",
    "    input_message = Input(shape=(M,), name=\"input\")\n",
    "    # Encoded representation of the input\n",
    "    # Relu layer to capture non-linearity\n",
    "    tx1 = Dense(Nr,activation=activation_func, name=\"tx1\")\\\n",
    "                (input_message)\n",
    "    # Linear layer to give channel symbols not\n",
    "    # clustered around 0 and 1.\n",
    "    tx2 = Dense(Nr,activation=activation_func, name=\"tx2\")(tx1)\n",
    "\n",
    "    # Normalisation Layer\n",
    "    tx_norm = Lambda(lambda x : K.l2_normalize(x,axis=1),\n",
    "                     output_shape=(Nr,), name=\"tx_norm\")\\\n",
    "                        (tx2)\n",
    "\n",
    "    # Add Noise \n",
    "    noise = GaussianNoise2(sigma)(tx_norm)\n",
    "\n",
    "    ## RECIEVER\n",
    "    # Multiple Dense Layers\n",
    "    # Dense relu layer to capture non linearity\n",
    "    rx1 = Dense(Nr,activation=activation_func, name=\"rx1\")\\\n",
    "                (noise)\n",
    "    # Dense layer with softmax activation\n",
    "    rx_softmax = Dense(M,activation='softmax', \\\n",
    "                       name=\"rx_softmax\")(rx1)\n",
    "    # Select the symbols with the maximum probabilities\n",
    "    ml_symbs = MostLikelySymbol()(rx_softmax)\n",
    "\n",
    "    ###Defining the models\n",
    "    autoencoder = Model(input_message, rx_softmax)\n",
    "    ## Model the Tx and Rx seperately as well\n",
    "    # Model the Tx\n",
    "    transmitter = Model(input_message, tx_norm)\n",
    "    # Model the Tx plus the noise\n",
    "    channel_sym_with_noise = Model(input_message, noise)\n",
    "    channel_symbol = Input(shape=(Nr,))\n",
    "    # Take the last layer of the autoencoder model\n",
    "    reciever_layers = autoencoder.layers[-2](channel_symbol)\n",
    "    reciever_layers = autoencoder.layers[-1](reciever_layers)\n",
    "\n",
    "    # Create a model of the reciever\n",
    "    reciever = Model(channel_symbol, reciever_layers)\n",
    "    autoencoder_symbs = Model(input_message,ml_symbs) \n",
    "\n",
    "    # Compile the model\n",
    "    autoencoder.compile(loss='categorical_crossentropy',\n",
    "                        optimizer=\"adam\")\n",
    "    return autoencoder, transmitter, channel_sym_with_noise, \\\n",
    "            reciever, autoencoder_symbs, k, Nr"
   ]
  },
  {
   "cell_type": "code",
   "execution_count": 8,
   "metadata": {},
   "outputs": [],
   "source": [
    "def get_layer_shapes(start, end, num_steps):\n",
    "    shapes = [start]\n",
    "    diff = (end-start)/(num_steps-1)\n",
    "    # Always start with a full dense layer\n",
    "    for i in range(1,num_steps):\n",
    "        shapes.append(int(start + i*diff))\n",
    "    return shapes"
   ]
  },
  {
   "cell_type": "code",
   "execution_count": 9,
   "metadata": {},
   "outputs": [],
   "source": [
    "def make_complex_n_layer_lr_tanh_tapering_model(M, R, sigma, \\\n",
    "                                                hl_activation_func, \\\n",
    "                                                ol_activation_func, \\\n",
    "                                                num_layers):\n",
    "    ### Initialising Parameters\n",
    "    k = np.log2(M) # Number of bits needed to represent M \n",
    "                   # messages\n",
    "    Nc = int(round(k/R)) # Number of bit being used to represent\n",
    "                        # channel symbols being used \n",
    "                        # Number of complex channel uses\n",
    "    Nr = Nc*2 # Number of real channel uses\n",
    "\n",
    "    ### Defining Layers\n",
    "    ## TRANSMITTER\n",
    "    tx_shapes = get_layer_shapes(M, Nr, num_layers)\n",
    "    input_message = Input(shape=(M,), name=\"input\")\n",
    "    # Hidden Tx layers\n",
    "    tx1 = Dense(tx_shapes[0],activation=hl_activation_func, \\\n",
    "                name=\"tx1\")(input_message)\n",
    "    for i in range(1,num_layers-1):\n",
    "        tx1 = Dense(tx_shapes[i],activation=hl_activation_func, \\\n",
    "                    name=(\"tx\"+str(i+1)))(tx1)\n",
    "    # Final layer with a different activation function to capture non\n",
    "    # linearity\n",
    "    tx_n = Dense(tx_shapes[-1],activation=ol_activation_func, \\\n",
    "                 name=(\"tx\"+str(num_layers)))(tx1)\n",
    "    # Reshape it to complex channel symbols\n",
    "    tx_complex = Lambda(lambda x : K.reshape(x, (-1,Nc,2)),\n",
    "                       output_shape=(Nc,2), \\\n",
    "                        name=\"tx_reshape\")(tx_n)\n",
    "\n",
    "    # Normalisation Layer\n",
    "    tx_norm = Lambda(lambda x : K.l2_normalize(x,axis=2),\n",
    "                     output_shape=(Nc,2), name=\"tx_norm\")\\\n",
    "                        (tx_complex)\n",
    "\n",
    "    # Add Noise \n",
    "    noise = GaussianNoise2(sigma)(tx_norm)\n",
    "\n",
    "    ## RECIEVER\n",
    "    # Flatten the input\n",
    "    noise_flat = Lambda(lambda x : K.reshape(x, (-1,Nr)),\n",
    "                       output_shape=(Nr,),\\\n",
    "                        name=\"noise_flat\")(noise)\n",
    "    # First layer with the different activation function\n",
    "    # to capture non-linearity and for symmetry with the \n",
    "    # transmitter.\n",
    "    rx1 = Dense(tx_shapes[-2],activation=ol_activation_func, name=\"rx1\")\\\n",
    "                (noise_flat)\n",
    "    # Hidden Rx Layers\n",
    "    if(num_layers >= 3):\n",
    "        layer_ind = -3\n",
    "    else:\n",
    "        layer_ind = -2\n",
    "    rx_i = Dense(tx_shapes[layer_ind],activation=hl_activation_func, \\\n",
    "                name=\"rx2\")(rx1)\n",
    "    for i in range(2,num_layers):\n",
    "        ind = max(0,num_layers - 2 - i)\n",
    "        rx_i = Dense(tx_shapes[ind],activation=hl_activation_func, \\\n",
    "                    name=(\"rx\"+str(i+1)))(rx_i)\n",
    "    # Dense layer with softmax activation\n",
    "    rx_softmax = Dense(tx_shapes[0],activation='softmax', \\\n",
    "                       name=\"rx_softmax\")(rx_i)\n",
    "    \n",
    "    # Select the symbols with the maximum probabilities\n",
    "    ml_symbs = MostLikelySymbol()(rx_softmax)\n",
    "    \n",
    "    ###Defining the models\n",
    "    autoencoder = Model(input_message, rx_softmax)\n",
    "    ## Model the Tx and Rx seperately as well\n",
    "    # Model the Tx\n",
    "    transmitter = Model(input_message, tx_norm)\n",
    "    # Model the Tx plus the noise\n",
    "    channel_sym_with_noise = Model(input_message, noise)\n",
    "    channel_symbol = Input(shape=(Nr,))\n",
    "    # Take the last layer of the autoencoder model\n",
    "    reciever_layers = autoencoder.layers[-(num_layers+1)](channel_symbol)\n",
    "    for i in range(num_layers):\n",
    "        reciever_layers = autoencoder.layers[-(num_layers-i)](reciever_layers)\n",
    "\n",
    "    # Create a model of the reciever\n",
    "    reciever = Model(channel_symbol, reciever_layers)\n",
    "    autoencoder_symbs = Model(input_message,ml_symbs) \n",
    "    \n",
    "    # Compile the model\n",
    "    autoencoder.compile(loss='categorical_crossentropy',\n",
    "                        optimizer=\"adam\")\n",
    "    return autoencoder, transmitter, reciever,\\\n",
    "            autoencoder_symbs, k, Nc, Nr"
   ]
  },
  {
   "cell_type": "code",
   "execution_count": 10,
   "metadata": {},
   "outputs": [],
   "source": [
    "def plot_constellation_diagram(valid_set, transmitter, name):\n",
    "    channel_symbols = transmitter.predict(valid_set)\n",
    "    fig, ax = plt.subplots()\n",
    "    ax.plot(channel_symbols[:,:,0], channel_symbols[:,:,1],\\\n",
    "            'k.')\n",
    "#     ax.set_title(\"CS Constellation Diagram: \"+name)\n",
    "    ax.set_aspect('equal', 'box')\n",
    "    plt.xticks([-2,-1,0,1,2])\n",
    "    plt.yticks([-2,-1,0,1,2])\n",
    "    plt.grid(True)"
   ]
  },
  {
   "cell_type": "code",
   "execution_count": 11,
   "metadata": {},
   "outputs": [],
   "source": [
    "def get_block_error_rate(test_data, pred_symbs):\n",
    "    errors = (test_data != pred_symbs)\n",
    "    block_errors = errors.any(axis=1)\n",
    "    return block_errors.sum()/block_errors.shape[0]"
   ]
  },
  {
   "cell_type": "code",
   "execution_count": 12,
   "metadata": {},
   "outputs": [],
   "source": [
    "def get_noise_sigma(Eb_N0_db, Rr=None, Rc=None):\n",
    "    assert(not((Rr == None)&(Rc == None)))\n",
    "    if(Rr == None):\n",
    "        Rr = Rc/2.\n",
    "    Eb_N0 = 10.**(Eb_N0_db/10.)\n",
    "    return np.sqrt(1./(2.*Rr*Eb_N0))"
   ]
  },
  {
   "cell_type": "code",
   "execution_count": 13,
   "metadata": {},
   "outputs": [],
   "source": [
    "def get_noise_sigma_k(Eb_N0_db, k):\n",
    "    Eb_N0 = 10.**(Eb_N0_db/10.)\n",
    "    return np.sqrt(1./(2.*k*Eb_N0))"
   ]
  },
  {
   "cell_type": "code",
   "execution_count": 14,
   "metadata": {},
   "outputs": [],
   "source": [
    "def get_data_set(M, total_size):\n",
    "    t0 = time()\n",
    "    all_one_hot_messages = np.diag(np.ones(M))\n",
    "    perc_train = 0.75\n",
    "    perc_valid = 0.1\n",
    "\n",
    "    ## Making Data Set\n",
    "    multiple = total_size//M\n",
    "    diff = total_size - (multiple * M)\n",
    "\n",
    "    ## Get quotient \n",
    "    ## Converted the array into a list because it is significantly\n",
    "    ## faster\n",
    "    l = []\n",
    "    all_one_hot_messages_lst = all_one_hot_messages.tolist()\n",
    "    for mult in range(multiple):\n",
    "        for i in range(M):\n",
    "            l.append([all_one_hot_messages_lst[i]])\n",
    "    data = np.concatenate(l)\n",
    "\n",
    "    # Add remainder\n",
    "    random_inds = np.random.choice(np.arange(M),size=diff, replace=False)\n",
    "    extra_rows = all_one_hot_messages[random_inds,:]\n",
    "    data = np.concatenate((data, extra_rows), axis=0)\n",
    "    np.random.shuffle(data)\n",
    "    file_path = \"./data/data\"+str(M)+\".npy\"\n",
    "    np.save(file_path, data)\n",
    "    print(f\"Took {time() - t0}s\")\n",
    "    return data, file_path, all_one_hot_messages"
   ]
  },
  {
   "cell_type": "markdown",
   "metadata": {},
   "source": [
    "#### BKSP functions"
   ]
  },
  {
   "cell_type": "code",
   "execution_count": 15,
   "metadata": {},
   "outputs": [],
   "source": [
    "def bpsk_encode(int_bit):\n",
    "    if(int_bit == 0):\n",
    "        return -1\n",
    "    elif(int_bit == 1):\n",
    "        return 1\n",
    "    else:\n",
    "        assert(False)\n",
    "bpsk_encode_vec = np.vectorize(bpsk_encode)"
   ]
  },
  {
   "cell_type": "code",
   "execution_count": 16,
   "metadata": {},
   "outputs": [],
   "source": [
    "def bpsk_decode(float_bit):\n",
    "    if(float_bit <= 0.):\n",
    "        return 0\n",
    "    elif(float_bit >0.):\n",
    "        return 1\n",
    "    else:\n",
    "        assert(False)\n",
    "bpsk_decode_vec = np.vectorize(bpsk_decode)"
   ]
  },
  {
   "cell_type": "markdown",
   "metadata": {},
   "source": [
    "#### Hamming 7,4 functions"
   ]
  },
  {
   "cell_type": "code",
   "execution_count": 17,
   "metadata": {},
   "outputs": [],
   "source": [
    "# Essential matrices for Hamming encoding\n",
    "G = np.array(\\\n",
    "             [[1,1,0,1],\n",
    "             [1,0,1,1],\n",
    "             [1,0,0,0],\n",
    "             [0,1,1,1],\n",
    "             [0,1,0,0],\n",
    "             [0,0,1,0],\n",
    "             [0,0,0,1]])\n",
    "H = np.array(\\\n",
    "            [[1,0,1,0,1,0,1],\n",
    "            [0,1,1,0,0,1,1],\n",
    "            [0,0,0,1,1,1,1]])\n",
    "p = np.array([[1],\n",
    "             [0],\n",
    "             [1],\n",
    "             [1]])\n",
    "R_ham = np.array([[0,0,1,0,0,0,0],\n",
    "                 [0,0,0,0,1,0,0],\n",
    "                 [0,0,0,0,0,1,0],\n",
    "                 [0,0,0,0,0,0,1]])"
   ]
  },
  {
   "cell_type": "code",
   "execution_count": 18,
   "metadata": {},
   "outputs": [],
   "source": [
    "def make_lsb(dec_num):\n",
    "    return float(int(bin(int(dec_num))[-1]))\n",
    "# vectorising the function made it about 40% faster,\n",
    "# not incredible but makes a small difference\n",
    "make_lsb_vec = np.vectorize(make_lsb)"
   ]
  },
  {
   "cell_type": "code",
   "execution_count": 19,
   "metadata": {},
   "outputs": [],
   "source": [
    "def get_error_ind(arr_col):\n",
    "    return 4*arr_col[0] + 2*arr_col[1] + arr_col[2] - 1"
   ]
  },
  {
   "cell_type": "code",
   "execution_count": 20,
   "metadata": {},
   "outputs": [],
   "source": [
    "def do_error_correction(data, error_inds):\n",
    "    for i in range(data.shape[1]):\n",
    "        if(error_inds[i] >= 0):\n",
    "            data[int(error_inds[i]),i] = float(np.logical_not(data[int(error_inds[i]),i]))"
   ]
  },
  {
   "cell_type": "code",
   "execution_count": 21,
   "metadata": {},
   "outputs": [],
   "source": [
    "def hamming_7_4_encode(test_data, G):\n",
    "    test_data_enc = np.matmul(G,test_data.T)\n",
    "    return make_lsb_vec(test_data_enc)   "
   ]
  },
  {
   "cell_type": "code",
   "execution_count": 22,
   "metadata": {},
   "outputs": [],
   "source": [
    "def hamming_7_4_decode_and_correct(received, H, R):\n",
    "    # Round values to [0,1]\n",
    "    r_round = np.where(received > 0.5, 1, 0)\n",
    "    # Do parity check\n",
    "    parity_check = np.matmul(H,r_round)\n",
    "    parity_check = make_lsb_vec(parity_check)   \n",
    "    # Get error bit indices\n",
    "    error_inds = np.apply_along_axis(get_error_ind, 0,\\\n",
    "                                     parity_check)\n",
    "    # Do error correction\n",
    "    do_error_correction(r_round, error_inds)\n",
    "    # Decode corrected message\n",
    "    return np.matmul(R,r_round).T"
   ]
  },
  {
   "cell_type": "code",
   "execution_count": 23,
   "metadata": {},
   "outputs": [],
   "source": [
    "def plot_tSNE_channel_symbols(channel_symbols, dot_size = None):\n",
    "    tSNE_channel_symbols = TSNE(n_components=2).fit_transform(channel_symbols)\n",
    "    # Normalise the dimensionally reduced channel symbols\n",
    "    no_mean = tSNE_channel_symbols - np.mean(tSNE_channel_symbols, axis=0)\n",
    "    avg_power = np.mean(np.sqrt(np.sum(np.square(no_mean),axis=1)))\n",
    "    normalised = no_mean/avg_power\n",
    "\n",
    "    fig, ax = plt.subplots()\n",
    "    if(dot_size == None):\n",
    "        ax.plot(normalised[:,0], normalised[:,1],\\\n",
    "                'k.')\n",
    "    else:\n",
    "        ax.plot(normalised[:,0], normalised[:,1],\\\n",
    "                'k.', markersize=1)\n",
    "    ax.set_aspect('equal', 'box')\n",
    "    plt.xticks([-2,-1,0,1,2])\n",
    "    plt.yticks([-2,-1,0,1,2])\n",
    "    plt.grid(True)"
   ]
  },
  {
   "cell_type": "code",
   "execution_count": 24,
   "metadata": {},
   "outputs": [],
   "source": [
    "def plot_tSNE_constellation_diagram(valid_set, transmitter, dot_size = None):\n",
    "    channel_symbols = transmitter.predict(valid_set)\n",
    "    plot_tSNE_channel_symbols(channel_symbols, dot_size)"
   ]
  },
  {
   "cell_type": "code",
   "execution_count": 25,
   "metadata": {},
   "outputs": [],
   "source": [
    "def plot_noisy_tSNE_constellation_diagram(valid_set, transmitter, num_iters, dot_size = None):\n",
    "    all_symbs = np.empty([0,7])\n",
    "    for i in range(num_iters):\n",
    "        channel_symbols = channel_sym_with_noise7_4.predict(all_one_hot_messages16)\n",
    "        all_symbs = np.vstack([channel_symbols,all_symbs])    \n",
    "    plot_tSNE_channel_symbols(all_symbs, dot_size)"
   ]
  },
  {
   "cell_type": "code",
   "execution_count": 26,
   "metadata": {},
   "outputs": [],
   "source": [
    "def get_noise_bler(M, R, Eb_N0, weights_file_path, test_data, act_f):\n",
    "    ## Get noise std_dev \n",
    "    noise_std = get_noise_sigma(Eb_N0, Rc=R)   \n",
    "    ## Make new model with loaded weights\n",
    "    autoencoder_tmp, _, _, autoencoder_symbs_tmp, \\\n",
    "        _, _, _ = make_model(M, R, noise_std, act_f)\n",
    "    autoencoder_tmp.load_weights(weights_file_path, by_name=True)    \n",
    "    ## Check Accuracy on test set\n",
    "    pred_symbs = autoencoder_symbs_tmp.predict(test_data)\n",
    "    return get_block_error_rate(test_data, pred_symbs)"
   ]
  },
  {
   "cell_type": "code",
   "execution_count": 27,
   "metadata": {},
   "outputs": [],
   "source": [
    "def get_noise_bler_k(M, R, Eb_N0, weights_file_path, test_data, act_f):\n",
    "    ## Get noise std_dev \n",
    "    k = 2*np.log2(M)/R\n",
    "    noise_std = get_noise_sigma_k(Eb_N0, k)   \n",
    "    ## Make new model with loaded weights\n",
    "    autoencoder_tmp, _, _, autoencoder_symbs_tmp, \\\n",
    "        _, _, _ = make_model(M, R, noise_std, act_f)\n",
    "    autoencoder_tmp.load_weights(weights_file_path, by_name=True)    \n",
    "    ## Check Accuracy on test set\n",
    "    pred_symbs = autoencoder_symbs_tmp.predict(test_data)\n",
    "    return get_block_error_rate(test_data, pred_symbs)"
   ]
  },
  {
   "cell_type": "code",
   "execution_count": 28,
   "metadata": {},
   "outputs": [],
   "source": [
    "def get_non_complex_noise_bler(k, Nr, Eb_N0, weights_file_path, test_data, act_f):\n",
    "    ## Get noise std_dev \n",
    "    noise_std = get_noise_sigma(Eb_N0, Rr=(k/Nr))   \n",
    "    ## Make new model with loaded weights\n",
    "    autoencoder_tmp, _, _, _, autoencoder_symbs_tmp, _, _ \\\n",
    "        = make_non_complex_channel_model(k, Nr, noise_std, act_f)\n",
    "    autoencoder_tmp.load_weights(weights_file_path, by_name=True)    \n",
    "    ## Check Accuracy on test set\n",
    "    pred_symbs = autoencoder_symbs_tmp.predict(test_data)\n",
    "    return get_block_error_rate(test_data, pred_symbs)"
   ]
  },
  {
   "cell_type": "code",
   "execution_count": 29,
   "metadata": {},
   "outputs": [],
   "source": [
    "def get_non_complex_noise_bler_k(k, Nr, Eb_N0, weights_file_path, test_data, act_f):\n",
    "    ## Get noise std_dev \n",
    "    noise_std = get_noise_sigma_k(Eb_N0, k)   \n",
    "    ## Make new model with loaded weights\n",
    "    autoencoder_tmp, _, _, _, autoencoder_symbs_tmp, _, _ \\\n",
    "        = make_non_complex_channel_model(k, Nr, noise_std, act_f)\n",
    "    autoencoder_tmp.load_weights(weights_file_path, by_name=True)    \n",
    "    ## Check Accuracy on test set\n",
    "    pred_symbs = autoencoder_symbs_tmp.predict(test_data)\n",
    "    return get_block_error_rate(test_data, pred_symbs)"
   ]
  },
  {
   "cell_type": "code",
   "execution_count": 30,
   "metadata": {},
   "outputs": [],
   "source": [
    "def get_complex_tapered_noise_bler(M, R, Eb_N0, weights_file_path, \\\n",
    "                                   test_data, hl_activation_func, \\\n",
    "                                   ol_activation_func, num_layers):\n",
    "    ## Get noise std_dev \n",
    "    noise_std = get_noise_sigma(Eb_N0, Rc=R)   \n",
    "    ## Make new model with loaded weights\n",
    "    autoencoder8_8_tap_nl, _, _, autoencoder_symbs8_8_tap_nl, \\\n",
    "        _, _, _ \\\n",
    "        = make_complex_n_layer_lr_tanh_tapering_model(M, R, noise_std, \\\n",
    "                                                      hl_activation_func, \\\n",
    "                                                      ol_activation_func, \\\n",
    "                                                      num_layers)    \n",
    "    autoencoder8_8_tap_nl.load_weights(weights_file_path, by_name=True)    \n",
    "    ## Check Accuracy on test set\n",
    "    pred_symbs = autoencoder_symbs8_8_tap_nl.predict(test_data)\n",
    "    return get_block_error_rate(test_data, pred_symbs)"
   ]
  },
  {
   "cell_type": "code",
   "execution_count": 31,
   "metadata": {},
   "outputs": [],
   "source": [
    "def bpsk_get_bler(std, test_data):\n",
    "    bpsk_encoded = bpsk_encode_vec(test_data)\n",
    "    # Add AWGN noise\n",
    "    noise = std * np.random.randn(bpsk_encoded.shape[0],\\\n",
    "                                  bpsk_encoded.shape[1])\n",
    "    received = bpsk_encoded + noise\n",
    "    bpsk_decoded = bpsk_decode_vec(received)\n",
    "\n",
    "    # Get Block error rate\n",
    "    return get_block_error_rate(test_data, bpsk_decoded)"
   ]
  },
  {
   "cell_type": "markdown",
   "metadata": {},
   "source": [
    "### To do list\n",
    "- DONE/Work out how to add noise even at test time\n",
    "- DONE/Make most likely symbol layer\n",
    "- DONE/Turn all the inputs and outputs into complex numbers \n",
    "- DONE/Fix the normalisation layer, currently for M=2 and N=1 I'm just getting 0 and 1, whereas you'd expect -c and +c. Note this needs to take into account the IQ pairs.\n",
    "- DONE/Make BPSK encoding\n",
    "- DONE/Make Hamming encoding \n",
    "- DONE/Get a graph comparing Hamming encoding, BPSK and an autoencoder\n",
    "- Sweep across different activation functions to see what error and constellation diagrams they get.\n",
    "- Sweep across different batch sizes to see what gives a better model\n",
    "- Sweep across different training noise_stds to find the best for training\n",
    "- Graph didn't look great to try out a (7,4) autoencoder\n",
    "- Implement t-SNE so I can get constellation diagrams for the cases with n>2.\n",
    "\n",
    "- try out different activation functions \n",
    "- try out different numbers of layers\n",
    "- Try out using different activation functions for two halfs of a given layer. This is called Inception networks. \n",
    "- first consider without dropout\n"
   ]
  },
  {
   "cell_type": "markdown",
   "metadata": {},
   "source": [
    "#### Work Log\n",
    "06/02/2019\n",
    "- Changed the normalisation to use the BatchNormalization function <br>\n",
    "\n",
    "07/02/2019\n",
    "- Changed the batch size, increased the data size and changed the axis along which BatchRegularization was done\n",
    "- The results were very inconsistent, reading suggested this might be to do with the ReLu activation function giving dependence on initialisation values due to neuron death.\n",
    "- Consequently tried a leaky-relu activation function\n",
    "- Found a bug that one layer was being bypassed\n",
    "- Switched back to original regularisation layer but over a different axis.\n",
    "- Decided it makes sense to use an l2 regulariser as that reflects a transmitter with a constant power budget\n",
    "- Named all layers so that weights could be loaded from one layer into another\n",
    "- Plotted BLER graph for (2,2) case\n",
    "- Started implementing hamming encoding\n",
    "\n",
    "08/02/2019\n",
    "- Changed the constellation diagram plot to match the O'Shea paper's format.\n",
    "\n",
    "13/02/2019\n",
    "- Added hard decision Hamming encoding and decoding\n",
    "- Added BPSK encoding and decoding\n",
    "- Compared Autoencoder (2,2), BPSK (4,4) and Hamming (7,4) hard decision one one graph\n",
    "\n",
    "14/02/2019\n",
    "- Compared four activation functions to see which one had the best verification error.\n",
    "\n",
    "6-12/05/2019\n",
    "- Compared the leaky-relu activation function against the tanh activation function and found it marginally outperformed it, therefore proceeded from then on with the tanh activation function.\n",
    "- Made a (7,4) autoencoder model and compared it's performance against the others.\n",
    "- Used t-SNE to get constellation diagrams for the (7,4) model, both with and without noise. \n",
    "- Found the t-SNE method of dimensionality reduction introduces some randomness and so the constellation diagram is slightly different each time.\n",
    "- Had to normalise the outputs of the t-SNE dimensionality reduction to zero-mean and unit power, despite it's input being stationary satisfying the afore-mentioned conditions.\n",
    "- Developed (2,2) and (8,8) BPSK, compared these against each other and against the other encoding methods.\n",
    "- Produced Figure's 3a and 3b from the O'Shea paper, however the ordering of the capabilities of the encoding methods is not in the right order. The (8,8) and (7,4) autoencoders underperform, and BPSK over performs.\n",
    "    - The ordering is odd, I would expect it to be from best to worst: (7,4), (2,2), (8,8). But it is actually currently: (2,2), (7,4), (8,8).\n",
    "    - I have yet to find out what Hamming Maximum Likelihood Decision is.\n",
    "- Decided that the reason the (8,8) and (7,4) models might be underperforming may be because of a lack of layers, so tried increasing the number of layers and making the final layer of each block have a tanh activation funciton to try and capture non-linearity.\n",
    "\n",
    "13/05/2019\n",
    "- I realised that my 8_8 was actually and 8_4, so I've adjusted that and I'm retraining the model to see what kind of validation_loss it gets. The best 8_4 accuracy found was 1.06, an initial re-training with no tapering gave a val_loss of 0.0750.\n",
    "\n",
    "14/05/2019\n",
    "- Trained models with 2,3,4 and 5 layers and tapered layer widths.\n",
    "    - Yet to test their performances, they're still training.\n",
    "- Realised that the (7,4) model was being unfairly normalised. The (8,8) and (2,2) models are normalised so that they have unit power for each complex channel symbol. Whereas the (7,4) model is being normalised so that it has unit power for all 7 bits. So I need to multiply all the values post normalisation by sqrt(3.5) to make it even.\n",
    "    - I need to check if this applies to the BPSK stuff as well.\n",
    "    \n",
    "20/05/2019\n",
    "- Switched to and AWS notebook so that it trained faster.\n",
    "- Retrained all models with the sigmas specified to the correct Rr\n",
    "- Adapt the bpsk_get_bler function so that the transmit power is the same for all of them\n",
    "- Added dropout regulation\n",
    "- Added Hamming MLD\n",
    "- Moved onto looking into the reinforcement learning"
   ]
  },
  {
   "cell_type": "markdown",
   "metadata": {},
   "source": [
    "### IQ complex number general notes\n",
    "The symbols at each end are not in IQ form, but the channel symbols need to be in IQ form. <br>\n",
    "Potentially I could do this purely by increasing the number of nodes in the middle. But I'm not sure how I specify the pair relationships.<br>\n",
    "Currently reading about this in EE3-03 Communication System, Lecutre 2.d \"Constellation Diagram & Line Codes...\", slide 15."
   ]
  },
  {
   "cell_type": "markdown",
   "metadata": {},
   "source": [
    "### Chat with M.Varasteh\n",
    "- first consider without dropout\n",
    "- try out different activation functions \n",
    "- try out different numbers of layers\n",
    "- Try out using different activation functions for two halfs of a given layer. This is called Inception networks. \n",
    "- You can't do this with standard code out of tf and keras, will have to write custom code.\n",
    "- Tanh is usually good because it is linear for small inputs, relu is better for capturing non-linearity \n",
    "- Inception learning allows the optimisation to pick the activation function\n",
    "- Can have a custom activation function which picks is a weighted sum of say relu and tanh.\n"
   ]
  },
  {
   "cell_type": "markdown",
   "metadata": {},
   "source": [
    "### Hyperparameters I should look at\n",
    "- Activation functions:\n",
    "    - Tanh - ~linear for small inputs \n",
    "    - Relu - captures non linearity well\n",
    "    - Sigmoid, softmax, linear\n",
    "    - Inception learning\n",
    "- Loss functions\n",
    "    - MSE, categorical cross entropy\n",
    "- Regularisation\n",
    "    - Dropout\n",
    "    - Normalisation constraints:\n",
    "        - $\\lVert x\\rVert _2^2 \\leq n$, $\\lvert x_i \\rvert \\leq 1$, $E[\\lvert x_i\\rvert ^2] \\lt 1$\n",
    "- Structure\n",
    "    - Try making it 2d in the first layer vs in the last layer\n",
    "    - Number of layers"
   ]
  },
  {
   "cell_type": "markdown",
   "metadata": {},
   "source": [
    "### Noise Ideas\n",
    "- In O'Shea et al they used AWGN with variance = (2*R*E_b/N_0)^-1\n",
    "Later I'd like to try\n",
    "    - Slow and Fast Rayleigh fading \n",
    "    - Try all the types of stuff found in the textbook"
   ]
  },
  {
   "cell_type": "code",
   "execution_count": 32,
   "metadata": {},
   "outputs": [],
   "source": [
    "#def Noise Layer\n",
    "# Add noise, probably start with AWGN\n",
    "# Later try\n",
    "# - Slow and Fast Rayleigh fading \n",
    "# - Try all the types of stuff found in the textbook\n",
    "# x_train_noisy = x_train + noise_factor * np.random.normal(loc=0.0, scale=1.0, size=x_train.shape) "
   ]
  },
  {
   "cell_type": "code",
   "execution_count": 33,
   "metadata": {},
   "outputs": [],
   "source": [
    "#def Reciever\n",
    "# Multiple dense layers\n",
    "# Dense layer with softmax activation\n",
    "# This gives an array of posterior probabilities, so then\n",
    "# pick the maximum of these posterior probabilities."
   ]
  },
  {
   "cell_type": "markdown",
   "metadata": {},
   "source": [
    "## Getting started\n",
    "- Start with M = 2 (k = 1), n = 1 (so R = 1), try and learn BPSK\n",
    "- Let's learn it, have a look at the constellation diagram, then try some bigger M's"
   ]
  },
  {
   "cell_type": "markdown",
   "metadata": {},
   "source": [
    "Testing the two most_likely_symbol functions"
   ]
  },
  {
   "cell_type": "code",
   "execution_count": 34,
   "metadata": {},
   "outputs": [
    {
     "data": {
      "text/plain": [
       "array([[0.27, 0.27, 0.46],\n",
       "       [0.09, 0.05, 0.86],\n",
       "       [0.1 , 0.88, 0.02],\n",
       "       [0.44, 0.23, 0.33],\n",
       "       [0.02, 0.9 , 0.08]], dtype=float32)"
      ]
     },
     "execution_count": 34,
     "metadata": {},
     "output_type": "execute_result"
    }
   ],
   "source": [
    "pps2 = np.random.rand(5,3)\n",
    "totals = np.expand_dims(np.sum(pps2, axis=1), axis=1)\n",
    "pps2 = np.divide(pps2,totals)\n",
    "pps2 = np.round(pps2,2)\n",
    "ppsT = K.constant(pps2)\n",
    "sess = tf.Session()\n",
    "with sess.as_default():\n",
    "    ppsT.eval(session=sess)\n",
    "ppsT.eval(session=sess)"
   ]
  },
  {
   "cell_type": "code",
   "execution_count": 35,
   "metadata": {},
   "outputs": [
    {
     "data": {
      "text/plain": [
       "array([[0., 0., 1.],\n",
       "       [0., 0., 1.],\n",
       "       [0., 1., 0.],\n",
       "       [1., 0., 0.],\n",
       "       [0., 1., 0.]], dtype=float32)"
      ]
     },
     "execution_count": 35,
     "metadata": {},
     "output_type": "execute_result"
    }
   ],
   "source": [
    "most_likely(ppsT).eval(session=sess)"
   ]
  },
  {
   "cell_type": "code",
   "execution_count": 36,
   "metadata": {},
   "outputs": [
    {
     "data": {
      "text/plain": [
       "array([[0., 0., 1.],\n",
       "       [0., 0., 1.],\n",
       "       [0., 1., 0.],\n",
       "       [1., 0., 0.],\n",
       "       [0., 1., 0.]])"
      ]
     },
     "execution_count": 36,
     "metadata": {},
     "output_type": "execute_result"
    }
   ],
   "source": [
    "most_likely_symbol(pps2)"
   ]
  },
  {
   "cell_type": "markdown",
   "metadata": {},
   "source": [
    "### Making a model\n",
    "I'm thinking that to express every input as a complex number (in-phase and quaterature) parts, I could run two NN's in parallel, but then it wouldn't be able to learn any links between ther two. <br>\n",
    "Alternatively make it twice as wide, so each input goes in in pairs, and select the most likely symbols from even indices and odd indices seperately, output of that is my complex output."
   ]
  },
  {
   "cell_type": "markdown",
   "metadata": {},
   "source": [
    "The O'Shea paper trained their models $E_b/N_o = 7db$, so the training variance is calculated below using the formula from the paper"
   ]
  },
  {
   "cell_type": "code",
   "execution_count": 37,
   "metadata": {},
   "outputs": [
    {
     "name": "stdout",
     "output_type": "stream",
     "text": [
      "sigma =  0.31585299705471215\n",
      "WARNING:tensorflow:From /home/ubuntu/anaconda3/envs/tensorflow_p36/lib/python3.6/site-packages/tensorflow/python/framework/op_def_library.py:263: colocate_with (from tensorflow.python.framework.ops) is deprecated and will be removed in a future version.\n",
      "Instructions for updating:\n",
      "Colocations handled automatically by placer.\n"
     ]
    },
    {
     "name": "stderr",
     "output_type": "stream",
     "text": [
      "/home/ubuntu/anaconda3/envs/tensorflow_p36/lib/python3.6/site-packages/keras/activations.py:211: UserWarning: Do not pass a layer instance (such as LeakyReLU) as the activation argument of another layer. Instead, advanced activation layers should be used just like any other layer in a model.\n",
      "  identifier=identifier.__class__.__name__))\n",
      "/home/ubuntu/anaconda3/envs/tensorflow_p36/lib/python3.6/site-packages/keras/activations.py:211: UserWarning: Do not pass a layer instance (such as LeakyReLU) as the activation argument of another layer. Instead, advanced activation layers should be used just like any other layer in a model.\n",
      "  identifier=identifier.__class__.__name__))\n",
      "/home/ubuntu/anaconda3/envs/tensorflow_p36/lib/python3.6/site-packages/keras/activations.py:211: UserWarning: Do not pass a layer instance (such as LeakyReLU) as the activation argument of another layer. Instead, advanced activation layers should be used just like any other layer in a model.\n",
      "  identifier=identifier.__class__.__name__))\n"
     ]
    }
   ],
   "source": [
    "M = 4 # Number of one hot encoded messages\n",
    "R = 2 # R = k/n\n",
    "\n",
    "sigma = get_noise_sigma(7, Rc=R)\n",
    "print(\"sigma = \",sigma)\n",
    "act_f = keras.layers.advanced_activations.LeakyReLU()\n",
    "act_f.__name__ = 'leakyrelu'\n",
    "autoencoder2_2, transmitter2_2, reciever2_2, autoencoder_symbs2_2,\\\n",
    "    k2_2, Nc2_2, Nr2_2 = make_model(M, R, sigma, act_f)"
   ]
  },
  {
   "cell_type": "code",
   "execution_count": 38,
   "metadata": {},
   "outputs": [
    {
     "name": "stdout",
     "output_type": "stream",
     "text": [
      "sigma =  0.22334179607548157\n"
     ]
    },
    {
     "name": "stderr",
     "output_type": "stream",
     "text": [
      "/home/ubuntu/anaconda3/envs/tensorflow_p36/lib/python3.6/site-packages/keras/activations.py:211: UserWarning: Do not pass a layer instance (such as LeakyReLU) as the activation argument of another layer. Instead, advanced activation layers should be used just like any other layer in a model.\n",
      "  identifier=identifier.__class__.__name__))\n",
      "/home/ubuntu/anaconda3/envs/tensorflow_p36/lib/python3.6/site-packages/keras/activations.py:211: UserWarning: Do not pass a layer instance (such as LeakyReLU) as the activation argument of another layer. Instead, advanced activation layers should be used just like any other layer in a model.\n",
      "  identifier=identifier.__class__.__name__))\n",
      "/home/ubuntu/anaconda3/envs/tensorflow_p36/lib/python3.6/site-packages/keras/activations.py:211: UserWarning: Do not pass a layer instance (such as LeakyReLU) as the activation argument of another layer. Instead, advanced activation layers should be used just like any other layer in a model.\n",
      "  identifier=identifier.__class__.__name__))\n"
     ]
    }
   ],
   "source": [
    "M = 16 # Number of one hot encoded messages\n",
    "R = 4 # R = k/n_r\n",
    "\n",
    "sigma = get_noise_sigma(7, Rc=R)\n",
    "print(\"sigma = \",sigma)\n",
    "autoencoder2_4, transmitter2_4, reciever2_4, autoencoder_symbs2_4,\\\n",
    "    k2_4, Nc2_4, Nr2_4 = make_model(M, R, sigma, act_f)"
   ]
  },
  {
   "cell_type": "code",
   "execution_count": 39,
   "metadata": {},
   "outputs": [
    {
     "name": "stdout",
     "output_type": "stream",
     "text": [
      "sigma =  0.31585299705471215\n"
     ]
    },
    {
     "name": "stderr",
     "output_type": "stream",
     "text": [
      "/home/ubuntu/anaconda3/envs/tensorflow_p36/lib/python3.6/site-packages/keras/activations.py:211: UserWarning: Do not pass a layer instance (such as LeakyReLU) as the activation argument of another layer. Instead, advanced activation layers should be used just like any other layer in a model.\n",
      "  identifier=identifier.__class__.__name__))\n",
      "/home/ubuntu/anaconda3/envs/tensorflow_p36/lib/python3.6/site-packages/keras/activations.py:211: UserWarning: Do not pass a layer instance (such as LeakyReLU) as the activation argument of another layer. Instead, advanced activation layers should be used just like any other layer in a model.\n",
      "  identifier=identifier.__class__.__name__))\n",
      "/home/ubuntu/anaconda3/envs/tensorflow_p36/lib/python3.6/site-packages/keras/activations.py:211: UserWarning: Do not pass a layer instance (such as LeakyReLU) as the activation argument of another layer. Instead, advanced activation layers should be used just like any other layer in a model.\n",
      "  identifier=identifier.__class__.__name__))\n"
     ]
    }
   ],
   "source": [
    "M = 2**8 # Number of one hot encoded messages\n",
    "R = 2 # R = k/n_r\n",
    "\n",
    "sigma = get_noise_sigma(7, Rc=R)\n",
    "print(\"sigma = \",sigma)\n",
    "autoencoder8_8, transmitter8_8, reciever8_8, autoencoder_symbs8_8,\\\n",
    "    k8_8, Nc8_8, Nr8_8 = make_model(M, R, sigma, act_f)"
   ]
  },
  {
   "cell_type": "code",
   "execution_count": 40,
   "metadata": {},
   "outputs": [
    {
     "name": "stdout",
     "output_type": "stream",
     "text": [
      "sigma =  0.4178342405305925\n"
     ]
    },
    {
     "name": "stderr",
     "output_type": "stream",
     "text": [
      "/home/ubuntu/anaconda3/envs/tensorflow_p36/lib/python3.6/site-packages/keras/activations.py:211: UserWarning: Do not pass a layer instance (such as LeakyReLU) as the activation argument of another layer. Instead, advanced activation layers should be used just like any other layer in a model.\n",
      "  identifier=identifier.__class__.__name__))\n",
      "/home/ubuntu/anaconda3/envs/tensorflow_p36/lib/python3.6/site-packages/keras/activations.py:211: UserWarning: Do not pass a layer instance (such as LeakyReLU) as the activation argument of another layer. Instead, advanced activation layers should be used just like any other layer in a model.\n",
      "  identifier=identifier.__class__.__name__))\n",
      "/home/ubuntu/anaconda3/envs/tensorflow_p36/lib/python3.6/site-packages/keras/activations.py:211: UserWarning: Do not pass a layer instance (such as LeakyReLU) as the activation argument of another layer. Instead, advanced activation layers should be used just like any other layer in a model.\n",
      "  identifier=identifier.__class__.__name__))\n"
     ]
    }
   ],
   "source": [
    "k = 4 # Number of one hot encoded messages\n",
    "Nr = 7 # R = k/n_r\n",
    "\n",
    "sigma = get_noise_sigma(7, Rr=(k/Nr))\n",
    "print(\"sigma = \",sigma)\n",
    "autoencoder7_4, transmitter7_4, channel_sym_with_noise7_4, reciever7_4, \\\n",
    "    autoencoder_symbs7_4, k7_4, Nr7_4 \\\n",
    "    = make_non_complex_channel_model(k, Nr, sigma, act_f)"
   ]
  },
  {
   "cell_type": "code",
   "execution_count": 41,
   "metadata": {},
   "outputs": [],
   "source": [
    "# # (8,8)\n",
    "# M = 2**8 # Number of one hot encoded messages\n",
    "# R = 2 # R = k/n_r\n",
    "# sigma = get_noise_sigma(7, Rc=R)\n",
    "# hl_activation_func = keras.layers.advanced_activations.LeakyReLU()\n",
    "# hl_activation_func.__name__ = 'leakyrelu'\n",
    "# ol_activation_func = \"tanh\"\n",
    "# num_layers = 3\n",
    "\n",
    "# autoencoder8_8_tap, transmitter8_8_tap, reciever8_8_tap, \\\n",
    "#     autoencoder_symbs8_8_tap, k8_8_tap, Nc8_8_tap, Nr8_8_tap \\\n",
    "#     = make_complex_n_layer_lr_tanh_tapering_model(M, R, sigma, \\\n",
    "#                                                   hl_activation_func, \\\n",
    "#                                                   ol_activation_func, \\\n",
    "#                                                   num_layers)"
   ]
  },
  {
   "cell_type": "code",
   "execution_count": 42,
   "metadata": {},
   "outputs": [
    {
     "name": "stderr",
     "output_type": "stream",
     "text": [
      "/home/ubuntu/anaconda3/envs/tensorflow_p36/lib/python3.6/site-packages/keras/activations.py:211: UserWarning: Do not pass a layer instance (such as LeakyReLU) as the activation argument of another layer. Instead, advanced activation layers should be used just like any other layer in a model.\n",
      "  identifier=identifier.__class__.__name__))\n",
      "/home/ubuntu/anaconda3/envs/tensorflow_p36/lib/python3.6/site-packages/keras/activations.py:211: UserWarning: Do not pass a layer instance (such as LeakyReLU) as the activation argument of another layer. Instead, advanced activation layers should be used just like any other layer in a model.\n",
      "  identifier=identifier.__class__.__name__))\n"
     ]
    }
   ],
   "source": [
    "# (8,8)\n",
    "M = 2**8 # Number of one hot encoded messages\n",
    "R = 2 # R = k/n_r\n",
    "sigma = get_noise_sigma(7, Rc=R)\n",
    "hl_activation_func = keras.layers.advanced_activations.LeakyReLU()\n",
    "hl_activation_func.__name__ = 'leakyrelu'\n",
    "ol_activation_func = \"tanh\"\n",
    "num_layers = 2\n",
    "\n",
    "autoencoder8_8_tap_2l, transmitter8_8_tap_2l, reciever8_8_tap_2l, \\\n",
    "    autoencoder_symbs8_8_tap_2l, k8_8_tap_2l, Nc8_8_tap_2l, Nr8_8_tap_2l \\\n",
    "    = make_complex_n_layer_lr_tanh_tapering_model(M, R, sigma, \\\n",
    "                                                  hl_activation_func, \\\n",
    "                                                  ol_activation_func, \\\n",
    "                                                  num_layers)"
   ]
  },
  {
   "cell_type": "code",
   "execution_count": 43,
   "metadata": {},
   "outputs": [
    {
     "name": "stderr",
     "output_type": "stream",
     "text": [
      "/home/ubuntu/anaconda3/envs/tensorflow_p36/lib/python3.6/site-packages/keras/activations.py:211: UserWarning: Do not pass a layer instance (such as LeakyReLU) as the activation argument of another layer. Instead, advanced activation layers should be used just like any other layer in a model.\n",
      "  identifier=identifier.__class__.__name__))\n",
      "/home/ubuntu/anaconda3/envs/tensorflow_p36/lib/python3.6/site-packages/keras/activations.py:211: UserWarning: Do not pass a layer instance (such as LeakyReLU) as the activation argument of another layer. Instead, advanced activation layers should be used just like any other layer in a model.\n",
      "  identifier=identifier.__class__.__name__))\n",
      "/home/ubuntu/anaconda3/envs/tensorflow_p36/lib/python3.6/site-packages/keras/activations.py:211: UserWarning: Do not pass a layer instance (such as LeakyReLU) as the activation argument of another layer. Instead, advanced activation layers should be used just like any other layer in a model.\n",
      "  identifier=identifier.__class__.__name__))\n",
      "/home/ubuntu/anaconda3/envs/tensorflow_p36/lib/python3.6/site-packages/keras/activations.py:211: UserWarning: Do not pass a layer instance (such as LeakyReLU) as the activation argument of another layer. Instead, advanced activation layers should be used just like any other layer in a model.\n",
      "  identifier=identifier.__class__.__name__))\n"
     ]
    }
   ],
   "source": [
    "# (8,8)\n",
    "M = 2**8 # Number of one hot encoded messages\n",
    "R = 2 # R = k/n_r\n",
    "sigma = get_noise_sigma(7, Rc=R)\n",
    "hl_activation_func = keras.layers.advanced_activations.LeakyReLU()\n",
    "hl_activation_func.__name__ = 'leakyrelu'\n",
    "ol_activation_func = \"tanh\"\n",
    "num_layers = 3\n",
    "\n",
    "autoencoder8_8_tap_3l, transmitter8_8_tap_3l, reciever8_8_tap_3l, \\\n",
    "    autoencoder_symbs8_8_tap_3l, k8_8_tap_3l, Nc8_8_tap_3l, Nr8_8_tap_3l \\\n",
    "    = make_complex_n_layer_lr_tanh_tapering_model(M, R, sigma, \\\n",
    "                                                  hl_activation_func, \\\n",
    "                                                  ol_activation_func, \\\n",
    "                                                  num_layers)"
   ]
  },
  {
   "cell_type": "code",
   "execution_count": 44,
   "metadata": {},
   "outputs": [
    {
     "name": "stderr",
     "output_type": "stream",
     "text": [
      "/home/ubuntu/anaconda3/envs/tensorflow_p36/lib/python3.6/site-packages/keras/activations.py:211: UserWarning: Do not pass a layer instance (such as LeakyReLU) as the activation argument of another layer. Instead, advanced activation layers should be used just like any other layer in a model.\n",
      "  identifier=identifier.__class__.__name__))\n",
      "/home/ubuntu/anaconda3/envs/tensorflow_p36/lib/python3.6/site-packages/keras/activations.py:211: UserWarning: Do not pass a layer instance (such as LeakyReLU) as the activation argument of another layer. Instead, advanced activation layers should be used just like any other layer in a model.\n",
      "  identifier=identifier.__class__.__name__))\n",
      "/home/ubuntu/anaconda3/envs/tensorflow_p36/lib/python3.6/site-packages/keras/activations.py:211: UserWarning: Do not pass a layer instance (such as LeakyReLU) as the activation argument of another layer. Instead, advanced activation layers should be used just like any other layer in a model.\n",
      "  identifier=identifier.__class__.__name__))\n",
      "/home/ubuntu/anaconda3/envs/tensorflow_p36/lib/python3.6/site-packages/keras/activations.py:211: UserWarning: Do not pass a layer instance (such as LeakyReLU) as the activation argument of another layer. Instead, advanced activation layers should be used just like any other layer in a model.\n",
      "  identifier=identifier.__class__.__name__))\n",
      "/home/ubuntu/anaconda3/envs/tensorflow_p36/lib/python3.6/site-packages/keras/activations.py:211: UserWarning: Do not pass a layer instance (such as LeakyReLU) as the activation argument of another layer. Instead, advanced activation layers should be used just like any other layer in a model.\n",
      "  identifier=identifier.__class__.__name__))\n",
      "/home/ubuntu/anaconda3/envs/tensorflow_p36/lib/python3.6/site-packages/keras/activations.py:211: UserWarning: Do not pass a layer instance (such as LeakyReLU) as the activation argument of another layer. Instead, advanced activation layers should be used just like any other layer in a model.\n",
      "  identifier=identifier.__class__.__name__))\n"
     ]
    }
   ],
   "source": [
    "# (8,8)\n",
    "M = 2**8 # Number of one hot encoded messages\n",
    "R = 2 # R = k/n_r\n",
    "sigma = get_noise_sigma(7, Rc=R)\n",
    "hl_activation_func = keras.layers.advanced_activations.LeakyReLU()\n",
    "hl_activation_func.__name__ = 'leakyrelu'\n",
    "ol_activation_func = \"tanh\"\n",
    "num_layers = 4\n",
    "\n",
    "autoencoder8_8_tap_4l, transmitter8_8_tap_4l, reciever8_8_tap_4l, \\\n",
    "    autoencoder_symbs8_8_tap_4l, k8_8_tap_4l, Nc8_8_tap_4l, Nr8_8_tap_4l \\\n",
    "    = make_complex_n_layer_lr_tanh_tapering_model(M, R, sigma, \\\n",
    "                                                  hl_activation_func, \\\n",
    "                                                  ol_activation_func, \\\n",
    "                                                  num_layers)"
   ]
  },
  {
   "cell_type": "code",
   "execution_count": 45,
   "metadata": {},
   "outputs": [
    {
     "name": "stderr",
     "output_type": "stream",
     "text": [
      "/home/ubuntu/anaconda3/envs/tensorflow_p36/lib/python3.6/site-packages/keras/activations.py:211: UserWarning: Do not pass a layer instance (such as LeakyReLU) as the activation argument of another layer. Instead, advanced activation layers should be used just like any other layer in a model.\n",
      "  identifier=identifier.__class__.__name__))\n",
      "/home/ubuntu/anaconda3/envs/tensorflow_p36/lib/python3.6/site-packages/keras/activations.py:211: UserWarning: Do not pass a layer instance (such as LeakyReLU) as the activation argument of another layer. Instead, advanced activation layers should be used just like any other layer in a model.\n",
      "  identifier=identifier.__class__.__name__))\n",
      "/home/ubuntu/anaconda3/envs/tensorflow_p36/lib/python3.6/site-packages/keras/activations.py:211: UserWarning: Do not pass a layer instance (such as LeakyReLU) as the activation argument of another layer. Instead, advanced activation layers should be used just like any other layer in a model.\n",
      "  identifier=identifier.__class__.__name__))\n",
      "/home/ubuntu/anaconda3/envs/tensorflow_p36/lib/python3.6/site-packages/keras/activations.py:211: UserWarning: Do not pass a layer instance (such as LeakyReLU) as the activation argument of another layer. Instead, advanced activation layers should be used just like any other layer in a model.\n",
      "  identifier=identifier.__class__.__name__))\n",
      "/home/ubuntu/anaconda3/envs/tensorflow_p36/lib/python3.6/site-packages/keras/activations.py:211: UserWarning: Do not pass a layer instance (such as LeakyReLU) as the activation argument of another layer. Instead, advanced activation layers should be used just like any other layer in a model.\n",
      "  identifier=identifier.__class__.__name__))\n",
      "/home/ubuntu/anaconda3/envs/tensorflow_p36/lib/python3.6/site-packages/keras/activations.py:211: UserWarning: Do not pass a layer instance (such as LeakyReLU) as the activation argument of another layer. Instead, advanced activation layers should be used just like any other layer in a model.\n",
      "  identifier=identifier.__class__.__name__))\n",
      "/home/ubuntu/anaconda3/envs/tensorflow_p36/lib/python3.6/site-packages/keras/activations.py:211: UserWarning: Do not pass a layer instance (such as LeakyReLU) as the activation argument of another layer. Instead, advanced activation layers should be used just like any other layer in a model.\n",
      "  identifier=identifier.__class__.__name__))\n",
      "/home/ubuntu/anaconda3/envs/tensorflow_p36/lib/python3.6/site-packages/keras/activations.py:211: UserWarning: Do not pass a layer instance (such as LeakyReLU) as the activation argument of another layer. Instead, advanced activation layers should be used just like any other layer in a model.\n",
      "  identifier=identifier.__class__.__name__))\n"
     ]
    }
   ],
   "source": [
    "# (8,8)\n",
    "M = 2**8 # Number of one hot encoded messages\n",
    "R = 2 # R = k/n_r\n",
    "sigma = get_noise_sigma(7, Rc=R)\n",
    "hl_activation_func = keras.layers.advanced_activations.LeakyReLU()\n",
    "hl_activation_func.__name__ = 'leakyrelu'\n",
    "ol_activation_func = \"tanh\"\n",
    "num_layers = 5\n",
    "\n",
    "autoencoder8_8_tap_5l, transmitter8_8_tap_5l, reciever8_8_tap_5l, \\\n",
    "    autoencoder_symbs8_8_tap_5l, k8_8_tap_5l, Nc8_8_tap_5l, Nr8_8_tap_5l \\\n",
    "    = make_complex_n_layer_lr_tanh_tapering_model(M, R, sigma, \\\n",
    "                                                  hl_activation_func, \\\n",
    "                                                  ol_activation_func, \\\n",
    "                                                  num_layers)"
   ]
  },
  {
   "cell_type": "markdown",
   "metadata": {},
   "source": [
    "##### Keras multiple GPU models"
   ]
  },
  {
   "cell_type": "code",
   "execution_count": 46,
   "metadata": {},
   "outputs": [],
   "source": [
    "# # Replicates `model` on 8 GPUs.\n",
    "# # This assumes that your machine has 8 available GPUs.\n",
    "# parallel_model = multi_gpu_model(model, gpus=8)\n",
    "# parallel_model.compile(loss='categorical_crossentropy',\n",
    "#                        optimizer='rmsprop')"
   ]
  },
  {
   "cell_type": "markdown",
   "metadata": {},
   "source": [
    "### Make a toy data set"
   ]
  },
  {
   "cell_type": "code",
   "execution_count": 47,
   "metadata": {},
   "outputs": [
    {
     "name": "stdout",
     "output_type": "stream",
     "text": [
      "Took 36.75638127326965s\n",
      "Finished 4 in 37.11717247962952s\n",
      "Took 41.17919206619263s\n",
      "Finished 16 in 41.50743269920349s\n",
      "Took 142.31023931503296s\n",
      "Finished 256 in 142.61784958839417s\n"
     ]
    }
   ],
   "source": [
    "# # Get a set of data for a particular M\n",
    "# all_one_hot_messages = np.diag(np.ones(M))\n",
    "# print(\"all_one_hot_messages.shape = \",all_one_hot_messages.shape)\n",
    "# #total_size = 10,000,000 (10M)\n",
    "# total_size = 10000000\n",
    "# all_one_hot_messages4 = np.diag(np.ones(4))\n",
    "# all_one_hot_messages16 = np.diag(np.ones(16))\n",
    "# all_one_hot_messages256 = np.diag(np.ones(256))\n",
    "\n",
    "\n",
    "# # Automatically saves the data for m to a filepath of\n",
    "# # './data/data${M}.npy'\n",
    "# t0 = time()\n",
    "# func_data4, file_path4, all_one_hot_messages4 = get_data_set(4, total_size)\n",
    "# t1 = time()\n",
    "# print(f\"Finished 4 in {t1-t0}s\")\n",
    "# func_data16, file_path16, all_one_hot_messages16 = get_data_set(16, total_size)\n",
    "# t2 = time()\n",
    "# print(f\"Finished 16 in {t2-t1}s\")\n",
    "# func_data256, file_path256, all_one_hot_messages256 = get_data_set(256, total_size)\n",
    "# print(f\"Finished 256 in {time()-t2}s\")\n",
    "\n",
    "# # Don't use this function unless it's for a new M, just\n",
    "# # load the data you have calculated other times.\n",
    "# # This makes results more comparible and saves time."
   ]
  },
  {
   "cell_type": "code",
   "execution_count": 48,
   "metadata": {},
   "outputs": [],
   "source": [
    "# Load the data calculated from previous runs\n",
    "data256 = np.load('./data/data256.npy')\n",
    "data16 = np.load('./data/data16.npy')\n",
    "data4 = np.load('./data/data4.npy')"
   ]
  },
  {
   "cell_type": "code",
   "execution_count": 52,
   "metadata": {},
   "outputs": [
    {
     "name": "stderr",
     "output_type": "stream",
     "text": [
      "/home/ubuntu/anaconda3/envs/tensorflow_p36/lib/python3.6/site-packages/sklearn/model_selection/_split.py:2179: FutureWarning: From version 0.21, test_size will always complement train_size unless both are specified.\n",
      "  FutureWarning)\n"
     ]
    },
    {
     "name": "stdout",
     "output_type": "stream",
     "text": [
      "train_data4.shape = (7200000, 4)\n",
      "valid_data4.shape = (800000, 4)\n",
      "test_data4.shape = (2000000, 4)\n"
     ]
    }
   ],
   "source": [
    "# Splitting into training, testing and validation sets\n",
    "train_data4, test_data4 = train_test_split(data4, \\\n",
    "                                         train_size=0.8)\n",
    "train_data4, valid_data4 = train_test_split(train_data4, \\\n",
    "                                         train_size=0.9)\n",
    "print(f\"train_data4.shape = {train_data4.shape}\")\n",
    "print(f\"valid_data4.shape = {valid_data4.shape}\")\n",
    "print(f\"test_data4.shape = {test_data4.shape}\")"
   ]
  },
  {
   "cell_type": "code",
   "execution_count": 53,
   "metadata": {},
   "outputs": [
    {
     "name": "stderr",
     "output_type": "stream",
     "text": [
      "/home/ubuntu/anaconda3/envs/tensorflow_p36/lib/python3.6/site-packages/sklearn/model_selection/_split.py:2179: FutureWarning: From version 0.21, test_size will always complement train_size unless both are specified.\n",
      "  FutureWarning)\n"
     ]
    },
    {
     "name": "stdout",
     "output_type": "stream",
     "text": [
      "train_data16.shape = (7200000, 16)\n",
      "valid_data16.shape = (800000, 16)\n",
      "test_data16.shape = (2000000, 16)\n"
     ]
    }
   ],
   "source": [
    "# Splitting into training, testing and validation sets\n",
    "train_data16, test_data16 = train_test_split(data16, \\\n",
    "                                         train_size=0.8)\n",
    "train_data16, valid_data16 = train_test_split(train_data16, \\\n",
    "                                         train_size=0.9)\n",
    "print(f\"train_data16.shape = {train_data16.shape}\")\n",
    "print(f\"valid_data16.shape = {valid_data16.shape}\")\n",
    "print(f\"test_data16.shape = {test_data16.shape}\")"
   ]
  },
  {
   "cell_type": "code",
   "execution_count": 54,
   "metadata": {},
   "outputs": [
    {
     "name": "stderr",
     "output_type": "stream",
     "text": [
      "/home/ubuntu/anaconda3/envs/tensorflow_p36/lib/python3.6/site-packages/sklearn/model_selection/_split.py:2179: FutureWarning: From version 0.21, test_size will always complement train_size unless both are specified.\n",
      "  FutureWarning)\n"
     ]
    },
    {
     "name": "stdout",
     "output_type": "stream",
     "text": [
      "train_data256.shape = (7200000, 256)\n",
      "valid_data256.shape = (800000, 256)\n",
      "test_data256.shape = (2000000, 256)\n"
     ]
    }
   ],
   "source": [
    "# Splitting into training, testing and validation sets\n",
    "train_data256, test_data256 = train_test_split(data256, \\\n",
    "                                         train_size=0.8)\n",
    "train_data256, valid_data256 = train_test_split(train_data256, \\\n",
    "                                         train_size=0.9)\n",
    "print(f\"train_data256.shape = {train_data256.shape}\")\n",
    "print(f\"valid_data256.shape = {valid_data256.shape}\")\n",
    "print(f\"test_data256.shape = {test_data256.shape}\")"
   ]
  },
  {
   "cell_type": "markdown",
   "metadata": {},
   "source": [
    "### Fit model"
   ]
  },
  {
   "cell_type": "code",
   "execution_count": 55,
   "metadata": {},
   "outputs": [],
   "source": [
    "es = EarlyStopping(monitor='val_loss', mode='min', verbose=1, patience=20)"
   ]
  },
  {
   "cell_type": "code",
   "execution_count": 91,
   "metadata": {
    "scrolled": true
   },
   "outputs": [
    {
     "name": "stdout",
     "output_type": "stream",
     "text": [
      "Train on 7200000 samples, validate on 800000 samples\n",
      "Epoch 1/100\n",
      "7200000/7200000 [==============================] - 4s 1us/step - loss: 0.0684 - val_loss: 0.0684\n",
      "Epoch 2/100\n",
      "7200000/7200000 [==============================] - 4s 1us/step - loss: 0.0685 - val_loss: 0.0683\n",
      "Epoch 3/100\n",
      "7200000/7200000 [==============================] - 4s 1us/step - loss: 0.0686 - val_loss: 0.0683\n",
      "Epoch 4/100\n",
      "7200000/7200000 [==============================] - 4s 1us/step - loss: 0.0683 - val_loss: 0.0679\n",
      "Epoch 5/100\n",
      "7200000/7200000 [==============================] - 4s 1us/step - loss: 0.0686 - val_loss: 0.0677\n",
      "Epoch 6/100\n",
      "7200000/7200000 [==============================] - 4s 1us/step - loss: 0.0685 - val_loss: 0.0682\n",
      "Epoch 7/100\n",
      "7200000/7200000 [==============================] - 4s 1us/step - loss: 0.0686 - val_loss: 0.0689\n",
      "Epoch 8/100\n",
      "7200000/7200000 [==============================] - 4s 1us/step - loss: 0.0683 - val_loss: 0.0681\n",
      "Epoch 9/100\n",
      "7200000/7200000 [==============================] - 4s 1us/step - loss: 0.0684 - val_loss: 0.0681\n",
      "Epoch 10/100\n",
      "7200000/7200000 [==============================] - 4s 1us/step - loss: 0.0684 - val_loss: 0.0681\n",
      "Epoch 11/100\n",
      "7200000/7200000 [==============================] - 4s 1us/step - loss: 0.0683 - val_loss: 0.0682\n",
      "Epoch 12/100\n",
      "7200000/7200000 [==============================] - 4s 1us/step - loss: 0.0686 - val_loss: 0.0678\n",
      "Epoch 13/100\n",
      "7200000/7200000 [==============================] - 4s 1us/step - loss: 0.0684 - val_loss: 0.0684\n",
      "Epoch 14/100\n",
      "7200000/7200000 [==============================] - 4s 1us/step - loss: 0.0685 - val_loss: 0.0680\n",
      "Epoch 15/100\n",
      "7200000/7200000 [==============================] - 4s 1us/step - loss: 0.0685 - val_loss: 0.0686\n",
      "Epoch 16/100\n",
      "7200000/7200000 [==============================] - 4s 1us/step - loss: 0.0685 - val_loss: 0.0675\n",
      "Epoch 17/100\n",
      "7200000/7200000 [==============================] - 4s 1us/step - loss: 0.0685 - val_loss: 0.0687\n",
      "Epoch 18/100\n",
      "7200000/7200000 [==============================] - 4s 1us/step - loss: 0.0684 - val_loss: 0.0686\n",
      "Epoch 19/100\n",
      "7200000/7200000 [==============================] - 4s 1us/step - loss: 0.0687 - val_loss: 0.0685\n",
      "Epoch 20/100\n",
      "7200000/7200000 [==============================] - 4s 1us/step - loss: 0.0686 - val_loss: 0.0681\n",
      "Epoch 21/100\n",
      "7200000/7200000 [==============================] - 4s 1us/step - loss: 0.0685 - val_loss: 0.0685\n",
      "Epoch 22/100\n",
      "7200000/7200000 [==============================] - 4s 1us/step - loss: 0.0687 - val_loss: 0.0685\n",
      "Epoch 23/100\n",
      "7200000/7200000 [==============================] - 4s 1us/step - loss: 0.0684 - val_loss: 0.0687\n",
      "Epoch 24/100\n",
      "7200000/7200000 [==============================] - 4s 1us/step - loss: 0.0683 - val_loss: 0.0678\n",
      "Epoch 25/100\n",
      "7200000/7200000 [==============================] - 4s 1us/step - loss: 0.0684 - val_loss: 0.0683\n",
      "Epoch 26/100\n",
      "7200000/7200000 [==============================] - 4s 1us/step - loss: 0.0686 - val_loss: 0.0685\n",
      "Epoch 27/100\n",
      "7200000/7200000 [==============================] - 4s 1us/step - loss: 0.0685 - val_loss: 0.0685\n",
      "Epoch 28/100\n",
      "7200000/7200000 [==============================] - 4s 1us/step - loss: 0.0683 - val_loss: 0.0675\n",
      "Epoch 29/100\n",
      "7200000/7200000 [==============================] - 4s 1us/step - loss: 0.0686 - val_loss: 0.0678\n",
      "Epoch 30/100\n",
      "7200000/7200000 [==============================] - 4s 1us/step - loss: 0.0685 - val_loss: 0.0680\n",
      "Epoch 31/100\n",
      "7200000/7200000 [==============================] - 4s 1us/step - loss: 0.0685 - val_loss: 0.0678\n",
      "Epoch 32/100\n",
      "7200000/7200000 [==============================] - 4s 1us/step - loss: 0.0684 - val_loss: 0.0688\n",
      "Epoch 33/100\n",
      "7200000/7200000 [==============================] - 4s 1us/step - loss: 0.0684 - val_loss: 0.0676\n",
      "Epoch 34/100\n",
      "7200000/7200000 [==============================] - 4s 1us/step - loss: 0.0683 - val_loss: 0.0686\n",
      "Epoch 35/100\n",
      "7200000/7200000 [==============================] - 4s 1us/step - loss: 0.0683 - val_loss: 0.0685\n",
      "Epoch 36/100\n",
      "7200000/7200000 [==============================] - 4s 1us/step - loss: 0.0683 - val_loss: 0.0683\n",
      "Epoch 00036: early stopping\n"
     ]
    },
    {
     "data": {
      "text/plain": [
       "<keras.callbacks.History at 0x7f3e4d030ba8>"
      ]
     },
     "execution_count": 91,
     "metadata": {},
     "output_type": "execute_result"
    }
   ],
   "source": [
    "autoencoder2_2.fit(train_data4, train_data4,\n",
    "                epochs=100,\n",
    "                batch_size=1000*M,\n",
    "                shuffle=True,\n",
    "                validation_data=(valid_data4,\n",
    "                                 valid_data4),\n",
    "                callbacks=[es])"
   ]
  },
  {
   "cell_type": "code",
   "execution_count": 68,
   "metadata": {
    "scrolled": true
   },
   "outputs": [
    {
     "name": "stdout",
     "output_type": "stream",
     "text": [
      "Train on 7200000 samples, validate on 800000 samples\n",
      "Epoch 1/100\n",
      "7200000/7200000 [==============================] - 14s 2us/step - loss: 0.5193 - val_loss: 0.5183\n",
      "Epoch 2/100\n",
      "7200000/7200000 [==============================] - 12s 2us/step - loss: 0.5176 - val_loss: 0.5181\n",
      "Epoch 3/100\n",
      "7200000/7200000 [==============================] - 15s 2us/step - loss: 0.5174 - val_loss: 0.5168\n",
      "Epoch 4/100\n",
      "7200000/7200000 [==============================] - 14s 2us/step - loss: 0.5174 - val_loss: 0.5178\n",
      "Epoch 5/100\n",
      "7200000/7200000 [==============================] - 14s 2us/step - loss: 0.5178 - val_loss: 0.5183\n",
      "Epoch 6/100\n",
      "7200000/7200000 [==============================] - 14s 2us/step - loss: 0.5177 - val_loss: 0.5185\n",
      "Epoch 7/100\n",
      "7200000/7200000 [==============================] - 17s 2us/step - loss: 0.5179 - val_loss: 0.5178\n",
      "Epoch 8/100\n",
      "7200000/7200000 [==============================] - 14s 2us/step - loss: 0.5174 - val_loss: 0.5186\n",
      "Epoch 9/100\n",
      "7200000/7200000 [==============================] - 13s 2us/step - loss: 0.5175 - val_loss: 0.5176\n",
      "Epoch 10/100\n",
      "7200000/7200000 [==============================] - 13s 2us/step - loss: 0.5172 - val_loss: 0.5180\n",
      "Epoch 11/100\n",
      "7200000/7200000 [==============================] - 14s 2us/step - loss: 0.5174 - val_loss: 0.5172\n",
      "Epoch 12/100\n",
      "7200000/7200000 [==============================] - 13s 2us/step - loss: 0.5171 - val_loss: 0.5162\n",
      "Epoch 13/100\n",
      "7200000/7200000 [==============================] - 15s 2us/step - loss: 0.5176 - val_loss: 0.5177\n",
      "Epoch 14/100\n",
      "7200000/7200000 [==============================] - 13s 2us/step - loss: 0.5171 - val_loss: 0.5187\n",
      "Epoch 15/100\n",
      "7200000/7200000 [==============================] - 14s 2us/step - loss: 0.5181 - val_loss: 0.5177\n",
      "Epoch 16/100\n",
      "7200000/7200000 [==============================] - 14s 2us/step - loss: 0.5178 - val_loss: 0.5180\n",
      "Epoch 17/100\n",
      "7200000/7200000 [==============================] - 14s 2us/step - loss: 0.5177 - val_loss: 0.5186\n",
      "Epoch 18/100\n",
      "7200000/7200000 [==============================] - 14s 2us/step - loss: 0.5177 - val_loss: 0.5183\n",
      "Epoch 19/100\n",
      "7200000/7200000 [==============================] - 15s 2us/step - loss: 0.5176 - val_loss: 0.5172\n",
      "Epoch 20/100\n",
      "7200000/7200000 [==============================] - 15s 2us/step - loss: 0.5172 - val_loss: 0.5179\n",
      "Epoch 21/100\n",
      "7200000/7200000 [==============================] - 14s 2us/step - loss: 0.5172 - val_loss: 0.5182\n",
      "Epoch 22/100\n",
      "7200000/7200000 [==============================] - 14s 2us/step - loss: 0.5178 - val_loss: 0.5166\n",
      "Epoch 23/100\n",
      "7200000/7200000 [==============================] - 15s 2us/step - loss: 0.5176 - val_loss: 0.5170\n",
      "Epoch 24/100\n",
      "7200000/7200000 [==============================] - 15s 2us/step - loss: 0.5181 - val_loss: 0.5187\n",
      "Epoch 25/100\n",
      "7200000/7200000 [==============================] - 15s 2us/step - loss: 0.5176 - val_loss: 0.5183\n",
      "Epoch 26/100\n",
      "7200000/7200000 [==============================] - 15s 2us/step - loss: 0.5176 - val_loss: 0.5175\n",
      "Epoch 27/100\n",
      "7200000/7200000 [==============================] - 14s 2us/step - loss: 0.5172 - val_loss: 0.5175\n",
      "Epoch 28/100\n",
      "7200000/7200000 [==============================] - 14s 2us/step - loss: 0.5175 - val_loss: 0.5177\n",
      "Epoch 29/100\n",
      "7200000/7200000 [==============================] - 14s 2us/step - loss: 0.5171 - val_loss: 0.5173\n",
      "Epoch 30/100\n",
      "7200000/7200000 [==============================] - 14s 2us/step - loss: 0.5175 - val_loss: 0.5164\n",
      "Epoch 31/100\n",
      "7200000/7200000 [==============================] - 14s 2us/step - loss: 0.5173 - val_loss: 0.5178\n",
      "Epoch 32/100\n",
      "7200000/7200000 [==============================] - 14s 2us/step - loss: 0.5177 - val_loss: 0.5170\n",
      "Epoch 00032: early stopping\n"
     ]
    },
    {
     "data": {
      "text/plain": [
       "<keras.callbacks.History at 0x7f385830a5f8>"
      ]
     },
     "execution_count": 68,
     "metadata": {},
     "output_type": "execute_result"
    }
   ],
   "source": [
    "autoencoder2_4.fit(train_data16, train_data16,\n",
    "                epochs=100,\n",
    "                batch_size=1000*M,\n",
    "                shuffle=True,\n",
    "                validation_data=(valid_data16,\n",
    "                                 valid_data16),\n",
    "                callbacks=[es])"
   ]
  },
  {
   "cell_type": "code",
   "execution_count": 53,
   "metadata": {
    "scrolled": true
   },
   "outputs": [
    {
     "name": "stdout",
     "output_type": "stream",
     "text": [
      "Train on 72000 samples, validate on 8000 samples\n",
      "Epoch 1/1000\n",
      "72000/72000 [==============================] - 2s 28us/step - loss: 0.0145 - val_loss: 0.0367\n",
      "Epoch 2/1000\n",
      "72000/72000 [==============================] - 2s 22us/step - loss: 0.0361 - val_loss: 0.0340\n",
      "Epoch 3/1000\n",
      "72000/72000 [==============================] - 2s 22us/step - loss: 0.0308 - val_loss: 0.0207\n",
      "Epoch 4/1000\n",
      "72000/72000 [==============================] - 2s 22us/step - loss: 0.0212 - val_loss: 0.0223\n",
      "Epoch 5/1000\n",
      "72000/72000 [==============================] - 1s 21us/step - loss: 0.0202 - val_loss: 0.0204\n",
      "Epoch 6/1000\n",
      "72000/72000 [==============================] - 2s 26us/step - loss: 0.0215 - val_loss: 0.0207\n",
      "Epoch 7/1000\n",
      "72000/72000 [==============================] - 2s 22us/step - loss: 0.0223 - val_loss: 0.0245\n",
      "Epoch 8/1000\n",
      "72000/72000 [==============================] - 2s 23us/step - loss: 0.0213 - val_loss: 0.0230\n",
      "Epoch 9/1000\n",
      "72000/72000 [==============================] - 2s 23us/step - loss: 0.0216 - val_loss: 0.0201\n",
      "Epoch 10/1000\n",
      "72000/72000 [==============================] - 2s 22us/step - loss: 0.0206 - val_loss: 0.0188\n",
      "Epoch 11/1000\n",
      "72000/72000 [==============================] - 2s 21us/step - loss: 0.0190 - val_loss: 0.0194\n",
      "Epoch 12/1000\n",
      "72000/72000 [==============================] - 2s 25us/step - loss: 0.0184 - val_loss: 0.0210\n",
      "Epoch 13/1000\n",
      "72000/72000 [==============================] - 2s 25us/step - loss: 0.0182 - val_loss: 0.0171\n",
      "Epoch 14/1000\n",
      "72000/72000 [==============================] - 2s 23us/step - loss: 0.0185 - val_loss: 0.0181\n",
      "Epoch 15/1000\n",
      "72000/72000 [==============================] - 2s 28us/step - loss: 0.0191 - val_loss: 0.0199\n",
      "Epoch 16/1000\n",
      "72000/72000 [==============================] - 2s 31us/step - loss: 0.0176 - val_loss: 0.0176\n",
      "Epoch 17/1000\n",
      "72000/72000 [==============================] - 2s 30us/step - loss: 0.0171 - val_loss: 0.0178\n",
      "Epoch 18/1000\n",
      "72000/72000 [==============================] - 2s 30us/step - loss: 0.0175 - val_loss: 0.0192\n",
      "Epoch 19/1000\n",
      "72000/72000 [==============================] - 2s 25us/step - loss: 0.0169 - val_loss: 0.0173\n",
      "Epoch 20/1000\n",
      "72000/72000 [==============================] - 2s 22us/step - loss: 0.0163 - val_loss: 0.0169\n",
      "Epoch 21/1000\n",
      "72000/72000 [==============================] - 2s 30us/step - loss: 0.0168 - val_loss: 0.0172\n",
      "Epoch 22/1000\n",
      "72000/72000 [==============================] - 2s 26us/step - loss: 0.0164 - val_loss: 0.0142\n",
      "Epoch 23/1000\n",
      "72000/72000 [==============================] - 2s 26us/step - loss: 0.0159 - val_loss: 0.0165\n",
      "Epoch 24/1000\n",
      "72000/72000 [==============================] - 2s 26us/step - loss: 0.0158 - val_loss: 0.0137\n",
      "Epoch 25/1000\n",
      "72000/72000 [==============================] - 2s 29us/step - loss: 0.0152 - val_loss: 0.0162\n",
      "Epoch 26/1000\n",
      "72000/72000 [==============================] - 2s 30us/step - loss: 0.0150 - val_loss: 0.0153\n",
      "Epoch 27/1000\n",
      "72000/72000 [==============================] - 2s 31us/step - loss: 0.0156 - val_loss: 0.0183\n",
      "Epoch 28/1000\n",
      "72000/72000 [==============================] - 2s 29us/step - loss: 0.0144 - val_loss: 0.0143\n",
      "Epoch 29/1000\n",
      "72000/72000 [==============================] - 2s 28us/step - loss: 0.0147 - val_loss: 0.0140\n",
      "Epoch 30/1000\n",
      "72000/72000 [==============================] - 2s 29us/step - loss: 0.0149 - val_loss: 0.0166\n",
      "Epoch 31/1000\n",
      "72000/72000 [==============================] - 2s 30us/step - loss: 0.0146 - val_loss: 0.0152\n",
      "Epoch 32/1000\n",
      "72000/72000 [==============================] - 2s 28us/step - loss: 0.0144 - val_loss: 0.0162\n",
      "Epoch 33/1000\n",
      "72000/72000 [==============================] - 2s 22us/step - loss: 0.0140 - val_loss: 0.0140\n",
      "Epoch 34/1000\n",
      "72000/72000 [==============================] - 2s 21us/step - loss: 0.0142 - val_loss: 0.0136\n",
      "Epoch 35/1000\n",
      "72000/72000 [==============================] - 2s 24us/step - loss: 0.0143 - val_loss: 0.0159\n",
      "Epoch 36/1000\n",
      "72000/72000 [==============================] - 2s 28us/step - loss: 0.0140 - val_loss: 0.0130\n",
      "Epoch 37/1000\n",
      "72000/72000 [==============================] - 2s 28us/step - loss: 0.0143 - val_loss: 0.0119\n",
      "Epoch 38/1000\n",
      "72000/72000 [==============================] - 2s 24us/step - loss: 0.0133 - val_loss: 0.0145\n",
      "Epoch 39/1000\n",
      "72000/72000 [==============================] - 2s 21us/step - loss: 0.0139 - val_loss: 0.0149\n",
      "Epoch 40/1000\n",
      "72000/72000 [==============================] - 2s 21us/step - loss: 0.0131 - val_loss: 0.0130\n",
      "Epoch 41/1000\n",
      "72000/72000 [==============================] - 2s 21us/step - loss: 0.0139 - val_loss: 0.0126\n",
      "Epoch 42/1000\n",
      "72000/72000 [==============================] - 2s 21us/step - loss: 0.0140 - val_loss: 0.0129\n",
      "Epoch 43/1000\n",
      "72000/72000 [==============================] - 2s 22us/step - loss: 0.0140 - val_loss: 0.0123\n",
      "Epoch 44/1000\n",
      "72000/72000 [==============================] - 2s 22us/step - loss: 0.0134 - val_loss: 0.0141\n",
      "Epoch 45/1000\n",
      "72000/72000 [==============================] - 2s 21us/step - loss: 0.0138 - val_loss: 0.0132\n",
      "Epoch 46/1000\n",
      "72000/72000 [==============================] - 2s 22us/step - loss: 0.0138 - val_loss: 0.0141\n",
      "Epoch 47/1000\n",
      "72000/72000 [==============================] - 2s 22us/step - loss: 0.0137 - val_loss: 0.0172\n",
      "Epoch 48/1000\n",
      "72000/72000 [==============================] - 2s 21us/step - loss: 0.0132 - val_loss: 0.0138\n",
      "Epoch 49/1000\n",
      "72000/72000 [==============================] - 2s 21us/step - loss: 0.0131 - val_loss: 0.0131\n",
      "Epoch 50/1000\n",
      "72000/72000 [==============================] - 2s 21us/step - loss: 0.0133 - val_loss: 0.0122\n",
      "Epoch 51/1000\n",
      "72000/72000 [==============================] - 2s 24us/step - loss: 0.0132 - val_loss: 0.0135\n",
      "Epoch 52/1000\n",
      "72000/72000 [==============================] - 2s 23us/step - loss: 0.0131 - val_loss: 0.0135\n",
      "Epoch 53/1000\n",
      "72000/72000 [==============================] - 2s 26us/step - loss: 0.0138 - val_loss: 0.0145\n",
      "Epoch 54/1000\n",
      "72000/72000 [==============================] - 2s 24us/step - loss: 0.0130 - val_loss: 0.0123\n",
      "Epoch 55/1000\n",
      "72000/72000 [==============================] - 2s 23us/step - loss: 0.0129 - val_loss: 0.0145\n",
      "Epoch 56/1000\n",
      "72000/72000 [==============================] - 2s 25us/step - loss: 0.0122 - val_loss: 0.0114\n",
      "Epoch 57/1000\n",
      "72000/72000 [==============================] - 2s 23us/step - loss: 0.0135 - val_loss: 0.0113\n",
      "Epoch 58/1000\n",
      "72000/72000 [==============================] - 2s 23us/step - loss: 0.0130 - val_loss: 0.0111\n",
      "Epoch 59/1000\n",
      "72000/72000 [==============================] - 2s 22us/step - loss: 0.0132 - val_loss: 0.0127\n",
      "Epoch 60/1000\n",
      "72000/72000 [==============================] - 2s 22us/step - loss: 0.0133 - val_loss: 0.0138\n",
      "Epoch 61/1000\n",
      "72000/72000 [==============================] - 2s 22us/step - loss: 0.0126 - val_loss: 0.0121\n",
      "Epoch 62/1000\n",
      "72000/72000 [==============================] - 2s 22us/step - loss: 0.0128 - val_loss: 0.0127\n",
      "Epoch 63/1000\n",
      "72000/72000 [==============================] - 2s 23us/step - loss: 0.0128 - val_loss: 0.0131\n",
      "Epoch 64/1000\n",
      "72000/72000 [==============================] - 2s 24us/step - loss: 0.0128 - val_loss: 0.0107\n",
      "Epoch 65/1000\n",
      "72000/72000 [==============================] - 2s 23us/step - loss: 0.0133 - val_loss: 0.0116\n",
      "Epoch 66/1000\n",
      "72000/72000 [==============================] - 2s 22us/step - loss: 0.0127 - val_loss: 0.0116\n",
      "Epoch 67/1000\n",
      "72000/72000 [==============================] - 2s 22us/step - loss: 0.0125 - val_loss: 0.0123\n",
      "Epoch 68/1000\n",
      "72000/72000 [==============================] - 2s 25us/step - loss: 0.0129 - val_loss: 0.0143\n",
      "Epoch 69/1000\n",
      "72000/72000 [==============================] - 2s 25us/step - loss: 0.0122 - val_loss: 0.0121\n",
      "Epoch 70/1000\n",
      "72000/72000 [==============================] - 2s 24us/step - loss: 0.0123 - val_loss: 0.0138\n",
      "Epoch 71/1000\n",
      "72000/72000 [==============================] - 2s 26us/step - loss: 0.0130 - val_loss: 0.0144\n",
      "Epoch 72/1000\n",
      "72000/72000 [==============================] - 2s 23us/step - loss: 0.0125 - val_loss: 0.0133\n",
      "Epoch 73/1000\n",
      "72000/72000 [==============================] - 2s 22us/step - loss: 0.0125 - val_loss: 0.0144\n",
      "Epoch 74/1000\n",
      "72000/72000 [==============================] - 2s 21us/step - loss: 0.0126 - val_loss: 0.0136\n",
      "Epoch 75/1000\n",
      "72000/72000 [==============================] - 2s 23us/step - loss: 0.0129 - val_loss: 0.0122\n",
      "Epoch 76/1000\n",
      "72000/72000 [==============================] - 2s 24us/step - loss: 0.0127 - val_loss: 0.0122\n"
     ]
    },
    {
     "name": "stdout",
     "output_type": "stream",
     "text": [
      "Epoch 77/1000\n",
      "72000/72000 [==============================] - 2s 22us/step - loss: 0.0129 - val_loss: 0.0120\n",
      "Epoch 78/1000\n",
      "72000/72000 [==============================] - 2s 21us/step - loss: 0.0119 - val_loss: 0.0118\n",
      "Epoch 79/1000\n",
      "72000/72000 [==============================] - 2s 25us/step - loss: 0.0124 - val_loss: 0.0132\n",
      "Epoch 80/1000\n",
      "72000/72000 [==============================] - 2s 25us/step - loss: 0.0125 - val_loss: 0.0138\n",
      "Epoch 81/1000\n",
      "72000/72000 [==============================] - 2s 22us/step - loss: 0.0121 - val_loss: 0.0127\n",
      "Epoch 82/1000\n",
      "72000/72000 [==============================] - 2s 25us/step - loss: 0.0127 - val_loss: 0.0117\n",
      "Epoch 83/1000\n",
      "72000/72000 [==============================] - 2s 24us/step - loss: 0.0120 - val_loss: 0.0123\n",
      "Epoch 84/1000\n",
      "72000/72000 [==============================] - 2s 22us/step - loss: 0.0125 - val_loss: 0.0123\n",
      "Epoch 00084: early stopping\n"
     ]
    },
    {
     "data": {
      "text/plain": [
       "<keras.callbacks.History at 0x7f38e0170f98>"
      ]
     },
     "execution_count": 53,
     "metadata": {},
     "output_type": "execute_result"
    }
   ],
   "source": [
    "autoencoder8_8.fit(train_data256, train_data256,\n",
    "                epochs=1000,\n",
    "                batch_size=1000*M,\n",
    "                shuffle=True,\n",
    "                validation_data=(valid_data256,\n",
    "                                 valid_data256),\n",
    "                callbacks=[es])"
   ]
  },
  {
   "cell_type": "code",
   "execution_count": 50,
   "metadata": {
    "scrolled": true
   },
   "outputs": [],
   "source": [
    "# autoencoder8_8_tap.fit(train_data256, train_data256,\n",
    "#                        epochs=1000,\n",
    "#                        batch_size=1000*M,\n",
    "#                        shuffle=True,\n",
    "#                        validation_data=(valid_data256,\n",
    "#                                         valid_data256),\n",
    "#                        callbacks=[es])"
   ]
  },
  {
   "cell_type": "code",
   "execution_count": 83,
   "metadata": {
    "scrolled": true
   },
   "outputs": [
    {
     "name": "stdout",
     "output_type": "stream",
     "text": [
      "Train on 7200000 samples, validate on 800000 samples\n",
      "Epoch 1/1000\n",
      "7200000/7200000 [==============================] - 41s 6us/step - loss: 0.1899 - val_loss: 0.1818\n",
      "Epoch 2/1000\n",
      "7200000/7200000 [==============================] - 41s 6us/step - loss: 0.1801 - val_loss: 0.1785\n",
      "Epoch 3/1000\n",
      "7200000/7200000 [==============================] - 41s 6us/step - loss: 0.1779 - val_loss: 0.1781\n",
      "Epoch 4/1000\n",
      "7200000/7200000 [==============================] - 41s 6us/step - loss: 0.1767 - val_loss: 0.1773\n",
      "Epoch 5/1000\n",
      "7200000/7200000 [==============================] - 41s 6us/step - loss: 0.1766 - val_loss: 0.1763\n",
      "Epoch 6/1000\n",
      "7200000/7200000 [==============================] - 41s 6us/step - loss: 0.1756 - val_loss: 0.1763\n",
      "Epoch 7/1000\n",
      " 512000/7200000 [=>............................] - ETA: 37s - loss: 0.1764"
     ]
    },
    {
     "ename": "KeyboardInterrupt",
     "evalue": "",
     "output_type": "error",
     "traceback": [
      "\u001b[0;31m---------------------------------------------------------------------------\u001b[0m",
      "\u001b[0;31mKeyboardInterrupt\u001b[0m                         Traceback (most recent call last)",
      "\u001b[0;32m<ipython-input-83-466b5e450dee>\u001b[0m in \u001b[0;36m<module>\u001b[0;34m()\u001b[0m\n\u001b[1;32m      5\u001b[0m                        validation_data=(valid_data256,\n\u001b[1;32m      6\u001b[0m                                         valid_data256),\n\u001b[0;32m----> 7\u001b[0;31m                        callbacks=[es])\n\u001b[0m",
      "\u001b[0;32m~/anaconda3/envs/tensorflow_p36/lib/python3.6/site-packages/keras/engine/training.py\u001b[0m in \u001b[0;36mfit\u001b[0;34m(self, x, y, batch_size, epochs, verbose, callbacks, validation_split, validation_data, shuffle, class_weight, sample_weight, initial_epoch, steps_per_epoch, validation_steps, **kwargs)\u001b[0m\n\u001b[1;32m   1037\u001b[0m                                         \u001b[0minitial_epoch\u001b[0m\u001b[0;34m=\u001b[0m\u001b[0minitial_epoch\u001b[0m\u001b[0;34m,\u001b[0m\u001b[0;34m\u001b[0m\u001b[0m\n\u001b[1;32m   1038\u001b[0m                                         \u001b[0msteps_per_epoch\u001b[0m\u001b[0;34m=\u001b[0m\u001b[0msteps_per_epoch\u001b[0m\u001b[0;34m,\u001b[0m\u001b[0;34m\u001b[0m\u001b[0m\n\u001b[0;32m-> 1039\u001b[0;31m                                         validation_steps=validation_steps)\n\u001b[0m\u001b[1;32m   1040\u001b[0m \u001b[0;34m\u001b[0m\u001b[0m\n\u001b[1;32m   1041\u001b[0m     def evaluate(self, x=None, y=None,\n",
      "\u001b[0;32m~/anaconda3/envs/tensorflow_p36/lib/python3.6/site-packages/keras/engine/training_arrays.py\u001b[0m in \u001b[0;36mfit_loop\u001b[0;34m(model, f, ins, out_labels, batch_size, epochs, verbose, callbacks, val_f, val_ins, shuffle, callback_metrics, initial_epoch, steps_per_epoch, validation_steps)\u001b[0m\n\u001b[1;32m    197\u001b[0m                     \u001b[0mins_batch\u001b[0m\u001b[0;34m[\u001b[0m\u001b[0mi\u001b[0m\u001b[0;34m]\u001b[0m \u001b[0;34m=\u001b[0m \u001b[0mins_batch\u001b[0m\u001b[0;34m[\u001b[0m\u001b[0mi\u001b[0m\u001b[0;34m]\u001b[0m\u001b[0;34m.\u001b[0m\u001b[0mtoarray\u001b[0m\u001b[0;34m(\u001b[0m\u001b[0;34m)\u001b[0m\u001b[0;34m\u001b[0m\u001b[0m\n\u001b[1;32m    198\u001b[0m \u001b[0;34m\u001b[0m\u001b[0m\n\u001b[0;32m--> 199\u001b[0;31m                 \u001b[0mouts\u001b[0m \u001b[0;34m=\u001b[0m \u001b[0mf\u001b[0m\u001b[0;34m(\u001b[0m\u001b[0mins_batch\u001b[0m\u001b[0;34m)\u001b[0m\u001b[0;34m\u001b[0m\u001b[0m\n\u001b[0m\u001b[1;32m    200\u001b[0m                 \u001b[0mouts\u001b[0m \u001b[0;34m=\u001b[0m \u001b[0mto_list\u001b[0m\u001b[0;34m(\u001b[0m\u001b[0mouts\u001b[0m\u001b[0;34m)\u001b[0m\u001b[0;34m\u001b[0m\u001b[0m\n\u001b[1;32m    201\u001b[0m                 \u001b[0;32mfor\u001b[0m \u001b[0ml\u001b[0m\u001b[0;34m,\u001b[0m \u001b[0mo\u001b[0m \u001b[0;32min\u001b[0m \u001b[0mzip\u001b[0m\u001b[0;34m(\u001b[0m\u001b[0mout_labels\u001b[0m\u001b[0;34m,\u001b[0m \u001b[0mouts\u001b[0m\u001b[0;34m)\u001b[0m\u001b[0;34m:\u001b[0m\u001b[0;34m\u001b[0m\u001b[0m\n",
      "\u001b[0;32m~/anaconda3/envs/tensorflow_p36/lib/python3.6/site-packages/keras/backend/tensorflow_backend.py\u001b[0m in \u001b[0;36m__call__\u001b[0;34m(self, inputs)\u001b[0m\n\u001b[1;32m   2713\u001b[0m                 \u001b[0;32mreturn\u001b[0m \u001b[0mself\u001b[0m\u001b[0;34m.\u001b[0m\u001b[0m_legacy_call\u001b[0m\u001b[0;34m(\u001b[0m\u001b[0minputs\u001b[0m\u001b[0;34m)\u001b[0m\u001b[0;34m\u001b[0m\u001b[0m\n\u001b[1;32m   2714\u001b[0m \u001b[0;34m\u001b[0m\u001b[0m\n\u001b[0;32m-> 2715\u001b[0;31m             \u001b[0;32mreturn\u001b[0m \u001b[0mself\u001b[0m\u001b[0;34m.\u001b[0m\u001b[0m_call\u001b[0m\u001b[0;34m(\u001b[0m\u001b[0minputs\u001b[0m\u001b[0;34m)\u001b[0m\u001b[0;34m\u001b[0m\u001b[0m\n\u001b[0m\u001b[1;32m   2716\u001b[0m         \u001b[0;32melse\u001b[0m\u001b[0;34m:\u001b[0m\u001b[0;34m\u001b[0m\u001b[0m\n\u001b[1;32m   2717\u001b[0m             \u001b[0;32mif\u001b[0m \u001b[0mpy_any\u001b[0m\u001b[0;34m(\u001b[0m\u001b[0mis_tensor\u001b[0m\u001b[0;34m(\u001b[0m\u001b[0mx\u001b[0m\u001b[0;34m)\u001b[0m \u001b[0;32mfor\u001b[0m \u001b[0mx\u001b[0m \u001b[0;32min\u001b[0m \u001b[0minputs\u001b[0m\u001b[0;34m)\u001b[0m\u001b[0;34m:\u001b[0m\u001b[0;34m\u001b[0m\u001b[0m\n",
      "\u001b[0;32m~/anaconda3/envs/tensorflow_p36/lib/python3.6/site-packages/keras/backend/tensorflow_backend.py\u001b[0m in \u001b[0;36m_call\u001b[0;34m(self, inputs)\u001b[0m\n\u001b[1;32m   2673\u001b[0m             \u001b[0mfetched\u001b[0m \u001b[0;34m=\u001b[0m \u001b[0mself\u001b[0m\u001b[0;34m.\u001b[0m\u001b[0m_callable_fn\u001b[0m\u001b[0;34m(\u001b[0m\u001b[0;34m*\u001b[0m\u001b[0marray_vals\u001b[0m\u001b[0;34m,\u001b[0m \u001b[0mrun_metadata\u001b[0m\u001b[0;34m=\u001b[0m\u001b[0mself\u001b[0m\u001b[0;34m.\u001b[0m\u001b[0mrun_metadata\u001b[0m\u001b[0;34m)\u001b[0m\u001b[0;34m\u001b[0m\u001b[0m\n\u001b[1;32m   2674\u001b[0m         \u001b[0;32melse\u001b[0m\u001b[0;34m:\u001b[0m\u001b[0;34m\u001b[0m\u001b[0m\n\u001b[0;32m-> 2675\u001b[0;31m             \u001b[0mfetched\u001b[0m \u001b[0;34m=\u001b[0m \u001b[0mself\u001b[0m\u001b[0;34m.\u001b[0m\u001b[0m_callable_fn\u001b[0m\u001b[0;34m(\u001b[0m\u001b[0;34m*\u001b[0m\u001b[0marray_vals\u001b[0m\u001b[0;34m)\u001b[0m\u001b[0;34m\u001b[0m\u001b[0m\n\u001b[0m\u001b[1;32m   2676\u001b[0m         \u001b[0;32mreturn\u001b[0m \u001b[0mfetched\u001b[0m\u001b[0;34m[\u001b[0m\u001b[0;34m:\u001b[0m\u001b[0mlen\u001b[0m\u001b[0;34m(\u001b[0m\u001b[0mself\u001b[0m\u001b[0;34m.\u001b[0m\u001b[0moutputs\u001b[0m\u001b[0;34m)\u001b[0m\u001b[0;34m]\u001b[0m\u001b[0;34m\u001b[0m\u001b[0m\n\u001b[1;32m   2677\u001b[0m \u001b[0;34m\u001b[0m\u001b[0m\n",
      "\u001b[0;32m~/anaconda3/envs/tensorflow_p36/lib/python3.6/site-packages/tensorflow/python/client/session.py\u001b[0m in \u001b[0;36m__call__\u001b[0;34m(self, *args, **kwargs)\u001b[0m\n\u001b[1;32m   1437\u001b[0m           ret = tf_session.TF_SessionRunCallable(\n\u001b[1;32m   1438\u001b[0m               \u001b[0mself\u001b[0m\u001b[0;34m.\u001b[0m\u001b[0m_session\u001b[0m\u001b[0;34m.\u001b[0m\u001b[0m_session\u001b[0m\u001b[0;34m,\u001b[0m \u001b[0mself\u001b[0m\u001b[0;34m.\u001b[0m\u001b[0m_handle\u001b[0m\u001b[0;34m,\u001b[0m \u001b[0margs\u001b[0m\u001b[0;34m,\u001b[0m \u001b[0mstatus\u001b[0m\u001b[0;34m,\u001b[0m\u001b[0;34m\u001b[0m\u001b[0m\n\u001b[0;32m-> 1439\u001b[0;31m               run_metadata_ptr)\n\u001b[0m\u001b[1;32m   1440\u001b[0m         \u001b[0;32mif\u001b[0m \u001b[0mrun_metadata\u001b[0m\u001b[0;34m:\u001b[0m\u001b[0;34m\u001b[0m\u001b[0m\n\u001b[1;32m   1441\u001b[0m           \u001b[0mproto_data\u001b[0m \u001b[0;34m=\u001b[0m \u001b[0mtf_session\u001b[0m\u001b[0;34m.\u001b[0m\u001b[0mTF_GetBuffer\u001b[0m\u001b[0;34m(\u001b[0m\u001b[0mrun_metadata_ptr\u001b[0m\u001b[0;34m)\u001b[0m\u001b[0;34m\u001b[0m\u001b[0m\n",
      "\u001b[0;31mKeyboardInterrupt\u001b[0m: "
     ]
    }
   ],
   "source": [
    "autoencoder8_8_tap_2l.fit(train_data256, train_data256,\n",
    "                       epochs=1000,\n",
    "                       batch_size=256*1000,\n",
    "                       shuffle=True,\n",
    "                       validation_data=(valid_data256,\n",
    "                                        valid_data256),\n",
    "                       callbacks=[es])"
   ]
  },
  {
   "cell_type": "code",
   "execution_count": 107,
   "metadata": {
    "scrolled": true
   },
   "outputs": [
    {
     "name": "stdout",
     "output_type": "stream",
     "text": [
      "Train on 72000 samples, validate on 8000 samples\n",
      "Epoch 1/1000\n",
      "72000/72000 [==============================] - 9s 119us/step - loss: 5.5453 - val_loss: 5.4861\n",
      "Epoch 2/1000\n",
      "72000/72000 [==============================] - 4s 57us/step - loss: 5.4865 - val_loss: 5.4349\n",
      "Epoch 3/1000\n",
      "72000/72000 [==============================] - 3s 42us/step - loss: 5.4346 - val_loss: 5.3781\n",
      "Epoch 4/1000\n",
      "72000/72000 [==============================] - 3s 41us/step - loss: 5.3767 - val_loss: 5.3211\n",
      "Epoch 5/1000\n",
      "72000/72000 [==============================] - 3s 43us/step - loss: 5.3196 - val_loss: 5.2632\n",
      "Epoch 6/1000\n",
      "72000/72000 [==============================] - 4s 55us/step - loss: 5.2615 - val_loss: 5.1938\n",
      "Epoch 7/1000\n",
      "72000/72000 [==============================] - 4s 59us/step - loss: 5.1919 - val_loss: 5.1167\n",
      "Epoch 8/1000\n",
      "72000/72000 [==============================] - 4s 50us/step - loss: 5.1153 - val_loss: 5.0354\n",
      "Epoch 9/1000\n",
      "72000/72000 [==============================] - 3s 46us/step - loss: 5.0321 - val_loss: 4.9454\n",
      "Epoch 10/1000\n",
      "72000/72000 [==============================] - 3s 46us/step - loss: 4.9421 - val_loss: 4.8464\n",
      "Epoch 11/1000\n",
      "72000/72000 [==============================] - 4s 57us/step - loss: 4.8431 - val_loss: 4.7410\n",
      "Epoch 12/1000\n",
      "72000/72000 [==============================] - 4s 52us/step - loss: 4.7367 - val_loss: 4.6264\n",
      "Epoch 13/1000\n",
      "72000/72000 [==============================] - 4s 50us/step - loss: 4.6221 - val_loss: 4.5054\n",
      "Epoch 14/1000\n",
      "72000/72000 [==============================] - 3s 45us/step - loss: 4.4992 - val_loss: 4.3766\n",
      "Epoch 15/1000\n",
      "72000/72000 [==============================] - 4s 52us/step - loss: 4.3690 - val_loss: 4.2391\n",
      "Epoch 16/1000\n",
      "72000/72000 [==============================] - 3s 47us/step - loss: 4.2322 - val_loss: 4.0989\n",
      "Epoch 17/1000\n",
      "72000/72000 [==============================] - 4s 57us/step - loss: 4.0905 - val_loss: 3.9489\n",
      "Epoch 18/1000\n",
      "72000/72000 [==============================] - 4s 62us/step - loss: 3.9411 - val_loss: 3.7940\n",
      "Epoch 19/1000\n",
      "72000/72000 [==============================] - 4s 57us/step - loss: 3.7883 - val_loss: 3.6394\n",
      "Epoch 20/1000\n",
      "72000/72000 [==============================] - 4s 51us/step - loss: 3.6315 - val_loss: 3.4844\n",
      "Epoch 21/1000\n",
      "72000/72000 [==============================] - 3s 48us/step - loss: 3.4719 - val_loss: 3.3217\n",
      "Epoch 22/1000\n",
      "72000/72000 [==============================] - 4s 62us/step - loss: 3.3096 - val_loss: 3.1583\n",
      "Epoch 23/1000\n",
      "72000/72000 [==============================] - 3s 48us/step - loss: 3.1500 - val_loss: 2.9999\n",
      "Epoch 24/1000\n",
      "72000/72000 [==============================] - 4s 52us/step - loss: 2.9871 - val_loss: 2.8276\n",
      "Epoch 25/1000\n",
      "72000/72000 [==============================] - 4s 57us/step - loss: 2.8166 - val_loss: 2.6645\n",
      "Epoch 26/1000\n",
      "72000/72000 [==============================] - 3s 44us/step - loss: 2.6528 - val_loss: 2.4910\n",
      "Epoch 27/1000\n",
      "72000/72000 [==============================] - 4s 61us/step - loss: 2.4817 - val_loss: 2.3320\n",
      "Epoch 28/1000\n",
      "72000/72000 [==============================] - 4s 54us/step - loss: 2.3231 - val_loss: 2.1700\n",
      "Epoch 29/1000\n",
      "72000/72000 [==============================] - 3s 45us/step - loss: 2.1623 - val_loss: 2.0116\n",
      "Epoch 30/1000\n",
      "72000/72000 [==============================] - 3s 41us/step - loss: 2.0056 - val_loss: 1.8617\n",
      "Epoch 31/1000\n",
      "72000/72000 [==============================] - 3s 42us/step - loss: 1.8566 - val_loss: 1.7230\n",
      "Epoch 32/1000\n",
      "72000/72000 [==============================] - 3s 47us/step - loss: 1.7097 - val_loss: 1.5821\n",
      "Epoch 33/1000\n",
      "72000/72000 [==============================] - 4s 59us/step - loss: 1.5744 - val_loss: 1.4448\n",
      "Epoch 34/1000\n",
      "72000/72000 [==============================] - 3s 43us/step - loss: 1.4387 - val_loss: 1.3201\n",
      "Epoch 35/1000\n",
      "72000/72000 [==============================] - 4s 53us/step - loss: 1.3131 - val_loss: 1.2062\n",
      "Epoch 36/1000\n",
      "72000/72000 [==============================] - 3s 45us/step - loss: 1.1966 - val_loss: 1.0875\n",
      "Epoch 37/1000\n",
      "72000/72000 [==============================] - 4s 56us/step - loss: 1.0869 - val_loss: 0.9894\n",
      "Epoch 38/1000\n",
      "72000/72000 [==============================] - 4s 53us/step - loss: 0.9841 - val_loss: 0.8950\n",
      "Epoch 39/1000\n",
      "72000/72000 [==============================] - 4s 60us/step - loss: 0.8881 - val_loss: 0.8060\n",
      "Epoch 40/1000\n",
      "72000/72000 [==============================] - 4s 51us/step - loss: 0.8043 - val_loss: 0.7239\n",
      "Epoch 41/1000\n",
      "72000/72000 [==============================] - 4s 53us/step - loss: 0.7208 - val_loss: 0.6566\n",
      "Epoch 42/1000\n",
      "72000/72000 [==============================] - 3s 46us/step - loss: 0.6463 - val_loss: 0.5854\n",
      "Epoch 43/1000\n",
      "72000/72000 [==============================] - 3s 43us/step - loss: 0.5822 - val_loss: 0.5221\n",
      "Epoch 44/1000\n",
      "72000/72000 [==============================] - 3s 44us/step - loss: 0.5218 - val_loss: 0.4641\n",
      "Epoch 45/1000\n",
      "72000/72000 [==============================] - 4s 60us/step - loss: 0.4676 - val_loss: 0.4196\n",
      "Epoch 46/1000\n",
      "72000/72000 [==============================] - 3s 44us/step - loss: 0.4157 - val_loss: 0.3719\n",
      "Epoch 47/1000\n",
      "72000/72000 [==============================] - 3s 40us/step - loss: 0.3750 - val_loss: 0.3364\n",
      "Epoch 48/1000\n",
      "72000/72000 [==============================] - 3s 41us/step - loss: 0.3354 - val_loss: 0.3079\n",
      "Epoch 49/1000\n",
      "72000/72000 [==============================] - 3s 48us/step - loss: 0.3045 - val_loss: 0.2730\n",
      "Epoch 50/1000\n",
      "72000/72000 [==============================] - 4s 55us/step - loss: 0.2716 - val_loss: 0.2442\n",
      "Epoch 51/1000\n",
      "72000/72000 [==============================] - 4s 55us/step - loss: 0.2437 - val_loss: 0.2181\n",
      "Epoch 52/1000\n",
      "72000/72000 [==============================] - 3s 47us/step - loss: 0.2206 - val_loss: 0.2033\n",
      "Epoch 53/1000\n",
      "72000/72000 [==============================] - 3s 46us/step - loss: 0.2023 - val_loss: 0.1905\n",
      "Epoch 54/1000\n",
      "72000/72000 [==============================] - 5s 63us/step - loss: 0.1827 - val_loss: 0.1693\n",
      "Epoch 55/1000\n",
      "72000/72000 [==============================] - 4s 54us/step - loss: 0.1699 - val_loss: 0.1561\n",
      "Epoch 56/1000\n",
      "72000/72000 [==============================] - 3s 46us/step - loss: 0.1552 - val_loss: 0.1470\n",
      "Epoch 57/1000\n",
      "72000/72000 [==============================] - 4s 53us/step - loss: 0.1450 - val_loss: 0.1330\n",
      "Epoch 58/1000\n",
      "72000/72000 [==============================] - 3s 48us/step - loss: 0.1338 - val_loss: 0.1261\n",
      "Epoch 59/1000\n",
      "72000/72000 [==============================] - 4s 49us/step - loss: 0.1227 - val_loss: 0.1177\n",
      "Epoch 60/1000\n",
      "72000/72000 [==============================] - 3s 46us/step - loss: 0.1159 - val_loss: 0.1052\n",
      "Epoch 61/1000\n",
      "72000/72000 [==============================] - 4s 54us/step - loss: 0.1097 - val_loss: 0.1010\n",
      "Epoch 62/1000\n",
      "72000/72000 [==============================] - 4s 50us/step - loss: 0.1025 - val_loss: 0.0945\n",
      "Epoch 63/1000\n",
      "72000/72000 [==============================] - 4s 50us/step - loss: 0.0973 - val_loss: 0.0888\n",
      "Epoch 64/1000\n",
      "72000/72000 [==============================] - 4s 50us/step - loss: 0.0916 - val_loss: 0.0872\n",
      "Epoch 65/1000\n",
      "72000/72000 [==============================] - 4s 50us/step - loss: 0.0866 - val_loss: 0.0832\n",
      "Epoch 66/1000\n",
      "72000/72000 [==============================] - 4s 55us/step - loss: 0.0835 - val_loss: 0.0771\n",
      "Epoch 67/1000\n",
      "72000/72000 [==============================] - 3s 45us/step - loss: 0.0779 - val_loss: 0.0755\n",
      "Epoch 68/1000\n",
      "72000/72000 [==============================] - 4s 49us/step - loss: 0.0755 - val_loss: 0.0713\n",
      "Epoch 69/1000\n",
      "72000/72000 [==============================] - 3s 41us/step - loss: 0.0731 - val_loss: 0.0668\n",
      "Epoch 70/1000\n",
      "72000/72000 [==============================] - 3s 42us/step - loss: 0.0685 - val_loss: 0.0689\n",
      "Epoch 71/1000\n",
      "72000/72000 [==============================] - 3s 42us/step - loss: 0.0665 - val_loss: 0.0664\n",
      "Epoch 72/1000\n",
      "72000/72000 [==============================] - 3s 42us/step - loss: 0.0652 - val_loss: 0.0661\n",
      "Epoch 73/1000\n",
      "72000/72000 [==============================] - 3s 43us/step - loss: 0.0618 - val_loss: 0.0582\n",
      "Epoch 74/1000\n",
      "72000/72000 [==============================] - 3s 41us/step - loss: 0.0585 - val_loss: 0.0609\n",
      "Epoch 75/1000\n",
      "72000/72000 [==============================] - 3s 47us/step - loss: 0.0576 - val_loss: 0.0551\n",
      "Epoch 76/1000\n",
      "72000/72000 [==============================] - 4s 54us/step - loss: 0.0568 - val_loss: 0.0560\n"
     ]
    },
    {
     "name": "stdout",
     "output_type": "stream",
     "text": [
      "Epoch 77/1000\n",
      "72000/72000 [==============================] - 3s 47us/step - loss: 0.0543 - val_loss: 0.0545\n",
      "Epoch 78/1000\n",
      "72000/72000 [==============================] - 4s 55us/step - loss: 0.0536 - val_loss: 0.0537\n",
      "Epoch 79/1000\n",
      "72000/72000 [==============================] - 4s 53us/step - loss: 0.0521 - val_loss: 0.0497\n",
      "Epoch 80/1000\n",
      "72000/72000 [==============================] - 4s 62us/step - loss: 0.0503 - val_loss: 0.0516\n",
      "Epoch 81/1000\n",
      "72000/72000 [==============================] - 3s 48us/step - loss: 0.0490 - val_loss: 0.0465\n",
      "Epoch 82/1000\n",
      "72000/72000 [==============================] - 3s 48us/step - loss: 0.0481 - val_loss: 0.0475\n",
      "Epoch 83/1000\n",
      "72000/72000 [==============================] - 4s 50us/step - loss: 0.0473 - val_loss: 0.0481\n",
      "Epoch 84/1000\n",
      "72000/72000 [==============================] - 4s 54us/step - loss: 0.0461 - val_loss: 0.0461\n",
      "Epoch 85/1000\n",
      "72000/72000 [==============================] - 4s 62us/step - loss: 0.0451 - val_loss: 0.0475\n",
      "Epoch 86/1000\n",
      "72000/72000 [==============================] - 4s 51us/step - loss: 0.0444 - val_loss: 0.0442\n",
      "Epoch 87/1000\n",
      "72000/72000 [==============================] - 4s 62us/step - loss: 0.0431 - val_loss: 0.0456\n",
      "Epoch 88/1000\n",
      "72000/72000 [==============================] - 3s 49us/step - loss: 0.0435 - val_loss: 0.0387\n",
      "Epoch 89/1000\n",
      "72000/72000 [==============================] - 3s 45us/step - loss: 0.0417 - val_loss: 0.0419\n",
      "Epoch 90/1000\n",
      "72000/72000 [==============================] - 3s 46us/step - loss: 0.0415 - val_loss: 0.0430\n",
      "Epoch 91/1000\n",
      "72000/72000 [==============================] - 4s 54us/step - loss: 0.0414 - val_loss: 0.0386\n",
      "Epoch 92/1000\n",
      "72000/72000 [==============================] - 3s 47us/step - loss: 0.0390 - val_loss: 0.0406\n",
      "Epoch 93/1000\n",
      "72000/72000 [==============================] - 3s 47us/step - loss: 0.0386 - val_loss: 0.0411\n",
      "Epoch 94/1000\n",
      "72000/72000 [==============================] - 4s 51us/step - loss: 0.0387 - val_loss: 0.0351\n",
      "Epoch 95/1000\n",
      "72000/72000 [==============================] - 3s 48us/step - loss: 0.0384 - val_loss: 0.0357\n",
      "Epoch 96/1000\n",
      "72000/72000 [==============================] - 4s 53us/step - loss: 0.0372 - val_loss: 0.0363\n",
      "Epoch 97/1000\n",
      "72000/72000 [==============================] - 4s 53us/step - loss: 0.0369 - val_loss: 0.0357\n",
      "Epoch 98/1000\n",
      "72000/72000 [==============================] - 4s 51us/step - loss: 0.0368 - val_loss: 0.0383\n",
      "Epoch 99/1000\n",
      "72000/72000 [==============================] - 4s 49us/step - loss: 0.0349 - val_loss: 0.0362\n",
      "Epoch 100/1000\n",
      "72000/72000 [==============================] - 3s 47us/step - loss: 0.0360 - val_loss: 0.0355\n",
      "Epoch 101/1000\n",
      "72000/72000 [==============================] - 3s 48us/step - loss: 0.0350 - val_loss: 0.0321\n",
      "Epoch 102/1000\n",
      "72000/72000 [==============================] - 3s 45us/step - loss: 0.0333 - val_loss: 0.0314\n",
      "Epoch 103/1000\n",
      "72000/72000 [==============================] - 4s 51us/step - loss: 0.0338 - val_loss: 0.0368\n",
      "Epoch 104/1000\n",
      "72000/72000 [==============================] - 3s 46us/step - loss: 0.0338 - val_loss: 0.0330\n",
      "Epoch 105/1000\n",
      "72000/72000 [==============================] - 3s 48us/step - loss: 0.0332 - val_loss: 0.0355\n",
      "Epoch 106/1000\n",
      "72000/72000 [==============================] - 3s 48us/step - loss: 0.0319 - val_loss: 0.0333\n",
      "Epoch 107/1000\n",
      "72000/72000 [==============================] - 3s 46us/step - loss: 0.0332 - val_loss: 0.0295\n",
      "Epoch 108/1000\n",
      "72000/72000 [==============================] - 4s 51us/step - loss: 0.0319 - val_loss: 0.0320\n",
      "Epoch 109/1000\n",
      "72000/72000 [==============================] - 3s 45us/step - loss: 0.0326 - val_loss: 0.0318\n",
      "Epoch 110/1000\n",
      "72000/72000 [==============================] - 3s 44us/step - loss: 0.0311 - val_loss: 0.0306\n",
      "Epoch 111/1000\n",
      "72000/72000 [==============================] - 4s 52us/step - loss: 0.0315 - val_loss: 0.0315\n",
      "Epoch 112/1000\n",
      "72000/72000 [==============================] - 4s 54us/step - loss: 0.0294 - val_loss: 0.0314\n",
      "Epoch 113/1000\n",
      "72000/72000 [==============================] - 3s 48us/step - loss: 0.0304 - val_loss: 0.0301\n",
      "Epoch 114/1000\n",
      "72000/72000 [==============================] - 4s 51us/step - loss: 0.0292 - val_loss: 0.0299\n",
      "Epoch 115/1000\n",
      "72000/72000 [==============================] - 4s 53us/step - loss: 0.0293 - val_loss: 0.0290\n",
      "Epoch 116/1000\n",
      "72000/72000 [==============================] - 4s 50us/step - loss: 0.0290 - val_loss: 0.0291\n",
      "Epoch 117/1000\n",
      "72000/72000 [==============================] - 3s 47us/step - loss: 0.0293 - val_loss: 0.0294\n",
      "Epoch 118/1000\n",
      "72000/72000 [==============================] - 3s 43us/step - loss: 0.0293 - val_loss: 0.0308\n",
      "Epoch 119/1000\n",
      "72000/72000 [==============================] - 4s 49us/step - loss: 0.0281 - val_loss: 0.0281\n",
      "Epoch 120/1000\n",
      "72000/72000 [==============================] - 3s 45us/step - loss: 0.0283 - val_loss: 0.0273\n",
      "Epoch 121/1000\n",
      "72000/72000 [==============================] - 3s 46us/step - loss: 0.0287 - val_loss: 0.0257\n",
      "Epoch 122/1000\n",
      "72000/72000 [==============================] - 4s 56us/step - loss: 0.0288 - val_loss: 0.0291\n",
      "Epoch 123/1000\n",
      "72000/72000 [==============================] - 4s 58us/step - loss: 0.0276 - val_loss: 0.0267\n",
      "Epoch 124/1000\n",
      "72000/72000 [==============================] - 4s 59us/step - loss: 0.0276 - val_loss: 0.0272\n",
      "Epoch 125/1000\n",
      "72000/72000 [==============================] - 4s 60us/step - loss: 0.0270 - val_loss: 0.0261\n",
      "Epoch 126/1000\n",
      "72000/72000 [==============================] - 4s 54us/step - loss: 0.0269 - val_loss: 0.0262\n",
      "Epoch 127/1000\n",
      "72000/72000 [==============================] - 4s 55us/step - loss: 0.0266 - val_loss: 0.0270\n",
      "Epoch 128/1000\n",
      "72000/72000 [==============================] - 4s 54us/step - loss: 0.0267 - val_loss: 0.0269\n",
      "Epoch 129/1000\n",
      "72000/72000 [==============================] - 4s 60us/step - loss: 0.0256 - val_loss: 0.0257\n",
      "Epoch 130/1000\n",
      "72000/72000 [==============================] - 4s 52us/step - loss: 0.0256 - val_loss: 0.0267\n",
      "Epoch 131/1000\n",
      "72000/72000 [==============================] - 4s 49us/step - loss: 0.0256 - val_loss: 0.0257\n",
      "Epoch 132/1000\n",
      "72000/72000 [==============================] - 3s 46us/step - loss: 0.0249 - val_loss: 0.0249\n",
      "Epoch 133/1000\n",
      "72000/72000 [==============================] - 3s 44us/step - loss: 0.0249 - val_loss: 0.0260\n",
      "Epoch 134/1000\n",
      "72000/72000 [==============================] - 3s 46us/step - loss: 0.0252 - val_loss: 0.0245\n",
      "Epoch 135/1000\n",
      "72000/72000 [==============================] - 3s 45us/step - loss: 0.0245 - val_loss: 0.0248\n",
      "Epoch 136/1000\n",
      "72000/72000 [==============================] - 3s 47us/step - loss: 0.0238 - val_loss: 0.0230\n",
      "Epoch 137/1000\n",
      "72000/72000 [==============================] - 3s 47us/step - loss: 0.0249 - val_loss: 0.0263\n",
      "Epoch 138/1000\n",
      "72000/72000 [==============================] - 4s 49us/step - loss: 0.0243 - val_loss: 0.0261\n",
      "Epoch 139/1000\n",
      "72000/72000 [==============================] - 4s 51us/step - loss: 0.0241 - val_loss: 0.0252\n",
      "Epoch 140/1000\n",
      "72000/72000 [==============================] - 3s 48us/step - loss: 0.0237 - val_loss: 0.0229\n",
      "Epoch 141/1000\n",
      "72000/72000 [==============================] - 4s 51us/step - loss: 0.0238 - val_loss: 0.0250\n",
      "Epoch 142/1000\n",
      "72000/72000 [==============================] - 3s 48us/step - loss: 0.0236 - val_loss: 0.0229\n",
      "Epoch 143/1000\n",
      "72000/72000 [==============================] - 3s 48us/step - loss: 0.0240 - val_loss: 0.0214\n",
      "Epoch 144/1000\n",
      "72000/72000 [==============================] - 4s 49us/step - loss: 0.0227 - val_loss: 0.0237\n",
      "Epoch 145/1000\n",
      "72000/72000 [==============================] - 4s 50us/step - loss: 0.0235 - val_loss: 0.0220\n",
      "Epoch 146/1000\n",
      "72000/72000 [==============================] - 4s 49us/step - loss: 0.0234 - val_loss: 0.0236\n",
      "Epoch 147/1000\n",
      "72000/72000 [==============================] - 4s 51us/step - loss: 0.0230 - val_loss: 0.0230\n",
      "Epoch 148/1000\n",
      "72000/72000 [==============================] - 4s 61us/step - loss: 0.0232 - val_loss: 0.0218\n",
      "Epoch 149/1000\n",
      "72000/72000 [==============================] - 4s 55us/step - loss: 0.0218 - val_loss: 0.0229\n",
      "Epoch 150/1000\n",
      "72000/72000 [==============================] - 4s 53us/step - loss: 0.0223 - val_loss: 0.0240\n",
      "Epoch 151/1000\n",
      "72000/72000 [==============================] - 4s 62us/step - loss: 0.0220 - val_loss: 0.0253\n",
      "Epoch 152/1000\n",
      "72000/72000 [==============================] - 4s 53us/step - loss: 0.0223 - val_loss: 0.0229\n"
     ]
    },
    {
     "name": "stdout",
     "output_type": "stream",
     "text": [
      "Epoch 153/1000\n",
      "72000/72000 [==============================] - 4s 62us/step - loss: 0.0225 - val_loss: 0.0208\n",
      "Epoch 154/1000\n",
      "72000/72000 [==============================] - 4s 62us/step - loss: 0.0216 - val_loss: 0.0215\n",
      "Epoch 155/1000\n",
      "72000/72000 [==============================] - 4s 57us/step - loss: 0.0215 - val_loss: 0.0225\n",
      "Epoch 156/1000\n",
      "72000/72000 [==============================] - 4s 59us/step - loss: 0.0222 - val_loss: 0.0196\n",
      "Epoch 157/1000\n",
      "72000/72000 [==============================] - 4s 60us/step - loss: 0.0219 - val_loss: 0.0202\n",
      "Epoch 158/1000\n",
      "72000/72000 [==============================] - 4s 56us/step - loss: 0.0217 - val_loss: 0.0222\n",
      "Epoch 159/1000\n",
      "72000/72000 [==============================] - 4s 50us/step - loss: 0.0209 - val_loss: 0.0207\n",
      "Epoch 160/1000\n",
      "72000/72000 [==============================] - 4s 50us/step - loss: 0.0205 - val_loss: 0.0231\n",
      "Epoch 161/1000\n",
      "72000/72000 [==============================] - 4s 50us/step - loss: 0.0210 - val_loss: 0.0223\n",
      "Epoch 162/1000\n",
      "72000/72000 [==============================] - 4s 54us/step - loss: 0.0207 - val_loss: 0.0198\n",
      "Epoch 163/1000\n",
      "72000/72000 [==============================] - 4s 55us/step - loss: 0.0200 - val_loss: 0.0215\n",
      "Epoch 164/1000\n",
      "72000/72000 [==============================] - 5s 68us/step - loss: 0.0202 - val_loss: 0.0204\n",
      "Epoch 165/1000\n",
      "72000/72000 [==============================] - 4s 58us/step - loss: 0.0196 - val_loss: 0.0207\n",
      "Epoch 166/1000\n",
      "72000/72000 [==============================] - 4s 60us/step - loss: 0.0200 - val_loss: 0.0184\n",
      "Epoch 167/1000\n",
      "72000/72000 [==============================] - 4s 57us/step - loss: 0.0201 - val_loss: 0.0212\n",
      "Epoch 168/1000\n",
      "72000/72000 [==============================] - 3s 46us/step - loss: 0.0200 - val_loss: 0.0196\n",
      "Epoch 169/1000\n",
      "72000/72000 [==============================] - 3s 46us/step - loss: 0.0193 - val_loss: 0.0212\n",
      "Epoch 170/1000\n",
      "72000/72000 [==============================] - 3s 48us/step - loss: 0.0200 - val_loss: 0.0207\n",
      "Epoch 171/1000\n",
      "72000/72000 [==============================] - 3s 46us/step - loss: 0.0196 - val_loss: 0.0173\n",
      "Epoch 172/1000\n",
      "72000/72000 [==============================] - 3s 45us/step - loss: 0.0201 - val_loss: 0.0219\n",
      "Epoch 173/1000\n",
      "72000/72000 [==============================] - 4s 56us/step - loss: 0.0193 - val_loss: 0.0181\n",
      "Epoch 174/1000\n",
      "72000/72000 [==============================] - 4s 53us/step - loss: 0.0188 - val_loss: 0.0175\n",
      "Epoch 175/1000\n",
      "72000/72000 [==============================] - 4s 53us/step - loss: 0.0195 - val_loss: 0.0176\n",
      "Epoch 176/1000\n",
      "72000/72000 [==============================] - 4s 55us/step - loss: 0.0190 - val_loss: 0.0193\n",
      "Epoch 177/1000\n",
      "72000/72000 [==============================] - 4s 51us/step - loss: 0.0186 - val_loss: 0.0185\n",
      "Epoch 178/1000\n",
      "72000/72000 [==============================] - 4s 54us/step - loss: 0.0188 - val_loss: 0.0190\n",
      "Epoch 179/1000\n",
      "72000/72000 [==============================] - 4s 53us/step - loss: 0.0186 - val_loss: 0.0191\n",
      "Epoch 180/1000\n",
      "72000/72000 [==============================] - 4s 56us/step - loss: 0.0187 - val_loss: 0.0208\n",
      "Epoch 181/1000\n",
      "72000/72000 [==============================] - 4s 53us/step - loss: 0.0185 - val_loss: 0.0195\n",
      "Epoch 182/1000\n",
      "72000/72000 [==============================] - 4s 60us/step - loss: 0.0189 - val_loss: 0.0180\n",
      "Epoch 183/1000\n",
      "72000/72000 [==============================] - 4s 58us/step - loss: 0.0186 - val_loss: 0.0177\n",
      "Epoch 184/1000\n",
      "72000/72000 [==============================] - 4s 54us/step - loss: 0.0182 - val_loss: 0.0181\n",
      "Epoch 185/1000\n",
      "72000/72000 [==============================] - 4s 57us/step - loss: 0.0186 - val_loss: 0.0172\n",
      "Epoch 186/1000\n",
      "72000/72000 [==============================] - 4s 54us/step - loss: 0.0181 - val_loss: 0.0209\n",
      "Epoch 187/1000\n",
      "72000/72000 [==============================] - 4s 52us/step - loss: 0.0183 - val_loss: 0.0177\n",
      "Epoch 188/1000\n",
      "72000/72000 [==============================] - 4s 50us/step - loss: 0.0180 - val_loss: 0.0161\n",
      "Epoch 189/1000\n",
      "72000/72000 [==============================] - 4s 50us/step - loss: 0.0185 - val_loss: 0.0173\n",
      "Epoch 190/1000\n",
      "72000/72000 [==============================] - 4s 51us/step - loss: 0.0175 - val_loss: 0.0179\n",
      "Epoch 191/1000\n",
      "72000/72000 [==============================] - 4s 49us/step - loss: 0.0177 - val_loss: 0.0186\n",
      "Epoch 192/1000\n",
      "72000/72000 [==============================] - 4s 51us/step - loss: 0.0179 - val_loss: 0.0180\n",
      "Epoch 193/1000\n",
      "72000/72000 [==============================] - 4s 50us/step - loss: 0.0176 - val_loss: 0.0175\n",
      "Epoch 194/1000\n",
      "72000/72000 [==============================] - 4s 49us/step - loss: 0.0178 - val_loss: 0.0171\n",
      "Epoch 195/1000\n",
      "72000/72000 [==============================] - 4s 50us/step - loss: 0.0172 - val_loss: 0.0159\n",
      "Epoch 196/1000\n",
      "72000/72000 [==============================] - 4s 50us/step - loss: 0.0171 - val_loss: 0.0171\n",
      "Epoch 197/1000\n",
      "72000/72000 [==============================] - 4s 49us/step - loss: 0.0171 - val_loss: 0.0179\n",
      "Epoch 198/1000\n",
      "72000/72000 [==============================] - 4s 50us/step - loss: 0.0164 - val_loss: 0.0149\n",
      "Epoch 199/1000\n",
      "72000/72000 [==============================] - 4s 50us/step - loss: 0.0179 - val_loss: 0.0196\n",
      "Epoch 200/1000\n",
      "72000/72000 [==============================] - 4s 49us/step - loss: 0.0162 - val_loss: 0.0181\n",
      "Epoch 201/1000\n",
      "72000/72000 [==============================] - 4s 49us/step - loss: 0.0163 - val_loss: 0.0192\n",
      "Epoch 202/1000\n",
      "72000/72000 [==============================] - 4s 53us/step - loss: 0.0171 - val_loss: 0.0173\n",
      "Epoch 203/1000\n",
      "72000/72000 [==============================] - 4s 56us/step - loss: 0.0158 - val_loss: 0.0164\n",
      "Epoch 204/1000\n",
      "72000/72000 [==============================] - 4s 54us/step - loss: 0.0163 - val_loss: 0.0171\n",
      "Epoch 205/1000\n",
      "72000/72000 [==============================] - 4s 54us/step - loss: 0.0166 - val_loss: 0.0171\n",
      "Epoch 206/1000\n",
      "72000/72000 [==============================] - 4s 58us/step - loss: 0.0166 - val_loss: 0.0151\n",
      "Epoch 207/1000\n",
      "72000/72000 [==============================] - 4s 50us/step - loss: 0.0169 - val_loss: 0.0159\n",
      "Epoch 208/1000\n",
      "72000/72000 [==============================] - 4s 50us/step - loss: 0.0166 - val_loss: 0.0165\n",
      "Epoch 209/1000\n",
      "72000/72000 [==============================] - 4s 50us/step - loss: 0.0163 - val_loss: 0.0177\n",
      "Epoch 210/1000\n",
      "72000/72000 [==============================] - 4s 51us/step - loss: 0.0168 - val_loss: 0.0193\n",
      "Epoch 211/1000\n",
      "72000/72000 [==============================] - 4s 56us/step - loss: 0.0156 - val_loss: 0.0185\n",
      "Epoch 212/1000\n",
      "72000/72000 [==============================] - 4s 50us/step - loss: 0.0170 - val_loss: 0.0180\n",
      "Epoch 213/1000\n",
      "72000/72000 [==============================] - 4s 53us/step - loss: 0.0159 - val_loss: 0.0150\n",
      "Epoch 214/1000\n",
      "72000/72000 [==============================] - 4s 59us/step - loss: 0.0161 - val_loss: 0.0161\n",
      "Epoch 215/1000\n",
      "72000/72000 [==============================] - 4s 62us/step - loss: 0.0152 - val_loss: 0.0143\n",
      "Epoch 216/1000\n",
      "72000/72000 [==============================] - 3s 48us/step - loss: 0.0161 - val_loss: 0.0152\n",
      "Epoch 217/1000\n",
      "72000/72000 [==============================] - 3s 45us/step - loss: 0.0158 - val_loss: 0.0139\n",
      "Epoch 218/1000\n",
      "72000/72000 [==============================] - 3s 45us/step - loss: 0.0156 - val_loss: 0.0173\n",
      "Epoch 219/1000\n",
      "72000/72000 [==============================] - 3s 45us/step - loss: 0.0160 - val_loss: 0.0157\n",
      "Epoch 220/1000\n",
      "72000/72000 [==============================] - 4s 54us/step - loss: 0.0157 - val_loss: 0.0165\n",
      "Epoch 221/1000\n",
      "72000/72000 [==============================] - 3s 45us/step - loss: 0.0157 - val_loss: 0.0143\n",
      "Epoch 222/1000\n",
      "72000/72000 [==============================] - 3s 45us/step - loss: 0.0148 - val_loss: 0.0163\n",
      "Epoch 223/1000\n",
      "72000/72000 [==============================] - 3s 45us/step - loss: 0.0148 - val_loss: 0.0154\n",
      "Epoch 224/1000\n",
      "72000/72000 [==============================] - 4s 56us/step - loss: 0.0161 - val_loss: 0.0160\n",
      "Epoch 225/1000\n",
      "72000/72000 [==============================] - 4s 57us/step - loss: 0.0156 - val_loss: 0.0163\n",
      "Epoch 226/1000\n",
      "72000/72000 [==============================] - 4s 59us/step - loss: 0.0144 - val_loss: 0.0140\n",
      "Epoch 227/1000\n",
      "72000/72000 [==============================] - 5s 64us/step - loss: 0.0162 - val_loss: 0.0131\n",
      "Epoch 228/1000\n",
      "72000/72000 [==============================] - 5s 70us/step - loss: 0.0157 - val_loss: 0.0158\n"
     ]
    },
    {
     "name": "stdout",
     "output_type": "stream",
     "text": [
      "Epoch 229/1000\n",
      "72000/72000 [==============================] - 4s 53us/step - loss: 0.0152 - val_loss: 0.0137\n",
      "Epoch 230/1000\n",
      "72000/72000 [==============================] - 3s 45us/step - loss: 0.0150 - val_loss: 0.0147\n",
      "Epoch 231/1000\n",
      "72000/72000 [==============================] - 3s 46us/step - loss: 0.0145 - val_loss: 0.0163\n",
      "Epoch 232/1000\n",
      "72000/72000 [==============================] - 3s 45us/step - loss: 0.0144 - val_loss: 0.0135\n",
      "Epoch 233/1000\n",
      "72000/72000 [==============================] - 3s 46us/step - loss: 0.0153 - val_loss: 0.0142\n",
      "Epoch 234/1000\n",
      "72000/72000 [==============================] - 3s 49us/step - loss: 0.0139 - val_loss: 0.0158\n",
      "Epoch 235/1000\n",
      "72000/72000 [==============================] - 3s 47us/step - loss: 0.0148 - val_loss: 0.0148\n",
      "Epoch 236/1000\n",
      "72000/72000 [==============================] - 3s 46us/step - loss: 0.0146 - val_loss: 0.0154\n",
      "Epoch 237/1000\n",
      "72000/72000 [==============================] - 3s 46us/step - loss: 0.0154 - val_loss: 0.0161\n",
      "Epoch 238/1000\n",
      "72000/72000 [==============================] - 3s 47us/step - loss: 0.0150 - val_loss: 0.0141\n",
      "Epoch 239/1000\n",
      "72000/72000 [==============================] - 3s 45us/step - loss: 0.0149 - val_loss: 0.0140\n",
      "Epoch 240/1000\n",
      "72000/72000 [==============================] - 3s 47us/step - loss: 0.0146 - val_loss: 0.0146\n",
      "Epoch 241/1000\n",
      "72000/72000 [==============================] - 3s 45us/step - loss: 0.0143 - val_loss: 0.0133\n",
      "Epoch 242/1000\n",
      "72000/72000 [==============================] - 3s 46us/step - loss: 0.0151 - val_loss: 0.0163\n",
      "Epoch 243/1000\n",
      "72000/72000 [==============================] - 3s 46us/step - loss: 0.0145 - val_loss: 0.0128\n",
      "Epoch 244/1000\n",
      "72000/72000 [==============================] - 3s 47us/step - loss: 0.0140 - val_loss: 0.0151\n",
      "Epoch 245/1000\n",
      "72000/72000 [==============================] - 3s 45us/step - loss: 0.0143 - val_loss: 0.0148\n",
      "Epoch 246/1000\n",
      "72000/72000 [==============================] - 3s 47us/step - loss: 0.0144 - val_loss: 0.0143\n",
      "Epoch 247/1000\n",
      "72000/72000 [==============================] - 3s 46us/step - loss: 0.0140 - val_loss: 0.0140\n",
      "Epoch 248/1000\n",
      "72000/72000 [==============================] - 3s 46us/step - loss: 0.0138 - val_loss: 0.0139\n",
      "Epoch 249/1000\n",
      "72000/72000 [==============================] - 3s 46us/step - loss: 0.0140 - val_loss: 0.0139\n",
      "Epoch 250/1000\n",
      "72000/72000 [==============================] - 3s 47us/step - loss: 0.0140 - val_loss: 0.0128\n",
      "Epoch 251/1000\n",
      "72000/72000 [==============================] - 3s 45us/step - loss: 0.0132 - val_loss: 0.0131\n",
      "Epoch 252/1000\n",
      "72000/72000 [==============================] - 3s 46us/step - loss: 0.0145 - val_loss: 0.0147\n",
      "Epoch 253/1000\n",
      "72000/72000 [==============================] - 3s 46us/step - loss: 0.0145 - val_loss: 0.0142\n",
      "Epoch 254/1000\n",
      "72000/72000 [==============================] - 3s 47us/step - loss: 0.0145 - val_loss: 0.0147\n",
      "Epoch 255/1000\n",
      "72000/72000 [==============================] - 3s 46us/step - loss: 0.0136 - val_loss: 0.0142\n",
      "Epoch 256/1000\n",
      "72000/72000 [==============================] - 3s 46us/step - loss: 0.0146 - val_loss: 0.0135\n",
      "Epoch 257/1000\n",
      "72000/72000 [==============================] - 3s 45us/step - loss: 0.0146 - val_loss: 0.0129\n",
      "Epoch 258/1000\n",
      "72000/72000 [==============================] - 3s 46us/step - loss: 0.0137 - val_loss: 0.0132\n",
      "Epoch 259/1000\n",
      "72000/72000 [==============================] - 3s 46us/step - loss: 0.0140 - val_loss: 0.0129\n",
      "Epoch 260/1000\n",
      "72000/72000 [==============================] - 3s 46us/step - loss: 0.0135 - val_loss: 0.0140\n",
      "Epoch 261/1000\n",
      "72000/72000 [==============================] - 4s 50us/step - loss: 0.0138 - val_loss: 0.0127\n",
      "Epoch 262/1000\n",
      "72000/72000 [==============================] - 4s 59us/step - loss: 0.0133 - val_loss: 0.0151\n",
      "Epoch 263/1000\n",
      "72000/72000 [==============================] - 4s 50us/step - loss: 0.0133 - val_loss: 0.0137\n",
      "Epoch 264/1000\n",
      "72000/72000 [==============================] - 4s 49us/step - loss: 0.0143 - val_loss: 0.0137\n",
      "Epoch 265/1000\n",
      "72000/72000 [==============================] - 4s 50us/step - loss: 0.0135 - val_loss: 0.0141\n",
      "Epoch 266/1000\n",
      "72000/72000 [==============================] - 4s 50us/step - loss: 0.0135 - val_loss: 0.0115\n",
      "Epoch 267/1000\n",
      "72000/72000 [==============================] - 5s 72us/step - loss: 0.0134 - val_loss: 0.0130\n",
      "Epoch 268/1000\n",
      "72000/72000 [==============================] - 4s 51us/step - loss: 0.0129 - val_loss: 0.0140\n",
      "Epoch 269/1000\n",
      "72000/72000 [==============================] - 4s 56us/step - loss: 0.0126 - val_loss: 0.0144\n",
      "Epoch 270/1000\n",
      "72000/72000 [==============================] - 6s 78us/step - loss: 0.0130 - val_loss: 0.0124\n",
      "Epoch 271/1000\n",
      "72000/72000 [==============================] - 5s 64us/step - loss: 0.0135 - val_loss: 0.0141\n",
      "Epoch 272/1000\n",
      "72000/72000 [==============================] - 4s 51us/step - loss: 0.0130 - val_loss: 0.0106\n",
      "Epoch 273/1000\n",
      "72000/72000 [==============================] - 3s 47us/step - loss: 0.0128 - val_loss: 0.0143\n",
      "Epoch 274/1000\n",
      "72000/72000 [==============================] - 3s 44us/step - loss: 0.0130 - val_loss: 0.0150\n",
      "Epoch 275/1000\n",
      "72000/72000 [==============================] - 4s 51us/step - loss: 0.0130 - val_loss: 0.0136\n",
      "Epoch 276/1000\n",
      "72000/72000 [==============================] - 3s 47us/step - loss: 0.0137 - val_loss: 0.0112\n",
      "Epoch 277/1000\n",
      "72000/72000 [==============================] - 3s 44us/step - loss: 0.0137 - val_loss: 0.0133\n",
      "Epoch 278/1000\n",
      "72000/72000 [==============================] - 3s 45us/step - loss: 0.0130 - val_loss: 0.0115\n",
      "Epoch 279/1000\n",
      "72000/72000 [==============================] - 5s 66us/step - loss: 0.0138 - val_loss: 0.0131\n",
      "Epoch 280/1000\n",
      "72000/72000 [==============================] - 3s 47us/step - loss: 0.0129 - val_loss: 0.0150\n",
      "Epoch 281/1000\n",
      "72000/72000 [==============================] - 3s 44us/step - loss: 0.0132 - val_loss: 0.0115\n",
      "Epoch 282/1000\n",
      "72000/72000 [==============================] - 3s 45us/step - loss: 0.0131 - val_loss: 0.0142\n",
      "Epoch 283/1000\n",
      "72000/72000 [==============================] - 3s 45us/step - loss: 0.0129 - val_loss: 0.0144\n",
      "Epoch 284/1000\n",
      "72000/72000 [==============================] - 3s 44us/step - loss: 0.0124 - val_loss: 0.0118\n",
      "Epoch 285/1000\n",
      "72000/72000 [==============================] - 3s 45us/step - loss: 0.0134 - val_loss: 0.0117\n",
      "Epoch 286/1000\n",
      "72000/72000 [==============================] - 3s 45us/step - loss: 0.0123 - val_loss: 0.0122\n",
      "Epoch 287/1000\n",
      "72000/72000 [==============================] - 3s 46us/step - loss: 0.0121 - val_loss: 0.0127\n",
      "Epoch 288/1000\n",
      "72000/72000 [==============================] - 4s 50us/step - loss: 0.0126 - val_loss: 0.0113\n",
      "Epoch 289/1000\n",
      "72000/72000 [==============================] - 3s 45us/step - loss: 0.0130 - val_loss: 0.0121\n",
      "Epoch 290/1000\n",
      "72000/72000 [==============================] - 3s 45us/step - loss: 0.0122 - val_loss: 0.0138\n",
      "Epoch 291/1000\n",
      "72000/72000 [==============================] - 3s 44us/step - loss: 0.0129 - val_loss: 0.0127\n",
      "Epoch 292/1000\n",
      "72000/72000 [==============================] - 3s 45us/step - loss: 0.0117 - val_loss: 0.0111\n",
      "Epoch 00292: early stopping\n"
     ]
    },
    {
     "data": {
      "text/plain": [
       "<keras.callbacks.History at 0x7f384d006c50>"
      ]
     },
     "execution_count": 107,
     "metadata": {},
     "output_type": "execute_result"
    }
   ],
   "source": [
    "autoencoder8_8_tap_3l.fit(train_data256, train_data256,\n",
    "                       epochs=1000,\n",
    "                       batch_size=1000*M,\n",
    "                       shuffle=True,\n",
    "                       validation_data=(valid_data256,\n",
    "                                        valid_data256),\n",
    "                       callbacks=[es])"
   ]
  },
  {
   "cell_type": "code",
   "execution_count": 109,
   "metadata": {
    "scrolled": true
   },
   "outputs": [
    {
     "name": "stdout",
     "output_type": "stream",
     "text": [
      "Train on 72000 samples, validate on 8000 samples\n",
      "Epoch 1/1000\n",
      "72000/72000 [==============================] - 8s 108us/step - loss: 5.5461 - val_loss: 5.5019\n",
      "Epoch 2/1000\n",
      "72000/72000 [==============================] - 5s 65us/step - loss: 5.5016 - val_loss: 5.4573\n",
      "Epoch 3/1000\n",
      "72000/72000 [==============================] - 5s 74us/step - loss: 5.4564 - val_loss: 5.4106\n",
      "Epoch 4/1000\n",
      "72000/72000 [==============================] - 5s 68us/step - loss: 5.4106 - val_loss: 5.3554\n",
      "Epoch 5/1000\n",
      "72000/72000 [==============================] - 6s 85us/step - loss: 5.3551 - val_loss: 5.2943\n",
      "Epoch 6/1000\n",
      "72000/72000 [==============================] - 4s 57us/step - loss: 5.2936 - val_loss: 5.2225\n",
      "Epoch 7/1000\n",
      "72000/72000 [==============================] - 4s 55us/step - loss: 5.2227 - val_loss: 5.1443\n",
      "Epoch 8/1000\n",
      "72000/72000 [==============================] - 4s 53us/step - loss: 5.1433 - val_loss: 5.0520\n",
      "Epoch 9/1000\n",
      "72000/72000 [==============================] - 4s 53us/step - loss: 5.0507 - val_loss: 4.9468\n",
      "Epoch 10/1000\n",
      "72000/72000 [==============================] - 4s 52us/step - loss: 4.9452 - val_loss: 4.8278\n",
      "Epoch 11/1000\n",
      "72000/72000 [==============================] - 5s 65us/step - loss: 4.8269 - val_loss: 4.6975\n",
      "Epoch 12/1000\n",
      "72000/72000 [==============================] - 4s 60us/step - loss: 4.6962 - val_loss: 4.5524\n",
      "Epoch 13/1000\n",
      "72000/72000 [==============================] - 5s 68us/step - loss: 4.5517 - val_loss: 4.4003\n",
      "Epoch 14/1000\n",
      "72000/72000 [==============================] - 6s 77us/step - loss: 4.3971 - val_loss: 4.2375\n",
      "Epoch 15/1000\n",
      "72000/72000 [==============================] - 5s 70us/step - loss: 4.2308 - val_loss: 4.0604\n",
      "Epoch 16/1000\n",
      "72000/72000 [==============================] - 4s 59us/step - loss: 4.0561 - val_loss: 3.8796\n",
      "Epoch 17/1000\n",
      "72000/72000 [==============================] - 4s 61us/step - loss: 3.8748 - val_loss: 3.6983\n",
      "Epoch 18/1000\n",
      "72000/72000 [==============================] - 5s 68us/step - loss: 3.6901 - val_loss: 3.5146\n",
      "Epoch 19/1000\n",
      "72000/72000 [==============================] - 5s 67us/step - loss: 3.5077 - val_loss: 3.3316\n",
      "Epoch 20/1000\n",
      "72000/72000 [==============================] - 5s 71us/step - loss: 3.3240 - val_loss: 3.1453\n",
      "Epoch 21/1000\n",
      "72000/72000 [==============================] - 4s 62us/step - loss: 3.1334 - val_loss: 2.9493\n",
      "Epoch 22/1000\n",
      "72000/72000 [==============================] - 5s 66us/step - loss: 2.9372 - val_loss: 2.7408\n",
      "Epoch 23/1000\n",
      "72000/72000 [==============================] - 5s 71us/step - loss: 2.7295 - val_loss: 2.5557\n",
      "Epoch 24/1000\n",
      "72000/72000 [==============================] - 5s 73us/step - loss: 2.5467 - val_loss: 2.3630\n",
      "Epoch 25/1000\n",
      "72000/72000 [==============================] - 5s 74us/step - loss: 2.3493 - val_loss: 2.1817\n",
      "Epoch 26/1000\n",
      "72000/72000 [==============================] - 5s 75us/step - loss: 2.1711 - val_loss: 1.9918\n",
      "Epoch 27/1000\n",
      "72000/72000 [==============================] - 4s 54us/step - loss: 1.9849 - val_loss: 1.8317\n",
      "Epoch 28/1000\n",
      "72000/72000 [==============================] - 4s 53us/step - loss: 1.8229 - val_loss: 1.6482\n",
      "Epoch 29/1000\n",
      "72000/72000 [==============================] - 4s 54us/step - loss: 1.6471 - val_loss: 1.4984\n",
      "Epoch 30/1000\n",
      "72000/72000 [==============================] - 4s 54us/step - loss: 1.5044 - val_loss: 1.3435\n",
      "Epoch 31/1000\n",
      "72000/72000 [==============================] - 4s 53us/step - loss: 1.3543 - val_loss: 1.2162\n",
      "Epoch 32/1000\n",
      "72000/72000 [==============================] - 4s 54us/step - loss: 1.2275 - val_loss: 1.0942\n",
      "Epoch 33/1000\n",
      "72000/72000 [==============================] - 4s 54us/step - loss: 1.0971 - val_loss: 0.9855\n",
      "Epoch 34/1000\n",
      "72000/72000 [==============================] - 4s 56us/step - loss: 0.9877 - val_loss: 0.8818\n",
      "Epoch 35/1000\n",
      "72000/72000 [==============================] - 4s 53us/step - loss: 0.8810 - val_loss: 0.8011\n",
      "Epoch 36/1000\n",
      "72000/72000 [==============================] - 4s 55us/step - loss: 0.7912 - val_loss: 0.7050\n",
      "Epoch 37/1000\n",
      "72000/72000 [==============================] - 4s 54us/step - loss: 0.7042 - val_loss: 0.6317\n",
      "Epoch 38/1000\n",
      "72000/72000 [==============================] - 4s 53us/step - loss: 0.6276 - val_loss: 0.5700\n",
      "Epoch 39/1000\n",
      "72000/72000 [==============================] - 4s 53us/step - loss: 0.5676 - val_loss: 0.5061\n",
      "Epoch 40/1000\n",
      "72000/72000 [==============================] - 4s 53us/step - loss: 0.5029 - val_loss: 0.4497\n",
      "Epoch 41/1000\n",
      "72000/72000 [==============================] - 4s 54us/step - loss: 0.4501 - val_loss: 0.4022\n",
      "Epoch 42/1000\n",
      "72000/72000 [==============================] - 4s 53us/step - loss: 0.4019 - val_loss: 0.3619\n",
      "Epoch 43/1000\n",
      "72000/72000 [==============================] - 4s 54us/step - loss: 0.3645 - val_loss: 0.3222\n",
      "Epoch 44/1000\n",
      "72000/72000 [==============================] - 4s 53us/step - loss: 0.3263 - val_loss: 0.3049\n",
      "Epoch 45/1000\n",
      "72000/72000 [==============================] - 4s 54us/step - loss: 0.3026 - val_loss: 0.2651\n",
      "Epoch 46/1000\n",
      "72000/72000 [==============================] - 4s 54us/step - loss: 0.2707 - val_loss: 0.2529\n",
      "Epoch 47/1000\n",
      "72000/72000 [==============================] - 4s 53us/step - loss: 0.2512 - val_loss: 0.2295\n",
      "Epoch 48/1000\n",
      "72000/72000 [==============================] - 4s 54us/step - loss: 0.2262 - val_loss: 0.2128\n",
      "Epoch 49/1000\n",
      "72000/72000 [==============================] - 4s 53us/step - loss: 0.2094 - val_loss: 0.1941\n",
      "Epoch 50/1000\n",
      "72000/72000 [==============================] - 4s 53us/step - loss: 0.1928 - val_loss: 0.1787\n",
      "Epoch 51/1000\n",
      "72000/72000 [==============================] - 4s 54us/step - loss: 0.1811 - val_loss: 0.1667\n",
      "Epoch 52/1000\n",
      "72000/72000 [==============================] - 4s 56us/step - loss: 0.1694 - val_loss: 0.1551\n",
      "Epoch 53/1000\n",
      "72000/72000 [==============================] - 4s 60us/step - loss: 0.1576 - val_loss: 0.1474\n",
      "Epoch 54/1000\n",
      "72000/72000 [==============================] - 4s 60us/step - loss: 0.1490 - val_loss: 0.1335\n",
      "Epoch 55/1000\n",
      "72000/72000 [==============================] - 4s 60us/step - loss: 0.1419 - val_loss: 0.1296\n",
      "Epoch 56/1000\n",
      "72000/72000 [==============================] - 4s 60us/step - loss: 0.1327 - val_loss: 0.1314\n",
      "Epoch 57/1000\n",
      "72000/72000 [==============================] - 5s 68us/step - loss: 0.1253 - val_loss: 0.1155\n",
      "Epoch 58/1000\n",
      "72000/72000 [==============================] - 4s 53us/step - loss: 0.1169 - val_loss: 0.1129\n",
      "Epoch 59/1000\n",
      "72000/72000 [==============================] - 4s 52us/step - loss: 0.1130 - val_loss: 0.1025\n",
      "Epoch 60/1000\n",
      "72000/72000 [==============================] - 4s 52us/step - loss: 0.1085 - val_loss: 0.1017\n",
      "Epoch 61/1000\n",
      "72000/72000 [==============================] - 4s 53us/step - loss: 0.1054 - val_loss: 0.1000\n",
      "Epoch 62/1000\n",
      "72000/72000 [==============================] - 4s 52us/step - loss: 0.0990 - val_loss: 0.0896\n",
      "Epoch 63/1000\n",
      "72000/72000 [==============================] - 4s 52us/step - loss: 0.0955 - val_loss: 0.0943\n",
      "Epoch 64/1000\n",
      "72000/72000 [==============================] - 5s 63us/step - loss: 0.0916 - val_loss: 0.0846\n",
      "Epoch 65/1000\n",
      "72000/72000 [==============================] - 4s 52us/step - loss: 0.0877 - val_loss: 0.0846\n",
      "Epoch 66/1000\n",
      "72000/72000 [==============================] - 4s 61us/step - loss: 0.0872 - val_loss: 0.0851\n",
      "Epoch 67/1000\n",
      "72000/72000 [==============================] - 5s 70us/step - loss: 0.0816 - val_loss: 0.0882\n",
      "Epoch 68/1000\n",
      "72000/72000 [==============================] - 5s 69us/step - loss: 0.0803 - val_loss: 0.0739\n",
      "Epoch 69/1000\n",
      "72000/72000 [==============================] - 5s 70us/step - loss: 0.0783 - val_loss: 0.0777\n",
      "Epoch 70/1000\n",
      "72000/72000 [==============================] - 5s 72us/step - loss: 0.0768 - val_loss: 0.0726\n",
      "Epoch 71/1000\n",
      "72000/72000 [==============================] - 4s 57us/step - loss: 0.0732 - val_loss: 0.0660\n",
      "Epoch 72/1000\n",
      "72000/72000 [==============================] - 4s 62us/step - loss: 0.0691 - val_loss: 0.0675\n",
      "Epoch 73/1000\n",
      "72000/72000 [==============================] - 5s 74us/step - loss: 0.0689 - val_loss: 0.0710\n",
      "Epoch 74/1000\n",
      "72000/72000 [==============================] - 5s 66us/step - loss: 0.0661 - val_loss: 0.0679\n",
      "Epoch 75/1000\n",
      "72000/72000 [==============================] - 5s 73us/step - loss: 0.0654 - val_loss: 0.0658\n",
      "Epoch 76/1000\n",
      "72000/72000 [==============================] - 5s 66us/step - loss: 0.0619 - val_loss: 0.0658\n"
     ]
    },
    {
     "name": "stdout",
     "output_type": "stream",
     "text": [
      "Epoch 77/1000\n",
      "72000/72000 [==============================] - 4s 59us/step - loss: 0.0618 - val_loss: 0.0613\n",
      "Epoch 78/1000\n",
      "72000/72000 [==============================] - 4s 52us/step - loss: 0.0625 - val_loss: 0.0564\n",
      "Epoch 79/1000\n",
      "72000/72000 [==============================] - 5s 63us/step - loss: 0.0593 - val_loss: 0.0681\n",
      "Epoch 80/1000\n",
      "72000/72000 [==============================] - 5s 68us/step - loss: 0.0561 - val_loss: 0.0566\n",
      "Epoch 81/1000\n",
      "72000/72000 [==============================] - 5s 69us/step - loss: 0.0559 - val_loss: 0.0539\n",
      "Epoch 82/1000\n",
      "72000/72000 [==============================] - 4s 53us/step - loss: 0.0584 - val_loss: 0.0560\n",
      "Epoch 83/1000\n",
      "72000/72000 [==============================] - 4s 53us/step - loss: 0.0542 - val_loss: 0.0515\n",
      "Epoch 84/1000\n",
      "72000/72000 [==============================] - 4s 53us/step - loss: 0.0538 - val_loss: 0.0510\n",
      "Epoch 85/1000\n",
      "72000/72000 [==============================] - 4s 53us/step - loss: 0.0526 - val_loss: 0.0500\n",
      "Epoch 86/1000\n",
      "72000/72000 [==============================] - 4s 53us/step - loss: 0.0511 - val_loss: 0.0516\n",
      "Epoch 87/1000\n",
      "72000/72000 [==============================] - 4s 53us/step - loss: 0.0487 - val_loss: 0.0477\n",
      "Epoch 88/1000\n",
      "72000/72000 [==============================] - 4s 52us/step - loss: 0.0484 - val_loss: 0.0499\n",
      "Epoch 89/1000\n",
      "72000/72000 [==============================] - 4s 53us/step - loss: 0.0476 - val_loss: 0.0454\n",
      "Epoch 90/1000\n",
      "72000/72000 [==============================] - 4s 53us/step - loss: 0.0462 - val_loss: 0.0481\n",
      "Epoch 91/1000\n",
      "72000/72000 [==============================] - 4s 55us/step - loss: 0.0449 - val_loss: 0.0436\n",
      "Epoch 92/1000\n",
      "72000/72000 [==============================] - 4s 54us/step - loss: 0.0438 - val_loss: 0.0416\n",
      "Epoch 93/1000\n",
      "72000/72000 [==============================] - 4s 53us/step - loss: 0.0442 - val_loss: 0.0470\n",
      "Epoch 94/1000\n",
      "72000/72000 [==============================] - 4s 53us/step - loss: 0.0438 - val_loss: 0.0475\n",
      "Epoch 95/1000\n",
      "72000/72000 [==============================] - 5s 65us/step - loss: 0.0427 - val_loss: 0.0412\n",
      "Epoch 96/1000\n",
      "72000/72000 [==============================] - 4s 55us/step - loss: 0.0410 - val_loss: 0.0467\n",
      "Epoch 97/1000\n",
      "72000/72000 [==============================] - 4s 53us/step - loss: 0.0417 - val_loss: 0.0468\n",
      "Epoch 98/1000\n",
      "72000/72000 [==============================] - 4s 53us/step - loss: 0.0397 - val_loss: 0.0367\n",
      "Epoch 99/1000\n",
      "72000/72000 [==============================] - 4s 53us/step - loss: 0.0383 - val_loss: 0.0376\n",
      "Epoch 100/1000\n",
      "72000/72000 [==============================] - 4s 52us/step - loss: 0.0394 - val_loss: 0.0415\n",
      "Epoch 101/1000\n",
      "72000/72000 [==============================] - 4s 53us/step - loss: 0.0385 - val_loss: 0.0373\n",
      "Epoch 102/1000\n",
      "72000/72000 [==============================] - 4s 53us/step - loss: 0.0395 - val_loss: 0.0347\n",
      "Epoch 103/1000\n",
      "72000/72000 [==============================] - 4s 53us/step - loss: 0.0382 - val_loss: 0.0388\n",
      "Epoch 104/1000\n",
      "72000/72000 [==============================] - 4s 53us/step - loss: 0.0373 - val_loss: 0.0385\n",
      "Epoch 105/1000\n",
      "72000/72000 [==============================] - 4s 54us/step - loss: 0.0369 - val_loss: 0.0331\n",
      "Epoch 106/1000\n",
      "72000/72000 [==============================] - 4s 53us/step - loss: 0.0354 - val_loss: 0.0326\n",
      "Epoch 107/1000\n",
      "72000/72000 [==============================] - 4s 53us/step - loss: 0.0358 - val_loss: 0.0358\n",
      "Epoch 108/1000\n",
      "72000/72000 [==============================] - 4s 53us/step - loss: 0.0356 - val_loss: 0.0367\n",
      "Epoch 109/1000\n",
      "72000/72000 [==============================] - 4s 53us/step - loss: 0.0352 - val_loss: 0.0318\n",
      "Epoch 110/1000\n",
      "72000/72000 [==============================] - 4s 53us/step - loss: 0.0343 - val_loss: 0.0381\n",
      "Epoch 111/1000\n",
      "72000/72000 [==============================] - 4s 53us/step - loss: 0.0342 - val_loss: 0.0312\n",
      "Epoch 112/1000\n",
      "72000/72000 [==============================] - 4s 53us/step - loss: 0.0331 - val_loss: 0.0334\n",
      "Epoch 113/1000\n",
      "72000/72000 [==============================] - 4s 53us/step - loss: 0.0327 - val_loss: 0.0307\n",
      "Epoch 114/1000\n",
      "72000/72000 [==============================] - 4s 52us/step - loss: 0.0323 - val_loss: 0.0297\n",
      "Epoch 115/1000\n",
      "72000/72000 [==============================] - 4s 54us/step - loss: 0.0304 - val_loss: 0.0325\n",
      "Epoch 116/1000\n",
      "72000/72000 [==============================] - 4s 52us/step - loss: 0.0319 - val_loss: 0.0337\n",
      "Epoch 117/1000\n",
      "72000/72000 [==============================] - 4s 53us/step - loss: 0.0315 - val_loss: 0.0302\n",
      "Epoch 118/1000\n",
      "72000/72000 [==============================] - 4s 53us/step - loss: 0.0306 - val_loss: 0.0308\n",
      "Epoch 119/1000\n",
      "72000/72000 [==============================] - 4s 54us/step - loss: 0.0301 - val_loss: 0.0294\n",
      "Epoch 120/1000\n",
      "72000/72000 [==============================] - 4s 52us/step - loss: 0.0300 - val_loss: 0.0311\n",
      "Epoch 121/1000\n",
      "72000/72000 [==============================] - 4s 53us/step - loss: 0.0291 - val_loss: 0.0295\n",
      "Epoch 122/1000\n",
      "72000/72000 [==============================] - 4s 54us/step - loss: 0.0300 - val_loss: 0.0301\n",
      "Epoch 123/1000\n",
      "72000/72000 [==============================] - 4s 55us/step - loss: 0.0295 - val_loss: 0.0287\n",
      "Epoch 124/1000\n",
      "72000/72000 [==============================] - 4s 52us/step - loss: 0.0286 - val_loss: 0.0293\n",
      "Epoch 125/1000\n",
      "72000/72000 [==============================] - 4s 53us/step - loss: 0.0277 - val_loss: 0.0276\n",
      "Epoch 126/1000\n",
      "72000/72000 [==============================] - 4s 53us/step - loss: 0.0297 - val_loss: 0.0297\n",
      "Epoch 127/1000\n",
      "72000/72000 [==============================] - 4s 53us/step - loss: 0.0277 - val_loss: 0.0319\n",
      "Epoch 128/1000\n",
      "72000/72000 [==============================] - 4s 53us/step - loss: 0.0272 - val_loss: 0.0262\n",
      "Epoch 129/1000\n",
      "72000/72000 [==============================] - 4s 53us/step - loss: 0.0279 - val_loss: 0.0260\n",
      "Epoch 130/1000\n",
      "72000/72000 [==============================] - 4s 52us/step - loss: 0.0265 - val_loss: 0.0240\n",
      "Epoch 131/1000\n",
      "72000/72000 [==============================] - 4s 53us/step - loss: 0.0277 - val_loss: 0.0290\n",
      "Epoch 132/1000\n",
      "72000/72000 [==============================] - 4s 52us/step - loss: 0.0259 - val_loss: 0.0262\n",
      "Epoch 133/1000\n",
      "72000/72000 [==============================] - 4s 53us/step - loss: 0.0266 - val_loss: 0.0276\n",
      "Epoch 134/1000\n",
      "72000/72000 [==============================] - 4s 53us/step - loss: 0.0245 - val_loss: 0.0220\n",
      "Epoch 135/1000\n",
      "72000/72000 [==============================] - 4s 53us/step - loss: 0.0261 - val_loss: 0.0236\n",
      "Epoch 136/1000\n",
      "72000/72000 [==============================] - 4s 53us/step - loss: 0.0261 - val_loss: 0.0250\n",
      "Epoch 137/1000\n",
      "72000/72000 [==============================] - 4s 53us/step - loss: 0.0257 - val_loss: 0.0224\n",
      "Epoch 138/1000\n",
      "72000/72000 [==============================] - 4s 53us/step - loss: 0.0255 - val_loss: 0.0237\n",
      "Epoch 139/1000\n",
      "72000/72000 [==============================] - 4s 53us/step - loss: 0.0256 - val_loss: 0.0237\n",
      "Epoch 140/1000\n",
      "72000/72000 [==============================] - 4s 59us/step - loss: 0.0249 - val_loss: 0.0266\n",
      "Epoch 141/1000\n",
      "72000/72000 [==============================] - 4s 62us/step - loss: 0.0251 - val_loss: 0.0216\n",
      "Epoch 142/1000\n",
      "72000/72000 [==============================] - 5s 68us/step - loss: 0.0247 - val_loss: 0.0243\n",
      "Epoch 143/1000\n",
      "72000/72000 [==============================] - 4s 57us/step - loss: 0.0249 - val_loss: 0.0222\n",
      "Epoch 144/1000\n",
      "72000/72000 [==============================] - 4s 54us/step - loss: 0.0254 - val_loss: 0.0236\n",
      "Epoch 145/1000\n",
      "72000/72000 [==============================] - 4s 52us/step - loss: 0.0236 - val_loss: 0.0222\n",
      "Epoch 146/1000\n",
      "72000/72000 [==============================] - 4s 53us/step - loss: 0.0238 - val_loss: 0.0213\n",
      "Epoch 147/1000\n",
      "72000/72000 [==============================] - 4s 59us/step - loss: 0.0241 - val_loss: 0.0217\n",
      "Epoch 148/1000\n",
      "72000/72000 [==============================] - 5s 71us/step - loss: 0.0233 - val_loss: 0.0182\n",
      "Epoch 149/1000\n",
      "72000/72000 [==============================] - 5s 72us/step - loss: 0.0222 - val_loss: 0.0238\n",
      "Epoch 150/1000\n",
      "72000/72000 [==============================] - 4s 55us/step - loss: 0.0219 - val_loss: 0.0206\n",
      "Epoch 151/1000\n",
      "72000/72000 [==============================] - 4s 57us/step - loss: 0.0222 - val_loss: 0.0252\n",
      "Epoch 152/1000\n",
      "72000/72000 [==============================] - 5s 71us/step - loss: 0.0227 - val_loss: 0.0221\n"
     ]
    },
    {
     "name": "stdout",
     "output_type": "stream",
     "text": [
      "Epoch 153/1000\n",
      "72000/72000 [==============================] - 4s 57us/step - loss: 0.0223 - val_loss: 0.0233\n",
      "Epoch 154/1000\n",
      "72000/72000 [==============================] - 4s 53us/step - loss: 0.0215 - val_loss: 0.0239\n",
      "Epoch 155/1000\n",
      "72000/72000 [==============================] - 4s 53us/step - loss: 0.0210 - val_loss: 0.0214\n",
      "Epoch 156/1000\n",
      "72000/72000 [==============================] - 4s 53us/step - loss: 0.0230 - val_loss: 0.0196\n",
      "Epoch 157/1000\n",
      "72000/72000 [==============================] - 4s 53us/step - loss: 0.0213 - val_loss: 0.0201\n",
      "Epoch 158/1000\n",
      "72000/72000 [==============================] - 4s 53us/step - loss: 0.0210 - val_loss: 0.0211\n",
      "Epoch 159/1000\n",
      "72000/72000 [==============================] - 4s 53us/step - loss: 0.0223 - val_loss: 0.0207\n",
      "Epoch 160/1000\n",
      "72000/72000 [==============================] - 4s 56us/step - loss: 0.0210 - val_loss: 0.0204\n",
      "Epoch 161/1000\n",
      "72000/72000 [==============================] - 4s 58us/step - loss: 0.0217 - val_loss: 0.0218\n",
      "Epoch 162/1000\n",
      "72000/72000 [==============================] - 4s 62us/step - loss: 0.0212 - val_loss: 0.0181\n",
      "Epoch 163/1000\n",
      "72000/72000 [==============================] - 4s 62us/step - loss: 0.0201 - val_loss: 0.0197\n",
      "Epoch 164/1000\n",
      "72000/72000 [==============================] - 6s 77us/step - loss: 0.0202 - val_loss: 0.0223\n",
      "Epoch 165/1000\n",
      "72000/72000 [==============================] - 5s 70us/step - loss: 0.0193 - val_loss: 0.0185\n",
      "Epoch 166/1000\n",
      "72000/72000 [==============================] - 5s 68us/step - loss: 0.0193 - val_loss: 0.0207\n",
      "Epoch 167/1000\n",
      "72000/72000 [==============================] - 5s 72us/step - loss: 0.0205 - val_loss: 0.0211\n",
      "Epoch 168/1000\n",
      "72000/72000 [==============================] - 5s 71us/step - loss: 0.0197 - val_loss: 0.0185\n",
      "Epoch 169/1000\n",
      "72000/72000 [==============================] - 5s 67us/step - loss: 0.0202 - val_loss: 0.0186\n",
      "Epoch 170/1000\n",
      "72000/72000 [==============================] - 5s 70us/step - loss: 0.0192 - val_loss: 0.0161\n",
      "Epoch 171/1000\n",
      "72000/72000 [==============================] - 4s 55us/step - loss: 0.0189 - val_loss: 0.0182\n",
      "Epoch 172/1000\n",
      "72000/72000 [==============================] - 4s 53us/step - loss: 0.0185 - val_loss: 0.0195\n",
      "Epoch 173/1000\n",
      "72000/72000 [==============================] - 4s 58us/step - loss: 0.0196 - val_loss: 0.0207\n",
      "Epoch 174/1000\n",
      "72000/72000 [==============================] - 4s 55us/step - loss: 0.0187 - val_loss: 0.0189\n",
      "Epoch 175/1000\n",
      "72000/72000 [==============================] - 4s 54us/step - loss: 0.0184 - val_loss: 0.0187\n",
      "Epoch 176/1000\n",
      "72000/72000 [==============================] - 5s 65us/step - loss: 0.0185 - val_loss: 0.0213\n",
      "Epoch 177/1000\n",
      "72000/72000 [==============================] - 4s 53us/step - loss: 0.0183 - val_loss: 0.0207\n",
      "Epoch 178/1000\n",
      "72000/72000 [==============================] - 4s 53us/step - loss: 0.0190 - val_loss: 0.0159\n",
      "Epoch 179/1000\n",
      "72000/72000 [==============================] - 4s 52us/step - loss: 0.0179 - val_loss: 0.0209\n",
      "Epoch 180/1000\n",
      "72000/72000 [==============================] - 4s 56us/step - loss: 0.0185 - val_loss: 0.0164\n",
      "Epoch 181/1000\n",
      "72000/72000 [==============================] - 4s 54us/step - loss: 0.0192 - val_loss: 0.0183\n",
      "Epoch 182/1000\n",
      "72000/72000 [==============================] - 4s 52us/step - loss: 0.0180 - val_loss: 0.0164\n",
      "Epoch 183/1000\n",
      "72000/72000 [==============================] - 4s 53us/step - loss: 0.0171 - val_loss: 0.0183\n",
      "Epoch 184/1000\n",
      "72000/72000 [==============================] - 4s 53us/step - loss: 0.0176 - val_loss: 0.0193\n",
      "Epoch 185/1000\n",
      "72000/72000 [==============================] - 4s 53us/step - loss: 0.0178 - val_loss: 0.0176\n",
      "Epoch 186/1000\n",
      "72000/72000 [==============================] - 4s 53us/step - loss: 0.0166 - val_loss: 0.0165\n",
      "Epoch 187/1000\n",
      "72000/72000 [==============================] - 5s 63us/step - loss: 0.0176 - val_loss: 0.0184\n",
      "Epoch 188/1000\n",
      "72000/72000 [==============================] - 4s 58us/step - loss: 0.0169 - val_loss: 0.0180\n",
      "Epoch 189/1000\n",
      "72000/72000 [==============================] - 5s 63us/step - loss: 0.0176 - val_loss: 0.0203\n",
      "Epoch 190/1000\n",
      "72000/72000 [==============================] - 5s 71us/step - loss: 0.0167 - val_loss: 0.0194\n",
      "Epoch 191/1000\n",
      "72000/72000 [==============================] - 4s 60us/step - loss: 0.0164 - val_loss: 0.0188\n",
      "Epoch 192/1000\n",
      "72000/72000 [==============================] - 4s 57us/step - loss: 0.0179 - val_loss: 0.0174\n",
      "Epoch 193/1000\n",
      "72000/72000 [==============================] - 5s 72us/step - loss: 0.0167 - val_loss: 0.0179\n",
      "Epoch 194/1000\n",
      "72000/72000 [==============================] - 4s 57us/step - loss: 0.0176 - val_loss: 0.0141\n",
      "Epoch 195/1000\n",
      "72000/72000 [==============================] - 4s 54us/step - loss: 0.0161 - val_loss: 0.0157\n",
      "Epoch 196/1000\n",
      "72000/72000 [==============================] - 4s 61us/step - loss: 0.0166 - val_loss: 0.0186\n",
      "Epoch 197/1000\n",
      "72000/72000 [==============================] - 4s 57us/step - loss: 0.0161 - val_loss: 0.0162\n",
      "Epoch 198/1000\n",
      "72000/72000 [==============================] - 4s 55us/step - loss: 0.0175 - val_loss: 0.0132\n",
      "Epoch 199/1000\n",
      "72000/72000 [==============================] - 5s 68us/step - loss: 0.0166 - val_loss: 0.0171\n",
      "Epoch 200/1000\n",
      "72000/72000 [==============================] - 4s 59us/step - loss: 0.0159 - val_loss: 0.0173\n",
      "Epoch 201/1000\n",
      "72000/72000 [==============================] - 4s 59us/step - loss: 0.0162 - val_loss: 0.0129\n",
      "Epoch 202/1000\n",
      "72000/72000 [==============================] - 4s 53us/step - loss: 0.0150 - val_loss: 0.0170\n",
      "Epoch 203/1000\n",
      "72000/72000 [==============================] - 4s 58us/step - loss: 0.0162 - val_loss: 0.0166\n",
      "Epoch 204/1000\n",
      "72000/72000 [==============================] - 4s 56us/step - loss: 0.0154 - val_loss: 0.0148\n",
      "Epoch 205/1000\n",
      "72000/72000 [==============================] - 4s 57us/step - loss: 0.0152 - val_loss: 0.0146\n",
      "Epoch 206/1000\n",
      "72000/72000 [==============================] - 4s 60us/step - loss: 0.0155 - val_loss: 0.0169\n",
      "Epoch 207/1000\n",
      "72000/72000 [==============================] - 4s 55us/step - loss: 0.0155 - val_loss: 0.0168\n",
      "Epoch 208/1000\n",
      "72000/72000 [==============================] - 4s 59us/step - loss: 0.0173 - val_loss: 0.0138\n",
      "Epoch 209/1000\n",
      "72000/72000 [==============================] - 5s 63us/step - loss: 0.0152 - val_loss: 0.0153\n",
      "Epoch 210/1000\n",
      "72000/72000 [==============================] - 4s 60us/step - loss: 0.0154 - val_loss: 0.0176\n",
      "Epoch 211/1000\n",
      "72000/72000 [==============================] - 5s 63us/step - loss: 0.0156 - val_loss: 0.0134\n",
      "Epoch 212/1000\n",
      "72000/72000 [==============================] - 5s 75us/step - loss: 0.0156 - val_loss: 0.0149\n",
      "Epoch 213/1000\n",
      "72000/72000 [==============================] - 6s 85us/step - loss: 0.0146 - val_loss: 0.0159\n",
      "Epoch 214/1000\n",
      "72000/72000 [==============================] - 5s 70us/step - loss: 0.0151 - val_loss: 0.0141\n",
      "Epoch 215/1000\n",
      "72000/72000 [==============================] - 4s 60us/step - loss: 0.0152 - val_loss: 0.0141\n",
      "Epoch 216/1000\n",
      "72000/72000 [==============================] - 4s 53us/step - loss: 0.0154 - val_loss: 0.0153\n",
      "Epoch 217/1000\n",
      "72000/72000 [==============================] - 4s 52us/step - loss: 0.0165 - val_loss: 0.0155\n",
      "Epoch 218/1000\n",
      "72000/72000 [==============================] - 4s 54us/step - loss: 0.0147 - val_loss: 0.0145\n",
      "Epoch 219/1000\n",
      "72000/72000 [==============================] - 4s 52us/step - loss: 0.0148 - val_loss: 0.0140\n",
      "Epoch 220/1000\n",
      "72000/72000 [==============================] - 4s 53us/step - loss: 0.0154 - val_loss: 0.0118\n",
      "Epoch 221/1000\n",
      "72000/72000 [==============================] - 4s 61us/step - loss: 0.0142 - val_loss: 0.0127\n",
      "Epoch 222/1000\n",
      "72000/72000 [==============================] - 4s 54us/step - loss: 0.0151 - val_loss: 0.0148\n",
      "Epoch 223/1000\n",
      "72000/72000 [==============================] - 4s 55us/step - loss: 0.0147 - val_loss: 0.0171\n",
      "Epoch 224/1000\n",
      "72000/72000 [==============================] - 4s 61us/step - loss: 0.0152 - val_loss: 0.0130\n",
      "Epoch 225/1000\n",
      "72000/72000 [==============================] - 4s 55us/step - loss: 0.0136 - val_loss: 0.0122\n",
      "Epoch 226/1000\n",
      "72000/72000 [==============================] - 5s 65us/step - loss: 0.0149 - val_loss: 0.0152\n",
      "Epoch 227/1000\n",
      "72000/72000 [==============================] - 4s 53us/step - loss: 0.0141 - val_loss: 0.0133\n",
      "Epoch 228/1000\n",
      "72000/72000 [==============================] - 4s 53us/step - loss: 0.0144 - val_loss: 0.0132\n"
     ]
    },
    {
     "name": "stdout",
     "output_type": "stream",
     "text": [
      "Epoch 229/1000\n",
      "72000/72000 [==============================] - 5s 68us/step - loss: 0.0147 - val_loss: 0.0172\n",
      "Epoch 230/1000\n",
      "72000/72000 [==============================] - 5s 75us/step - loss: 0.0136 - val_loss: 0.0165\n",
      "Epoch 231/1000\n",
      "72000/72000 [==============================] - 5s 69us/step - loss: 0.0150 - val_loss: 0.0147\n",
      "Epoch 232/1000\n",
      "72000/72000 [==============================] - 4s 55us/step - loss: 0.0145 - val_loss: 0.0186\n",
      "Epoch 233/1000\n",
      "72000/72000 [==============================] - 4s 55us/step - loss: 0.0145 - val_loss: 0.0135\n",
      "Epoch 234/1000\n",
      "72000/72000 [==============================] - 4s 57us/step - loss: 0.0146 - val_loss: 0.0144\n",
      "Epoch 235/1000\n",
      "72000/72000 [==============================] - 4s 59us/step - loss: 0.0144 - val_loss: 0.0158\n",
      "Epoch 236/1000\n",
      "72000/72000 [==============================] - 4s 54us/step - loss: 0.0138 - val_loss: 0.0145\n",
      "Epoch 237/1000\n",
      "72000/72000 [==============================] - 4s 55us/step - loss: 0.0144 - val_loss: 0.0131\n",
      "Epoch 238/1000\n",
      "72000/72000 [==============================] - 4s 59us/step - loss: 0.0140 - val_loss: 0.0104\n",
      "Epoch 239/1000\n",
      "72000/72000 [==============================] - 4s 57us/step - loss: 0.0144 - val_loss: 0.0120\n",
      "Epoch 240/1000\n",
      "72000/72000 [==============================] - 4s 57us/step - loss: 0.0135 - val_loss: 0.0125\n",
      "Epoch 241/1000\n",
      "72000/72000 [==============================] - 4s 53us/step - loss: 0.0132 - val_loss: 0.0138\n",
      "Epoch 242/1000\n",
      "72000/72000 [==============================] - 4s 53us/step - loss: 0.0145 - val_loss: 0.0150\n",
      "Epoch 243/1000\n",
      "72000/72000 [==============================] - 4s 54us/step - loss: 0.0139 - val_loss: 0.0138\n",
      "Epoch 244/1000\n",
      "72000/72000 [==============================] - 4s 52us/step - loss: 0.0140 - val_loss: 0.0121\n",
      "Epoch 245/1000\n",
      "72000/72000 [==============================] - 4s 57us/step - loss: 0.0121 - val_loss: 0.0143\n",
      "Epoch 246/1000\n",
      "72000/72000 [==============================] - 4s 55us/step - loss: 0.0145 - val_loss: 0.0117\n",
      "Epoch 247/1000\n",
      "72000/72000 [==============================] - 4s 54us/step - loss: 0.0145 - val_loss: 0.0120\n",
      "Epoch 248/1000\n",
      "72000/72000 [==============================] - 4s 56us/step - loss: 0.0134 - val_loss: 0.0115\n",
      "Epoch 249/1000\n",
      "72000/72000 [==============================] - 4s 56us/step - loss: 0.0136 - val_loss: 0.0143\n",
      "Epoch 250/1000\n",
      "72000/72000 [==============================] - 4s 53us/step - loss: 0.0136 - val_loss: 0.0158\n",
      "Epoch 251/1000\n",
      "72000/72000 [==============================] - 5s 65us/step - loss: 0.0133 - val_loss: 0.0143\n",
      "Epoch 252/1000\n",
      "72000/72000 [==============================] - 4s 52us/step - loss: 0.0143 - val_loss: 0.0156\n",
      "Epoch 253/1000\n",
      "72000/72000 [==============================] - 4s 60us/step - loss: 0.0138 - val_loss: 0.0141\n",
      "Epoch 254/1000\n",
      "72000/72000 [==============================] - 4s 57us/step - loss: 0.0130 - val_loss: 0.0152\n",
      "Epoch 255/1000\n",
      "72000/72000 [==============================] - 4s 55us/step - loss: 0.0128 - val_loss: 0.0125\n",
      "Epoch 256/1000\n",
      "72000/72000 [==============================] - 4s 60us/step - loss: 0.0139 - val_loss: 0.0134\n",
      "Epoch 257/1000\n",
      "72000/72000 [==============================] - 4s 55us/step - loss: 0.0132 - val_loss: 0.0102\n",
      "Epoch 258/1000\n",
      "72000/72000 [==============================] - 4s 60us/step - loss: 0.0134 - val_loss: 0.0138\n",
      "Epoch 259/1000\n",
      "72000/72000 [==============================] - 4s 59us/step - loss: 0.0135 - val_loss: 0.0143\n",
      "Epoch 260/1000\n",
      "72000/72000 [==============================] - 4s 55us/step - loss: 0.0135 - val_loss: 0.0160\n",
      "Epoch 261/1000\n",
      "72000/72000 [==============================] - 4s 57us/step - loss: 0.0138 - val_loss: 0.0133\n",
      "Epoch 262/1000\n",
      "72000/72000 [==============================] - 4s 57us/step - loss: 0.0134 - val_loss: 0.0152\n",
      "Epoch 263/1000\n",
      "72000/72000 [==============================] - 4s 60us/step - loss: 0.0131 - val_loss: 0.0125\n",
      "Epoch 264/1000\n",
      "72000/72000 [==============================] - 5s 63us/step - loss: 0.0128 - val_loss: 0.0106\n",
      "Epoch 265/1000\n",
      "72000/72000 [==============================] - 5s 64us/step - loss: 0.0135 - val_loss: 0.0136\n",
      "Epoch 266/1000\n",
      "72000/72000 [==============================] - 4s 57us/step - loss: 0.0130 - val_loss: 0.0134\n",
      "Epoch 267/1000\n",
      "72000/72000 [==============================] - 4s 55us/step - loss: 0.0128 - val_loss: 0.0110\n",
      "Epoch 268/1000\n",
      "72000/72000 [==============================] - 4s 54us/step - loss: 0.0133 - val_loss: 0.0121\n",
      "Epoch 269/1000\n",
      "72000/72000 [==============================] - 4s 53us/step - loss: 0.0134 - val_loss: 0.0152\n",
      "Epoch 270/1000\n",
      "72000/72000 [==============================] - 4s 61us/step - loss: 0.0127 - val_loss: 0.0119\n",
      "Epoch 271/1000\n",
      "72000/72000 [==============================] - 4s 55us/step - loss: 0.0127 - val_loss: 0.0139\n",
      "Epoch 272/1000\n",
      "72000/72000 [==============================] - 4s 54us/step - loss: 0.0127 - val_loss: 0.0121\n",
      "Epoch 273/1000\n",
      "72000/72000 [==============================] - 4s 53us/step - loss: 0.0132 - val_loss: 0.0117\n",
      "Epoch 274/1000\n",
      "72000/72000 [==============================] - 4s 53us/step - loss: 0.0129 - val_loss: 0.0137\n",
      "Epoch 275/1000\n",
      "72000/72000 [==============================] - 4s 54us/step - loss: 0.0134 - val_loss: 0.0116\n",
      "Epoch 276/1000\n",
      "72000/72000 [==============================] - 4s 57us/step - loss: 0.0123 - val_loss: 0.0153\n",
      "Epoch 277/1000\n",
      "72000/72000 [==============================] - 4s 54us/step - loss: 0.0136 - val_loss: 0.0108\n",
      "Epoch 00277: early stopping\n"
     ]
    },
    {
     "data": {
      "text/plain": [
       "<keras.callbacks.History at 0x7f384b52b438>"
      ]
     },
     "execution_count": 109,
     "metadata": {},
     "output_type": "execute_result"
    }
   ],
   "source": [
    "autoencoder8_8_tap_4l.fit(train_data256, train_data256,\n",
    "                       epochs=1000,\n",
    "                       batch_size=1000*M,\n",
    "                       shuffle=True,\n",
    "                       validation_data=(valid_data256,\n",
    "                                        valid_data256),\n",
    "                       callbacks=[es])"
   ]
  },
  {
   "cell_type": "code",
   "execution_count": 110,
   "metadata": {
    "scrolled": true
   },
   "outputs": [
    {
     "name": "stdout",
     "output_type": "stream",
     "text": [
      "Train on 72000 samples, validate on 8000 samples\n",
      "Epoch 1/1000\n",
      "72000/72000 [==============================] - 6s 81us/step - loss: 5.5475 - val_loss: 5.5126\n",
      "Epoch 2/1000\n",
      "72000/72000 [==============================] - 4s 52us/step - loss: 5.5129 - val_loss: 5.4760\n",
      "Epoch 3/1000\n",
      "72000/72000 [==============================] - 4s 58us/step - loss: 5.4760 - val_loss: 5.4379\n",
      "Epoch 4/1000\n",
      "72000/72000 [==============================] - 5s 63us/step - loss: 5.4376 - val_loss: 5.3922\n",
      "Epoch 5/1000\n",
      "72000/72000 [==============================] - 4s 60us/step - loss: 5.3909 - val_loss: 5.3309\n",
      "Epoch 6/1000\n",
      "72000/72000 [==============================] - 5s 63us/step - loss: 5.3311 - val_loss: 5.2667\n",
      "Epoch 7/1000\n",
      "72000/72000 [==============================] - 4s 60us/step - loss: 5.2652 - val_loss: 5.1820\n",
      "Epoch 8/1000\n",
      "72000/72000 [==============================] - 5s 67us/step - loss: 5.1813 - val_loss: 5.0857\n",
      "Epoch 9/1000\n",
      "72000/72000 [==============================] - 5s 69us/step - loss: 5.0844 - val_loss: 4.9722\n",
      "Epoch 10/1000\n",
      "72000/72000 [==============================] - 5s 71us/step - loss: 4.9698 - val_loss: 4.8402\n",
      "Epoch 11/1000\n",
      "72000/72000 [==============================] - 5s 66us/step - loss: 4.8378 - val_loss: 4.6901\n",
      "Epoch 12/1000\n",
      "72000/72000 [==============================] - 4s 61us/step - loss: 4.6883 - val_loss: 4.5258\n",
      "Epoch 13/1000\n",
      "72000/72000 [==============================] - 5s 63us/step - loss: 4.5211 - val_loss: 4.3437\n",
      "Epoch 14/1000\n",
      "72000/72000 [==============================] - 4s 61us/step - loss: 4.3403 - val_loss: 4.1538\n",
      "Epoch 15/1000\n",
      "72000/72000 [==============================] - 4s 61us/step - loss: 4.1522 - val_loss: 3.9728\n",
      "Epoch 16/1000\n",
      "72000/72000 [==============================] - 5s 64us/step - loss: 3.9661 - val_loss: 3.7791\n",
      "Epoch 17/1000\n",
      "72000/72000 [==============================] - 4s 60us/step - loss: 3.7713 - val_loss: 3.5344\n",
      "Epoch 18/1000\n",
      "72000/72000 [==============================] - 4s 60us/step - loss: 3.5287 - val_loss: 3.3464\n",
      "Epoch 19/1000\n",
      "72000/72000 [==============================] - 4s 60us/step - loss: 3.3385 - val_loss: 3.0760\n",
      "Epoch 20/1000\n",
      "72000/72000 [==============================] - 4s 59us/step - loss: 3.0742 - val_loss: 2.8892\n",
      "Epoch 21/1000\n",
      "72000/72000 [==============================] - 4s 59us/step - loss: 2.8907 - val_loss: 2.6319\n",
      "Epoch 22/1000\n",
      "72000/72000 [==============================] - 4s 61us/step - loss: 2.6318 - val_loss: 2.4446\n",
      "Epoch 23/1000\n",
      "72000/72000 [==============================] - 4s 60us/step - loss: 2.4516 - val_loss: 2.2072\n",
      "Epoch 24/1000\n",
      "72000/72000 [==============================] - 4s 61us/step - loss: 2.2103 - val_loss: 2.0421\n",
      "Epoch 25/1000\n",
      "72000/72000 [==============================] - 4s 60us/step - loss: 2.0381 - val_loss: 1.8290\n",
      "Epoch 26/1000\n",
      "72000/72000 [==============================] - 4s 61us/step - loss: 1.8192 - val_loss: 1.6730\n",
      "Epoch 27/1000\n",
      "72000/72000 [==============================] - 4s 60us/step - loss: 1.6591 - val_loss: 1.4730\n",
      "Epoch 28/1000\n",
      "72000/72000 [==============================] - 4s 60us/step - loss: 1.4644 - val_loss: 1.3293\n",
      "Epoch 29/1000\n",
      "72000/72000 [==============================] - 4s 61us/step - loss: 1.3209 - val_loss: 1.1578\n",
      "Epoch 30/1000\n",
      "72000/72000 [==============================] - 4s 61us/step - loss: 1.1513 - val_loss: 1.0441\n",
      "Epoch 31/1000\n",
      "72000/72000 [==============================] - 4s 61us/step - loss: 1.0403 - val_loss: 0.9268\n",
      "Epoch 32/1000\n",
      "72000/72000 [==============================] - 4s 61us/step - loss: 0.9201 - val_loss: 0.8113\n",
      "Epoch 33/1000\n",
      "72000/72000 [==============================] - 4s 61us/step - loss: 0.8224 - val_loss: 0.7111\n",
      "Epoch 34/1000\n",
      "72000/72000 [==============================] - 4s 61us/step - loss: 0.7083 - val_loss: 0.6317\n",
      "Epoch 35/1000\n",
      "72000/72000 [==============================] - 4s 61us/step - loss: 0.6326 - val_loss: 0.5685\n",
      "Epoch 36/1000\n",
      "72000/72000 [==============================] - 4s 61us/step - loss: 0.5574 - val_loss: 0.4888\n",
      "Epoch 37/1000\n",
      "72000/72000 [==============================] - 4s 62us/step - loss: 0.4881 - val_loss: 0.4421\n",
      "Epoch 38/1000\n",
      "72000/72000 [==============================] - 5s 63us/step - loss: 0.4326 - val_loss: 0.4068\n",
      "Epoch 39/1000\n",
      "72000/72000 [==============================] - 4s 61us/step - loss: 0.3891 - val_loss: 0.3525\n",
      "Epoch 40/1000\n",
      "72000/72000 [==============================] - 4s 62us/step - loss: 0.3404 - val_loss: 0.3218\n",
      "Epoch 41/1000\n",
      "72000/72000 [==============================] - 4s 61us/step - loss: 0.3142 - val_loss: 0.2789\n",
      "Epoch 42/1000\n",
      "72000/72000 [==============================] - 4s 60us/step - loss: 0.2791 - val_loss: 0.2662\n",
      "Epoch 43/1000\n",
      "72000/72000 [==============================] - 5s 63us/step - loss: 0.2506 - val_loss: 0.2277\n",
      "Epoch 44/1000\n",
      "72000/72000 [==============================] - 4s 60us/step - loss: 0.2291 - val_loss: 0.2142\n",
      "Epoch 45/1000\n",
      "72000/72000 [==============================] - 5s 64us/step - loss: 0.2123 - val_loss: 0.1897\n",
      "Epoch 46/1000\n",
      "72000/72000 [==============================] - 4s 60us/step - loss: 0.1921 - val_loss: 0.1784\n",
      "Epoch 47/1000\n",
      "72000/72000 [==============================] - 4s 59us/step - loss: 0.1782 - val_loss: 0.1742\n",
      "Epoch 48/1000\n",
      "72000/72000 [==============================] - 4s 60us/step - loss: 0.1644 - val_loss: 0.1492\n",
      "Epoch 49/1000\n",
      "72000/72000 [==============================] - 4s 60us/step - loss: 0.1544 - val_loss: 0.1486\n",
      "Epoch 50/1000\n",
      "72000/72000 [==============================] - 4s 60us/step - loss: 0.1464 - val_loss: 0.1436\n",
      "Epoch 51/1000\n",
      "72000/72000 [==============================] - 4s 59us/step - loss: 0.1319 - val_loss: 0.1302\n",
      "Epoch 52/1000\n",
      "72000/72000 [==============================] - 4s 60us/step - loss: 0.1290 - val_loss: 0.1245\n",
      "Epoch 53/1000\n",
      "72000/72000 [==============================] - 4s 59us/step - loss: 0.1191 - val_loss: 0.1087\n",
      "Epoch 54/1000\n",
      "72000/72000 [==============================] - 4s 61us/step - loss: 0.1128 - val_loss: 0.1102\n",
      "Epoch 55/1000\n",
      "72000/72000 [==============================] - 4s 59us/step - loss: 0.1084 - val_loss: 0.1020\n",
      "Epoch 56/1000\n",
      "72000/72000 [==============================] - 4s 60us/step - loss: 0.1024 - val_loss: 0.0918\n",
      "Epoch 57/1000\n",
      "72000/72000 [==============================] - 4s 59us/step - loss: 0.0984 - val_loss: 0.0953\n",
      "Epoch 58/1000\n",
      "72000/72000 [==============================] - 4s 61us/step - loss: 0.0922 - val_loss: 0.0909\n",
      "Epoch 59/1000\n",
      "72000/72000 [==============================] - 4s 60us/step - loss: 0.0881 - val_loss: 0.0817\n",
      "Epoch 60/1000\n",
      "72000/72000 [==============================] - 5s 64us/step - loss: 0.0855 - val_loss: 0.0832\n",
      "Epoch 61/1000\n",
      "72000/72000 [==============================] - 4s 59us/step - loss: 0.0821 - val_loss: 0.0845\n",
      "Epoch 62/1000\n",
      "72000/72000 [==============================] - 4s 62us/step - loss: 0.0804 - val_loss: 0.0783\n",
      "Epoch 63/1000\n",
      "72000/72000 [==============================] - 4s 61us/step - loss: 0.0775 - val_loss: 0.0711\n",
      "Epoch 64/1000\n",
      "72000/72000 [==============================] - 5s 65us/step - loss: 0.0728 - val_loss: 0.0735\n",
      "Epoch 65/1000\n",
      "72000/72000 [==============================] - 4s 60us/step - loss: 0.0726 - val_loss: 0.0716\n",
      "Epoch 66/1000\n",
      "72000/72000 [==============================] - 4s 60us/step - loss: 0.0676 - val_loss: 0.0618\n",
      "Epoch 67/1000\n",
      "72000/72000 [==============================] - 4s 60us/step - loss: 0.0658 - val_loss: 0.0656\n",
      "Epoch 68/1000\n",
      "72000/72000 [==============================] - 4s 60us/step - loss: 0.0661 - val_loss: 0.0616\n",
      "Epoch 69/1000\n",
      "72000/72000 [==============================] - 4s 59us/step - loss: 0.0598 - val_loss: 0.0629\n",
      "Epoch 70/1000\n",
      "72000/72000 [==============================] - 4s 60us/step - loss: 0.0610 - val_loss: 0.0550\n",
      "Epoch 71/1000\n",
      "72000/72000 [==============================] - 5s 67us/step - loss: 0.0618 - val_loss: 0.0572\n",
      "Epoch 72/1000\n",
      "72000/72000 [==============================] - 5s 64us/step - loss: 0.0569 - val_loss: 0.0563\n",
      "Epoch 73/1000\n",
      "72000/72000 [==============================] - 4s 62us/step - loss: 0.0569 - val_loss: 0.0564\n",
      "Epoch 74/1000\n",
      "72000/72000 [==============================] - 4s 61us/step - loss: 0.0541 - val_loss: 0.0532\n",
      "Epoch 75/1000\n",
      "72000/72000 [==============================] - 4s 61us/step - loss: 0.0520 - val_loss: 0.0518\n",
      "Epoch 76/1000\n",
      "72000/72000 [==============================] - 4s 61us/step - loss: 0.0529 - val_loss: 0.0527\n"
     ]
    },
    {
     "name": "stdout",
     "output_type": "stream",
     "text": [
      "Epoch 77/1000\n",
      "72000/72000 [==============================] - 4s 60us/step - loss: 0.0514 - val_loss: 0.0532\n",
      "Epoch 78/1000\n",
      "72000/72000 [==============================] - 4s 61us/step - loss: 0.0488 - val_loss: 0.0497\n",
      "Epoch 79/1000\n",
      "72000/72000 [==============================] - 4s 61us/step - loss: 0.0484 - val_loss: 0.0457\n",
      "Epoch 80/1000\n",
      "72000/72000 [==============================] - 4s 61us/step - loss: 0.0480 - val_loss: 0.0481\n",
      "Epoch 81/1000\n",
      "72000/72000 [==============================] - 4s 60us/step - loss: 0.0468 - val_loss: 0.0489\n",
      "Epoch 82/1000\n",
      "72000/72000 [==============================] - 4s 62us/step - loss: 0.0475 - val_loss: 0.0424\n",
      "Epoch 83/1000\n",
      "72000/72000 [==============================] - 5s 67us/step - loss: 0.0447 - val_loss: 0.0440\n",
      "Epoch 84/1000\n",
      "72000/72000 [==============================] - 5s 68us/step - loss: 0.0449 - val_loss: 0.0394\n",
      "Epoch 85/1000\n",
      "72000/72000 [==============================] - 4s 61us/step - loss: 0.0432 - val_loss: 0.0373\n",
      "Epoch 86/1000\n",
      "72000/72000 [==============================] - 4s 60us/step - loss: 0.0431 - val_loss: 0.0378\n",
      "Epoch 87/1000\n",
      "72000/72000 [==============================] - 4s 61us/step - loss: 0.0428 - val_loss: 0.0413\n",
      "Epoch 88/1000\n",
      "72000/72000 [==============================] - 5s 63us/step - loss: 0.0421 - val_loss: 0.0423\n",
      "Epoch 89/1000\n",
      "72000/72000 [==============================] - 4s 61us/step - loss: 0.0390 - val_loss: 0.0431\n",
      "Epoch 90/1000\n",
      "72000/72000 [==============================] - 4s 60us/step - loss: 0.0412 - val_loss: 0.0365\n",
      "Epoch 91/1000\n",
      "72000/72000 [==============================] - 5s 64us/step - loss: 0.0392 - val_loss: 0.0386\n",
      "Epoch 92/1000\n",
      "72000/72000 [==============================] - 4s 61us/step - loss: 0.0403 - val_loss: 0.0412\n",
      "Epoch 93/1000\n",
      "72000/72000 [==============================] - 4s 60us/step - loss: 0.0379 - val_loss: 0.0408\n",
      "Epoch 94/1000\n",
      "72000/72000 [==============================] - 4s 60us/step - loss: 0.0388 - val_loss: 0.0381\n",
      "Epoch 95/1000\n",
      "72000/72000 [==============================] - 5s 63us/step - loss: 0.0379 - val_loss: 0.0320\n",
      "Epoch 96/1000\n",
      "72000/72000 [==============================] - 4s 60us/step - loss: 0.0397 - val_loss: 0.0386\n",
      "Epoch 97/1000\n",
      "72000/72000 [==============================] - 5s 65us/step - loss: 0.0356 - val_loss: 0.0347\n",
      "Epoch 98/1000\n",
      "72000/72000 [==============================] - 5s 63us/step - loss: 0.0349 - val_loss: 0.0373\n",
      "Epoch 99/1000\n",
      "72000/72000 [==============================] - 4s 62us/step - loss: 0.0349 - val_loss: 0.0371\n",
      "Epoch 100/1000\n",
      "72000/72000 [==============================] - 4s 62us/step - loss: 0.0348 - val_loss: 0.0364\n",
      "Epoch 101/1000\n",
      "72000/72000 [==============================] - 4s 60us/step - loss: 0.0338 - val_loss: 0.0381\n",
      "Epoch 102/1000\n",
      "72000/72000 [==============================] - 5s 63us/step - loss: 0.0347 - val_loss: 0.0374\n",
      "Epoch 103/1000\n",
      "72000/72000 [==============================] - 4s 61us/step - loss: 0.0334 - val_loss: 0.0395\n",
      "Epoch 104/1000\n",
      "72000/72000 [==============================] - 4s 60us/step - loss: 0.0324 - val_loss: 0.0392\n",
      "Epoch 105/1000\n",
      "72000/72000 [==============================] - 4s 62us/step - loss: 0.0319 - val_loss: 0.0326\n",
      "Epoch 106/1000\n",
      "72000/72000 [==============================] - 5s 63us/step - loss: 0.0323 - val_loss: 0.0331\n",
      "Epoch 107/1000\n",
      "72000/72000 [==============================] - 4s 61us/step - loss: 0.0332 - val_loss: 0.0293\n",
      "Epoch 108/1000\n",
      "72000/72000 [==============================] - 4s 61us/step - loss: 0.0330 - val_loss: 0.0303\n",
      "Epoch 109/1000\n",
      "72000/72000 [==============================] - 4s 61us/step - loss: 0.0323 - val_loss: 0.0267\n",
      "Epoch 110/1000\n",
      "72000/72000 [==============================] - 4s 62us/step - loss: 0.0305 - val_loss: 0.0283\n",
      "Epoch 111/1000\n",
      "72000/72000 [==============================] - 5s 63us/step - loss: 0.0296 - val_loss: 0.0293\n",
      "Epoch 112/1000\n",
      "72000/72000 [==============================] - 4s 61us/step - loss: 0.0306 - val_loss: 0.0313\n",
      "Epoch 113/1000\n",
      "72000/72000 [==============================] - 4s 61us/step - loss: 0.0320 - val_loss: 0.0301\n",
      "Epoch 114/1000\n",
      "72000/72000 [==============================] - 4s 60us/step - loss: 0.0294 - val_loss: 0.0274\n",
      "Epoch 115/1000\n",
      "72000/72000 [==============================] - 4s 60us/step - loss: 0.0292 - val_loss: 0.0320\n",
      "Epoch 116/1000\n",
      "72000/72000 [==============================] - 4s 60us/step - loss: 0.0283 - val_loss: 0.0329\n",
      "Epoch 117/1000\n",
      "72000/72000 [==============================] - 4s 60us/step - loss: 0.0284 - val_loss: 0.0319\n",
      "Epoch 118/1000\n",
      "72000/72000 [==============================] - 5s 63us/step - loss: 0.0281 - val_loss: 0.0292\n",
      "Epoch 119/1000\n",
      "72000/72000 [==============================] - 4s 60us/step - loss: 0.0275 - val_loss: 0.0281\n",
      "Epoch 120/1000\n",
      "72000/72000 [==============================] - 4s 60us/step - loss: 0.0263 - val_loss: 0.0251\n",
      "Epoch 121/1000\n",
      "72000/72000 [==============================] - 4s 61us/step - loss: 0.0258 - val_loss: 0.0288\n",
      "Epoch 122/1000\n",
      "72000/72000 [==============================] - 5s 63us/step - loss: 0.0278 - val_loss: 0.0284\n",
      "Epoch 123/1000\n",
      "72000/72000 [==============================] - 4s 61us/step - loss: 0.0274 - val_loss: 0.0293\n",
      "Epoch 124/1000\n",
      "72000/72000 [==============================] - 5s 66us/step - loss: 0.0266 - val_loss: 0.0282\n",
      "Epoch 125/1000\n",
      "72000/72000 [==============================] - 4s 62us/step - loss: 0.0256 - val_loss: 0.0276\n",
      "Epoch 126/1000\n",
      "72000/72000 [==============================] - 4s 60us/step - loss: 0.0263 - val_loss: 0.0255\n",
      "Epoch 127/1000\n",
      "72000/72000 [==============================] - 4s 61us/step - loss: 0.0267 - val_loss: 0.0297\n",
      "Epoch 128/1000\n",
      "72000/72000 [==============================] - 4s 62us/step - loss: 0.0266 - val_loss: 0.0276\n",
      "Epoch 129/1000\n",
      "72000/72000 [==============================] - 4s 62us/step - loss: 0.0252 - val_loss: 0.0231\n",
      "Epoch 130/1000\n",
      "72000/72000 [==============================] - 4s 62us/step - loss: 0.0251 - val_loss: 0.0224\n",
      "Epoch 131/1000\n",
      "72000/72000 [==============================] - 4s 60us/step - loss: 0.0253 - val_loss: 0.0228\n",
      "Epoch 132/1000\n",
      "72000/72000 [==============================] - 4s 61us/step - loss: 0.0251 - val_loss: 0.0196\n",
      "Epoch 133/1000\n",
      "72000/72000 [==============================] - 5s 65us/step - loss: 0.0249 - val_loss: 0.0248\n",
      "Epoch 134/1000\n",
      "72000/72000 [==============================] - 5s 70us/step - loss: 0.0251 - val_loss: 0.0244\n",
      "Epoch 135/1000\n",
      "72000/72000 [==============================] - 5s 74us/step - loss: 0.0251 - val_loss: 0.0208\n",
      "Epoch 136/1000\n",
      "72000/72000 [==============================] - 5s 67us/step - loss: 0.0235 - val_loss: 0.0243\n",
      "Epoch 137/1000\n",
      "72000/72000 [==============================] - 5s 76us/step - loss: 0.0237 - val_loss: 0.0207\n",
      "Epoch 138/1000\n",
      "72000/72000 [==============================] - 6s 79us/step - loss: 0.0245 - val_loss: 0.0235\n",
      "Epoch 139/1000\n",
      "72000/72000 [==============================] - 6s 78us/step - loss: 0.0240 - val_loss: 0.0240\n",
      "Epoch 140/1000\n",
      "72000/72000 [==============================] - 5s 75us/step - loss: 0.0219 - val_loss: 0.0243\n",
      "Epoch 141/1000\n",
      "72000/72000 [==============================] - 6s 85us/step - loss: 0.0236 - val_loss: 0.0187\n",
      "Epoch 142/1000\n",
      "72000/72000 [==============================] - 6s 84us/step - loss: 0.0225 - val_loss: 0.0252\n",
      "Epoch 143/1000\n",
      "72000/72000 [==============================] - 6s 84us/step - loss: 0.0228 - val_loss: 0.0230\n",
      "Epoch 144/1000\n",
      "72000/72000 [==============================] - 6s 81us/step - loss: 0.0224 - val_loss: 0.0212\n",
      "Epoch 145/1000\n",
      "72000/72000 [==============================] - 6s 82us/step - loss: 0.0223 - val_loss: 0.0201\n",
      "Epoch 146/1000\n",
      "72000/72000 [==============================] - 6s 84us/step - loss: 0.0225 - val_loss: 0.0227\n",
      "Epoch 147/1000\n",
      "72000/72000 [==============================] - 6s 86us/step - loss: 0.0225 - val_loss: 0.0208\n",
      "Epoch 148/1000\n",
      "72000/72000 [==============================] - 6s 89us/step - loss: 0.0219 - val_loss: 0.0212\n",
      "Epoch 149/1000\n",
      "72000/72000 [==============================] - 5s 74us/step - loss: 0.0220 - val_loss: 0.0188\n",
      "Epoch 150/1000\n",
      "72000/72000 [==============================] - 5s 66us/step - loss: 0.0215 - val_loss: 0.0204\n",
      "Epoch 151/1000\n",
      "72000/72000 [==============================] - 4s 62us/step - loss: 0.0206 - val_loss: 0.0216\n",
      "Epoch 152/1000\n",
      "72000/72000 [==============================] - 5s 63us/step - loss: 0.0216 - val_loss: 0.0201\n"
     ]
    },
    {
     "name": "stdout",
     "output_type": "stream",
     "text": [
      "Epoch 153/1000\n",
      "72000/72000 [==============================] - 4s 61us/step - loss: 0.0210 - val_loss: 0.0204\n",
      "Epoch 154/1000\n",
      "72000/72000 [==============================] - 4s 61us/step - loss: 0.0218 - val_loss: 0.0197\n",
      "Epoch 155/1000\n",
      "72000/72000 [==============================] - 4s 61us/step - loss: 0.0214 - val_loss: 0.0204\n",
      "Epoch 156/1000\n",
      "72000/72000 [==============================] - 4s 62us/step - loss: 0.0206 - val_loss: 0.0214\n",
      "Epoch 157/1000\n",
      "72000/72000 [==============================] - 4s 61us/step - loss: 0.0211 - val_loss: 0.0206\n",
      "Epoch 158/1000\n",
      "72000/72000 [==============================] - 4s 62us/step - loss: 0.0203 - val_loss: 0.0183\n",
      "Epoch 159/1000\n",
      "72000/72000 [==============================] - 4s 62us/step - loss: 0.0203 - val_loss: 0.0238\n",
      "Epoch 160/1000\n",
      "72000/72000 [==============================] - 4s 62us/step - loss: 0.0189 - val_loss: 0.0207\n",
      "Epoch 161/1000\n",
      "72000/72000 [==============================] - 5s 64us/step - loss: 0.0204 - val_loss: 0.0165\n",
      "Epoch 162/1000\n",
      "72000/72000 [==============================] - 6s 80us/step - loss: 0.0215 - val_loss: 0.0201\n",
      "Epoch 163/1000\n",
      "72000/72000 [==============================] - 5s 70us/step - loss: 0.0193 - val_loss: 0.0188\n",
      "Epoch 164/1000\n",
      "72000/72000 [==============================] - 5s 76us/step - loss: 0.0204 - val_loss: 0.0175\n",
      "Epoch 165/1000\n",
      "72000/72000 [==============================] - 5s 65us/step - loss: 0.0199 - val_loss: 0.0176\n",
      "Epoch 166/1000\n",
      "72000/72000 [==============================] - 4s 60us/step - loss: 0.0184 - val_loss: 0.0200\n",
      "Epoch 167/1000\n",
      "72000/72000 [==============================] - 4s 61us/step - loss: 0.0204 - val_loss: 0.0186\n",
      "Epoch 168/1000\n",
      "72000/72000 [==============================] - 5s 63us/step - loss: 0.0192 - val_loss: 0.0213\n",
      "Epoch 169/1000\n",
      "72000/72000 [==============================] - 4s 61us/step - loss: 0.0187 - val_loss: 0.0164\n",
      "Epoch 170/1000\n",
      "72000/72000 [==============================] - 4s 62us/step - loss: 0.0182 - val_loss: 0.0184\n",
      "Epoch 171/1000\n",
      "72000/72000 [==============================] - 4s 60us/step - loss: 0.0182 - val_loss: 0.0186\n",
      "Epoch 172/1000\n",
      "72000/72000 [==============================] - 4s 61us/step - loss: 0.0175 - val_loss: 0.0191\n",
      "Epoch 173/1000\n",
      "72000/72000 [==============================] - 5s 64us/step - loss: 0.0180 - val_loss: 0.0193\n",
      "Epoch 174/1000\n",
      "72000/72000 [==============================] - 5s 63us/step - loss: 0.0186 - val_loss: 0.0167\n",
      "Epoch 175/1000\n",
      "72000/72000 [==============================] - 4s 61us/step - loss: 0.0191 - val_loss: 0.0154\n",
      "Epoch 176/1000\n",
      "72000/72000 [==============================] - 4s 61us/step - loss: 0.0172 - val_loss: 0.0173\n",
      "Epoch 177/1000\n",
      "72000/72000 [==============================] - 5s 71us/step - loss: 0.0179 - val_loss: 0.0145\n",
      "Epoch 178/1000\n",
      "72000/72000 [==============================] - 4s 61us/step - loss: 0.0170 - val_loss: 0.0211\n",
      "Epoch 179/1000\n",
      "72000/72000 [==============================] - 4s 60us/step - loss: 0.0175 - val_loss: 0.0208\n",
      "Epoch 180/1000\n",
      "72000/72000 [==============================] - 4s 60us/step - loss: 0.0167 - val_loss: 0.0192\n",
      "Epoch 181/1000\n",
      "72000/72000 [==============================] - 4s 60us/step - loss: 0.0170 - val_loss: 0.0171\n",
      "Epoch 182/1000\n",
      "72000/72000 [==============================] - 5s 63us/step - loss: 0.0183 - val_loss: 0.0176\n",
      "Epoch 183/1000\n",
      "72000/72000 [==============================] - 5s 64us/step - loss: 0.0186 - val_loss: 0.0204\n",
      "Epoch 184/1000\n",
      "72000/72000 [==============================] - 4s 60us/step - loss: 0.0177 - val_loss: 0.0208\n",
      "Epoch 185/1000\n",
      "72000/72000 [==============================] - 5s 64us/step - loss: 0.0168 - val_loss: 0.0180\n",
      "Epoch 186/1000\n",
      "72000/72000 [==============================] - 4s 61us/step - loss: 0.0159 - val_loss: 0.0162\n",
      "Epoch 187/1000\n",
      "72000/72000 [==============================] - 4s 62us/step - loss: 0.0169 - val_loss: 0.0192\n",
      "Epoch 188/1000\n",
      "72000/72000 [==============================] - 4s 60us/step - loss: 0.0165 - val_loss: 0.0161\n",
      "Epoch 189/1000\n",
      "72000/72000 [==============================] - 4s 60us/step - loss: 0.0171 - val_loss: 0.0164\n",
      "Epoch 190/1000\n",
      "72000/72000 [==============================] - 4s 61us/step - loss: 0.0165 - val_loss: 0.0163\n",
      "Epoch 191/1000\n",
      "72000/72000 [==============================] - 4s 60us/step - loss: 0.0166 - val_loss: 0.0177\n",
      "Epoch 192/1000\n",
      "72000/72000 [==============================] - 4s 60us/step - loss: 0.0169 - val_loss: 0.0169\n",
      "Epoch 193/1000\n",
      "72000/72000 [==============================] - 4s 60us/step - loss: 0.0169 - val_loss: 0.0148\n",
      "Epoch 194/1000\n",
      "72000/72000 [==============================] - 4s 62us/step - loss: 0.0160 - val_loss: 0.0189\n",
      "Epoch 195/1000\n",
      "72000/72000 [==============================] - 4s 60us/step - loss: 0.0157 - val_loss: 0.0147\n",
      "Epoch 196/1000\n",
      "72000/72000 [==============================] - 4s 60us/step - loss: 0.0157 - val_loss: 0.0149\n",
      "Epoch 197/1000\n",
      "72000/72000 [==============================] - 4s 61us/step - loss: 0.0161 - val_loss: 0.0125\n",
      "Epoch 198/1000\n",
      "72000/72000 [==============================] - 4s 60us/step - loss: 0.0159 - val_loss: 0.0222\n",
      "Epoch 199/1000\n",
      "72000/72000 [==============================] - 4s 60us/step - loss: 0.0164 - val_loss: 0.0147\n",
      "Epoch 200/1000\n",
      "72000/72000 [==============================] - 4s 62us/step - loss: 0.0170 - val_loss: 0.0132\n",
      "Epoch 201/1000\n",
      "72000/72000 [==============================] - 4s 62us/step - loss: 0.0159 - val_loss: 0.0134\n",
      "Epoch 202/1000\n",
      "72000/72000 [==============================] - 4s 62us/step - loss: 0.0160 - val_loss: 0.0161\n",
      "Epoch 203/1000\n",
      "72000/72000 [==============================] - 4s 61us/step - loss: 0.0151 - val_loss: 0.0170\n",
      "Epoch 204/1000\n",
      "72000/72000 [==============================] - 4s 60us/step - loss: 0.0156 - val_loss: 0.0169\n",
      "Epoch 205/1000\n",
      "72000/72000 [==============================] - 5s 63us/step - loss: 0.0154 - val_loss: 0.0161\n",
      "Epoch 206/1000\n",
      "72000/72000 [==============================] - 5s 63us/step - loss: 0.0153 - val_loss: 0.0147\n",
      "Epoch 207/1000\n",
      "72000/72000 [==============================] - 4s 60us/step - loss: 0.0160 - val_loss: 0.0196\n",
      "Epoch 208/1000\n",
      "72000/72000 [==============================] - 5s 67us/step - loss: 0.0152 - val_loss: 0.0134\n",
      "Epoch 209/1000\n",
      "72000/72000 [==============================] - 4s 61us/step - loss: 0.0150 - val_loss: 0.0124\n",
      "Epoch 210/1000\n",
      "72000/72000 [==============================] - 4s 62us/step - loss: 0.0159 - val_loss: 0.0193\n",
      "Epoch 211/1000\n",
      "72000/72000 [==============================] - 4s 60us/step - loss: 0.0146 - val_loss: 0.0150\n",
      "Epoch 212/1000\n",
      "72000/72000 [==============================] - 4s 60us/step - loss: 0.0146 - val_loss: 0.0157\n",
      "Epoch 213/1000\n",
      "72000/72000 [==============================] - 4s 59us/step - loss: 0.0155 - val_loss: 0.0164\n",
      "Epoch 214/1000\n",
      "72000/72000 [==============================] - 4s 60us/step - loss: 0.0149 - val_loss: 0.0145\n",
      "Epoch 215/1000\n",
      "72000/72000 [==============================] - 4s 60us/step - loss: 0.0151 - val_loss: 0.0143\n",
      "Epoch 216/1000\n",
      "72000/72000 [==============================] - 4s 61us/step - loss: 0.0136 - val_loss: 0.0117\n",
      "Epoch 217/1000\n",
      "72000/72000 [==============================] - 4s 60us/step - loss: 0.0143 - val_loss: 0.0180\n",
      "Epoch 218/1000\n",
      "72000/72000 [==============================] - 4s 59us/step - loss: 0.0142 - val_loss: 0.0144\n",
      "Epoch 219/1000\n",
      "72000/72000 [==============================] - 4s 61us/step - loss: 0.0144 - val_loss: 0.0156\n",
      "Epoch 220/1000\n",
      "72000/72000 [==============================] - 4s 61us/step - loss: 0.0150 - val_loss: 0.0146\n",
      "Epoch 221/1000\n",
      "72000/72000 [==============================] - 4s 60us/step - loss: 0.0136 - val_loss: 0.0126\n",
      "Epoch 222/1000\n",
      "72000/72000 [==============================] - 4s 61us/step - loss: 0.0142 - val_loss: 0.0128\n",
      "Epoch 223/1000\n",
      "72000/72000 [==============================] - 4s 60us/step - loss: 0.0147 - val_loss: 0.0156\n",
      "Epoch 224/1000\n",
      "72000/72000 [==============================] - 4s 61us/step - loss: 0.0139 - val_loss: 0.0141\n",
      "Epoch 225/1000\n",
      "72000/72000 [==============================] - 4s 60us/step - loss: 0.0144 - val_loss: 0.0162\n",
      "Epoch 226/1000\n",
      "72000/72000 [==============================] - 4s 60us/step - loss: 0.0133 - val_loss: 0.0141\n",
      "Epoch 227/1000\n",
      "72000/72000 [==============================] - 4s 60us/step - loss: 0.0143 - val_loss: 0.0123\n",
      "Epoch 228/1000\n",
      "72000/72000 [==============================] - 5s 67us/step - loss: 0.0134 - val_loss: 0.0148\n"
     ]
    },
    {
     "name": "stdout",
     "output_type": "stream",
     "text": [
      "Epoch 229/1000\n",
      "72000/72000 [==============================] - 4s 60us/step - loss: 0.0139 - val_loss: 0.0129\n",
      "Epoch 230/1000\n",
      "72000/72000 [==============================] - 4s 60us/step - loss: 0.0144 - val_loss: 0.0119\n",
      "Epoch 231/1000\n",
      "72000/72000 [==============================] - 4s 59us/step - loss: 0.0134 - val_loss: 0.0151\n",
      "Epoch 232/1000\n",
      "72000/72000 [==============================] - 4s 60us/step - loss: 0.0155 - val_loss: 0.0137\n",
      "Epoch 233/1000\n",
      "72000/72000 [==============================] - 4s 60us/step - loss: 0.0143 - val_loss: 0.0133\n",
      "Epoch 234/1000\n",
      "72000/72000 [==============================] - 4s 60us/step - loss: 0.0140 - val_loss: 0.0129\n",
      "Epoch 235/1000\n",
      "72000/72000 [==============================] - 4s 59us/step - loss: 0.0133 - val_loss: 0.0167\n",
      "Epoch 236/1000\n",
      "72000/72000 [==============================] - 4s 60us/step - loss: 0.0126 - val_loss: 0.0168\n",
      "Epoch 00236: early stopping\n"
     ]
    },
    {
     "data": {
      "text/plain": [
       "<keras.callbacks.History at 0x7f384b52bb70>"
      ]
     },
     "execution_count": 110,
     "metadata": {},
     "output_type": "execute_result"
    }
   ],
   "source": [
    "autoencoder8_8_tap_5l.fit(train_data256, train_data256,\n",
    "                       epochs=1000,\n",
    "                       batch_size=1000*M,\n",
    "                       shuffle=True,\n",
    "                       validation_data=(valid_data256,\n",
    "                                        valid_data256),\n",
    "                       callbacks=[es])"
   ]
  },
  {
   "cell_type": "code",
   "execution_count": 70,
   "metadata": {
    "scrolled": true
   },
   "outputs": [
    {
     "name": "stdout",
     "output_type": "stream",
     "text": [
      "Train on 7200000 samples, validate on 800000 samples\n",
      "Epoch 1/1000\n",
      "7200000/7200000 [==============================] - 5s 1us/step - loss: 0.8872 - val_loss: 0.8876\n",
      "Epoch 2/1000\n",
      "7200000/7200000 [==============================] - 5s 1us/step - loss: 0.8871 - val_loss: 0.8866\n",
      "Epoch 3/1000\n",
      "7200000/7200000 [==============================] - 6s 1us/step - loss: 0.8883 - val_loss: 0.8874\n",
      "Epoch 4/1000\n",
      "7200000/7200000 [==============================] - 6s 1us/step - loss: 0.8879 - val_loss: 0.8887\n",
      "Epoch 5/1000\n",
      "7200000/7200000 [==============================] - 6s 1us/step - loss: 0.8882 - val_loss: 0.8870\n",
      "Epoch 6/1000\n",
      "7200000/7200000 [==============================] - 6s 1us/step - loss: 0.8875 - val_loss: 0.8882\n",
      "Epoch 7/1000\n",
      "7200000/7200000 [==============================] - 6s 1us/step - loss: 0.8876 - val_loss: 0.8866\n",
      "Epoch 8/1000\n",
      "7200000/7200000 [==============================] - 6s 1us/step - loss: 0.8877 - val_loss: 0.8858\n",
      "Epoch 9/1000\n",
      "7200000/7200000 [==============================] - 6s 1us/step - loss: 0.8879 - val_loss: 0.8873\n",
      "Epoch 10/1000\n",
      "7200000/7200000 [==============================] - 6s 1us/step - loss: 0.8873 - val_loss: 0.8880\n",
      "Epoch 11/1000\n",
      "7200000/7200000 [==============================] - 6s 1us/step - loss: 0.8874 - val_loss: 0.8879\n",
      "Epoch 12/1000\n",
      "7200000/7200000 [==============================] - 5s 1us/step - loss: 0.8875 - val_loss: 0.8874\n",
      "Epoch 13/1000\n",
      "7200000/7200000 [==============================] - 6s 1us/step - loss: 0.8876 - val_loss: 0.8858\n",
      "Epoch 14/1000\n",
      "7200000/7200000 [==============================] - 5s 1us/step - loss: 0.8873 - val_loss: 0.8853\n",
      "Epoch 15/1000\n",
      "7200000/7200000 [==============================] - 6s 1us/step - loss: 0.8873 - val_loss: 0.8868\n",
      "Epoch 16/1000\n",
      "7200000/7200000 [==============================] - 6s 1us/step - loss: 0.8883 - val_loss: 0.8887\n",
      "Epoch 17/1000\n",
      "7200000/7200000 [==============================] - 5s 1us/step - loss: 0.8871 - val_loss: 0.8874\n",
      "Epoch 18/1000\n",
      "7200000/7200000 [==============================] - 5s 1us/step - loss: 0.8873 - val_loss: 0.8873\n",
      "Epoch 19/1000\n",
      "7200000/7200000 [==============================] - 6s 1us/step - loss: 0.8871 - val_loss: 0.8879\n",
      "Epoch 20/1000\n",
      "7200000/7200000 [==============================] - 6s 1us/step - loss: 0.8875 - val_loss: 0.8882\n",
      "Epoch 21/1000\n",
      "7200000/7200000 [==============================] - 6s 1us/step - loss: 0.8873 - val_loss: 0.8862\n",
      "Epoch 22/1000\n",
      "7200000/7200000 [==============================] - 6s 1us/step - loss: 0.8871 - val_loss: 0.8861\n",
      "Epoch 23/1000\n",
      "7200000/7200000 [==============================] - 6s 1us/step - loss: 0.8865 - val_loss: 0.8858\n",
      "Epoch 24/1000\n",
      "7200000/7200000 [==============================] - 6s 1us/step - loss: 0.8871 - val_loss: 0.8861\n",
      "Epoch 25/1000\n",
      "7200000/7200000 [==============================] - 6s 1us/step - loss: 0.8874 - val_loss: 0.8866\n",
      "Epoch 26/1000\n",
      "7200000/7200000 [==============================] - 6s 1us/step - loss: 0.8876 - val_loss: 0.8873\n",
      "Epoch 27/1000\n",
      "7200000/7200000 [==============================] - 6s 1us/step - loss: 0.8873 - val_loss: 0.8874\n",
      "Epoch 28/1000\n",
      "7200000/7200000 [==============================] - 5s 1us/step - loss: 0.8869 - val_loss: 0.8867\n",
      "Epoch 29/1000\n",
      "7200000/7200000 [==============================] - 6s 1us/step - loss: 0.8865 - val_loss: 0.8896\n",
      "Epoch 30/1000\n",
      "7200000/7200000 [==============================] - 5s 1us/step - loss: 0.8874 - val_loss: 0.8871\n",
      "Epoch 31/1000\n",
      "7200000/7200000 [==============================] - 6s 1us/step - loss: 0.8870 - val_loss: 0.8876\n",
      "Epoch 32/1000\n",
      "7200000/7200000 [==============================] - 5s 1us/step - loss: 0.8865 - val_loss: 0.8873\n",
      "Epoch 33/1000\n",
      "7200000/7200000 [==============================] - 6s 1us/step - loss: 0.8867 - val_loss: 0.8864\n",
      "Epoch 34/1000\n",
      "7200000/7200000 [==============================] - 6s 1us/step - loss: 0.8879 - val_loss: 0.8866\n",
      "Epoch 00034: early stopping\n"
     ]
    },
    {
     "data": {
      "text/plain": [
       "<keras.callbacks.History at 0x7f3f140fa518>"
      ]
     },
     "execution_count": 70,
     "metadata": {},
     "output_type": "execute_result"
    }
   ],
   "source": [
    "autoencoder7_4.fit(train_data16, train_data16,\n",
    "                epochs=1000,\n",
    "                batch_size=1000*M,\n",
    "                shuffle=True,\n",
    "                validation_data=(valid_data16,\n",
    "                                 valid_data16),\n",
    "                callbacks=[es])"
   ]
  },
  {
   "cell_type": "markdown",
   "metadata": {},
   "source": [
    "### Save Model"
   ]
  },
  {
   "cell_type": "code",
   "execution_count": 35,
   "metadata": {},
   "outputs": [],
   "source": [
    "# autoencoder2.save('second_qpsk_model.model')\n",
    "# autoencoder2.save_weights('second_qpsk_model.h5')"
   ]
  },
  {
   "cell_type": "code",
   "execution_count": 94,
   "metadata": {},
   "outputs": [],
   "source": [
    "# Add the validation loss to the end of the name\n",
    "# autoencoder2_2.save('./models/autoencoder_2_2_leaky_relu.model')\n",
    "# autoencoder2_2.save_weights('./models/autoencoder_2_2_leaky_relu.h5')\n",
    "\n",
    "# autoencoder2_2.save('./models/autoencoder_2_2_leaky_relu_0.0047.model')\n",
    "# autoencoder2_2.save_weights('./models/autoencoder_2_2_leaky_relu_0.0047.h5')\n",
    "\n",
    "# autoencoder2_2.save('./models/autoencoder_2_2_leaky_relu_0.0683.model')\n",
    "# autoencoder2_2.save_weights('./models/autoencoder_2_2_leaky_relu_0.0683.h5')"
   ]
  },
  {
   "cell_type": "code",
   "execution_count": 71,
   "metadata": {},
   "outputs": [],
   "source": [
    "# autoencoder2_4.save('./models/autoencoder_2_4_leaky_relu.model')\n",
    "# autoencoder2_4.save_weights('./models/autoencoder_2_4_leaky_relu.h5')\n",
    "\n",
    "# autoencoder2_4.save('./models/autoencoder_2_4_leaky_relu0.5170.model')\n",
    "# autoencoder2_4.save_weights('./models/autoencoder_2_4_leaky_relu0.5170.h5')"
   ]
  },
  {
   "cell_type": "code",
   "execution_count": 54,
   "metadata": {},
   "outputs": [],
   "source": [
    "# autoencoder8_8.save('./models/autoencoder_8_8_leaky_relu1.0618.model')\n",
    "# autoencoder8_8.save_weights('./models/autoencoder_8_8_leaky_relu1.0618.h5')\n",
    "\n",
    "# autoencoder8_8.save('./models/autoencoder_8_8_leaky_relu1.2535.model')\n",
    "# autoencoder8_8.save_weights('./models/autoencoder_8_8_leaky_relu1.2535.h5')\n",
    "\n",
    "# Changed from 8_4 to 8_8\n",
    "# autoencoder8_8.save('./models/autoencoder_8_8_leaky_relu0.0750.model')\n",
    "# autoencoder8_8.save_weights('./models/autoencoder_8_8_leaky_relu0.0750.h5')\n",
    "\n",
    "# autoencoder8_8.save('./models/autoencoder_8_8_leaky_relu0.0149.model')\n",
    "# autoencoder8_8.save_weights('./models/autoencoder_8_8_leaky_relu0.0149.h5')\n",
    "\n",
    "# autoencoder8_8.save('./models/autoencoder_8_8_leaky_relu0.0123.model')\n",
    "# autoencoder8_8.save_weights('./models/autoencoder_8_8_leaky_relu0.0123.h5')"
   ]
  },
  {
   "cell_type": "code",
   "execution_count": 55,
   "metadata": {},
   "outputs": [],
   "source": [
    "# autoencoder8_8_tap.save('./models/autoencoder_8_8_tap_leaky_relu0.0349.model')\n",
    "# autoencoder8_8_tap.save_weights('./models/autoencoder_8_8_tap_leaky_relu0.0349.h5')\n",
    "\n",
    "# autoencoder8_8_tap.save('./models/autoencoder_8_8_tap_leaky_relu0.0162.model')\n",
    "# autoencoder8_8_tap.save_weights('./models/autoencoder_8_8_tap_leaky_relu0.0162.h5')\n",
    "\n",
    "# autoencoder8_8_tap.save('./models/autoencoder_8_8_tap_leaky_relu0.0144.model')\n",
    "# autoencoder8_8_tap.save_weights('./models/autoencoder_8_8_tap_leaky_relu0.0144.h5')"
   ]
  },
  {
   "cell_type": "code",
   "execution_count": 84,
   "metadata": {},
   "outputs": [],
   "source": [
    "# Need to add final validation losses to all of these\n",
    "# autoencoder8_8_tap_2l.save('./models/autoencoder8_8_tap_2l0.0166.model')\n",
    "# autoencoder8_8_tap_2l.save_weights('./models/autoencoder8_8_tap_2l0.0166.h5')\n",
    "\n",
    "# autoencoder8_8_tap_2l.save('./models/autoencoder8_8_tap_2l0.1763.model')\n",
    "# autoencoder8_8_tap_2l.save_weights('./models/autoencoder8_8_tap_2l0.1763.h5')\n",
    "\n",
    "\n",
    "# autoencoder8_8_tap_3l.save('./models/autoencoder8_8_tap_3l0.0111.model')\n",
    "# autoencoder8_8_tap_3l.save_weights('./models/autoencoder8_8_tap_3l0.0111.h5')\n",
    "\n",
    "# autoencoder8_8_tap_4l.save('./models/autoencoder8_8_tap_4l0.0108.model')\n",
    "# autoencoder8_8_tap_4l.save_weights('./models/autoencoder8_8_tap_4l0.0108.h5')\n",
    "\n",
    "# autoencoder8_8_tap_5l.save('./models/autoencoder8_8_tap_5l0.0168.model')\n",
    "# autoencoder8_8_tap_5l.save_weights('./models/autoencoder8_8_tap_5l0.0168.h5')"
   ]
  },
  {
   "cell_type": "code",
   "execution_count": 71,
   "metadata": {},
   "outputs": [],
   "source": [
    "# Seems to have been overwritten somehow and now I can't get it back.\n",
    "# All my new val losses are like 10^3 worse\n",
    "# autoencoder7_4.save('./models/autoencoder_7_4_leaky_relu8.8851e-4.model')\n",
    "# autoencoder7_4.save_weights('./models/autoencoder_7_4_leaky_relu8.8851e-4.h5')\n",
    "\n",
    "# autoencoder7_4.save('./models/autoencoder_7_4_leaky_relu.model0.9621')\n",
    "# autoencoder7_4.save_weights('./models/autoencoder_7_4_leaky_relu0.9621.h5')\n",
    "\n",
    "# autoencoder7_4.save('./models/autoencoder_7_4_leaky_relu.model0.8885')\n",
    "# autoencoder7_4.save_weights('./models/autoencoder_7_4_leaky_relu0.8885.h5')\n",
    "\n",
    "# autoencoder7_4.save('./models/autoencoder_7_4_leaky_relu.model0.8866')\n",
    "# autoencoder7_4.save_weights('./models/autoencoder_7_4_leaky_relu0.8866.h5')"
   ]
  },
  {
   "cell_type": "markdown",
   "metadata": {},
   "source": [
    "### Load Model"
   ]
  },
  {
   "cell_type": "code",
   "execution_count": 56,
   "metadata": {},
   "outputs": [],
   "source": [
    "autoencoder2_2.load_weights('./models/autoencoder_2_2_leaky_relu_0.0047.h5', by_name=True)\n",
    "autoencoder2_4.load_weights('./models/autoencoder_2_4_leaky_relu.h5', by_name=True)\n",
    "autoencoder8_8.load_weights('./models/autoencoder_8_8_leaky_relu0.0123.h5', by_name=True)\n",
    "# autoencoder8_8_tap.load_weights('./models/autoencoder_8_8_tap_leaky_relu0.0144.h5', by_name=True)\n",
    "# autoencoder7_4.load_weights('./models/autoencoder_7_4_leaky_relu8.8851e-4.h5', by_name=True)\n",
    "autoencoder7_4.load_weights('./models/autoencoder_7_4_leaky_relu0.8866.h5', by_name=True)\n",
    "\n",
    "autoencoder8_8_tap_2l.load_weights('./models/autoencoder8_8_tap_2l0.0166.h5', by_name=True)\n",
    "autoencoder8_8_tap_3l.load_weights('./models/autoencoder8_8_tap_3l0.0111.h5', by_name=True)\n",
    "autoencoder8_8_tap_4l.load_weights('./models/autoencoder8_8_tap_4l0.0108.h5', by_name=True)\n",
    "autoencoder8_8_tap_5l.load_weights('./models/autoencoder8_8_tap_5l0.0168.h5', by_name=True)"
   ]
  },
  {
   "cell_type": "code",
   "execution_count": null,
   "metadata": {},
   "outputs": [],
   "source": [
    "## QPSK\n",
    "# autoencoder_loaded, transmitter_loaded, reciever_loaded, autoencoder_symbs_loaded, k, Nc, Nr = make_model(4, 2, sigma, \"relu\")\n",
    "# # autoencoder_loaded = load_model('first_qpsk_model.model')\n",
    "# autoencoder_loaded.load_weights('second_qpsk_model.h5', by_name=True)"
   ]
  },
  {
   "cell_type": "code",
   "execution_count": 40,
   "metadata": {},
   "outputs": [],
   "source": [
    "# ## 16-QAM\n",
    "# autoencoder_loaded, transmitter_loaded, reciever_loaded, \\\n",
    "#     autoencoder_symbs_loaded, k, Nc, Nr = make_model(4, 2, sigma, \"relu\")\n",
    "# autoencoder_loaded.load_weights('./models/second_qpsk_model.h5', by_name=True)"
   ]
  },
  {
   "cell_type": "code",
   "execution_count": 54,
   "metadata": {},
   "outputs": [],
   "source": [
    "all_one_hot_messages4 = np.diag(np.ones(4))\n",
    "all_one_hot_messages16 = np.diag(np.ones(16))\n",
    "all_one_hot_messages256 = np.diag(np.ones(256))"
   ]
  },
  {
   "cell_type": "code",
   "execution_count": 67,
   "metadata": {},
   "outputs": [],
   "source": [
    "# # Autoencoder2\n",
    "# # 10 epochs, sigma = 7, M=4,Nc=1\n",
    "# # Batch size = 1000*M (=4)\n",
    "# autoencoder2_2.predict(all_one_hot_messages4)"
   ]
  },
  {
   "cell_type": "code",
   "execution_count": 66,
   "metadata": {},
   "outputs": [],
   "source": [
    "# # The new ones\n",
    "# # Autoencoder2\n",
    "# # 10 epochs, sigma = 7, M=4,Nc=1\n",
    "# # Batch size = 1000*M (=4)\n",
    "# autoencoder2_2.predict(all_one_hot_messages4)"
   ]
  },
  {
   "cell_type": "code",
   "execution_count": 65,
   "metadata": {},
   "outputs": [],
   "source": [
    "# # Autoencoder2\n",
    "# # 10 epochs, sigma = 7, M=4,Nc=1\n",
    "# # Batch size = 1000*M (=4)\n",
    "# autoencoder_loaded.predict(all_one_hot_messages4)"
   ]
  },
  {
   "cell_type": "markdown",
   "metadata": {},
   "source": [
    "#### 16-QAM"
   ]
  },
  {
   "cell_type": "code",
   "execution_count": 63,
   "metadata": {},
   "outputs": [],
   "source": [
    "# # Autoencoder16\n",
    "# # 10 epochs, sigma = 7, M=16,Nc=1\n",
    "# # Batch size = M (=4)\n",
    "# autoencoder2_4.predict(all_one_hot_messages16)"
   ]
  },
  {
   "cell_type": "code",
   "execution_count": 64,
   "metadata": {},
   "outputs": [],
   "source": [
    "# # Autoencoder16\n",
    "# # 10 epochs, sigma = 7, M=16,Nc=1\n",
    "# # Batch size = M (=4)\n",
    "# autoencoder7_4.predict(all_one_hot_messages16)"
   ]
  },
  {
   "cell_type": "markdown",
   "metadata": {},
   "source": [
    "#### Changing batch size"
   ]
  },
  {
   "cell_type": "markdown",
   "metadata": {},
   "source": [
    "### Look at the channel symbols"
   ]
  },
  {
   "cell_type": "markdown",
   "metadata": {},
   "source": [
    "Ideally for channel symbols I want to plot the in phase and quaternary symbols as my x and y axis"
   ]
  },
  {
   "cell_type": "markdown",
   "metadata": {},
   "source": [
    "#### Shape of the channel symbols section\n",
    "It is currently (M,Nc,2), but it should either be (M,2) or (Nc,2), I don't really get how the n comes into it. I think normally n is the number of bits you'd be allowed to transmit with, so n bits allows $2^n$ different complex channel symbols. But I can have continuous values. So what is the point of the the n. <br>\n",
    "Potentially what I need to do is to reduce the channel symbol layer to only (1,2), then it will have to find continuous values using only two dimensions, which is kind of what I want as I only have two different axes. <br>\n",
    "Alternatively I could make R the ratio between the k and the number of real bits used as opposed to the number of complex bits used."
   ]
  },
  {
   "cell_type": "markdown",
   "metadata": {},
   "source": [
    "### Weird encoding\n",
    "For some reason it's never using the 11 option. Only 00, 01 and 10. I don't know why this is but I supect it's something to do with the regularisation.<br>\n",
    "Because of the regularisation I'd expect it to be able to give cc instead of 11, where $c=\\sqrt{2}$"
   ]
  },
  {
   "cell_type": "markdown",
   "metadata": {},
   "source": [
    "### QPSK Constellation Diagrams\n",
    "#### Autoencoder2 (changed back to l2_normalise)\n",
    "axis = 2, 10 epochs"
   ]
  },
  {
   "cell_type": "code",
   "execution_count": 172,
   "metadata": {},
   "outputs": [
    {
     "name": "stdout",
     "output_type": "stream",
     "text": [
      "M=4,Nc=1,Nr=2\n",
      "(4, 1, 2)\n"
     ]
    },
    {
     "data": {
      "text/plain": [
       "array([[[-0.9896787 ,  0.14330396]],\n",
       "\n",
       "       [[ 0.9832694 , -0.18215774]],\n",
       "\n",
       "       [[-0.16840957, -0.98571706]],\n",
       "\n",
       "       [[ 0.12707114,  0.9918936 ]]], dtype=float32)"
      ]
     },
     "execution_count": 172,
     "metadata": {},
     "output_type": "execute_result"
    }
   ],
   "source": [
    "print(f\"M={M},Nc={Nc},Nr={Nr}\")\n",
    "print(transmitter2.predict(all_one_hot_messages).shape)\n",
    "#(M,Nc,2)\n",
    "transmitter2.predict(all_one_hot_messages)"
   ]
  },
  {
   "cell_type": "code",
   "execution_count": 240,
   "metadata": {},
   "outputs": [
    {
     "data": {
      "image/png": "[encoded data removed]",
      "text/plain": [
       "<Figure size 432x288 with 1 Axes>"
      ]
     },
     "metadata": {
      "needs_background": "light"
     },
     "output_type": "display_data"
    }
   ],
   "source": [
    "plot_constellation_diagram(all_one_hot_messages, transmitter2, f\"M={M},Nc={Nc},Nr={Nr}\")\n",
    "# plt.savefig(\"./figures/qpsk_constellation_diagram.png\")"
   ]
  },
  {
   "cell_type": "code",
   "execution_count": 44,
   "metadata": {},
   "outputs": [
    {
     "data": {
      "image/png": "[encoded data removed]",
      "text/plain": [
       "<Figure size 432x288 with 1 Axes>"
      ]
     },
     "metadata": {
      "needs_background": "light"
     },
     "output_type": "display_data"
    }
   ],
   "source": [
    "plot_constellation_diagram(all_one_hot_messages4, transmitter4, f\"M={M},Nc={Nc4},Nr={Nr4}\")\n",
    "# plt.savefig(\"./figures/qpsk_constellation_diagram.png\")"
   ]
  },
  {
   "cell_type": "markdown",
   "metadata": {},
   "source": [
    "#### Autoencoder4 trained from fresh2\n",
    "axis = 2, 10 epochs"
   ]
  },
  {
   "cell_type": "code",
   "execution_count": 72,
   "metadata": {},
   "outputs": [
    {
     "name": "stdout",
     "output_type": "stream",
     "text": [
      "M=4,Nc=1,Nr=2\n",
      "(4, 1, 2)\n"
     ]
    },
    {
     "data": {
      "text/plain": [
       "array([[[-0.8381607 ,  0.5454234 ]],\n",
       "\n",
       "       [[-0.0331063 ,  0.9994519 ]],\n",
       "\n",
       "       [[ 0.83851695,  0.54487556]],\n",
       "\n",
       "       [[ 0.9236054 , -0.3833446 ]]], dtype=float32)"
      ]
     },
     "execution_count": 72,
     "metadata": {},
     "output_type": "execute_result"
    }
   ],
   "source": [
    "print(f\"M={M},Nc={Nc4},Nr={Nr4}\")\n",
    "print(transmitter4.predict(all_one_hot_messages4).shape)\n",
    "#(M,Nc,2)\n",
    "transmitter4.predict(all_one_hot_messages4)"
   ]
  },
  {
   "cell_type": "code",
   "execution_count": 73,
   "metadata": {},
   "outputs": [
    {
     "data": {
      "image/png": "[encoded data removed]",
      "text/plain": [
       "<Figure size 432x288 with 1 Axes>"
      ]
     },
     "metadata": {
      "needs_background": "light"
     },
     "output_type": "display_data"
    }
   ],
   "source": [
    "plot_constellation_diagram(all_one_hot_messages4, transmitter4, f\"M={M},Nc={Nc4},Nr={Nr4}\")\n",
    "# plt.savefig(\"./figures/qpsk_constellation_diagram.png\")"
   ]
  },
  {
   "cell_type": "markdown",
   "metadata": {},
   "source": [
    "#### Autoencoder4 trained from fresh2\n",
    "Same as above, but trained for 10 epochs (an extra 10)"
   ]
  },
  {
   "cell_type": "code",
   "execution_count": 75,
   "metadata": {},
   "outputs": [
    {
     "name": "stdout",
     "output_type": "stream",
     "text": [
      "M=4,Nc=1,Nr=2\n",
      "(4, 1, 2)\n"
     ]
    },
    {
     "data": {
      "text/plain": [
       "array([[[-0.83112544,  0.556085  ]],\n",
       "\n",
       "       [[ 0.02088728,  0.9997818 ]],\n",
       "\n",
       "       [[ 0.785271  ,  0.61915225]],\n",
       "\n",
       "       [[ 0.92870617, -0.37081653]]], dtype=float32)"
      ]
     },
     "execution_count": 75,
     "metadata": {},
     "output_type": "execute_result"
    }
   ],
   "source": [
    "print(f\"M={M},Nc={Nc4},Nr={Nr4}\")\n",
    "print(transmitter4.predict(all_one_hot_messages4).shape)\n",
    "#(M,Nc,2)\n",
    "transmitter4.predict(all_one_hot_messages4)"
   ]
  },
  {
   "cell_type": "code",
   "execution_count": 76,
   "metadata": {},
   "outputs": [
    {
     "data": {
      "image/png": "[encoded data removed]",
      "text/plain": [
       "<Figure size 432x288 with 1 Axes>"
      ]
     },
     "metadata": {
      "needs_background": "light"
     },
     "output_type": "display_data"
    }
   ],
   "source": [
    "plot_constellation_diagram(all_one_hot_messages4, transmitter4, f\"M={M},Nc={Nc4},Nr={Nr4}\")\n",
    "# plt.savefig(\"./figures/qpsk_constellation_diagram.png\")"
   ]
  },
  {
   "cell_type": "markdown",
   "metadata": {},
   "source": [
    "#### Autoencoder4 trained from fresh3\n",
    "Same as above, but trained for 100 epochs (an extra 80)"
   ]
  },
  {
   "cell_type": "code",
   "execution_count": 78,
   "metadata": {},
   "outputs": [
    {
     "name": "stdout",
     "output_type": "stream",
     "text": [
      "M=4,Nc=1,Nr=2\n",
      "(4, 1, 2)\n"
     ]
    },
    {
     "data": {
      "text/plain": [
       "array([[[-0.81807053,  0.5751178 ]],\n",
       "\n",
       "       [[ 0.05629861,  0.998414  ]],\n",
       "\n",
       "       [[ 0.87932265,  0.47622645]],\n",
       "\n",
       "       [[ 0.88242936, -0.47044495]]], dtype=float32)"
      ]
     },
     "execution_count": 78,
     "metadata": {},
     "output_type": "execute_result"
    }
   ],
   "source": [
    "print(f\"M={M},Nc={Nc4},Nr={Nr4}\")\n",
    "print(transmitter4.predict(all_one_hot_messages4).shape)\n",
    "#(M,Nc,2)\n",
    "transmitter4.predict(all_one_hot_messages4)"
   ]
  },
  {
   "cell_type": "code",
   "execution_count": 79,
   "metadata": {},
   "outputs": [
    {
     "data": {
      "image/png": "[encoded data removed]",
      "text/plain": [
       "<Figure size 432x288 with 1 Axes>"
      ]
     },
     "metadata": {
      "needs_background": "light"
     },
     "output_type": "display_data"
    }
   ],
   "source": [
    "plot_constellation_diagram(all_one_hot_messages4, transmitter4, f\"M={M},Nc={Nc4},Nr={Nr4}\")\n",
    "# plt.savefig(\"./figures/qpsk_constellation_diagram.png\")"
   ]
  },
  {
   "cell_type": "markdown",
   "metadata": {},
   "source": [
    "#### Autoencoder4adam\n",
    "Trained over 10 epochs using an Adam optimiser as used in the paper"
   ]
  },
  {
   "cell_type": "code",
   "execution_count": 86,
   "metadata": {},
   "outputs": [
    {
     "name": "stdout",
     "output_type": "stream",
     "text": [
      "M=4,Nc=1,Nr=2\n",
      "(4, 1, 2)\n"
     ]
    },
    {
     "data": {
      "text/plain": [
       "array([[[-0.99388415, -0.11042722]],\n",
       "\n",
       "       [[ 0.45482168,  0.89058256]],\n",
       "\n",
       "       [[ 0.6019942 , -0.79850054]],\n",
       "\n",
       "       [[-0.99388415, -0.11042722]]], dtype=float32)"
      ]
     },
     "execution_count": 86,
     "metadata": {},
     "output_type": "execute_result"
    }
   ],
   "source": [
    "print(f\"M={M},Nc={Nc4},Nr={Nr4}\")\n",
    "print(transmitter4adam.predict(all_one_hot_messages4).shape)\n",
    "#(M,Nc,2)\n",
    "transmitter4adam.predict(all_one_hot_messages4)"
   ]
  },
  {
   "cell_type": "code",
   "execution_count": 87,
   "metadata": {},
   "outputs": [
    {
     "data": {
      "image/png": "[encoded data removed]",
      "text/plain": [
       "<Figure size 432x288 with 1 Axes>"
      ]
     },
     "metadata": {
      "needs_background": "light"
     },
     "output_type": "display_data"
    }
   ],
   "source": [
    "plot_constellation_diagram(all_one_hot_messages4, transmitter4adam, f\"M={M},Nc={Nc4},Nr={Nr4}\")\n",
    "# plt.savefig(\"./figures/qpsk_constellation_diagram.png\")"
   ]
  },
  {
   "cell_type": "markdown",
   "metadata": {},
   "source": [
    "#### New training set, 1 epochs"
   ]
  },
  {
   "cell_type": "code",
   "execution_count": 71,
   "metadata": {},
   "outputs": [
    {
     "name": "stdout",
     "output_type": "stream",
     "text": [
      "M=4,Nc=1,Nr=2\n",
      "(4, 1, 2)\n"
     ]
    },
    {
     "data": {
      "text/plain": [
       "array([[[ 0.08172178, -2.2294135 ]],\n",
       "\n",
       "       [[-4.237483  , -3.2946773 ]],\n",
       "\n",
       "       [[ 1.7539062 ,  2.044017  ]],\n",
       "\n",
       "       [[-1.433624  ,  1.4104607 ]]], dtype=float32)"
      ]
     },
     "execution_count": 71,
     "metadata": {},
     "output_type": "execute_result"
    }
   ],
   "source": [
    "print(f\"M={M},Nc={Nc},Nr={Nr}\")\n",
    "print(transmitter.predict(all_one_hot_messages).shape)\n",
    "#(M,Nc,2)\n",
    "transmitter.predict(all_one_hot_messages)"
   ]
  },
  {
   "cell_type": "code",
   "execution_count": 72,
   "metadata": {},
   "outputs": [
    {
     "data": {
      "image/png": "[encoded data removed]",
      "text/plain": [
       "<Figure size 432x288 with 1 Axes>"
      ]
     },
     "metadata": {
      "needs_background": "light"
     },
     "output_type": "display_data"
    }
   ],
   "source": [
    "plot_constellation_diagram(all_one_hot_messages, f\"M={M},Nc={Nc},Nr={Nr}\")\n",
    "# plt.savefig(\"./figures/wrong_constellation_diagram.png\")"
   ]
  },
  {
   "cell_type": "markdown",
   "metadata": {},
   "source": [
    "### 16-QAM Constellation Diagrams\n",
    "#### Autoencoder16\n",
    "10 epochs"
   ]
  },
  {
   "cell_type": "code",
   "execution_count": 263,
   "metadata": {},
   "outputs": [
    {
     "name": "stdout",
     "output_type": "stream",
     "text": [
      "M=16,Nc=1,Nr=2\n",
      "(16, 1, 2)\n"
     ]
    },
    {
     "data": {
      "text/plain": [
       "array([[[-0.8166406 ,  0.5771466 ]],\n",
       "\n",
       "       [[-0.8171146 ,  0.5764752 ]],\n",
       "\n",
       "       [[-0.81698024,  0.57666564]],\n",
       "\n",
       "       [[-0.81669366,  0.5770714 ]],\n",
       "\n",
       "       [[-0.8170382 ,  0.5765834 ]],\n",
       "\n",
       "       [[-0.81692266,  0.57674736]],\n",
       "\n",
       "       [[-0.81657773,  0.57723564]],\n",
       "\n",
       "       [[-0.8168798 ,  0.5768078 ]],\n",
       "\n",
       "       [[-0.81660795,  0.5771928 ]],\n",
       "\n",
       "       [[-0.81739414,  0.5760787 ]],\n",
       "\n",
       "       [[-0.81669426,  0.57707053]],\n",
       "\n",
       "       [[-0.8165637 ,  0.5772553 ]],\n",
       "\n",
       "       [[-0.81745994,  0.5759855 ]],\n",
       "\n",
       "       [[-0.8167853 ,  0.5769417 ]],\n",
       "\n",
       "       [[-0.8165637 ,  0.5772553 ]],\n",
       "\n",
       "       [[-0.8165637 ,  0.5772553 ]]], dtype=float32)"
      ]
     },
     "execution_count": 263,
     "metadata": {},
     "output_type": "execute_result"
    }
   ],
   "source": [
    "print(f\"M={M},Nc={Nc},Nr={Nr}\")\n",
    "print(transmitter16.predict(all_one_hot_messages16).shape)\n",
    "#(M,Nc,2)\n",
    "transmitter16.predict(all_one_hot_messages16)"
   ]
  },
  {
   "cell_type": "code",
   "execution_count": 264,
   "metadata": {},
   "outputs": [
    {
     "data": {
      "image/png": "[encoded data removed]",
      "text/plain": [
       "<Figure size 432x288 with 1 Axes>"
      ]
     },
     "metadata": {
      "needs_background": "light"
     },
     "output_type": "display_data"
    }
   ],
   "source": [
    "plot_constellation_diagram(all_one_hot_messages16, transmitter16, f\"M={M},Nc={Nc},Nr={Nr}\")\n",
    "# plt.savefig(\"./figures/qpsk_constellation_diagram.png\")"
   ]
  },
  {
   "cell_type": "markdown",
   "metadata": {},
   "source": [
    "#### Autoencoder16\n",
    "24 epochs, validation loss converged to 2.7728 and stopped decreasing. Interestingly the points are not exactly the same as they were when the QPSK case had inputs mapping to the same channel symbol"
   ]
  },
  {
   "cell_type": "code",
   "execution_count": 266,
   "metadata": {},
   "outputs": [
    {
     "name": "stdout",
     "output_type": "stream",
     "text": [
      "M=16,Nc=1,Nr=2\n",
      "(16, 1, 2)\n"
     ]
    },
    {
     "data": {
      "text/plain": [
       "array([[[-0.816641  ,  0.577146  ]],\n",
       "\n",
       "       [[-0.8171153 ,  0.57647425]],\n",
       "\n",
       "       [[-0.81697845,  0.5766682 ]],\n",
       "\n",
       "       [[-0.8166949 ,  0.5770695 ]],\n",
       "\n",
       "       [[-0.81704015,  0.57658076]],\n",
       "\n",
       "       [[-0.81692564,  0.5767431 ]],\n",
       "\n",
       "       [[-0.8165782 ,  0.57723486]],\n",
       "\n",
       "       [[-0.81688267,  0.5768038 ]],\n",
       "\n",
       "       [[-0.81660825,  0.5771923 ]],\n",
       "\n",
       "       [[-0.81739527,  0.57607704]],\n",
       "\n",
       "       [[-0.81669563,  0.5770686 ]],\n",
       "\n",
       "       [[-0.8165637 ,  0.5772553 ]],\n",
       "\n",
       "       [[-0.8174593 ,  0.5759863 ]],\n",
       "\n",
       "       [[-0.8167832 ,  0.57694477]],\n",
       "\n",
       "       [[-0.8165637 ,  0.5772553 ]],\n",
       "\n",
       "       [[-0.8165637 ,  0.5772553 ]]], dtype=float32)"
      ]
     },
     "execution_count": 266,
     "metadata": {},
     "output_type": "execute_result"
    }
   ],
   "source": [
    "print(f\"M={M},Nc={Nc},Nr={Nr}\")\n",
    "print(transmitter16.predict(all_one_hot_messages16).shape)\n",
    "#(M,Nc,2)\n",
    "transmitter16.predict(all_one_hot_messages16)"
   ]
  },
  {
   "cell_type": "code",
   "execution_count": 267,
   "metadata": {},
   "outputs": [
    {
     "data": {
      "image/png": "[encoded data removed]",
      "text/plain": [
       "<Figure size 432x288 with 1 Axes>"
      ]
     },
     "metadata": {
      "needs_background": "light"
     },
     "output_type": "display_data"
    }
   ],
   "source": [
    "plot_constellation_diagram(all_one_hot_messages16, transmitter16, f\"M={M},Nc={Nc},Nr={Nr}\")\n",
    "# plt.savefig(\"./figures/qpsk_constellation_diagram.png\")"
   ]
  },
  {
   "cell_type": "markdown",
   "metadata": {},
   "source": [
    "### New Leaky Relu Autoencoder \n",
    "##### Autoencoder2_2"
   ]
  },
  {
   "cell_type": "code",
   "execution_count": 93,
   "metadata": {},
   "outputs": [
    {
     "name": "stdout",
     "output_type": "stream",
     "text": [
      "M=4,Nc=1,Nr=2\n",
      "(4, 1, 2)\n"
     ]
    },
    {
     "data": {
      "image/png": "[encoded data removed]",
      "text/plain": [
       "<Figure size 432x288 with 1 Axes>"
      ]
     },
     "metadata": {},
     "output_type": "display_data"
    }
   ],
   "source": [
    "print(f\"M={4},Nc={Nc2_2},Nr={Nr2_2}\")\n",
    "print(transmitter2_2.predict(all_one_hot_messages4).shape)\n",
    "#(M,Nc,2)\n",
    "transmitter2_2.predict(all_one_hot_messages4)\n",
    "\n",
    "# The constellation diagram\n",
    "plot_constellation_diagram(all_one_hot_messages4, transmitter2_2, f\"M={M},Nc={Nc2_2},Nr={Nr2_2}\")\n",
    "# plt.savefig(\"./figures/leaky_relu_qpsk_constellation_diagram.png\")"
   ]
  },
  {
   "cell_type": "markdown",
   "metadata": {},
   "source": [
    "##### Autoencoder2_4"
   ]
  },
  {
   "cell_type": "code",
   "execution_count": 56,
   "metadata": {},
   "outputs": [
    {
     "name": "stdout",
     "output_type": "stream",
     "text": [
      "M=256,Nc=1,Nr=2\n",
      "(16, 1, 2)\n"
     ]
    },
    {
     "data": {
      "image/png": "[encoded data removed]",
      "text/plain": [
       "<Figure size 432x288 with 1 Axes>"
      ]
     },
     "metadata": {
      "needs_background": "light"
     },
     "output_type": "display_data"
    }
   ],
   "source": [
    "print(f\"M={M},Nc={Nc2_4},Nr={Nr2_4}\")\n",
    "print(transmitter2_4.predict(all_one_hot_messages16).shape)\n",
    "#(M,Nc,2)\n",
    "transmitter2_4.predict(all_one_hot_messages16)\n",
    "\n",
    "# The constellation diagram\n",
    "plot_constellation_diagram(all_one_hot_messages16, transmitter2_4, f\"M={M},Nc={Nc2_4},Nr={Nr2_4}\")\n",
    "# plt.savefig(\"./figures/leaky_relu_16_QAM_constellation_diagram.png\")"
   ]
  },
  {
   "cell_type": "markdown",
   "metadata": {},
   "source": [
    "##### Autoencoder7_4"
   ]
  },
  {
   "cell_type": "code",
   "execution_count": 68,
   "metadata": {},
   "outputs": [
    {
     "data": {
      "image/png": "[encoded data removed]",
      "text/plain": [
       "<Figure size 432x288 with 1 Axes>"
      ]
     },
     "metadata": {
      "needs_background": "light"
     },
     "output_type": "display_data"
    }
   ],
   "source": [
    "plot_tSNE_constellation_diagram(all_one_hot_messages16, transmitter7_4)\n",
    "# plt.savefig(\"./figures/leaky_relu_7_4_constellation_diagram.png\")"
   ]
  },
  {
   "cell_type": "code",
   "execution_count": 75,
   "metadata": {},
   "outputs": [
    {
     "data": {
      "image/png": "[encoded data removed]",
      "text/plain": [
       "<Figure size 432x288 with 1 Axes>"
      ]
     },
     "metadata": {},
     "output_type": "display_data"
    }
   ],
   "source": [
    "plot_tSNE_constellation_diagram(all_one_hot_messages16, transmitter7_4)\n",
    "# plt.savefig(\"./figures/leaky_relu_7_4_constellation_diagram.png\")"
   ]
  },
  {
   "cell_type": "code",
   "execution_count": 77,
   "metadata": {
    "scrolled": true
   },
   "outputs": [
    {
     "data": {
      "image/png": "[encoded data removed]",
      "text/plain": [
       "<Figure size 432x288 with 1 Axes>"
      ]
     },
     "metadata": {
      "needs_background": "light"
     },
     "output_type": "display_data"
    }
   ],
   "source": [
    "plot_noisy_tSNE_constellation_diagram(all_one_hot_messages16, channel_sym_with_noise7_4, 10, dot_size=1)\n",
    "# plt.savefig(\"./figures/leaky_relu_7_4_constellation_diagram.png\")"
   ]
  },
  {
   "cell_type": "code",
   "execution_count": 83,
   "metadata": {},
   "outputs": [
    {
     "data": {
      "image/png": "[encoded data removed]",
      "text/plain": [
       "<Figure size 432x288 with 1 Axes>"
      ]
     },
     "metadata": {
      "needs_background": "light"
     },
     "output_type": "display_data"
    }
   ],
   "source": [
    "plot_noisy_tSNE_constellation_diagram(all_one_hot_messages16, transmitter7_4, 50)\n",
    "# plt.savefig(\"./figures/leaky_relu_7_4_constellation_diagram_with_noise.png\")"
   ]
  },
  {
   "cell_type": "markdown",
   "metadata": {},
   "source": [
    "### Look at the output"
   ]
  },
  {
   "cell_type": "code",
   "execution_count": 88,
   "metadata": {},
   "outputs": [],
   "source": [
    "# all_one_hot_messages4"
   ]
  },
  {
   "cell_type": "code",
   "execution_count": 87,
   "metadata": {},
   "outputs": [],
   "source": [
    "# autoencoder2_2.predict(all_one_hot_messages4)"
   ]
  },
  {
   "cell_type": "code",
   "execution_count": 86,
   "metadata": {},
   "outputs": [],
   "source": [
    "# autoencoder_symbs2_2.predict(all_one_hot_messages4)"
   ]
  },
  {
   "cell_type": "code",
   "execution_count": 85,
   "metadata": {},
   "outputs": [],
   "source": [
    "# all_one_hot_messages16"
   ]
  },
  {
   "cell_type": "code",
   "execution_count": 84,
   "metadata": {},
   "outputs": [],
   "source": [
    "# autoencoder2_4.predict(all_one_hot_messages16)"
   ]
  },
  {
   "cell_type": "code",
   "execution_count": 83,
   "metadata": {},
   "outputs": [],
   "source": [
    "# autoencoder_symbs2_4.predict(all_one_hot_messages16)"
   ]
  },
  {
   "cell_type": "markdown",
   "metadata": {},
   "source": [
    "### Assess performance across a range of SNRs\n",
    "The O'Shea paper defined the variance of the noise to be $β = (2RE_b/N_0)^{−1}$"
   ]
  },
  {
   "cell_type": "code",
   "execution_count": 204,
   "metadata": {},
   "outputs": [
    {
     "data": {
      "application/vnd.jupyter.widget-view+json": {
       "model_id": "b6f5affd482341e08c0b3c2bf75b728f",
       "version_major": 2,
       "version_minor": 0
      },
      "text/plain": [
       "HBox(children=(IntProgress(value=0, description='1st loop', max=25, style=ProgressStyle(description_width='ini…"
      ]
     },
     "metadata": {},
     "output_type": "display_data"
    },
    {
     "name": "stdout",
     "output_type": "stream",
     "text": [
      "Took 2131.674866437912/25\n"
     ]
    }
   ],
   "source": [
    "# (2,2)\n",
    "t0 = time()\n",
    "Eb_N0_dbs = np.arange(-4,8.5,0.5)\n",
    "bler = np.empty(Eb_N0_dbs.size)\n",
    "for i, ratio_db in enumerate(tqdm_notebook(Eb_N0_dbs, desc=\"1st loop\")):\n",
    "    print(f\"ratio_db = {ratio_db}, i = {i}/{Eb_N0_dbs.size}\", end=\"\\r\")\n",
    "    ## Get noise std_dev \n",
    "    noise_std = get_noise_sigma(ratio_db, Rr=1)\n",
    "    ## Make new model with loaded weights\n",
    "    autoencoder_loaded, _, _, autoencoder_symbs_loaded, \\\n",
    "        _, _, _ \\\n",
    "        = make_model(M, R, noise_std, \"relu\")\n",
    "    autoencoder_loaded.load_weights('second_qpsk_model.h5', by_name=True)\n",
    "        \n",
    "    ## Check Accuracy on test set\n",
    "    pred_symbs = autoencoder_symbs_loaded.predict(test_data)\n",
    "    bler[i] = get_block_error_rate(test_data, pred_symbs)\n",
    "print(f\"Took {time() - t0}\")"
   ]
  },
  {
   "cell_type": "markdown",
   "metadata": {},
   "source": [
    "#### Get performance of (2,2) and (8,8) leaky relu models across range fo SNRs"
   ]
  },
  {
   "cell_type": "code",
   "execution_count": 96,
   "metadata": {},
   "outputs": [
    {
     "name": "stdout",
     "output_type": "stream",
     "text": [
      "ratio_db = -4.0, i = 1/25\r"
     ]
    },
    {
     "name": "stderr",
     "output_type": "stream",
     "text": [
      "/home/ubuntu/anaconda3/envs/tensorflow_p36/lib/python3.6/site-packages/keras/activations.py:211: UserWarning: Do not pass a layer instance (such as LeakyReLU) as the activation argument of another layer. Instead, advanced activation layers should be used just like any other layer in a model.\n",
      "  identifier=identifier.__class__.__name__))\n",
      "/home/ubuntu/anaconda3/envs/tensorflow_p36/lib/python3.6/site-packages/keras/activations.py:211: UserWarning: Do not pass a layer instance (such as LeakyReLU) as the activation argument of another layer. Instead, advanced activation layers should be used just like any other layer in a model.\n",
      "  identifier=identifier.__class__.__name__))\n",
      "/home/ubuntu/anaconda3/envs/tensorflow_p36/lib/python3.6/site-packages/keras/activations.py:211: UserWarning: Do not pass a layer instance (such as LeakyReLU) as the activation argument of another layer. Instead, advanced activation layers should be used just like any other layer in a model.\n",
      "  identifier=identifier.__class__.__name__))\n"
     ]
    },
    {
     "name": "stdout",
     "output_type": "stream",
     "text": [
      "ratio_db = -3.5, i = 2/25\r"
     ]
    },
    {
     "name": "stderr",
     "output_type": "stream",
     "text": [
      "/home/ubuntu/anaconda3/envs/tensorflow_p36/lib/python3.6/site-packages/keras/activations.py:211: UserWarning: Do not pass a layer instance (such as LeakyReLU) as the activation argument of another layer. Instead, advanced activation layers should be used just like any other layer in a model.\n",
      "  identifier=identifier.__class__.__name__))\n",
      "/home/ubuntu/anaconda3/envs/tensorflow_p36/lib/python3.6/site-packages/keras/activations.py:211: UserWarning: Do not pass a layer instance (such as LeakyReLU) as the activation argument of another layer. Instead, advanced activation layers should be used just like any other layer in a model.\n",
      "  identifier=identifier.__class__.__name__))\n",
      "/home/ubuntu/anaconda3/envs/tensorflow_p36/lib/python3.6/site-packages/keras/activations.py:211: UserWarning: Do not pass a layer instance (such as LeakyReLU) as the activation argument of another layer. Instead, advanced activation layers should be used just like any other layer in a model.\n",
      "  identifier=identifier.__class__.__name__))\n"
     ]
    },
    {
     "name": "stdout",
     "output_type": "stream",
     "text": [
      "ratio_db = -3.0, i = 3/25\r"
     ]
    },
    {
     "name": "stderr",
     "output_type": "stream",
     "text": [
      "/home/ubuntu/anaconda3/envs/tensorflow_p36/lib/python3.6/site-packages/keras/activations.py:211: UserWarning: Do not pass a layer instance (such as LeakyReLU) as the activation argument of another layer. Instead, advanced activation layers should be used just like any other layer in a model.\n",
      "  identifier=identifier.__class__.__name__))\n",
      "/home/ubuntu/anaconda3/envs/tensorflow_p36/lib/python3.6/site-packages/keras/activations.py:211: UserWarning: Do not pass a layer instance (such as LeakyReLU) as the activation argument of another layer. Instead, advanced activation layers should be used just like any other layer in a model.\n",
      "  identifier=identifier.__class__.__name__))\n",
      "/home/ubuntu/anaconda3/envs/tensorflow_p36/lib/python3.6/site-packages/keras/activations.py:211: UserWarning: Do not pass a layer instance (such as LeakyReLU) as the activation argument of another layer. Instead, advanced activation layers should be used just like any other layer in a model.\n",
      "  identifier=identifier.__class__.__name__))\n"
     ]
    },
    {
     "name": "stdout",
     "output_type": "stream",
     "text": [
      "ratio_db = -2.5, i = 4/25\r"
     ]
    },
    {
     "name": "stderr",
     "output_type": "stream",
     "text": [
      "/home/ubuntu/anaconda3/envs/tensorflow_p36/lib/python3.6/site-packages/keras/activations.py:211: UserWarning: Do not pass a layer instance (such as LeakyReLU) as the activation argument of another layer. Instead, advanced activation layers should be used just like any other layer in a model.\n",
      "  identifier=identifier.__class__.__name__))\n",
      "/home/ubuntu/anaconda3/envs/tensorflow_p36/lib/python3.6/site-packages/keras/activations.py:211: UserWarning: Do not pass a layer instance (such as LeakyReLU) as the activation argument of another layer. Instead, advanced activation layers should be used just like any other layer in a model.\n",
      "  identifier=identifier.__class__.__name__))\n",
      "/home/ubuntu/anaconda3/envs/tensorflow_p36/lib/python3.6/site-packages/keras/activations.py:211: UserWarning: Do not pass a layer instance (such as LeakyReLU) as the activation argument of another layer. Instead, advanced activation layers should be used just like any other layer in a model.\n",
      "  identifier=identifier.__class__.__name__))\n"
     ]
    },
    {
     "name": "stdout",
     "output_type": "stream",
     "text": [
      "ratio_db = -2.0, i = 5/25\r"
     ]
    },
    {
     "name": "stderr",
     "output_type": "stream",
     "text": [
      "/home/ubuntu/anaconda3/envs/tensorflow_p36/lib/python3.6/site-packages/keras/activations.py:211: UserWarning: Do not pass a layer instance (such as LeakyReLU) as the activation argument of another layer. Instead, advanced activation layers should be used just like any other layer in a model.\n",
      "  identifier=identifier.__class__.__name__))\n",
      "/home/ubuntu/anaconda3/envs/tensorflow_p36/lib/python3.6/site-packages/keras/activations.py:211: UserWarning: Do not pass a layer instance (such as LeakyReLU) as the activation argument of another layer. Instead, advanced activation layers should be used just like any other layer in a model.\n",
      "  identifier=identifier.__class__.__name__))\n",
      "/home/ubuntu/anaconda3/envs/tensorflow_p36/lib/python3.6/site-packages/keras/activations.py:211: UserWarning: Do not pass a layer instance (such as LeakyReLU) as the activation argument of another layer. Instead, advanced activation layers should be used just like any other layer in a model.\n",
      "  identifier=identifier.__class__.__name__))\n"
     ]
    },
    {
     "name": "stdout",
     "output_type": "stream",
     "text": [
      "ratio_db = -1.5, i = 6/25\r"
     ]
    },
    {
     "name": "stderr",
     "output_type": "stream",
     "text": [
      "/home/ubuntu/anaconda3/envs/tensorflow_p36/lib/python3.6/site-packages/keras/activations.py:211: UserWarning: Do not pass a layer instance (such as LeakyReLU) as the activation argument of another layer. Instead, advanced activation layers should be used just like any other layer in a model.\n",
      "  identifier=identifier.__class__.__name__))\n",
      "/home/ubuntu/anaconda3/envs/tensorflow_p36/lib/python3.6/site-packages/keras/activations.py:211: UserWarning: Do not pass a layer instance (such as LeakyReLU) as the activation argument of another layer. Instead, advanced activation layers should be used just like any other layer in a model.\n",
      "  identifier=identifier.__class__.__name__))\n",
      "/home/ubuntu/anaconda3/envs/tensorflow_p36/lib/python3.6/site-packages/keras/activations.py:211: UserWarning: Do not pass a layer instance (such as LeakyReLU) as the activation argument of another layer. Instead, advanced activation layers should be used just like any other layer in a model.\n",
      "  identifier=identifier.__class__.__name__))\n"
     ]
    },
    {
     "name": "stdout",
     "output_type": "stream",
     "text": [
      "ratio_db = -1.0, i = 7/25\r"
     ]
    },
    {
     "name": "stderr",
     "output_type": "stream",
     "text": [
      "/home/ubuntu/anaconda3/envs/tensorflow_p36/lib/python3.6/site-packages/keras/activations.py:211: UserWarning: Do not pass a layer instance (such as LeakyReLU) as the activation argument of another layer. Instead, advanced activation layers should be used just like any other layer in a model.\n",
      "  identifier=identifier.__class__.__name__))\n",
      "/home/ubuntu/anaconda3/envs/tensorflow_p36/lib/python3.6/site-packages/keras/activations.py:211: UserWarning: Do not pass a layer instance (such as LeakyReLU) as the activation argument of another layer. Instead, advanced activation layers should be used just like any other layer in a model.\n",
      "  identifier=identifier.__class__.__name__))\n",
      "/home/ubuntu/anaconda3/envs/tensorflow_p36/lib/python3.6/site-packages/keras/activations.py:211: UserWarning: Do not pass a layer instance (such as LeakyReLU) as the activation argument of another layer. Instead, advanced activation layers should be used just like any other layer in a model.\n",
      "  identifier=identifier.__class__.__name__))\n"
     ]
    },
    {
     "name": "stdout",
     "output_type": "stream",
     "text": [
      "ratio_db = -0.5, i = 8/25\r"
     ]
    },
    {
     "name": "stderr",
     "output_type": "stream",
     "text": [
      "/home/ubuntu/anaconda3/envs/tensorflow_p36/lib/python3.6/site-packages/keras/activations.py:211: UserWarning: Do not pass a layer instance (such as LeakyReLU) as the activation argument of another layer. Instead, advanced activation layers should be used just like any other layer in a model.\n",
      "  identifier=identifier.__class__.__name__))\n",
      "/home/ubuntu/anaconda3/envs/tensorflow_p36/lib/python3.6/site-packages/keras/activations.py:211: UserWarning: Do not pass a layer instance (such as LeakyReLU) as the activation argument of another layer. Instead, advanced activation layers should be used just like any other layer in a model.\n",
      "  identifier=identifier.__class__.__name__))\n",
      "/home/ubuntu/anaconda3/envs/tensorflow_p36/lib/python3.6/site-packages/keras/activations.py:211: UserWarning: Do not pass a layer instance (such as LeakyReLU) as the activation argument of another layer. Instead, advanced activation layers should be used just like any other layer in a model.\n",
      "  identifier=identifier.__class__.__name__))\n"
     ]
    },
    {
     "name": "stdout",
     "output_type": "stream",
     "text": [
      "ratio_db = 0.0, i = 9/25\r"
     ]
    },
    {
     "name": "stderr",
     "output_type": "stream",
     "text": [
      "/home/ubuntu/anaconda3/envs/tensorflow_p36/lib/python3.6/site-packages/keras/activations.py:211: UserWarning: Do not pass a layer instance (such as LeakyReLU) as the activation argument of another layer. Instead, advanced activation layers should be used just like any other layer in a model.\n",
      "  identifier=identifier.__class__.__name__))\n",
      "/home/ubuntu/anaconda3/envs/tensorflow_p36/lib/python3.6/site-packages/keras/activations.py:211: UserWarning: Do not pass a layer instance (such as LeakyReLU) as the activation argument of another layer. Instead, advanced activation layers should be used just like any other layer in a model.\n",
      "  identifier=identifier.__class__.__name__))\n",
      "/home/ubuntu/anaconda3/envs/tensorflow_p36/lib/python3.6/site-packages/keras/activations.py:211: UserWarning: Do not pass a layer instance (such as LeakyReLU) as the activation argument of another layer. Instead, advanced activation layers should be used just like any other layer in a model.\n",
      "  identifier=identifier.__class__.__name__))\n"
     ]
    },
    {
     "name": "stdout",
     "output_type": "stream",
     "text": [
      "ratio_db = 0.5, i = 10/25\r"
     ]
    },
    {
     "name": "stderr",
     "output_type": "stream",
     "text": [
      "/home/ubuntu/anaconda3/envs/tensorflow_p36/lib/python3.6/site-packages/keras/activations.py:211: UserWarning: Do not pass a layer instance (such as LeakyReLU) as the activation argument of another layer. Instead, advanced activation layers should be used just like any other layer in a model.\n",
      "  identifier=identifier.__class__.__name__))\n",
      "/home/ubuntu/anaconda3/envs/tensorflow_p36/lib/python3.6/site-packages/keras/activations.py:211: UserWarning: Do not pass a layer instance (such as LeakyReLU) as the activation argument of another layer. Instead, advanced activation layers should be used just like any other layer in a model.\n",
      "  identifier=identifier.__class__.__name__))\n",
      "/home/ubuntu/anaconda3/envs/tensorflow_p36/lib/python3.6/site-packages/keras/activations.py:211: UserWarning: Do not pass a layer instance (such as LeakyReLU) as the activation argument of another layer. Instead, advanced activation layers should be used just like any other layer in a model.\n",
      "  identifier=identifier.__class__.__name__))\n"
     ]
    },
    {
     "name": "stdout",
     "output_type": "stream",
     "text": [
      "ratio_db = 1.0, i = 11/25\r"
     ]
    },
    {
     "name": "stderr",
     "output_type": "stream",
     "text": [
      "/home/ubuntu/anaconda3/envs/tensorflow_p36/lib/python3.6/site-packages/keras/activations.py:211: UserWarning: Do not pass a layer instance (such as LeakyReLU) as the activation argument of another layer. Instead, advanced activation layers should be used just like any other layer in a model.\n",
      "  identifier=identifier.__class__.__name__))\n",
      "/home/ubuntu/anaconda3/envs/tensorflow_p36/lib/python3.6/site-packages/keras/activations.py:211: UserWarning: Do not pass a layer instance (such as LeakyReLU) as the activation argument of another layer. Instead, advanced activation layers should be used just like any other layer in a model.\n",
      "  identifier=identifier.__class__.__name__))\n",
      "/home/ubuntu/anaconda3/envs/tensorflow_p36/lib/python3.6/site-packages/keras/activations.py:211: UserWarning: Do not pass a layer instance (such as LeakyReLU) as the activation argument of another layer. Instead, advanced activation layers should be used just like any other layer in a model.\n",
      "  identifier=identifier.__class__.__name__))\n"
     ]
    },
    {
     "name": "stdout",
     "output_type": "stream",
     "text": [
      "ratio_db = 1.5, i = 12/25\r"
     ]
    },
    {
     "name": "stderr",
     "output_type": "stream",
     "text": [
      "/home/ubuntu/anaconda3/envs/tensorflow_p36/lib/python3.6/site-packages/keras/activations.py:211: UserWarning: Do not pass a layer instance (such as LeakyReLU) as the activation argument of another layer. Instead, advanced activation layers should be used just like any other layer in a model.\n",
      "  identifier=identifier.__class__.__name__))\n",
      "/home/ubuntu/anaconda3/envs/tensorflow_p36/lib/python3.6/site-packages/keras/activations.py:211: UserWarning: Do not pass a layer instance (such as LeakyReLU) as the activation argument of another layer. Instead, advanced activation layers should be used just like any other layer in a model.\n",
      "  identifier=identifier.__class__.__name__))\n",
      "/home/ubuntu/anaconda3/envs/tensorflow_p36/lib/python3.6/site-packages/keras/activations.py:211: UserWarning: Do not pass a layer instance (such as LeakyReLU) as the activation argument of another layer. Instead, advanced activation layers should be used just like any other layer in a model.\n",
      "  identifier=identifier.__class__.__name__))\n"
     ]
    },
    {
     "name": "stdout",
     "output_type": "stream",
     "text": [
      "ratio_db = 2.0, i = 13/25\r"
     ]
    },
    {
     "name": "stderr",
     "output_type": "stream",
     "text": [
      "/home/ubuntu/anaconda3/envs/tensorflow_p36/lib/python3.6/site-packages/keras/activations.py:211: UserWarning: Do not pass a layer instance (such as LeakyReLU) as the activation argument of another layer. Instead, advanced activation layers should be used just like any other layer in a model.\n",
      "  identifier=identifier.__class__.__name__))\n",
      "/home/ubuntu/anaconda3/envs/tensorflow_p36/lib/python3.6/site-packages/keras/activations.py:211: UserWarning: Do not pass a layer instance (such as LeakyReLU) as the activation argument of another layer. Instead, advanced activation layers should be used just like any other layer in a model.\n",
      "  identifier=identifier.__class__.__name__))\n",
      "/home/ubuntu/anaconda3/envs/tensorflow_p36/lib/python3.6/site-packages/keras/activations.py:211: UserWarning: Do not pass a layer instance (such as LeakyReLU) as the activation argument of another layer. Instead, advanced activation layers should be used just like any other layer in a model.\n",
      "  identifier=identifier.__class__.__name__))\n"
     ]
    },
    {
     "name": "stdout",
     "output_type": "stream",
     "text": [
      "ratio_db = 2.5, i = 14/25\r"
     ]
    },
    {
     "name": "stderr",
     "output_type": "stream",
     "text": [
      "/home/ubuntu/anaconda3/envs/tensorflow_p36/lib/python3.6/site-packages/keras/activations.py:211: UserWarning: Do not pass a layer instance (such as LeakyReLU) as the activation argument of another layer. Instead, advanced activation layers should be used just like any other layer in a model.\n",
      "  identifier=identifier.__class__.__name__))\n",
      "/home/ubuntu/anaconda3/envs/tensorflow_p36/lib/python3.6/site-packages/keras/activations.py:211: UserWarning: Do not pass a layer instance (such as LeakyReLU) as the activation argument of another layer. Instead, advanced activation layers should be used just like any other layer in a model.\n",
      "  identifier=identifier.__class__.__name__))\n",
      "/home/ubuntu/anaconda3/envs/tensorflow_p36/lib/python3.6/site-packages/keras/activations.py:211: UserWarning: Do not pass a layer instance (such as LeakyReLU) as the activation argument of another layer. Instead, advanced activation layers should be used just like any other layer in a model.\n",
      "  identifier=identifier.__class__.__name__))\n"
     ]
    },
    {
     "name": "stdout",
     "output_type": "stream",
     "text": [
      "ratio_db = 3.0, i = 15/25\r"
     ]
    },
    {
     "name": "stderr",
     "output_type": "stream",
     "text": [
      "/home/ubuntu/anaconda3/envs/tensorflow_p36/lib/python3.6/site-packages/keras/activations.py:211: UserWarning: Do not pass a layer instance (such as LeakyReLU) as the activation argument of another layer. Instead, advanced activation layers should be used just like any other layer in a model.\n",
      "  identifier=identifier.__class__.__name__))\n",
      "/home/ubuntu/anaconda3/envs/tensorflow_p36/lib/python3.6/site-packages/keras/activations.py:211: UserWarning: Do not pass a layer instance (such as LeakyReLU) as the activation argument of another layer. Instead, advanced activation layers should be used just like any other layer in a model.\n",
      "  identifier=identifier.__class__.__name__))\n",
      "/home/ubuntu/anaconda3/envs/tensorflow_p36/lib/python3.6/site-packages/keras/activations.py:211: UserWarning: Do not pass a layer instance (such as LeakyReLU) as the activation argument of another layer. Instead, advanced activation layers should be used just like any other layer in a model.\n",
      "  identifier=identifier.__class__.__name__))\n"
     ]
    },
    {
     "name": "stdout",
     "output_type": "stream",
     "text": [
      "ratio_db = 3.5, i = 16/25\r"
     ]
    },
    {
     "name": "stderr",
     "output_type": "stream",
     "text": [
      "/home/ubuntu/anaconda3/envs/tensorflow_p36/lib/python3.6/site-packages/keras/activations.py:211: UserWarning: Do not pass a layer instance (such as LeakyReLU) as the activation argument of another layer. Instead, advanced activation layers should be used just like any other layer in a model.\n",
      "  identifier=identifier.__class__.__name__))\n",
      "/home/ubuntu/anaconda3/envs/tensorflow_p36/lib/python3.6/site-packages/keras/activations.py:211: UserWarning: Do not pass a layer instance (such as LeakyReLU) as the activation argument of another layer. Instead, advanced activation layers should be used just like any other layer in a model.\n",
      "  identifier=identifier.__class__.__name__))\n",
      "/home/ubuntu/anaconda3/envs/tensorflow_p36/lib/python3.6/site-packages/keras/activations.py:211: UserWarning: Do not pass a layer instance (such as LeakyReLU) as the activation argument of another layer. Instead, advanced activation layers should be used just like any other layer in a model.\n",
      "  identifier=identifier.__class__.__name__))\n"
     ]
    },
    {
     "name": "stdout",
     "output_type": "stream",
     "text": [
      "ratio_db = 4.0, i = 17/25\r"
     ]
    },
    {
     "name": "stderr",
     "output_type": "stream",
     "text": [
      "/home/ubuntu/anaconda3/envs/tensorflow_p36/lib/python3.6/site-packages/keras/activations.py:211: UserWarning: Do not pass a layer instance (such as LeakyReLU) as the activation argument of another layer. Instead, advanced activation layers should be used just like any other layer in a model.\n",
      "  identifier=identifier.__class__.__name__))\n",
      "/home/ubuntu/anaconda3/envs/tensorflow_p36/lib/python3.6/site-packages/keras/activations.py:211: UserWarning: Do not pass a layer instance (such as LeakyReLU) as the activation argument of another layer. Instead, advanced activation layers should be used just like any other layer in a model.\n",
      "  identifier=identifier.__class__.__name__))\n",
      "/home/ubuntu/anaconda3/envs/tensorflow_p36/lib/python3.6/site-packages/keras/activations.py:211: UserWarning: Do not pass a layer instance (such as LeakyReLU) as the activation argument of another layer. Instead, advanced activation layers should be used just like any other layer in a model.\n",
      "  identifier=identifier.__class__.__name__))\n"
     ]
    },
    {
     "name": "stdout",
     "output_type": "stream",
     "text": [
      "ratio_db = 4.5, i = 18/25\r"
     ]
    },
    {
     "name": "stderr",
     "output_type": "stream",
     "text": [
      "/home/ubuntu/anaconda3/envs/tensorflow_p36/lib/python3.6/site-packages/keras/activations.py:211: UserWarning: Do not pass a layer instance (such as LeakyReLU) as the activation argument of another layer. Instead, advanced activation layers should be used just like any other layer in a model.\n",
      "  identifier=identifier.__class__.__name__))\n",
      "/home/ubuntu/anaconda3/envs/tensorflow_p36/lib/python3.6/site-packages/keras/activations.py:211: UserWarning: Do not pass a layer instance (such as LeakyReLU) as the activation argument of another layer. Instead, advanced activation layers should be used just like any other layer in a model.\n",
      "  identifier=identifier.__class__.__name__))\n",
      "/home/ubuntu/anaconda3/envs/tensorflow_p36/lib/python3.6/site-packages/keras/activations.py:211: UserWarning: Do not pass a layer instance (such as LeakyReLU) as the activation argument of another layer. Instead, advanced activation layers should be used just like any other layer in a model.\n",
      "  identifier=identifier.__class__.__name__))\n"
     ]
    },
    {
     "name": "stdout",
     "output_type": "stream",
     "text": [
      "ratio_db = 5.0, i = 19/25\r"
     ]
    },
    {
     "name": "stderr",
     "output_type": "stream",
     "text": [
      "/home/ubuntu/anaconda3/envs/tensorflow_p36/lib/python3.6/site-packages/keras/activations.py:211: UserWarning: Do not pass a layer instance (such as LeakyReLU) as the activation argument of another layer. Instead, advanced activation layers should be used just like any other layer in a model.\n",
      "  identifier=identifier.__class__.__name__))\n",
      "/home/ubuntu/anaconda3/envs/tensorflow_p36/lib/python3.6/site-packages/keras/activations.py:211: UserWarning: Do not pass a layer instance (such as LeakyReLU) as the activation argument of another layer. Instead, advanced activation layers should be used just like any other layer in a model.\n",
      "  identifier=identifier.__class__.__name__))\n",
      "/home/ubuntu/anaconda3/envs/tensorflow_p36/lib/python3.6/site-packages/keras/activations.py:211: UserWarning: Do not pass a layer instance (such as LeakyReLU) as the activation argument of another layer. Instead, advanced activation layers should be used just like any other layer in a model.\n",
      "  identifier=identifier.__class__.__name__))\n"
     ]
    },
    {
     "name": "stdout",
     "output_type": "stream",
     "text": [
      "ratio_db = 5.5, i = 20/25\r"
     ]
    },
    {
     "name": "stderr",
     "output_type": "stream",
     "text": [
      "/home/ubuntu/anaconda3/envs/tensorflow_p36/lib/python3.6/site-packages/keras/activations.py:211: UserWarning: Do not pass a layer instance (such as LeakyReLU) as the activation argument of another layer. Instead, advanced activation layers should be used just like any other layer in a model.\n",
      "  identifier=identifier.__class__.__name__))\n",
      "/home/ubuntu/anaconda3/envs/tensorflow_p36/lib/python3.6/site-packages/keras/activations.py:211: UserWarning: Do not pass a layer instance (such as LeakyReLU) as the activation argument of another layer. Instead, advanced activation layers should be used just like any other layer in a model.\n",
      "  identifier=identifier.__class__.__name__))\n",
      "/home/ubuntu/anaconda3/envs/tensorflow_p36/lib/python3.6/site-packages/keras/activations.py:211: UserWarning: Do not pass a layer instance (such as LeakyReLU) as the activation argument of another layer. Instead, advanced activation layers should be used just like any other layer in a model.\n",
      "  identifier=identifier.__class__.__name__))\n"
     ]
    },
    {
     "name": "stdout",
     "output_type": "stream",
     "text": [
      "ratio_db = 6.0, i = 21/25\r"
     ]
    },
    {
     "name": "stderr",
     "output_type": "stream",
     "text": [
      "/home/ubuntu/anaconda3/envs/tensorflow_p36/lib/python3.6/site-packages/keras/activations.py:211: UserWarning: Do not pass a layer instance (such as LeakyReLU) as the activation argument of another layer. Instead, advanced activation layers should be used just like any other layer in a model.\n",
      "  identifier=identifier.__class__.__name__))\n",
      "/home/ubuntu/anaconda3/envs/tensorflow_p36/lib/python3.6/site-packages/keras/activations.py:211: UserWarning: Do not pass a layer instance (such as LeakyReLU) as the activation argument of another layer. Instead, advanced activation layers should be used just like any other layer in a model.\n",
      "  identifier=identifier.__class__.__name__))\n",
      "/home/ubuntu/anaconda3/envs/tensorflow_p36/lib/python3.6/site-packages/keras/activations.py:211: UserWarning: Do not pass a layer instance (such as LeakyReLU) as the activation argument of another layer. Instead, advanced activation layers should be used just like any other layer in a model.\n",
      "  identifier=identifier.__class__.__name__))\n"
     ]
    },
    {
     "name": "stdout",
     "output_type": "stream",
     "text": [
      "ratio_db = 6.5, i = 22/25\r"
     ]
    },
    {
     "name": "stderr",
     "output_type": "stream",
     "text": [
      "/home/ubuntu/anaconda3/envs/tensorflow_p36/lib/python3.6/site-packages/keras/activations.py:211: UserWarning: Do not pass a layer instance (such as LeakyReLU) as the activation argument of another layer. Instead, advanced activation layers should be used just like any other layer in a model.\n",
      "  identifier=identifier.__class__.__name__))\n",
      "/home/ubuntu/anaconda3/envs/tensorflow_p36/lib/python3.6/site-packages/keras/activations.py:211: UserWarning: Do not pass a layer instance (such as LeakyReLU) as the activation argument of another layer. Instead, advanced activation layers should be used just like any other layer in a model.\n",
      "  identifier=identifier.__class__.__name__))\n",
      "/home/ubuntu/anaconda3/envs/tensorflow_p36/lib/python3.6/site-packages/keras/activations.py:211: UserWarning: Do not pass a layer instance (such as LeakyReLU) as the activation argument of another layer. Instead, advanced activation layers should be used just like any other layer in a model.\n",
      "  identifier=identifier.__class__.__name__))\n"
     ]
    },
    {
     "name": "stdout",
     "output_type": "stream",
     "text": [
      "ratio_db = 7.0, i = 23/25\r"
     ]
    },
    {
     "name": "stderr",
     "output_type": "stream",
     "text": [
      "/home/ubuntu/anaconda3/envs/tensorflow_p36/lib/python3.6/site-packages/keras/activations.py:211: UserWarning: Do not pass a layer instance (such as LeakyReLU) as the activation argument of another layer. Instead, advanced activation layers should be used just like any other layer in a model.\n",
      "  identifier=identifier.__class__.__name__))\n",
      "/home/ubuntu/anaconda3/envs/tensorflow_p36/lib/python3.6/site-packages/keras/activations.py:211: UserWarning: Do not pass a layer instance (such as LeakyReLU) as the activation argument of another layer. Instead, advanced activation layers should be used just like any other layer in a model.\n",
      "  identifier=identifier.__class__.__name__))\n",
      "/home/ubuntu/anaconda3/envs/tensorflow_p36/lib/python3.6/site-packages/keras/activations.py:211: UserWarning: Do not pass a layer instance (such as LeakyReLU) as the activation argument of another layer. Instead, advanced activation layers should be used just like any other layer in a model.\n",
      "  identifier=identifier.__class__.__name__))\n"
     ]
    },
    {
     "name": "stdout",
     "output_type": "stream",
     "text": [
      "ratio_db = 7.5, i = 24/25\r"
     ]
    },
    {
     "name": "stderr",
     "output_type": "stream",
     "text": [
      "/home/ubuntu/anaconda3/envs/tensorflow_p36/lib/python3.6/site-packages/keras/activations.py:211: UserWarning: Do not pass a layer instance (such as LeakyReLU) as the activation argument of another layer. Instead, advanced activation layers should be used just like any other layer in a model.\n",
      "  identifier=identifier.__class__.__name__))\n",
      "/home/ubuntu/anaconda3/envs/tensorflow_p36/lib/python3.6/site-packages/keras/activations.py:211: UserWarning: Do not pass a layer instance (such as LeakyReLU) as the activation argument of another layer. Instead, advanced activation layers should be used just like any other layer in a model.\n",
      "  identifier=identifier.__class__.__name__))\n",
      "/home/ubuntu/anaconda3/envs/tensorflow_p36/lib/python3.6/site-packages/keras/activations.py:211: UserWarning: Do not pass a layer instance (such as LeakyReLU) as the activation argument of another layer. Instead, advanced activation layers should be used just like any other layer in a model.\n",
      "  identifier=identifier.__class__.__name__))\n"
     ]
    },
    {
     "name": "stdout",
     "output_type": "stream",
     "text": [
      "ratio_db = 8.0, i = 25/25\r"
     ]
    },
    {
     "name": "stderr",
     "output_type": "stream",
     "text": [
      "/home/ubuntu/anaconda3/envs/tensorflow_p36/lib/python3.6/site-packages/keras/activations.py:211: UserWarning: Do not pass a layer instance (such as LeakyReLU) as the activation argument of another layer. Instead, advanced activation layers should be used just like any other layer in a model.\n",
      "  identifier=identifier.__class__.__name__))\n",
      "/home/ubuntu/anaconda3/envs/tensorflow_p36/lib/python3.6/site-packages/keras/activations.py:211: UserWarning: Do not pass a layer instance (such as LeakyReLU) as the activation argument of another layer. Instead, advanced activation layers should be used just like any other layer in a model.\n",
      "  identifier=identifier.__class__.__name__))\n",
      "/home/ubuntu/anaconda3/envs/tensorflow_p36/lib/python3.6/site-packages/keras/activations.py:211: UserWarning: Do not pass a layer instance (such as LeakyReLU) as the activation argument of another layer. Instead, advanced activation layers should be used just like any other layer in a model.\n",
      "  identifier=identifier.__class__.__name__))\n"
     ]
    },
    {
     "name": "stdout",
     "output_type": "stream",
     "text": [
      "Took 1733.066682100296\n"
     ]
    }
   ],
   "source": [
    "# (2,2)\n",
    "act_f = keras.layers.advanced_activations.LeakyReLU()\n",
    "act_f.__name__ = 'leakyrelu'\n",
    "t0 = time()\n",
    "Eb_N0_dbs = np.arange(-4,8.5,0.5)\n",
    "bler = np.empty(Eb_N0_dbs.size)\n",
    "# for i, ratio_db in enumerate(tqdm_notebook(Eb_N0_dbs, desc=\"1st loop\")):\n",
    "for i, ratio_db in enumerate(Eb_N0_dbs):\n",
    "    print(f\"ratio_db = {ratio_db}, i = {i+1}/{Eb_N0_dbs.size}\", end=\"\\r\")\n",
    "    bler[i] = get_noise_bler(2**2, 2, ratio_db, \\\n",
    "                             './models/autoencoder_2_2_leaky_relu_0.0683.h5', \\\n",
    "                             test_data4, act_f)\n",
    "print(f\"Took {time() - t0}\")"
   ]
  },
  {
   "cell_type": "code",
   "execution_count": 102,
   "metadata": {},
   "outputs": [
    {
     "data": {
      "application/vnd.jupyter.widget-view+json": {
       "model_id": "6703b550a1544e0bab6bcaf8d83a9404",
       "version_major": 2,
       "version_minor": 0
      },
      "text/plain": [
       "HBox(children=(IntProgress(value=0, description='1st loop', max=25, style=ProgressStyle(description_width='ini…"
      ]
     },
     "metadata": {},
     "output_type": "display_data"
    },
    {
     "name": "stdout",
     "output_type": "stream",
     "text": [
      "ratio_db = -4.0, i = 1/25\r"
     ]
    },
    {
     "name": "stderr",
     "output_type": "stream",
     "text": [
      "/home/apsw/.local/lib/python3.6/site-packages/keras/activations.py:211: UserWarning: Do not pass a layer instance (such as LeakyReLU) as the activation argument of another layer. Instead, advanced activation layers should be used just like any other layer in a model.\n",
      "  identifier=identifier.__class__.__name__))\n",
      "/home/apsw/.local/lib/python3.6/site-packages/keras/activations.py:211: UserWarning: Do not pass a layer instance (such as LeakyReLU) as the activation argument of another layer. Instead, advanced activation layers should be used just like any other layer in a model.\n",
      "  identifier=identifier.__class__.__name__))\n",
      "/home/apsw/.local/lib/python3.6/site-packages/keras/activations.py:211: UserWarning: Do not pass a layer instance (such as LeakyReLU) as the activation argument of another layer. Instead, advanced activation layers should be used just like any other layer in a model.\n",
      "  identifier=identifier.__class__.__name__))\n"
     ]
    },
    {
     "name": "stdout",
     "output_type": "stream",
     "text": [
      "ratio_db = -3.5, i = 2/25\r"
     ]
    },
    {
     "name": "stderr",
     "output_type": "stream",
     "text": [
      "/home/apsw/.local/lib/python3.6/site-packages/keras/activations.py:211: UserWarning: Do not pass a layer instance (such as LeakyReLU) as the activation argument of another layer. Instead, advanced activation layers should be used just like any other layer in a model.\n",
      "  identifier=identifier.__class__.__name__))\n",
      "/home/apsw/.local/lib/python3.6/site-packages/keras/activations.py:211: UserWarning: Do not pass a layer instance (such as LeakyReLU) as the activation argument of another layer. Instead, advanced activation layers should be used just like any other layer in a model.\n",
      "  identifier=identifier.__class__.__name__))\n",
      "/home/apsw/.local/lib/python3.6/site-packages/keras/activations.py:211: UserWarning: Do not pass a layer instance (such as LeakyReLU) as the activation argument of another layer. Instead, advanced activation layers should be used just like any other layer in a model.\n",
      "  identifier=identifier.__class__.__name__))\n"
     ]
    },
    {
     "name": "stdout",
     "output_type": "stream",
     "text": [
      "ratio_db = -3.0, i = 3/25\r"
     ]
    },
    {
     "name": "stderr",
     "output_type": "stream",
     "text": [
      "/home/apsw/.local/lib/python3.6/site-packages/keras/activations.py:211: UserWarning: Do not pass a layer instance (such as LeakyReLU) as the activation argument of another layer. Instead, advanced activation layers should be used just like any other layer in a model.\n",
      "  identifier=identifier.__class__.__name__))\n",
      "/home/apsw/.local/lib/python3.6/site-packages/keras/activations.py:211: UserWarning: Do not pass a layer instance (such as LeakyReLU) as the activation argument of another layer. Instead, advanced activation layers should be used just like any other layer in a model.\n",
      "  identifier=identifier.__class__.__name__))\n",
      "/home/apsw/.local/lib/python3.6/site-packages/keras/activations.py:211: UserWarning: Do not pass a layer instance (such as LeakyReLU) as the activation argument of another layer. Instead, advanced activation layers should be used just like any other layer in a model.\n",
      "  identifier=identifier.__class__.__name__))\n"
     ]
    },
    {
     "name": "stdout",
     "output_type": "stream",
     "text": [
      "ratio_db = -2.5, i = 4/25\r"
     ]
    },
    {
     "name": "stderr",
     "output_type": "stream",
     "text": [
      "/home/apsw/.local/lib/python3.6/site-packages/keras/activations.py:211: UserWarning: Do not pass a layer instance (such as LeakyReLU) as the activation argument of another layer. Instead, advanced activation layers should be used just like any other layer in a model.\n",
      "  identifier=identifier.__class__.__name__))\n",
      "/home/apsw/.local/lib/python3.6/site-packages/keras/activations.py:211: UserWarning: Do not pass a layer instance (such as LeakyReLU) as the activation argument of another layer. Instead, advanced activation layers should be used just like any other layer in a model.\n",
      "  identifier=identifier.__class__.__name__))\n",
      "/home/apsw/.local/lib/python3.6/site-packages/keras/activations.py:211: UserWarning: Do not pass a layer instance (such as LeakyReLU) as the activation argument of another layer. Instead, advanced activation layers should be used just like any other layer in a model.\n",
      "  identifier=identifier.__class__.__name__))\n"
     ]
    },
    {
     "name": "stdout",
     "output_type": "stream",
     "text": [
      "ratio_db = -2.0, i = 5/25\r"
     ]
    },
    {
     "name": "stderr",
     "output_type": "stream",
     "text": [
      "/home/apsw/.local/lib/python3.6/site-packages/keras/activations.py:211: UserWarning: Do not pass a layer instance (such as LeakyReLU) as the activation argument of another layer. Instead, advanced activation layers should be used just like any other layer in a model.\n",
      "  identifier=identifier.__class__.__name__))\n",
      "/home/apsw/.local/lib/python3.6/site-packages/keras/activations.py:211: UserWarning: Do not pass a layer instance (such as LeakyReLU) as the activation argument of another layer. Instead, advanced activation layers should be used just like any other layer in a model.\n",
      "  identifier=identifier.__class__.__name__))\n",
      "/home/apsw/.local/lib/python3.6/site-packages/keras/activations.py:211: UserWarning: Do not pass a layer instance (such as LeakyReLU) as the activation argument of another layer. Instead, advanced activation layers should be used just like any other layer in a model.\n",
      "  identifier=identifier.__class__.__name__))\n"
     ]
    },
    {
     "name": "stdout",
     "output_type": "stream",
     "text": [
      "ratio_db = -1.5, i = 6/25\r"
     ]
    },
    {
     "name": "stderr",
     "output_type": "stream",
     "text": [
      "/home/apsw/.local/lib/python3.6/site-packages/keras/activations.py:211: UserWarning: Do not pass a layer instance (such as LeakyReLU) as the activation argument of another layer. Instead, advanced activation layers should be used just like any other layer in a model.\n",
      "  identifier=identifier.__class__.__name__))\n",
      "/home/apsw/.local/lib/python3.6/site-packages/keras/activations.py:211: UserWarning: Do not pass a layer instance (such as LeakyReLU) as the activation argument of another layer. Instead, advanced activation layers should be used just like any other layer in a model.\n",
      "  identifier=identifier.__class__.__name__))\n",
      "/home/apsw/.local/lib/python3.6/site-packages/keras/activations.py:211: UserWarning: Do not pass a layer instance (such as LeakyReLU) as the activation argument of another layer. Instead, advanced activation layers should be used just like any other layer in a model.\n",
      "  identifier=identifier.__class__.__name__))\n"
     ]
    },
    {
     "name": "stdout",
     "output_type": "stream",
     "text": [
      "ratio_db = -1.0, i = 7/25\r"
     ]
    },
    {
     "name": "stderr",
     "output_type": "stream",
     "text": [
      "/home/apsw/.local/lib/python3.6/site-packages/keras/activations.py:211: UserWarning: Do not pass a layer instance (such as LeakyReLU) as the activation argument of another layer. Instead, advanced activation layers should be used just like any other layer in a model.\n",
      "  identifier=identifier.__class__.__name__))\n",
      "/home/apsw/.local/lib/python3.6/site-packages/keras/activations.py:211: UserWarning: Do not pass a layer instance (such as LeakyReLU) as the activation argument of another layer. Instead, advanced activation layers should be used just like any other layer in a model.\n",
      "  identifier=identifier.__class__.__name__))\n",
      "/home/apsw/.local/lib/python3.6/site-packages/keras/activations.py:211: UserWarning: Do not pass a layer instance (such as LeakyReLU) as the activation argument of another layer. Instead, advanced activation layers should be used just like any other layer in a model.\n",
      "  identifier=identifier.__class__.__name__))\n"
     ]
    },
    {
     "name": "stdout",
     "output_type": "stream",
     "text": [
      "ratio_db = -0.5, i = 8/25\r"
     ]
    },
    {
     "name": "stderr",
     "output_type": "stream",
     "text": [
      "/home/apsw/.local/lib/python3.6/site-packages/keras/activations.py:211: UserWarning: Do not pass a layer instance (such as LeakyReLU) as the activation argument of another layer. Instead, advanced activation layers should be used just like any other layer in a model.\n",
      "  identifier=identifier.__class__.__name__))\n",
      "/home/apsw/.local/lib/python3.6/site-packages/keras/activations.py:211: UserWarning: Do not pass a layer instance (such as LeakyReLU) as the activation argument of another layer. Instead, advanced activation layers should be used just like any other layer in a model.\n",
      "  identifier=identifier.__class__.__name__))\n",
      "/home/apsw/.local/lib/python3.6/site-packages/keras/activations.py:211: UserWarning: Do not pass a layer instance (such as LeakyReLU) as the activation argument of another layer. Instead, advanced activation layers should be used just like any other layer in a model.\n",
      "  identifier=identifier.__class__.__name__))\n"
     ]
    },
    {
     "name": "stdout",
     "output_type": "stream",
     "text": [
      "ratio_db = 0.0, i = 9/25\r"
     ]
    },
    {
     "name": "stderr",
     "output_type": "stream",
     "text": [
      "/home/apsw/.local/lib/python3.6/site-packages/keras/activations.py:211: UserWarning: Do not pass a layer instance (such as LeakyReLU) as the activation argument of another layer. Instead, advanced activation layers should be used just like any other layer in a model.\n",
      "  identifier=identifier.__class__.__name__))\n",
      "/home/apsw/.local/lib/python3.6/site-packages/keras/activations.py:211: UserWarning: Do not pass a layer instance (such as LeakyReLU) as the activation argument of another layer. Instead, advanced activation layers should be used just like any other layer in a model.\n",
      "  identifier=identifier.__class__.__name__))\n",
      "/home/apsw/.local/lib/python3.6/site-packages/keras/activations.py:211: UserWarning: Do not pass a layer instance (such as LeakyReLU) as the activation argument of another layer. Instead, advanced activation layers should be used just like any other layer in a model.\n",
      "  identifier=identifier.__class__.__name__))\n"
     ]
    },
    {
     "name": "stdout",
     "output_type": "stream",
     "text": [
      "ratio_db = 0.5, i = 10/25\r"
     ]
    },
    {
     "name": "stderr",
     "output_type": "stream",
     "text": [
      "/home/apsw/.local/lib/python3.6/site-packages/keras/activations.py:211: UserWarning: Do not pass a layer instance (such as LeakyReLU) as the activation argument of another layer. Instead, advanced activation layers should be used just like any other layer in a model.\n",
      "  identifier=identifier.__class__.__name__))\n",
      "/home/apsw/.local/lib/python3.6/site-packages/keras/activations.py:211: UserWarning: Do not pass a layer instance (such as LeakyReLU) as the activation argument of another layer. Instead, advanced activation layers should be used just like any other layer in a model.\n",
      "  identifier=identifier.__class__.__name__))\n",
      "/home/apsw/.local/lib/python3.6/site-packages/keras/activations.py:211: UserWarning: Do not pass a layer instance (such as LeakyReLU) as the activation argument of another layer. Instead, advanced activation layers should be used just like any other layer in a model.\n",
      "  identifier=identifier.__class__.__name__))\n"
     ]
    },
    {
     "name": "stdout",
     "output_type": "stream",
     "text": [
      "ratio_db = 1.0, i = 11/25\r"
     ]
    },
    {
     "name": "stderr",
     "output_type": "stream",
     "text": [
      "/home/apsw/.local/lib/python3.6/site-packages/keras/activations.py:211: UserWarning: Do not pass a layer instance (such as LeakyReLU) as the activation argument of another layer. Instead, advanced activation layers should be used just like any other layer in a model.\n",
      "  identifier=identifier.__class__.__name__))\n",
      "/home/apsw/.local/lib/python3.6/site-packages/keras/activations.py:211: UserWarning: Do not pass a layer instance (such as LeakyReLU) as the activation argument of another layer. Instead, advanced activation layers should be used just like any other layer in a model.\n",
      "  identifier=identifier.__class__.__name__))\n",
      "/home/apsw/.local/lib/python3.6/site-packages/keras/activations.py:211: UserWarning: Do not pass a layer instance (such as LeakyReLU) as the activation argument of another layer. Instead, advanced activation layers should be used just like any other layer in a model.\n",
      "  identifier=identifier.__class__.__name__))\n"
     ]
    },
    {
     "name": "stdout",
     "output_type": "stream",
     "text": [
      "ratio_db = 1.5, i = 12/25\r"
     ]
    },
    {
     "name": "stderr",
     "output_type": "stream",
     "text": [
      "/home/apsw/.local/lib/python3.6/site-packages/keras/activations.py:211: UserWarning: Do not pass a layer instance (such as LeakyReLU) as the activation argument of another layer. Instead, advanced activation layers should be used just like any other layer in a model.\n",
      "  identifier=identifier.__class__.__name__))\n",
      "/home/apsw/.local/lib/python3.6/site-packages/keras/activations.py:211: UserWarning: Do not pass a layer instance (such as LeakyReLU) as the activation argument of another layer. Instead, advanced activation layers should be used just like any other layer in a model.\n",
      "  identifier=identifier.__class__.__name__))\n",
      "/home/apsw/.local/lib/python3.6/site-packages/keras/activations.py:211: UserWarning: Do not pass a layer instance (such as LeakyReLU) as the activation argument of another layer. Instead, advanced activation layers should be used just like any other layer in a model.\n",
      "  identifier=identifier.__class__.__name__))\n"
     ]
    },
    {
     "name": "stdout",
     "output_type": "stream",
     "text": [
      "ratio_db = 2.0, i = 13/25\r"
     ]
    },
    {
     "name": "stderr",
     "output_type": "stream",
     "text": [
      "/home/apsw/.local/lib/python3.6/site-packages/keras/activations.py:211: UserWarning: Do not pass a layer instance (such as LeakyReLU) as the activation argument of another layer. Instead, advanced activation layers should be used just like any other layer in a model.\n",
      "  identifier=identifier.__class__.__name__))\n",
      "/home/apsw/.local/lib/python3.6/site-packages/keras/activations.py:211: UserWarning: Do not pass a layer instance (such as LeakyReLU) as the activation argument of another layer. Instead, advanced activation layers should be used just like any other layer in a model.\n",
      "  identifier=identifier.__class__.__name__))\n",
      "/home/apsw/.local/lib/python3.6/site-packages/keras/activations.py:211: UserWarning: Do not pass a layer instance (such as LeakyReLU) as the activation argument of another layer. Instead, advanced activation layers should be used just like any other layer in a model.\n",
      "  identifier=identifier.__class__.__name__))\n"
     ]
    },
    {
     "name": "stdout",
     "output_type": "stream",
     "text": [
      "ratio_db = 2.5, i = 14/25\r"
     ]
    },
    {
     "name": "stderr",
     "output_type": "stream",
     "text": [
      "/home/apsw/.local/lib/python3.6/site-packages/keras/activations.py:211: UserWarning: Do not pass a layer instance (such as LeakyReLU) as the activation argument of another layer. Instead, advanced activation layers should be used just like any other layer in a model.\n",
      "  identifier=identifier.__class__.__name__))\n",
      "/home/apsw/.local/lib/python3.6/site-packages/keras/activations.py:211: UserWarning: Do not pass a layer instance (such as LeakyReLU) as the activation argument of another layer. Instead, advanced activation layers should be used just like any other layer in a model.\n",
      "  identifier=identifier.__class__.__name__))\n",
      "/home/apsw/.local/lib/python3.6/site-packages/keras/activations.py:211: UserWarning: Do not pass a layer instance (such as LeakyReLU) as the activation argument of another layer. Instead, advanced activation layers should be used just like any other layer in a model.\n",
      "  identifier=identifier.__class__.__name__))\n"
     ]
    },
    {
     "name": "stdout",
     "output_type": "stream",
     "text": [
      "ratio_db = 3.0, i = 15/25\r"
     ]
    },
    {
     "name": "stderr",
     "output_type": "stream",
     "text": [
      "/home/apsw/.local/lib/python3.6/site-packages/keras/activations.py:211: UserWarning: Do not pass a layer instance (such as LeakyReLU) as the activation argument of another layer. Instead, advanced activation layers should be used just like any other layer in a model.\n",
      "  identifier=identifier.__class__.__name__))\n",
      "/home/apsw/.local/lib/python3.6/site-packages/keras/activations.py:211: UserWarning: Do not pass a layer instance (such as LeakyReLU) as the activation argument of another layer. Instead, advanced activation layers should be used just like any other layer in a model.\n",
      "  identifier=identifier.__class__.__name__))\n",
      "/home/apsw/.local/lib/python3.6/site-packages/keras/activations.py:211: UserWarning: Do not pass a layer instance (such as LeakyReLU) as the activation argument of another layer. Instead, advanced activation layers should be used just like any other layer in a model.\n",
      "  identifier=identifier.__class__.__name__))\n"
     ]
    },
    {
     "name": "stdout",
     "output_type": "stream",
     "text": [
      "ratio_db = 3.5, i = 16/25\r"
     ]
    },
    {
     "name": "stderr",
     "output_type": "stream",
     "text": [
      "/home/apsw/.local/lib/python3.6/site-packages/keras/activations.py:211: UserWarning: Do not pass a layer instance (such as LeakyReLU) as the activation argument of another layer. Instead, advanced activation layers should be used just like any other layer in a model.\n",
      "  identifier=identifier.__class__.__name__))\n",
      "/home/apsw/.local/lib/python3.6/site-packages/keras/activations.py:211: UserWarning: Do not pass a layer instance (such as LeakyReLU) as the activation argument of another layer. Instead, advanced activation layers should be used just like any other layer in a model.\n",
      "  identifier=identifier.__class__.__name__))\n",
      "/home/apsw/.local/lib/python3.6/site-packages/keras/activations.py:211: UserWarning: Do not pass a layer instance (such as LeakyReLU) as the activation argument of another layer. Instead, advanced activation layers should be used just like any other layer in a model.\n",
      "  identifier=identifier.__class__.__name__))\n"
     ]
    },
    {
     "name": "stdout",
     "output_type": "stream",
     "text": [
      "ratio_db = 4.0, i = 17/25\r"
     ]
    },
    {
     "name": "stderr",
     "output_type": "stream",
     "text": [
      "/home/apsw/.local/lib/python3.6/site-packages/keras/activations.py:211: UserWarning: Do not pass a layer instance (such as LeakyReLU) as the activation argument of another layer. Instead, advanced activation layers should be used just like any other layer in a model.\n",
      "  identifier=identifier.__class__.__name__))\n",
      "/home/apsw/.local/lib/python3.6/site-packages/keras/activations.py:211: UserWarning: Do not pass a layer instance (such as LeakyReLU) as the activation argument of another layer. Instead, advanced activation layers should be used just like any other layer in a model.\n",
      "  identifier=identifier.__class__.__name__))\n",
      "/home/apsw/.local/lib/python3.6/site-packages/keras/activations.py:211: UserWarning: Do not pass a layer instance (such as LeakyReLU) as the activation argument of another layer. Instead, advanced activation layers should be used just like any other layer in a model.\n",
      "  identifier=identifier.__class__.__name__))\n"
     ]
    },
    {
     "name": "stdout",
     "output_type": "stream",
     "text": [
      "ratio_db = 4.5, i = 18/25\r"
     ]
    },
    {
     "name": "stderr",
     "output_type": "stream",
     "text": [
      "/home/apsw/.local/lib/python3.6/site-packages/keras/activations.py:211: UserWarning: Do not pass a layer instance (such as LeakyReLU) as the activation argument of another layer. Instead, advanced activation layers should be used just like any other layer in a model.\n",
      "  identifier=identifier.__class__.__name__))\n",
      "/home/apsw/.local/lib/python3.6/site-packages/keras/activations.py:211: UserWarning: Do not pass a layer instance (such as LeakyReLU) as the activation argument of another layer. Instead, advanced activation layers should be used just like any other layer in a model.\n",
      "  identifier=identifier.__class__.__name__))\n",
      "/home/apsw/.local/lib/python3.6/site-packages/keras/activations.py:211: UserWarning: Do not pass a layer instance (such as LeakyReLU) as the activation argument of another layer. Instead, advanced activation layers should be used just like any other layer in a model.\n",
      "  identifier=identifier.__class__.__name__))\n"
     ]
    },
    {
     "name": "stdout",
     "output_type": "stream",
     "text": [
      "ratio_db = 5.0, i = 19/25\r"
     ]
    },
    {
     "name": "stderr",
     "output_type": "stream",
     "text": [
      "/home/apsw/.local/lib/python3.6/site-packages/keras/activations.py:211: UserWarning: Do not pass a layer instance (such as LeakyReLU) as the activation argument of another layer. Instead, advanced activation layers should be used just like any other layer in a model.\n",
      "  identifier=identifier.__class__.__name__))\n",
      "/home/apsw/.local/lib/python3.6/site-packages/keras/activations.py:211: UserWarning: Do not pass a layer instance (such as LeakyReLU) as the activation argument of another layer. Instead, advanced activation layers should be used just like any other layer in a model.\n",
      "  identifier=identifier.__class__.__name__))\n",
      "/home/apsw/.local/lib/python3.6/site-packages/keras/activations.py:211: UserWarning: Do not pass a layer instance (such as LeakyReLU) as the activation argument of another layer. Instead, advanced activation layers should be used just like any other layer in a model.\n",
      "  identifier=identifier.__class__.__name__))\n"
     ]
    },
    {
     "name": "stdout",
     "output_type": "stream",
     "text": [
      "ratio_db = 5.5, i = 20/25\r"
     ]
    },
    {
     "name": "stderr",
     "output_type": "stream",
     "text": [
      "/home/apsw/.local/lib/python3.6/site-packages/keras/activations.py:211: UserWarning: Do not pass a layer instance (such as LeakyReLU) as the activation argument of another layer. Instead, advanced activation layers should be used just like any other layer in a model.\n",
      "  identifier=identifier.__class__.__name__))\n",
      "/home/apsw/.local/lib/python3.6/site-packages/keras/activations.py:211: UserWarning: Do not pass a layer instance (such as LeakyReLU) as the activation argument of another layer. Instead, advanced activation layers should be used just like any other layer in a model.\n",
      "  identifier=identifier.__class__.__name__))\n",
      "/home/apsw/.local/lib/python3.6/site-packages/keras/activations.py:211: UserWarning: Do not pass a layer instance (such as LeakyReLU) as the activation argument of another layer. Instead, advanced activation layers should be used just like any other layer in a model.\n",
      "  identifier=identifier.__class__.__name__))\n"
     ]
    },
    {
     "name": "stdout",
     "output_type": "stream",
     "text": [
      "ratio_db = 6.0, i = 21/25\r"
     ]
    },
    {
     "name": "stderr",
     "output_type": "stream",
     "text": [
      "/home/apsw/.local/lib/python3.6/site-packages/keras/activations.py:211: UserWarning: Do not pass a layer instance (such as LeakyReLU) as the activation argument of another layer. Instead, advanced activation layers should be used just like any other layer in a model.\n",
      "  identifier=identifier.__class__.__name__))\n",
      "/home/apsw/.local/lib/python3.6/site-packages/keras/activations.py:211: UserWarning: Do not pass a layer instance (such as LeakyReLU) as the activation argument of another layer. Instead, advanced activation layers should be used just like any other layer in a model.\n",
      "  identifier=identifier.__class__.__name__))\n",
      "/home/apsw/.local/lib/python3.6/site-packages/keras/activations.py:211: UserWarning: Do not pass a layer instance (such as LeakyReLU) as the activation argument of another layer. Instead, advanced activation layers should be used just like any other layer in a model.\n",
      "  identifier=identifier.__class__.__name__))\n"
     ]
    },
    {
     "name": "stdout",
     "output_type": "stream",
     "text": [
      "ratio_db = 6.5, i = 22/25\r"
     ]
    },
    {
     "name": "stderr",
     "output_type": "stream",
     "text": [
      "/home/apsw/.local/lib/python3.6/site-packages/keras/activations.py:211: UserWarning: Do not pass a layer instance (such as LeakyReLU) as the activation argument of another layer. Instead, advanced activation layers should be used just like any other layer in a model.\n",
      "  identifier=identifier.__class__.__name__))\n",
      "/home/apsw/.local/lib/python3.6/site-packages/keras/activations.py:211: UserWarning: Do not pass a layer instance (such as LeakyReLU) as the activation argument of another layer. Instead, advanced activation layers should be used just like any other layer in a model.\n",
      "  identifier=identifier.__class__.__name__))\n",
      "/home/apsw/.local/lib/python3.6/site-packages/keras/activations.py:211: UserWarning: Do not pass a layer instance (such as LeakyReLU) as the activation argument of another layer. Instead, advanced activation layers should be used just like any other layer in a model.\n",
      "  identifier=identifier.__class__.__name__))\n"
     ]
    },
    {
     "name": "stdout",
     "output_type": "stream",
     "text": [
      "ratio_db = 7.0, i = 23/25\r"
     ]
    },
    {
     "name": "stderr",
     "output_type": "stream",
     "text": [
      "/home/apsw/.local/lib/python3.6/site-packages/keras/activations.py:211: UserWarning: Do not pass a layer instance (such as LeakyReLU) as the activation argument of another layer. Instead, advanced activation layers should be used just like any other layer in a model.\n",
      "  identifier=identifier.__class__.__name__))\n",
      "/home/apsw/.local/lib/python3.6/site-packages/keras/activations.py:211: UserWarning: Do not pass a layer instance (such as LeakyReLU) as the activation argument of another layer. Instead, advanced activation layers should be used just like any other layer in a model.\n",
      "  identifier=identifier.__class__.__name__))\n",
      "/home/apsw/.local/lib/python3.6/site-packages/keras/activations.py:211: UserWarning: Do not pass a layer instance (such as LeakyReLU) as the activation argument of another layer. Instead, advanced activation layers should be used just like any other layer in a model.\n",
      "  identifier=identifier.__class__.__name__))\n"
     ]
    },
    {
     "name": "stdout",
     "output_type": "stream",
     "text": [
      "ratio_db = 7.5, i = 24/25\r"
     ]
    },
    {
     "name": "stderr",
     "output_type": "stream",
     "text": [
      "/home/apsw/.local/lib/python3.6/site-packages/keras/activations.py:211: UserWarning: Do not pass a layer instance (such as LeakyReLU) as the activation argument of another layer. Instead, advanced activation layers should be used just like any other layer in a model.\n",
      "  identifier=identifier.__class__.__name__))\n",
      "/home/apsw/.local/lib/python3.6/site-packages/keras/activations.py:211: UserWarning: Do not pass a layer instance (such as LeakyReLU) as the activation argument of another layer. Instead, advanced activation layers should be used just like any other layer in a model.\n",
      "  identifier=identifier.__class__.__name__))\n",
      "/home/apsw/.local/lib/python3.6/site-packages/keras/activations.py:211: UserWarning: Do not pass a layer instance (such as LeakyReLU) as the activation argument of another layer. Instead, advanced activation layers should be used just like any other layer in a model.\n",
      "  identifier=identifier.__class__.__name__))\n"
     ]
    },
    {
     "name": "stdout",
     "output_type": "stream",
     "text": [
      "ratio_db = 8.0, i = 25/25\r"
     ]
    },
    {
     "name": "stderr",
     "output_type": "stream",
     "text": [
      "/home/apsw/.local/lib/python3.6/site-packages/keras/activations.py:211: UserWarning: Do not pass a layer instance (such as LeakyReLU) as the activation argument of another layer. Instead, advanced activation layers should be used just like any other layer in a model.\n",
      "  identifier=identifier.__class__.__name__))\n",
      "/home/apsw/.local/lib/python3.6/site-packages/keras/activations.py:211: UserWarning: Do not pass a layer instance (such as LeakyReLU) as the activation argument of another layer. Instead, advanced activation layers should be used just like any other layer in a model.\n",
      "  identifier=identifier.__class__.__name__))\n",
      "/home/apsw/.local/lib/python3.6/site-packages/keras/activations.py:211: UserWarning: Do not pass a layer instance (such as LeakyReLU) as the activation argument of another layer. Instead, advanced activation layers should be used just like any other layer in a model.\n",
      "  identifier=identifier.__class__.__name__))\n"
     ]
    },
    {
     "name": "stdout",
     "output_type": "stream",
     "text": [
      "Took 128.75989055633545\n"
     ]
    }
   ],
   "source": [
    "# (8,8)\n",
    "t0 = time()\n",
    "Eb_N0_dbs = np.arange(-4,8.5,0.5)\n",
    "bler = np.empty(Eb_N0_dbs.size)\n",
    "for i, ratio_db in enumerate(tqdm_notebook(Eb_N0_dbs, desc=\"1st loop\")):\n",
    "    print(f\"ratio_db = {ratio_db}, i = {i+1}/{Eb_N0_dbs.size}\", end=\"\\r\")\n",
    "    bler[i] = get_noise_bler_k(2**8, 2, ratio_db, \\\n",
    "                             './models/autoencoder_8_8_leaky_relu0.0750.h5', \\\n",
    "                             test_data256, act_f)\n",
    "print(f\"Took {time() - t0}\")"
   ]
  },
  {
   "cell_type": "code",
   "execution_count": 76,
   "metadata": {},
   "outputs": [
    {
     "name": "stdout",
     "output_type": "stream",
     "text": [
      "ratio_db = -4.0, i = 1/25\r"
     ]
    },
    {
     "name": "stderr",
     "output_type": "stream",
     "text": [
      "/home/ubuntu/anaconda3/envs/tensorflow_p36/lib/python3.6/site-packages/keras/activations.py:211: UserWarning: Do not pass a layer instance (such as LeakyReLU) as the activation argument of another layer. Instead, advanced activation layers should be used just like any other layer in a model.\n",
      "  identifier=identifier.__class__.__name__))\n",
      "/home/ubuntu/anaconda3/envs/tensorflow_p36/lib/python3.6/site-packages/keras/activations.py:211: UserWarning: Do not pass a layer instance (such as LeakyReLU) as the activation argument of another layer. Instead, advanced activation layers should be used just like any other layer in a model.\n",
      "  identifier=identifier.__class__.__name__))\n",
      "/home/ubuntu/anaconda3/envs/tensorflow_p36/lib/python3.6/site-packages/keras/activations.py:211: UserWarning: Do not pass a layer instance (such as LeakyReLU) as the activation argument of another layer. Instead, advanced activation layers should be used just like any other layer in a model.\n",
      "  identifier=identifier.__class__.__name__))\n"
     ]
    },
    {
     "name": "stdout",
     "output_type": "stream",
     "text": [
      "ratio_db = -3.5, i = 2/25\r"
     ]
    },
    {
     "name": "stderr",
     "output_type": "stream",
     "text": [
      "/home/ubuntu/anaconda3/envs/tensorflow_p36/lib/python3.6/site-packages/keras/activations.py:211: UserWarning: Do not pass a layer instance (such as LeakyReLU) as the activation argument of another layer. Instead, advanced activation layers should be used just like any other layer in a model.\n",
      "  identifier=identifier.__class__.__name__))\n",
      "/home/ubuntu/anaconda3/envs/tensorflow_p36/lib/python3.6/site-packages/keras/activations.py:211: UserWarning: Do not pass a layer instance (such as LeakyReLU) as the activation argument of another layer. Instead, advanced activation layers should be used just like any other layer in a model.\n",
      "  identifier=identifier.__class__.__name__))\n",
      "/home/ubuntu/anaconda3/envs/tensorflow_p36/lib/python3.6/site-packages/keras/activations.py:211: UserWarning: Do not pass a layer instance (such as LeakyReLU) as the activation argument of another layer. Instead, advanced activation layers should be used just like any other layer in a model.\n",
      "  identifier=identifier.__class__.__name__))\n"
     ]
    },
    {
     "name": "stdout",
     "output_type": "stream",
     "text": [
      "ratio_db = -3.0, i = 3/25\r"
     ]
    },
    {
     "name": "stderr",
     "output_type": "stream",
     "text": [
      "/home/ubuntu/anaconda3/envs/tensorflow_p36/lib/python3.6/site-packages/keras/activations.py:211: UserWarning: Do not pass a layer instance (such as LeakyReLU) as the activation argument of another layer. Instead, advanced activation layers should be used just like any other layer in a model.\n",
      "  identifier=identifier.__class__.__name__))\n",
      "/home/ubuntu/anaconda3/envs/tensorflow_p36/lib/python3.6/site-packages/keras/activations.py:211: UserWarning: Do not pass a layer instance (such as LeakyReLU) as the activation argument of another layer. Instead, advanced activation layers should be used just like any other layer in a model.\n",
      "  identifier=identifier.__class__.__name__))\n",
      "/home/ubuntu/anaconda3/envs/tensorflow_p36/lib/python3.6/site-packages/keras/activations.py:211: UserWarning: Do not pass a layer instance (such as LeakyReLU) as the activation argument of another layer. Instead, advanced activation layers should be used just like any other layer in a model.\n",
      "  identifier=identifier.__class__.__name__))\n"
     ]
    },
    {
     "name": "stdout",
     "output_type": "stream",
     "text": [
      "ratio_db = -2.5, i = 4/25\r"
     ]
    },
    {
     "name": "stderr",
     "output_type": "stream",
     "text": [
      "/home/ubuntu/anaconda3/envs/tensorflow_p36/lib/python3.6/site-packages/keras/activations.py:211: UserWarning: Do not pass a layer instance (such as LeakyReLU) as the activation argument of another layer. Instead, advanced activation layers should be used just like any other layer in a model.\n",
      "  identifier=identifier.__class__.__name__))\n",
      "/home/ubuntu/anaconda3/envs/tensorflow_p36/lib/python3.6/site-packages/keras/activations.py:211: UserWarning: Do not pass a layer instance (such as LeakyReLU) as the activation argument of another layer. Instead, advanced activation layers should be used just like any other layer in a model.\n",
      "  identifier=identifier.__class__.__name__))\n",
      "/home/ubuntu/anaconda3/envs/tensorflow_p36/lib/python3.6/site-packages/keras/activations.py:211: UserWarning: Do not pass a layer instance (such as LeakyReLU) as the activation argument of another layer. Instead, advanced activation layers should be used just like any other layer in a model.\n",
      "  identifier=identifier.__class__.__name__))\n"
     ]
    },
    {
     "name": "stdout",
     "output_type": "stream",
     "text": [
      "ratio_db = -2.0, i = 5/25\r"
     ]
    },
    {
     "name": "stderr",
     "output_type": "stream",
     "text": [
      "/home/ubuntu/anaconda3/envs/tensorflow_p36/lib/python3.6/site-packages/keras/activations.py:211: UserWarning: Do not pass a layer instance (such as LeakyReLU) as the activation argument of another layer. Instead, advanced activation layers should be used just like any other layer in a model.\n",
      "  identifier=identifier.__class__.__name__))\n",
      "/home/ubuntu/anaconda3/envs/tensorflow_p36/lib/python3.6/site-packages/keras/activations.py:211: UserWarning: Do not pass a layer instance (such as LeakyReLU) as the activation argument of another layer. Instead, advanced activation layers should be used just like any other layer in a model.\n",
      "  identifier=identifier.__class__.__name__))\n",
      "/home/ubuntu/anaconda3/envs/tensorflow_p36/lib/python3.6/site-packages/keras/activations.py:211: UserWarning: Do not pass a layer instance (such as LeakyReLU) as the activation argument of another layer. Instead, advanced activation layers should be used just like any other layer in a model.\n",
      "  identifier=identifier.__class__.__name__))\n"
     ]
    },
    {
     "name": "stdout",
     "output_type": "stream",
     "text": [
      "ratio_db = -1.5, i = 6/25\r"
     ]
    },
    {
     "name": "stderr",
     "output_type": "stream",
     "text": [
      "/home/ubuntu/anaconda3/envs/tensorflow_p36/lib/python3.6/site-packages/keras/activations.py:211: UserWarning: Do not pass a layer instance (such as LeakyReLU) as the activation argument of another layer. Instead, advanced activation layers should be used just like any other layer in a model.\n",
      "  identifier=identifier.__class__.__name__))\n",
      "/home/ubuntu/anaconda3/envs/tensorflow_p36/lib/python3.6/site-packages/keras/activations.py:211: UserWarning: Do not pass a layer instance (such as LeakyReLU) as the activation argument of another layer. Instead, advanced activation layers should be used just like any other layer in a model.\n",
      "  identifier=identifier.__class__.__name__))\n",
      "/home/ubuntu/anaconda3/envs/tensorflow_p36/lib/python3.6/site-packages/keras/activations.py:211: UserWarning: Do not pass a layer instance (such as LeakyReLU) as the activation argument of another layer. Instead, advanced activation layers should be used just like any other layer in a model.\n",
      "  identifier=identifier.__class__.__name__))\n"
     ]
    },
    {
     "name": "stdout",
     "output_type": "stream",
     "text": [
      "ratio_db = -1.0, i = 7/25\r"
     ]
    },
    {
     "name": "stderr",
     "output_type": "stream",
     "text": [
      "/home/ubuntu/anaconda3/envs/tensorflow_p36/lib/python3.6/site-packages/keras/activations.py:211: UserWarning: Do not pass a layer instance (such as LeakyReLU) as the activation argument of another layer. Instead, advanced activation layers should be used just like any other layer in a model.\n",
      "  identifier=identifier.__class__.__name__))\n",
      "/home/ubuntu/anaconda3/envs/tensorflow_p36/lib/python3.6/site-packages/keras/activations.py:211: UserWarning: Do not pass a layer instance (such as LeakyReLU) as the activation argument of another layer. Instead, advanced activation layers should be used just like any other layer in a model.\n",
      "  identifier=identifier.__class__.__name__))\n",
      "/home/ubuntu/anaconda3/envs/tensorflow_p36/lib/python3.6/site-packages/keras/activations.py:211: UserWarning: Do not pass a layer instance (such as LeakyReLU) as the activation argument of another layer. Instead, advanced activation layers should be used just like any other layer in a model.\n",
      "  identifier=identifier.__class__.__name__))\n"
     ]
    },
    {
     "name": "stdout",
     "output_type": "stream",
     "text": [
      "ratio_db = -0.5, i = 8/25\r"
     ]
    },
    {
     "name": "stderr",
     "output_type": "stream",
     "text": [
      "/home/ubuntu/anaconda3/envs/tensorflow_p36/lib/python3.6/site-packages/keras/activations.py:211: UserWarning: Do not pass a layer instance (such as LeakyReLU) as the activation argument of another layer. Instead, advanced activation layers should be used just like any other layer in a model.\n",
      "  identifier=identifier.__class__.__name__))\n",
      "/home/ubuntu/anaconda3/envs/tensorflow_p36/lib/python3.6/site-packages/keras/activations.py:211: UserWarning: Do not pass a layer instance (such as LeakyReLU) as the activation argument of another layer. Instead, advanced activation layers should be used just like any other layer in a model.\n",
      "  identifier=identifier.__class__.__name__))\n",
      "/home/ubuntu/anaconda3/envs/tensorflow_p36/lib/python3.6/site-packages/keras/activations.py:211: UserWarning: Do not pass a layer instance (such as LeakyReLU) as the activation argument of another layer. Instead, advanced activation layers should be used just like any other layer in a model.\n",
      "  identifier=identifier.__class__.__name__))\n"
     ]
    },
    {
     "name": "stdout",
     "output_type": "stream",
     "text": [
      "ratio_db = 0.0, i = 9/25\r"
     ]
    },
    {
     "name": "stderr",
     "output_type": "stream",
     "text": [
      "/home/ubuntu/anaconda3/envs/tensorflow_p36/lib/python3.6/site-packages/keras/activations.py:211: UserWarning: Do not pass a layer instance (such as LeakyReLU) as the activation argument of another layer. Instead, advanced activation layers should be used just like any other layer in a model.\n",
      "  identifier=identifier.__class__.__name__))\n",
      "/home/ubuntu/anaconda3/envs/tensorflow_p36/lib/python3.6/site-packages/keras/activations.py:211: UserWarning: Do not pass a layer instance (such as LeakyReLU) as the activation argument of another layer. Instead, advanced activation layers should be used just like any other layer in a model.\n",
      "  identifier=identifier.__class__.__name__))\n",
      "/home/ubuntu/anaconda3/envs/tensorflow_p36/lib/python3.6/site-packages/keras/activations.py:211: UserWarning: Do not pass a layer instance (such as LeakyReLU) as the activation argument of another layer. Instead, advanced activation layers should be used just like any other layer in a model.\n",
      "  identifier=identifier.__class__.__name__))\n"
     ]
    },
    {
     "name": "stdout",
     "output_type": "stream",
     "text": [
      "ratio_db = 0.5, i = 10/25\r"
     ]
    },
    {
     "name": "stderr",
     "output_type": "stream",
     "text": [
      "/home/ubuntu/anaconda3/envs/tensorflow_p36/lib/python3.6/site-packages/keras/activations.py:211: UserWarning: Do not pass a layer instance (such as LeakyReLU) as the activation argument of another layer. Instead, advanced activation layers should be used just like any other layer in a model.\n",
      "  identifier=identifier.__class__.__name__))\n",
      "/home/ubuntu/anaconda3/envs/tensorflow_p36/lib/python3.6/site-packages/keras/activations.py:211: UserWarning: Do not pass a layer instance (such as LeakyReLU) as the activation argument of another layer. Instead, advanced activation layers should be used just like any other layer in a model.\n",
      "  identifier=identifier.__class__.__name__))\n",
      "/home/ubuntu/anaconda3/envs/tensorflow_p36/lib/python3.6/site-packages/keras/activations.py:211: UserWarning: Do not pass a layer instance (such as LeakyReLU) as the activation argument of another layer. Instead, advanced activation layers should be used just like any other layer in a model.\n",
      "  identifier=identifier.__class__.__name__))\n"
     ]
    },
    {
     "name": "stdout",
     "output_type": "stream",
     "text": [
      "ratio_db = 1.0, i = 11/25\r"
     ]
    },
    {
     "name": "stderr",
     "output_type": "stream",
     "text": [
      "/home/ubuntu/anaconda3/envs/tensorflow_p36/lib/python3.6/site-packages/keras/activations.py:211: UserWarning: Do not pass a layer instance (such as LeakyReLU) as the activation argument of another layer. Instead, advanced activation layers should be used just like any other layer in a model.\n",
      "  identifier=identifier.__class__.__name__))\n",
      "/home/ubuntu/anaconda3/envs/tensorflow_p36/lib/python3.6/site-packages/keras/activations.py:211: UserWarning: Do not pass a layer instance (such as LeakyReLU) as the activation argument of another layer. Instead, advanced activation layers should be used just like any other layer in a model.\n",
      "  identifier=identifier.__class__.__name__))\n",
      "/home/ubuntu/anaconda3/envs/tensorflow_p36/lib/python3.6/site-packages/keras/activations.py:211: UserWarning: Do not pass a layer instance (such as LeakyReLU) as the activation argument of another layer. Instead, advanced activation layers should be used just like any other layer in a model.\n",
      "  identifier=identifier.__class__.__name__))\n"
     ]
    },
    {
     "name": "stdout",
     "output_type": "stream",
     "text": [
      "ratio_db = 1.5, i = 12/25\r"
     ]
    },
    {
     "name": "stderr",
     "output_type": "stream",
     "text": [
      "/home/ubuntu/anaconda3/envs/tensorflow_p36/lib/python3.6/site-packages/keras/activations.py:211: UserWarning: Do not pass a layer instance (such as LeakyReLU) as the activation argument of another layer. Instead, advanced activation layers should be used just like any other layer in a model.\n",
      "  identifier=identifier.__class__.__name__))\n",
      "/home/ubuntu/anaconda3/envs/tensorflow_p36/lib/python3.6/site-packages/keras/activations.py:211: UserWarning: Do not pass a layer instance (such as LeakyReLU) as the activation argument of another layer. Instead, advanced activation layers should be used just like any other layer in a model.\n",
      "  identifier=identifier.__class__.__name__))\n",
      "/home/ubuntu/anaconda3/envs/tensorflow_p36/lib/python3.6/site-packages/keras/activations.py:211: UserWarning: Do not pass a layer instance (such as LeakyReLU) as the activation argument of another layer. Instead, advanced activation layers should be used just like any other layer in a model.\n",
      "  identifier=identifier.__class__.__name__))\n"
     ]
    },
    {
     "name": "stdout",
     "output_type": "stream",
     "text": [
      "ratio_db = 2.0, i = 13/25\r"
     ]
    },
    {
     "name": "stderr",
     "output_type": "stream",
     "text": [
      "/home/ubuntu/anaconda3/envs/tensorflow_p36/lib/python3.6/site-packages/keras/activations.py:211: UserWarning: Do not pass a layer instance (such as LeakyReLU) as the activation argument of another layer. Instead, advanced activation layers should be used just like any other layer in a model.\n",
      "  identifier=identifier.__class__.__name__))\n",
      "/home/ubuntu/anaconda3/envs/tensorflow_p36/lib/python3.6/site-packages/keras/activations.py:211: UserWarning: Do not pass a layer instance (such as LeakyReLU) as the activation argument of another layer. Instead, advanced activation layers should be used just like any other layer in a model.\n",
      "  identifier=identifier.__class__.__name__))\n",
      "/home/ubuntu/anaconda3/envs/tensorflow_p36/lib/python3.6/site-packages/keras/activations.py:211: UserWarning: Do not pass a layer instance (such as LeakyReLU) as the activation argument of another layer. Instead, advanced activation layers should be used just like any other layer in a model.\n",
      "  identifier=identifier.__class__.__name__))\n"
     ]
    },
    {
     "name": "stdout",
     "output_type": "stream",
     "text": [
      "ratio_db = 2.5, i = 14/25\r"
     ]
    },
    {
     "name": "stderr",
     "output_type": "stream",
     "text": [
      "/home/ubuntu/anaconda3/envs/tensorflow_p36/lib/python3.6/site-packages/keras/activations.py:211: UserWarning: Do not pass a layer instance (such as LeakyReLU) as the activation argument of another layer. Instead, advanced activation layers should be used just like any other layer in a model.\n",
      "  identifier=identifier.__class__.__name__))\n",
      "/home/ubuntu/anaconda3/envs/tensorflow_p36/lib/python3.6/site-packages/keras/activations.py:211: UserWarning: Do not pass a layer instance (such as LeakyReLU) as the activation argument of another layer. Instead, advanced activation layers should be used just like any other layer in a model.\n",
      "  identifier=identifier.__class__.__name__))\n",
      "/home/ubuntu/anaconda3/envs/tensorflow_p36/lib/python3.6/site-packages/keras/activations.py:211: UserWarning: Do not pass a layer instance (such as LeakyReLU) as the activation argument of another layer. Instead, advanced activation layers should be used just like any other layer in a model.\n",
      "  identifier=identifier.__class__.__name__))\n"
     ]
    },
    {
     "name": "stdout",
     "output_type": "stream",
     "text": [
      "ratio_db = 3.0, i = 15/25\r"
     ]
    },
    {
     "name": "stderr",
     "output_type": "stream",
     "text": [
      "/home/ubuntu/anaconda3/envs/tensorflow_p36/lib/python3.6/site-packages/keras/activations.py:211: UserWarning: Do not pass a layer instance (such as LeakyReLU) as the activation argument of another layer. Instead, advanced activation layers should be used just like any other layer in a model.\n",
      "  identifier=identifier.__class__.__name__))\n",
      "/home/ubuntu/anaconda3/envs/tensorflow_p36/lib/python3.6/site-packages/keras/activations.py:211: UserWarning: Do not pass a layer instance (such as LeakyReLU) as the activation argument of another layer. Instead, advanced activation layers should be used just like any other layer in a model.\n",
      "  identifier=identifier.__class__.__name__))\n",
      "/home/ubuntu/anaconda3/envs/tensorflow_p36/lib/python3.6/site-packages/keras/activations.py:211: UserWarning: Do not pass a layer instance (such as LeakyReLU) as the activation argument of another layer. Instead, advanced activation layers should be used just like any other layer in a model.\n",
      "  identifier=identifier.__class__.__name__))\n"
     ]
    },
    {
     "name": "stdout",
     "output_type": "stream",
     "text": [
      "ratio_db = 3.5, i = 16/25\r"
     ]
    },
    {
     "name": "stderr",
     "output_type": "stream",
     "text": [
      "/home/ubuntu/anaconda3/envs/tensorflow_p36/lib/python3.6/site-packages/keras/activations.py:211: UserWarning: Do not pass a layer instance (such as LeakyReLU) as the activation argument of another layer. Instead, advanced activation layers should be used just like any other layer in a model.\n",
      "  identifier=identifier.__class__.__name__))\n",
      "/home/ubuntu/anaconda3/envs/tensorflow_p36/lib/python3.6/site-packages/keras/activations.py:211: UserWarning: Do not pass a layer instance (such as LeakyReLU) as the activation argument of another layer. Instead, advanced activation layers should be used just like any other layer in a model.\n",
      "  identifier=identifier.__class__.__name__))\n",
      "/home/ubuntu/anaconda3/envs/tensorflow_p36/lib/python3.6/site-packages/keras/activations.py:211: UserWarning: Do not pass a layer instance (such as LeakyReLU) as the activation argument of another layer. Instead, advanced activation layers should be used just like any other layer in a model.\n",
      "  identifier=identifier.__class__.__name__))\n"
     ]
    },
    {
     "name": "stdout",
     "output_type": "stream",
     "text": [
      "ratio_db = 4.0, i = 17/25\r"
     ]
    },
    {
     "name": "stderr",
     "output_type": "stream",
     "text": [
      "/home/ubuntu/anaconda3/envs/tensorflow_p36/lib/python3.6/site-packages/keras/activations.py:211: UserWarning: Do not pass a layer instance (such as LeakyReLU) as the activation argument of another layer. Instead, advanced activation layers should be used just like any other layer in a model.\n",
      "  identifier=identifier.__class__.__name__))\n",
      "/home/ubuntu/anaconda3/envs/tensorflow_p36/lib/python3.6/site-packages/keras/activations.py:211: UserWarning: Do not pass a layer instance (such as LeakyReLU) as the activation argument of another layer. Instead, advanced activation layers should be used just like any other layer in a model.\n",
      "  identifier=identifier.__class__.__name__))\n",
      "/home/ubuntu/anaconda3/envs/tensorflow_p36/lib/python3.6/site-packages/keras/activations.py:211: UserWarning: Do not pass a layer instance (such as LeakyReLU) as the activation argument of another layer. Instead, advanced activation layers should be used just like any other layer in a model.\n",
      "  identifier=identifier.__class__.__name__))\n"
     ]
    },
    {
     "name": "stdout",
     "output_type": "stream",
     "text": [
      "ratio_db = 4.5, i = 18/25\r"
     ]
    },
    {
     "name": "stderr",
     "output_type": "stream",
     "text": [
      "/home/ubuntu/anaconda3/envs/tensorflow_p36/lib/python3.6/site-packages/keras/activations.py:211: UserWarning: Do not pass a layer instance (such as LeakyReLU) as the activation argument of another layer. Instead, advanced activation layers should be used just like any other layer in a model.\n",
      "  identifier=identifier.__class__.__name__))\n",
      "/home/ubuntu/anaconda3/envs/tensorflow_p36/lib/python3.6/site-packages/keras/activations.py:211: UserWarning: Do not pass a layer instance (such as LeakyReLU) as the activation argument of another layer. Instead, advanced activation layers should be used just like any other layer in a model.\n",
      "  identifier=identifier.__class__.__name__))\n",
      "/home/ubuntu/anaconda3/envs/tensorflow_p36/lib/python3.6/site-packages/keras/activations.py:211: UserWarning: Do not pass a layer instance (such as LeakyReLU) as the activation argument of another layer. Instead, advanced activation layers should be used just like any other layer in a model.\n",
      "  identifier=identifier.__class__.__name__))\n"
     ]
    },
    {
     "name": "stdout",
     "output_type": "stream",
     "text": [
      "ratio_db = 5.0, i = 19/25\r"
     ]
    },
    {
     "name": "stderr",
     "output_type": "stream",
     "text": [
      "/home/ubuntu/anaconda3/envs/tensorflow_p36/lib/python3.6/site-packages/keras/activations.py:211: UserWarning: Do not pass a layer instance (such as LeakyReLU) as the activation argument of another layer. Instead, advanced activation layers should be used just like any other layer in a model.\n",
      "  identifier=identifier.__class__.__name__))\n",
      "/home/ubuntu/anaconda3/envs/tensorflow_p36/lib/python3.6/site-packages/keras/activations.py:211: UserWarning: Do not pass a layer instance (such as LeakyReLU) as the activation argument of another layer. Instead, advanced activation layers should be used just like any other layer in a model.\n",
      "  identifier=identifier.__class__.__name__))\n",
      "/home/ubuntu/anaconda3/envs/tensorflow_p36/lib/python3.6/site-packages/keras/activations.py:211: UserWarning: Do not pass a layer instance (such as LeakyReLU) as the activation argument of another layer. Instead, advanced activation layers should be used just like any other layer in a model.\n",
      "  identifier=identifier.__class__.__name__))\n"
     ]
    },
    {
     "name": "stdout",
     "output_type": "stream",
     "text": [
      "ratio_db = 5.5, i = 20/25\r"
     ]
    },
    {
     "name": "stderr",
     "output_type": "stream",
     "text": [
      "/home/ubuntu/anaconda3/envs/tensorflow_p36/lib/python3.6/site-packages/keras/activations.py:211: UserWarning: Do not pass a layer instance (such as LeakyReLU) as the activation argument of another layer. Instead, advanced activation layers should be used just like any other layer in a model.\n",
      "  identifier=identifier.__class__.__name__))\n",
      "/home/ubuntu/anaconda3/envs/tensorflow_p36/lib/python3.6/site-packages/keras/activations.py:211: UserWarning: Do not pass a layer instance (such as LeakyReLU) as the activation argument of another layer. Instead, advanced activation layers should be used just like any other layer in a model.\n",
      "  identifier=identifier.__class__.__name__))\n",
      "/home/ubuntu/anaconda3/envs/tensorflow_p36/lib/python3.6/site-packages/keras/activations.py:211: UserWarning: Do not pass a layer instance (such as LeakyReLU) as the activation argument of another layer. Instead, advanced activation layers should be used just like any other layer in a model.\n",
      "  identifier=identifier.__class__.__name__))\n"
     ]
    },
    {
     "name": "stdout",
     "output_type": "stream",
     "text": [
      "ratio_db = 6.0, i = 21/25\r"
     ]
    },
    {
     "name": "stderr",
     "output_type": "stream",
     "text": [
      "/home/ubuntu/anaconda3/envs/tensorflow_p36/lib/python3.6/site-packages/keras/activations.py:211: UserWarning: Do not pass a layer instance (such as LeakyReLU) as the activation argument of another layer. Instead, advanced activation layers should be used just like any other layer in a model.\n",
      "  identifier=identifier.__class__.__name__))\n",
      "/home/ubuntu/anaconda3/envs/tensorflow_p36/lib/python3.6/site-packages/keras/activations.py:211: UserWarning: Do not pass a layer instance (such as LeakyReLU) as the activation argument of another layer. Instead, advanced activation layers should be used just like any other layer in a model.\n",
      "  identifier=identifier.__class__.__name__))\n",
      "/home/ubuntu/anaconda3/envs/tensorflow_p36/lib/python3.6/site-packages/keras/activations.py:211: UserWarning: Do not pass a layer instance (such as LeakyReLU) as the activation argument of another layer. Instead, advanced activation layers should be used just like any other layer in a model.\n",
      "  identifier=identifier.__class__.__name__))\n"
     ]
    },
    {
     "name": "stdout",
     "output_type": "stream",
     "text": [
      "ratio_db = 6.5, i = 22/25\r"
     ]
    },
    {
     "name": "stderr",
     "output_type": "stream",
     "text": [
      "/home/ubuntu/anaconda3/envs/tensorflow_p36/lib/python3.6/site-packages/keras/activations.py:211: UserWarning: Do not pass a layer instance (such as LeakyReLU) as the activation argument of another layer. Instead, advanced activation layers should be used just like any other layer in a model.\n",
      "  identifier=identifier.__class__.__name__))\n",
      "/home/ubuntu/anaconda3/envs/tensorflow_p36/lib/python3.6/site-packages/keras/activations.py:211: UserWarning: Do not pass a layer instance (such as LeakyReLU) as the activation argument of another layer. Instead, advanced activation layers should be used just like any other layer in a model.\n",
      "  identifier=identifier.__class__.__name__))\n",
      "/home/ubuntu/anaconda3/envs/tensorflow_p36/lib/python3.6/site-packages/keras/activations.py:211: UserWarning: Do not pass a layer instance (such as LeakyReLU) as the activation argument of another layer. Instead, advanced activation layers should be used just like any other layer in a model.\n",
      "  identifier=identifier.__class__.__name__))\n"
     ]
    },
    {
     "name": "stdout",
     "output_type": "stream",
     "text": [
      "ratio_db = 7.0, i = 23/25\r"
     ]
    },
    {
     "name": "stderr",
     "output_type": "stream",
     "text": [
      "/home/ubuntu/anaconda3/envs/tensorflow_p36/lib/python3.6/site-packages/keras/activations.py:211: UserWarning: Do not pass a layer instance (such as LeakyReLU) as the activation argument of another layer. Instead, advanced activation layers should be used just like any other layer in a model.\n",
      "  identifier=identifier.__class__.__name__))\n",
      "/home/ubuntu/anaconda3/envs/tensorflow_p36/lib/python3.6/site-packages/keras/activations.py:211: UserWarning: Do not pass a layer instance (such as LeakyReLU) as the activation argument of another layer. Instead, advanced activation layers should be used just like any other layer in a model.\n",
      "  identifier=identifier.__class__.__name__))\n",
      "/home/ubuntu/anaconda3/envs/tensorflow_p36/lib/python3.6/site-packages/keras/activations.py:211: UserWarning: Do not pass a layer instance (such as LeakyReLU) as the activation argument of another layer. Instead, advanced activation layers should be used just like any other layer in a model.\n",
      "  identifier=identifier.__class__.__name__))\n"
     ]
    },
    {
     "name": "stdout",
     "output_type": "stream",
     "text": [
      "ratio_db = 7.5, i = 24/25\r"
     ]
    },
    {
     "name": "stderr",
     "output_type": "stream",
     "text": [
      "/home/ubuntu/anaconda3/envs/tensorflow_p36/lib/python3.6/site-packages/keras/activations.py:211: UserWarning: Do not pass a layer instance (such as LeakyReLU) as the activation argument of another layer. Instead, advanced activation layers should be used just like any other layer in a model.\n",
      "  identifier=identifier.__class__.__name__))\n",
      "/home/ubuntu/anaconda3/envs/tensorflow_p36/lib/python3.6/site-packages/keras/activations.py:211: UserWarning: Do not pass a layer instance (such as LeakyReLU) as the activation argument of another layer. Instead, advanced activation layers should be used just like any other layer in a model.\n",
      "  identifier=identifier.__class__.__name__))\n",
      "/home/ubuntu/anaconda3/envs/tensorflow_p36/lib/python3.6/site-packages/keras/activations.py:211: UserWarning: Do not pass a layer instance (such as LeakyReLU) as the activation argument of another layer. Instead, advanced activation layers should be used just like any other layer in a model.\n",
      "  identifier=identifier.__class__.__name__))\n"
     ]
    },
    {
     "name": "stdout",
     "output_type": "stream",
     "text": [
      "ratio_db = 8.0, i = 25/25\r"
     ]
    },
    {
     "name": "stderr",
     "output_type": "stream",
     "text": [
      "/home/ubuntu/anaconda3/envs/tensorflow_p36/lib/python3.6/site-packages/keras/activations.py:211: UserWarning: Do not pass a layer instance (such as LeakyReLU) as the activation argument of another layer. Instead, advanced activation layers should be used just like any other layer in a model.\n",
      "  identifier=identifier.__class__.__name__))\n",
      "/home/ubuntu/anaconda3/envs/tensorflow_p36/lib/python3.6/site-packages/keras/activations.py:211: UserWarning: Do not pass a layer instance (such as LeakyReLU) as the activation argument of another layer. Instead, advanced activation layers should be used just like any other layer in a model.\n",
      "  identifier=identifier.__class__.__name__))\n",
      "/home/ubuntu/anaconda3/envs/tensorflow_p36/lib/python3.6/site-packages/keras/activations.py:211: UserWarning: Do not pass a layer instance (such as LeakyReLU) as the activation argument of another layer. Instead, advanced activation layers should be used just like any other layer in a model.\n",
      "  identifier=identifier.__class__.__name__))\n"
     ]
    },
    {
     "name": "stdout",
     "output_type": "stream",
     "text": [
      "Took 1148.1060771942139\n"
     ]
    }
   ],
   "source": [
    "# (7,4)\n",
    "t0 = time()\n",
    "Eb_N0_dbs = np.arange(-4,8.5,0.5)\n",
    "bler = np.empty(Eb_N0_dbs.size)\n",
    "# for i, ratio_db in enumerate(tqdm_notebook(Eb_N0_dbs, desc=\"1st loop\")):\n",
    "for i, ratio_db in enumerate(Eb_N0_dbs):\n",
    "    print(f\"ratio_db = {ratio_db}, i = {i+1}/{Eb_N0_dbs.size}\", end=\"\\r\")\n",
    "    bler[i] = get_non_complex_noise_bler(4, 7, ratio_db, \\\n",
    "                                         './models/autoencoder_7_4_leaky_relu0.8866.h5', \\\n",
    "                                         test_data16, act_f)\n",
    "print(f\"Took {time() - t0}\")"
   ]
  },
  {
   "cell_type": "code",
   "execution_count": 86,
   "metadata": {},
   "outputs": [
    {
     "name": "stdout",
     "output_type": "stream",
     "text": [
      "ratio_db = -4.0, i = 1/25\r"
     ]
    },
    {
     "name": "stderr",
     "output_type": "stream",
     "text": [
      "/home/ubuntu/anaconda3/envs/tensorflow_p36/lib/python3.6/site-packages/keras/activations.py:211: UserWarning: Do not pass a layer instance (such as LeakyReLU) as the activation argument of another layer. Instead, advanced activation layers should be used just like any other layer in a model.\n",
      "  identifier=identifier.__class__.__name__))\n",
      "/home/ubuntu/anaconda3/envs/tensorflow_p36/lib/python3.6/site-packages/keras/activations.py:211: UserWarning: Do not pass a layer instance (such as LeakyReLU) as the activation argument of another layer. Instead, advanced activation layers should be used just like any other layer in a model.\n",
      "  identifier=identifier.__class__.__name__))\n"
     ]
    },
    {
     "name": "stdout",
     "output_type": "stream",
     "text": [
      "ratio_db = -3.5, i = 2/25\r"
     ]
    },
    {
     "name": "stderr",
     "output_type": "stream",
     "text": [
      "/home/ubuntu/anaconda3/envs/tensorflow_p36/lib/python3.6/site-packages/keras/activations.py:211: UserWarning: Do not pass a layer instance (such as LeakyReLU) as the activation argument of another layer. Instead, advanced activation layers should be used just like any other layer in a model.\n",
      "  identifier=identifier.__class__.__name__))\n",
      "/home/ubuntu/anaconda3/envs/tensorflow_p36/lib/python3.6/site-packages/keras/activations.py:211: UserWarning: Do not pass a layer instance (such as LeakyReLU) as the activation argument of another layer. Instead, advanced activation layers should be used just like any other layer in a model.\n",
      "  identifier=identifier.__class__.__name__))\n"
     ]
    },
    {
     "name": "stdout",
     "output_type": "stream",
     "text": [
      "ratio_db = -3.0, i = 3/25\r"
     ]
    },
    {
     "name": "stderr",
     "output_type": "stream",
     "text": [
      "/home/ubuntu/anaconda3/envs/tensorflow_p36/lib/python3.6/site-packages/keras/activations.py:211: UserWarning: Do not pass a layer instance (such as LeakyReLU) as the activation argument of another layer. Instead, advanced activation layers should be used just like any other layer in a model.\n",
      "  identifier=identifier.__class__.__name__))\n",
      "/home/ubuntu/anaconda3/envs/tensorflow_p36/lib/python3.6/site-packages/keras/activations.py:211: UserWarning: Do not pass a layer instance (such as LeakyReLU) as the activation argument of another layer. Instead, advanced activation layers should be used just like any other layer in a model.\n",
      "  identifier=identifier.__class__.__name__))\n"
     ]
    },
    {
     "name": "stdout",
     "output_type": "stream",
     "text": [
      "ratio_db = -2.5, i = 4/25\r"
     ]
    },
    {
     "name": "stderr",
     "output_type": "stream",
     "text": [
      "/home/ubuntu/anaconda3/envs/tensorflow_p36/lib/python3.6/site-packages/keras/activations.py:211: UserWarning: Do not pass a layer instance (such as LeakyReLU) as the activation argument of another layer. Instead, advanced activation layers should be used just like any other layer in a model.\n",
      "  identifier=identifier.__class__.__name__))\n",
      "/home/ubuntu/anaconda3/envs/tensorflow_p36/lib/python3.6/site-packages/keras/activations.py:211: UserWarning: Do not pass a layer instance (such as LeakyReLU) as the activation argument of another layer. Instead, advanced activation layers should be used just like any other layer in a model.\n",
      "  identifier=identifier.__class__.__name__))\n"
     ]
    },
    {
     "name": "stdout",
     "output_type": "stream",
     "text": [
      "ratio_db = -2.0, i = 5/25\r"
     ]
    },
    {
     "name": "stderr",
     "output_type": "stream",
     "text": [
      "/home/ubuntu/anaconda3/envs/tensorflow_p36/lib/python3.6/site-packages/keras/activations.py:211: UserWarning: Do not pass a layer instance (such as LeakyReLU) as the activation argument of another layer. Instead, advanced activation layers should be used just like any other layer in a model.\n",
      "  identifier=identifier.__class__.__name__))\n",
      "/home/ubuntu/anaconda3/envs/tensorflow_p36/lib/python3.6/site-packages/keras/activations.py:211: UserWarning: Do not pass a layer instance (such as LeakyReLU) as the activation argument of another layer. Instead, advanced activation layers should be used just like any other layer in a model.\n",
      "  identifier=identifier.__class__.__name__))\n"
     ]
    },
    {
     "name": "stdout",
     "output_type": "stream",
     "text": [
      "ratio_db = -1.5, i = 6/25\r"
     ]
    },
    {
     "name": "stderr",
     "output_type": "stream",
     "text": [
      "/home/ubuntu/anaconda3/envs/tensorflow_p36/lib/python3.6/site-packages/keras/activations.py:211: UserWarning: Do not pass a layer instance (such as LeakyReLU) as the activation argument of another layer. Instead, advanced activation layers should be used just like any other layer in a model.\n",
      "  identifier=identifier.__class__.__name__))\n",
      "/home/ubuntu/anaconda3/envs/tensorflow_p36/lib/python3.6/site-packages/keras/activations.py:211: UserWarning: Do not pass a layer instance (such as LeakyReLU) as the activation argument of another layer. Instead, advanced activation layers should be used just like any other layer in a model.\n",
      "  identifier=identifier.__class__.__name__))\n"
     ]
    },
    {
     "name": "stdout",
     "output_type": "stream",
     "text": [
      "ratio_db = -1.0, i = 7/25\r"
     ]
    },
    {
     "name": "stderr",
     "output_type": "stream",
     "text": [
      "/home/ubuntu/anaconda3/envs/tensorflow_p36/lib/python3.6/site-packages/keras/activations.py:211: UserWarning: Do not pass a layer instance (such as LeakyReLU) as the activation argument of another layer. Instead, advanced activation layers should be used just like any other layer in a model.\n",
      "  identifier=identifier.__class__.__name__))\n",
      "/home/ubuntu/anaconda3/envs/tensorflow_p36/lib/python3.6/site-packages/keras/activations.py:211: UserWarning: Do not pass a layer instance (such as LeakyReLU) as the activation argument of another layer. Instead, advanced activation layers should be used just like any other layer in a model.\n",
      "  identifier=identifier.__class__.__name__))\n"
     ]
    },
    {
     "name": "stdout",
     "output_type": "stream",
     "text": [
      "ratio_db = -0.5, i = 8/25\r"
     ]
    },
    {
     "name": "stderr",
     "output_type": "stream",
     "text": [
      "/home/ubuntu/anaconda3/envs/tensorflow_p36/lib/python3.6/site-packages/keras/activations.py:211: UserWarning: Do not pass a layer instance (such as LeakyReLU) as the activation argument of another layer. Instead, advanced activation layers should be used just like any other layer in a model.\n",
      "  identifier=identifier.__class__.__name__))\n",
      "/home/ubuntu/anaconda3/envs/tensorflow_p36/lib/python3.6/site-packages/keras/activations.py:211: UserWarning: Do not pass a layer instance (such as LeakyReLU) as the activation argument of another layer. Instead, advanced activation layers should be used just like any other layer in a model.\n",
      "  identifier=identifier.__class__.__name__))\n"
     ]
    },
    {
     "name": "stdout",
     "output_type": "stream",
     "text": [
      "ratio_db = 0.0, i = 9/25\r"
     ]
    },
    {
     "name": "stderr",
     "output_type": "stream",
     "text": [
      "/home/ubuntu/anaconda3/envs/tensorflow_p36/lib/python3.6/site-packages/keras/activations.py:211: UserWarning: Do not pass a layer instance (such as LeakyReLU) as the activation argument of another layer. Instead, advanced activation layers should be used just like any other layer in a model.\n",
      "  identifier=identifier.__class__.__name__))\n",
      "/home/ubuntu/anaconda3/envs/tensorflow_p36/lib/python3.6/site-packages/keras/activations.py:211: UserWarning: Do not pass a layer instance (such as LeakyReLU) as the activation argument of another layer. Instead, advanced activation layers should be used just like any other layer in a model.\n",
      "  identifier=identifier.__class__.__name__))\n"
     ]
    },
    {
     "name": "stdout",
     "output_type": "stream",
     "text": [
      "ratio_db = 0.5, i = 10/25\r"
     ]
    },
    {
     "name": "stderr",
     "output_type": "stream",
     "text": [
      "/home/ubuntu/anaconda3/envs/tensorflow_p36/lib/python3.6/site-packages/keras/activations.py:211: UserWarning: Do not pass a layer instance (such as LeakyReLU) as the activation argument of another layer. Instead, advanced activation layers should be used just like any other layer in a model.\n",
      "  identifier=identifier.__class__.__name__))\n",
      "/home/ubuntu/anaconda3/envs/tensorflow_p36/lib/python3.6/site-packages/keras/activations.py:211: UserWarning: Do not pass a layer instance (such as LeakyReLU) as the activation argument of another layer. Instead, advanced activation layers should be used just like any other layer in a model.\n",
      "  identifier=identifier.__class__.__name__))\n"
     ]
    },
    {
     "name": "stdout",
     "output_type": "stream",
     "text": [
      "ratio_db = 1.0, i = 11/25\r"
     ]
    },
    {
     "name": "stderr",
     "output_type": "stream",
     "text": [
      "/home/ubuntu/anaconda3/envs/tensorflow_p36/lib/python3.6/site-packages/keras/activations.py:211: UserWarning: Do not pass a layer instance (such as LeakyReLU) as the activation argument of another layer. Instead, advanced activation layers should be used just like any other layer in a model.\n",
      "  identifier=identifier.__class__.__name__))\n",
      "/home/ubuntu/anaconda3/envs/tensorflow_p36/lib/python3.6/site-packages/keras/activations.py:211: UserWarning: Do not pass a layer instance (such as LeakyReLU) as the activation argument of another layer. Instead, advanced activation layers should be used just like any other layer in a model.\n",
      "  identifier=identifier.__class__.__name__))\n"
     ]
    },
    {
     "name": "stdout",
     "output_type": "stream",
     "text": [
      "ratio_db = 1.5, i = 12/25\r"
     ]
    },
    {
     "name": "stderr",
     "output_type": "stream",
     "text": [
      "/home/ubuntu/anaconda3/envs/tensorflow_p36/lib/python3.6/site-packages/keras/activations.py:211: UserWarning: Do not pass a layer instance (such as LeakyReLU) as the activation argument of another layer. Instead, advanced activation layers should be used just like any other layer in a model.\n",
      "  identifier=identifier.__class__.__name__))\n",
      "/home/ubuntu/anaconda3/envs/tensorflow_p36/lib/python3.6/site-packages/keras/activations.py:211: UserWarning: Do not pass a layer instance (such as LeakyReLU) as the activation argument of another layer. Instead, advanced activation layers should be used just like any other layer in a model.\n",
      "  identifier=identifier.__class__.__name__))\n"
     ]
    },
    {
     "name": "stdout",
     "output_type": "stream",
     "text": [
      "ratio_db = 2.0, i = 13/25\r"
     ]
    },
    {
     "name": "stderr",
     "output_type": "stream",
     "text": [
      "/home/ubuntu/anaconda3/envs/tensorflow_p36/lib/python3.6/site-packages/keras/activations.py:211: UserWarning: Do not pass a layer instance (such as LeakyReLU) as the activation argument of another layer. Instead, advanced activation layers should be used just like any other layer in a model.\n",
      "  identifier=identifier.__class__.__name__))\n",
      "/home/ubuntu/anaconda3/envs/tensorflow_p36/lib/python3.6/site-packages/keras/activations.py:211: UserWarning: Do not pass a layer instance (such as LeakyReLU) as the activation argument of another layer. Instead, advanced activation layers should be used just like any other layer in a model.\n",
      "  identifier=identifier.__class__.__name__))\n"
     ]
    },
    {
     "name": "stdout",
     "output_type": "stream",
     "text": [
      "ratio_db = 2.5, i = 14/25\r"
     ]
    },
    {
     "name": "stderr",
     "output_type": "stream",
     "text": [
      "/home/ubuntu/anaconda3/envs/tensorflow_p36/lib/python3.6/site-packages/keras/activations.py:211: UserWarning: Do not pass a layer instance (such as LeakyReLU) as the activation argument of another layer. Instead, advanced activation layers should be used just like any other layer in a model.\n",
      "  identifier=identifier.__class__.__name__))\n",
      "/home/ubuntu/anaconda3/envs/tensorflow_p36/lib/python3.6/site-packages/keras/activations.py:211: UserWarning: Do not pass a layer instance (such as LeakyReLU) as the activation argument of another layer. Instead, advanced activation layers should be used just like any other layer in a model.\n",
      "  identifier=identifier.__class__.__name__))\n"
     ]
    },
    {
     "name": "stdout",
     "output_type": "stream",
     "text": [
      "ratio_db = 3.0, i = 15/25\r"
     ]
    },
    {
     "name": "stderr",
     "output_type": "stream",
     "text": [
      "/home/ubuntu/anaconda3/envs/tensorflow_p36/lib/python3.6/site-packages/keras/activations.py:211: UserWarning: Do not pass a layer instance (such as LeakyReLU) as the activation argument of another layer. Instead, advanced activation layers should be used just like any other layer in a model.\n",
      "  identifier=identifier.__class__.__name__))\n",
      "/home/ubuntu/anaconda3/envs/tensorflow_p36/lib/python3.6/site-packages/keras/activations.py:211: UserWarning: Do not pass a layer instance (such as LeakyReLU) as the activation argument of another layer. Instead, advanced activation layers should be used just like any other layer in a model.\n",
      "  identifier=identifier.__class__.__name__))\n"
     ]
    },
    {
     "name": "stdout",
     "output_type": "stream",
     "text": [
      "ratio_db = 3.5, i = 16/25\r"
     ]
    },
    {
     "name": "stderr",
     "output_type": "stream",
     "text": [
      "/home/ubuntu/anaconda3/envs/tensorflow_p36/lib/python3.6/site-packages/keras/activations.py:211: UserWarning: Do not pass a layer instance (such as LeakyReLU) as the activation argument of another layer. Instead, advanced activation layers should be used just like any other layer in a model.\n",
      "  identifier=identifier.__class__.__name__))\n",
      "/home/ubuntu/anaconda3/envs/tensorflow_p36/lib/python3.6/site-packages/keras/activations.py:211: UserWarning: Do not pass a layer instance (such as LeakyReLU) as the activation argument of another layer. Instead, advanced activation layers should be used just like any other layer in a model.\n",
      "  identifier=identifier.__class__.__name__))\n"
     ]
    },
    {
     "name": "stdout",
     "output_type": "stream",
     "text": [
      "ratio_db = 4.0, i = 17/25\r"
     ]
    },
    {
     "name": "stderr",
     "output_type": "stream",
     "text": [
      "/home/ubuntu/anaconda3/envs/tensorflow_p36/lib/python3.6/site-packages/keras/activations.py:211: UserWarning: Do not pass a layer instance (such as LeakyReLU) as the activation argument of another layer. Instead, advanced activation layers should be used just like any other layer in a model.\n",
      "  identifier=identifier.__class__.__name__))\n",
      "/home/ubuntu/anaconda3/envs/tensorflow_p36/lib/python3.6/site-packages/keras/activations.py:211: UserWarning: Do not pass a layer instance (such as LeakyReLU) as the activation argument of another layer. Instead, advanced activation layers should be used just like any other layer in a model.\n",
      "  identifier=identifier.__class__.__name__))\n"
     ]
    },
    {
     "name": "stdout",
     "output_type": "stream",
     "text": [
      "ratio_db = 4.5, i = 18/25\r"
     ]
    },
    {
     "name": "stderr",
     "output_type": "stream",
     "text": [
      "/home/ubuntu/anaconda3/envs/tensorflow_p36/lib/python3.6/site-packages/keras/activations.py:211: UserWarning: Do not pass a layer instance (such as LeakyReLU) as the activation argument of another layer. Instead, advanced activation layers should be used just like any other layer in a model.\n",
      "  identifier=identifier.__class__.__name__))\n",
      "/home/ubuntu/anaconda3/envs/tensorflow_p36/lib/python3.6/site-packages/keras/activations.py:211: UserWarning: Do not pass a layer instance (such as LeakyReLU) as the activation argument of another layer. Instead, advanced activation layers should be used just like any other layer in a model.\n",
      "  identifier=identifier.__class__.__name__))\n"
     ]
    },
    {
     "name": "stdout",
     "output_type": "stream",
     "text": [
      "ratio_db = 5.0, i = 19/25\r"
     ]
    },
    {
     "name": "stderr",
     "output_type": "stream",
     "text": [
      "/home/ubuntu/anaconda3/envs/tensorflow_p36/lib/python3.6/site-packages/keras/activations.py:211: UserWarning: Do not pass a layer instance (such as LeakyReLU) as the activation argument of another layer. Instead, advanced activation layers should be used just like any other layer in a model.\n",
      "  identifier=identifier.__class__.__name__))\n",
      "/home/ubuntu/anaconda3/envs/tensorflow_p36/lib/python3.6/site-packages/keras/activations.py:211: UserWarning: Do not pass a layer instance (such as LeakyReLU) as the activation argument of another layer. Instead, advanced activation layers should be used just like any other layer in a model.\n",
      "  identifier=identifier.__class__.__name__))\n"
     ]
    },
    {
     "name": "stdout",
     "output_type": "stream",
     "text": [
      "ratio_db = 5.5, i = 20/25\r"
     ]
    },
    {
     "name": "stderr",
     "output_type": "stream",
     "text": [
      "/home/ubuntu/anaconda3/envs/tensorflow_p36/lib/python3.6/site-packages/keras/activations.py:211: UserWarning: Do not pass a layer instance (such as LeakyReLU) as the activation argument of another layer. Instead, advanced activation layers should be used just like any other layer in a model.\n",
      "  identifier=identifier.__class__.__name__))\n",
      "/home/ubuntu/anaconda3/envs/tensorflow_p36/lib/python3.6/site-packages/keras/activations.py:211: UserWarning: Do not pass a layer instance (such as LeakyReLU) as the activation argument of another layer. Instead, advanced activation layers should be used just like any other layer in a model.\n",
      "  identifier=identifier.__class__.__name__))\n"
     ]
    },
    {
     "name": "stdout",
     "output_type": "stream",
     "text": [
      "ratio_db = 6.0, i = 21/25\r"
     ]
    },
    {
     "name": "stderr",
     "output_type": "stream",
     "text": [
      "/home/ubuntu/anaconda3/envs/tensorflow_p36/lib/python3.6/site-packages/keras/activations.py:211: UserWarning: Do not pass a layer instance (such as LeakyReLU) as the activation argument of another layer. Instead, advanced activation layers should be used just like any other layer in a model.\n",
      "  identifier=identifier.__class__.__name__))\n",
      "/home/ubuntu/anaconda3/envs/tensorflow_p36/lib/python3.6/site-packages/keras/activations.py:211: UserWarning: Do not pass a layer instance (such as LeakyReLU) as the activation argument of another layer. Instead, advanced activation layers should be used just like any other layer in a model.\n",
      "  identifier=identifier.__class__.__name__))\n"
     ]
    },
    {
     "name": "stdout",
     "output_type": "stream",
     "text": [
      "ratio_db = 6.5, i = 22/25\r"
     ]
    },
    {
     "name": "stderr",
     "output_type": "stream",
     "text": [
      "/home/ubuntu/anaconda3/envs/tensorflow_p36/lib/python3.6/site-packages/keras/activations.py:211: UserWarning: Do not pass a layer instance (such as LeakyReLU) as the activation argument of another layer. Instead, advanced activation layers should be used just like any other layer in a model.\n",
      "  identifier=identifier.__class__.__name__))\n",
      "/home/ubuntu/anaconda3/envs/tensorflow_p36/lib/python3.6/site-packages/keras/activations.py:211: UserWarning: Do not pass a layer instance (such as LeakyReLU) as the activation argument of another layer. Instead, advanced activation layers should be used just like any other layer in a model.\n",
      "  identifier=identifier.__class__.__name__))\n"
     ]
    },
    {
     "name": "stdout",
     "output_type": "stream",
     "text": [
      "ratio_db = 7.0, i = 23/25\r"
     ]
    },
    {
     "name": "stderr",
     "output_type": "stream",
     "text": [
      "/home/ubuntu/anaconda3/envs/tensorflow_p36/lib/python3.6/site-packages/keras/activations.py:211: UserWarning: Do not pass a layer instance (such as LeakyReLU) as the activation argument of another layer. Instead, advanced activation layers should be used just like any other layer in a model.\n",
      "  identifier=identifier.__class__.__name__))\n",
      "/home/ubuntu/anaconda3/envs/tensorflow_p36/lib/python3.6/site-packages/keras/activations.py:211: UserWarning: Do not pass a layer instance (such as LeakyReLU) as the activation argument of another layer. Instead, advanced activation layers should be used just like any other layer in a model.\n",
      "  identifier=identifier.__class__.__name__))\n"
     ]
    },
    {
     "name": "stdout",
     "output_type": "stream",
     "text": [
      "ratio_db = 7.5, i = 24/25\r"
     ]
    },
    {
     "name": "stderr",
     "output_type": "stream",
     "text": [
      "/home/ubuntu/anaconda3/envs/tensorflow_p36/lib/python3.6/site-packages/keras/activations.py:211: UserWarning: Do not pass a layer instance (such as LeakyReLU) as the activation argument of another layer. Instead, advanced activation layers should be used just like any other layer in a model.\n",
      "  identifier=identifier.__class__.__name__))\n",
      "/home/ubuntu/anaconda3/envs/tensorflow_p36/lib/python3.6/site-packages/keras/activations.py:211: UserWarning: Do not pass a layer instance (such as LeakyReLU) as the activation argument of another layer. Instead, advanced activation layers should be used just like any other layer in a model.\n",
      "  identifier=identifier.__class__.__name__))\n"
     ]
    },
    {
     "name": "stdout",
     "output_type": "stream",
     "text": [
      "ratio_db = 8.0, i = 25/25\r"
     ]
    },
    {
     "name": "stderr",
     "output_type": "stream",
     "text": [
      "/home/ubuntu/anaconda3/envs/tensorflow_p36/lib/python3.6/site-packages/keras/activations.py:211: UserWarning: Do not pass a layer instance (such as LeakyReLU) as the activation argument of another layer. Instead, advanced activation layers should be used just like any other layer in a model.\n",
      "  identifier=identifier.__class__.__name__))\n",
      "/home/ubuntu/anaconda3/envs/tensorflow_p36/lib/python3.6/site-packages/keras/activations.py:211: UserWarning: Do not pass a layer instance (such as LeakyReLU) as the activation argument of another layer. Instead, advanced activation layers should be used just like any other layer in a model.\n",
      "  identifier=identifier.__class__.__name__))\n"
     ]
    },
    {
     "name": "stdout",
     "output_type": "stream",
     "text": [
      "Took 1685.7993321418762\n"
     ]
    }
   ],
   "source": [
    "# (8,8) tapered, n layers\n",
    "t0 = time()\n",
    "Eb_N0_dbs = np.arange(-4,8.5,0.5)\n",
    "bler = np.empty(Eb_N0_dbs.size)\n",
    "\n",
    "hl_act_f = keras.layers.advanced_activations.LeakyReLU()\n",
    "hl_act_f.__name__ = 'leakyrelu'\n",
    "\n",
    "# for i, ratio_db in enumerate(tqdm_notebook(Eb_N0_dbs, desc=\"1st loop\")):\n",
    "for i, ratio_db in enumerate(Eb_N0_dbs):\n",
    "    print(f\"ratio_db = {ratio_db}, i = {i+1}/{Eb_N0_dbs.size}\", end=\"\\r\")\n",
    "    bler[i] = get_complex_tapered_noise_bler(2**8, 2, ratio_db, \\\n",
    "                                             './models/autoencoder8_8_tap_2l0.1763.h5', \\\n",
    "                                             test_data256, hl_act_f, \\\n",
    "                                             \"tanh\", 2)\n",
    "print(f\"Took {time() - t0}\")"
   ]
  },
  {
   "cell_type": "code",
   "execution_count": 97,
   "metadata": {},
   "outputs": [],
   "source": [
    "# ## Save\n",
    "# leaky_relu_autoencoder_2_2_bler = bler\n",
    "# np.save('./key_results/leaky_relu_autoencoder_2_2_bler.npy', leaky_relu_autoencoder_2_2_bler)\n",
    "\n",
    "# leaky_relu_autoencoder_2_2_bler_0_0683_Rr1 = bler\n",
    "# np.save('./key_results/leaky_relu_autoencoder_2_2_bler_0_0683_Rr1.npy', leaky_relu_autoencoder_2_2_bler_0_0683_Rr1)\n",
    "\n",
    "# leaky_relu_autoencoder_2_2_bler_new_EbN0 = bler\n",
    "# leaky_relu_autoencoder_8_8_bler_new_EbN0 = bler\n",
    "\n",
    "# leaky_relu_autoencoder_2_2_bler_k = blertion layers should be used just like any other layer in a model.\n",
    "# np.save('./key_results/leaky_relu_autoencoder_2_2_bler_k.npy', leaky_relu_autoencoder_2_2_bler_k)\n",
    "\n",
    "# leaky_relu_autoencoder_8_8_bler_k = bler\n",
    "# np.save('./key_results/leaky_relu_autoencoder_8_8_bler_k.npy', leaky_relu_autoencoder_8_8_bler_k)\n",
    "\n",
    "# leaky_relu_autoencoder_7_4_bler_k = bler\n",
    "# np.save('./key_results/leaky_relu_autoencoder_7_4_bler_k.npy', leaky_relu_autoencoder_7_4_bler_k)\n",
    "\n",
    "# leaky_relu_autoencoder_7_4_bler_Rr4_7 = bler\n",
    "# np.save('./key_results/leaky_relu_autoencoder_7_4_bler_Rr4_7.npy', leaky_relu_autoencoder_7_4_bler_Rr4_7)\n",
    "\n",
    "# leaky_relu_autoencoder_8_8_bler = bler\n",
    "# np.save('./key_results/leaky_relu_autoencoder_8_8_bler.npy', leaky_relu_autoencoder_8_8_bler)\n",
    "\n",
    "# leaky_relu_autoencoder_8_8_bler_2l_0_1763Rr1 = bler\n",
    "# np.save('./key_results/leaky_relu_autoencoder_8_8_bler_2l_0_1763Rr1.npy', leaky_relu_autoencoder_8_8_bler_2l_0_1763Rr1)\n",
    "\n",
    "# leaky_relu_autoencoder_7_4_bler = bler\n",
    "# np.save('./key_results/leaky_relu_autoencoder_7_4_bler.npy', leaky_relu_autoencoder_7_4_bler)\n",
    "\n",
    "# leaky_relu_autoencoder_7_4_bler0_8866_Rr4_7 = bler\n",
    "# np.save('./key_results/leaky_relu_autoencoder_7_4_bler0_8866_Rr4_7.npy', leaky_relu_autoencoder_7_4_bler0_8866_Rr4_7)\n",
    "\n",
    "## Load\n",
    "leaky_relu_autoencoder_2_2_bler = np.load('./key_results/leaky_relu_autoencoder_2_2_bler.npy')\n",
    "leaky_relu_autoencoder_8_8_bler = np.load('./key_results/leaky_relu_autoencoder_8_8_bler.npy')\n",
    "leaky_relu_autoencoder_7_4_bler = np.load('./key_results/leaky_relu_autoencoder_7_4_bler.npy')\n",
    "\n",
    "leaky_relu_autoencoder_2_2_bler_k = np.load('./key_results/leaky_relu_autoencoder_2_2_bler_k.npy')\n",
    "leaky_relu_autoencoder_8_8_bler_k = np.load('./key_results/leaky_relu_autoencoder_8_8_bler_k.npy')\n",
    "leaky_relu_autoencoder_7_4_bler_k = np.load('./key_results/leaky_relu_autoencoder_7_4_bler_k.npy')\n",
    "\n",
    "\n",
    "leaky_relu_autoencoder_7_4_bler_Rr4_7 = np.load('./key_results/leaky_relu_autoencoder_7_4_bler_Rr4_7.npy')\n",
    "leaky_relu_autoencoder_8_8_bler_2l_0_1763Rr1 = np.load('./key_results/leaky_relu_autoencoder_8_8_bler_2l_0_1763Rr1.npy')\n",
    "leaky_relu_autoencoder_2_2_bler_0_0683_Rr1 = np.load('./key_results/leaky_relu_autoencoder_2_2_bler_0_0683_Rr1.npy')"
   ]
  },
  {
   "cell_type": "code",
   "execution_count": 96,
   "metadata": {},
   "outputs": [],
   "source": [
    "# autoencoder8_8_tap_2l_bler = bler\n",
    "# np.save('./key_results/autoencoder8_8_tap_2l_bler.npy', autoencoder8_8_tap_2l_bler)\n",
    "\n",
    "# autoencoder8_8_tap_3l_bler = bler\n",
    "# np.save('./key_results/autoencoder8_8_tap_3l_bler.npy', autoencoder8_8_tap_3l_bler)\n",
    "\n",
    "# autoencoder8_8_tap_4l_bler = bler\n",
    "# np.save('./key_results/autoencoder8_8_tap_4l_bler.npy', autoencoder8_8_tap_4l_bler)\n",
    "\n",
    "# autoencoder8_8_tap_5l_bler = bler\n",
    "# np.save('./key_results/autoencoder8_8_tap_5l_bler.npy', autoencoder8_8_tap_5l_bler)\n",
    "\n",
    "autoencoder8_8_tap_2l_bler = np.load('./key_results/autoencoder8_8_tap_2l_bler.npy')\n",
    "autoencoder8_8_tap_3l_bler = np.load('./key_results/autoencoder8_8_tap_3l_bler.npy')\n",
    "autoencoder8_8_tap_4l_bler = np.load('./key_results/autoencoder8_8_tap_4l_bler.npy')\n",
    "autoencoder8_8_tap_5l_bler = np.load('./key_results/autoencoder8_8_tap_5l_bler.npy')"
   ]
  },
  {
   "cell_type": "markdown",
   "metadata": {},
   "source": [
    "### Plot results"
   ]
  },
  {
   "cell_type": "code",
   "execution_count": 98,
   "metadata": {},
   "outputs": [
    {
     "data": {
      "image/png": "[encoded data removed]",
      "text/plain": [
       "<Figure size 432x288 with 1 Axes>"
      ]
     },
     "metadata": {
      "needs_background": "light"
     },
     "output_type": "display_data"
    }
   ],
   "source": [
    "# ## Save\n",
    "# autoencoder_2_2_bler = bler\n",
    "# np.save('./key_results/autoencoder_2_2_bler.npy', autoencoder_2_2_bler)\n",
    "## Load\n",
    "Eb_N0_dbs = np.arange(-4,8.5,0.5)\n",
    "autoencoder_2_2_bler = np.load('./key_results/autoencoder_2_2_bler.npy')\n",
    "\n",
    "# Plot\n",
    "plt.semilogy(Eb_N0_dbs, autoencoder_2_2_bler, 'r.')\n",
    "plt.semilogy(Eb_N0_dbs, leaky_relu_autoencoder_2_2_bler, 'b.')\n",
    "plt.semilogy(Eb_N0_dbs, leaky_relu_autoencoder_8_8_bler, 'g.')\n",
    "plt.semilogy(Eb_N0_dbs, leaky_relu_autoencoder_7_4_bler, 'y.')\n",
    "plt.semilogy(Eb_N0_dbs, leaky_relu_autoencoder_7_4_bler_Rr4_7, 'c.')\n",
    "plt.title(r'Autoencoder (2,2) BLER against $\\dfrac{E_b}{N_0}$')\n",
    "plt.xlabel(r'$\\dfrac{E_b}{N_0}$ [db]')\n",
    "plt.ylabel(\"Block error rate (BLER)\")\n",
    "plt.legend([\"Relu (2,2)\", \"Leaky-Relu (2,2)\", \"Leaky-Relu (8,8)\", \\\n",
    "            \"LR (7,4)\", \"LR (7,4) Rr=4/7\"])\n",
    "plt.show()\n",
    "# plt.savefig(\"./figures/autoencoder_2_2_bler_EbNo_leaky_vs_relu.png\")"
   ]
  },
  {
   "cell_type": "code",
   "execution_count": 97,
   "metadata": {},
   "outputs": [
    {
     "ename": "NameError",
     "evalue": "name 'leaky_relu_autoencoder_2_2_bler_new_EbN0' is not defined",
     "output_type": "error",
     "traceback": [
      "\u001b[0;31m---------------------------------------------------------------------------\u001b[0m",
      "\u001b[0;31mNameError\u001b[0m                                 Traceback (most recent call last)",
      "\u001b[0;32m<ipython-input-97-d546980480ab>\u001b[0m in \u001b[0;36m<module>\u001b[0;34m\u001b[0m\n\u001b[1;32m     11\u001b[0m \u001b[0mplt\u001b[0m\u001b[0;34m.\u001b[0m\u001b[0msemilogy\u001b[0m\u001b[0;34m(\u001b[0m\u001b[0mEb_N0_dbs\u001b[0m\u001b[0;34m,\u001b[0m \u001b[0mleaky_relu_autoencoder_8_8_bler\u001b[0m\u001b[0;34m,\u001b[0m \u001b[0;34m'g.'\u001b[0m\u001b[0;34m)\u001b[0m\u001b[0;34m\u001b[0m\u001b[0;34m\u001b[0m\u001b[0m\n\u001b[1;32m     12\u001b[0m \u001b[0mplt\u001b[0m\u001b[0;34m.\u001b[0m\u001b[0msemilogy\u001b[0m\u001b[0;34m(\u001b[0m\u001b[0mEb_N0_dbs\u001b[0m\u001b[0;34m,\u001b[0m \u001b[0mleaky_relu_autoencoder_7_4_bler\u001b[0m\u001b[0;34m,\u001b[0m \u001b[0;34m'y.'\u001b[0m\u001b[0;34m)\u001b[0m\u001b[0;34m\u001b[0m\u001b[0;34m\u001b[0m\u001b[0m\n\u001b[0;32m---> 13\u001b[0;31m \u001b[0mplt\u001b[0m\u001b[0;34m.\u001b[0m\u001b[0msemilogy\u001b[0m\u001b[0;34m(\u001b[0m\u001b[0mEb_N0_dbs\u001b[0m\u001b[0;34m,\u001b[0m \u001b[0mleaky_relu_autoencoder_2_2_bler_new_EbN0\u001b[0m\u001b[0;34m,\u001b[0m \u001b[0;34m'k.'\u001b[0m\u001b[0;34m)\u001b[0m\u001b[0;34m\u001b[0m\u001b[0;34m\u001b[0m\u001b[0m\n\u001b[0m\u001b[1;32m     14\u001b[0m \u001b[0mplt\u001b[0m\u001b[0;34m.\u001b[0m\u001b[0msemilogy\u001b[0m\u001b[0;34m(\u001b[0m\u001b[0mEb_N0_dbs\u001b[0m\u001b[0;34m,\u001b[0m \u001b[0mleaky_relu_autoencoder_8_8_bler_new_EbN0\u001b[0m\u001b[0;34m,\u001b[0m \u001b[0;34m'm.'\u001b[0m\u001b[0;34m)\u001b[0m\u001b[0;34m\u001b[0m\u001b[0;34m\u001b[0m\u001b[0m\n\u001b[1;32m     15\u001b[0m \u001b[0mplt\u001b[0m\u001b[0;34m.\u001b[0m\u001b[0msemilogy\u001b[0m\u001b[0;34m(\u001b[0m\u001b[0mEb_N0_dbs\u001b[0m\u001b[0;34m,\u001b[0m \u001b[0mleaky_relu_autoencoder_7_4_bler_Rr4_7\u001b[0m\u001b[0;34m,\u001b[0m \u001b[0;34m'c.'\u001b[0m\u001b[0;34m)\u001b[0m\u001b[0;34m\u001b[0m\u001b[0;34m\u001b[0m\u001b[0m\n",
      "\u001b[0;31mNameError\u001b[0m: name 'leaky_relu_autoencoder_2_2_bler_new_EbN0' is not defined"
     ]
    },
    {
     "data": {
      "image/png": "[encoded data removed]",
      "text/plain": [
       "<Figure size 432x288 with 1 Axes>"
      ]
     },
     "metadata": {
      "needs_background": "light"
     },
     "output_type": "display_data"
    }
   ],
   "source": [
    "# ## Save\n",
    "# autoencoder_2_2_bler = bler\n",
    "# np.save('./key_results/autoencoder_2_2_bler.npy', autoencoder_2_2_bler)\n",
    "## Load\n",
    "Eb_N0_dbs = np.arange(-4,8.5,0.5)\n",
    "autoencoder_2_2_bler = np.load('./key_results/autoencoder_2_2_bler.npy')\n",
    "\n",
    "# Plot\n",
    "plt.semilogy(Eb_N0_dbs, autoencoder_2_2_bler, 'r.')\n",
    "plt.semilogy(Eb_N0_dbs, leaky_relu_autoencoder_2_2_bler, 'b.')\n",
    "plt.semilogy(Eb_N0_dbs, leaky_relu_autoencoder_8_8_bler, 'g.')\n",
    "plt.semilogy(Eb_N0_dbs, leaky_relu_autoencoder_7_4_bler, 'y.')\n",
    "plt.semilogy(Eb_N0_dbs, leaky_relu_autoencoder_7_4_bler_Rr4_7, 'c.')\n",
    "plt.title(r'Autoencoder (2,2) BLER against $\\dfrac{E_b}{N_0}$')\n",
    "plt.xlabel(r'$\\dfrac{E_b}{N_0}$ [db]')\n",
    "plt.ylabel(\"Block error rate (BLER)\")\n",
    "plt.legend([\"Relu (2,2)\", \"Leaky-Relu (2,2)\", \"Leaky-Relu (8,8)\", \\\n",
    "            \"Leaky-Relu (7,4)\", \"LR (2,2) new EbN0\", \"LR (8,8) new EbN0\", \\\n",
    "            \"LR (7,4) Rr=4/7\"])\n",
    "plt.show()\n",
    "# plt.savefig(\"./figures/autoencoder_2_2_bler_EbNo_leaky_vs_relu.png\")"
   ]
  },
  {
   "cell_type": "code",
   "execution_count": 108,
   "metadata": {},
   "outputs": [
    {
     "data": {
      "image/png": "[encoded data removed]",
      "text/plain": [
       "<Figure size 432x288 with 1 Axes>"
      ]
     },
     "metadata": {
      "needs_background": "light"
     },
     "output_type": "display_data"
    }
   ],
   "source": [
    "# ## Save\n",
    "# autoencoder_2_2_bler = bler\n",
    "# np.save('./key_results/autoencoder_2_2_bler.npy', autoencoder_2_2_bler)\n",
    "## Load\n",
    "Eb_N0_dbs = np.arange(-4,8.5,0.5)\n",
    "autoencoder_2_2_bler = np.load('./key_results/autoencoder_2_2_bler.npy')\n",
    "\n",
    "# Plot\n",
    "plt.semilogy(Eb_N0_dbs, leaky_relu_autoencoder_2_2_bler, 'b.')\n",
    "plt.semilogy(Eb_N0_dbs, leaky_relu_autoencoder_8_8_bler, 'g.')\n",
    "plt.semilogy(Eb_N0_dbs, leaky_relu_autoencoder_7_4_bler, 'y.')\n",
    "plt.semilogy(Eb_N0_dbs, leaky_relu_autoencoder_2_2_bler_k, 'c.')\n",
    "plt.semilogy(Eb_N0_dbs, leaky_relu_autoencoder_8_8_bler_k, 'r.')\n",
    "plt.semilogy(Eb_N0_dbs, leaky_relu_autoencoder_7_4_bler_k, 'k.')\n",
    "plt.title(r'Autoencoder (2,2) BLER against $\\dfrac{E_b}{N_0}$')\n",
    "plt.xlabel(r'$\\dfrac{E_b}{N_0}$ [db]')\n",
    "plt.ylabel(\"Block error rate (BLER)\")\n",
    "plt.legend([\"Leaky-Relu (2,2)\", \"Leaky-Relu (8,8)\", \\\n",
    "            \"Leaky-Relu (7,4)\", \\\n",
    "            \"LR (2,2) k\", \"LR (8,8) k\", \"LR (7,4) k\"])\n",
    "plt.show()\n",
    "# plt.savefig(\"./figures/autoencoder_2_2_bler_EbNo_leaky_vs_relu.png\")"
   ]
  },
  {
   "cell_type": "code",
   "execution_count": 98,
   "metadata": {},
   "outputs": [
    {
     "data": {
      "image/png": "[encoded data removed]",
      "text/plain": [
       "<Figure size 432x288 with 1 Axes>"
      ]
     },
     "metadata": {},
     "output_type": "display_data"
    }
   ],
   "source": [
    "# All with updated correct R values.\n",
    "plt.semilogy(Eb_N0_dbs, leaky_relu_autoencoder_2_2_bler_0_0683_Rr1, 'k--')\n",
    "plt.semilogy(Eb_N0_dbs, leaky_relu_autoencoder_7_4_bler0_8866_Rr4_7, 'b-')\n",
    "plt.semilogy(Eb_N0_dbs, leaky_relu_autoencoder_8_8_bler_2l_0_1763, 'r-')\n",
    "\n",
    "plt.title(r'BLER against $\\dfrac{E_b}{N_0}$')\n",
    "plt.xlabel(r'$\\dfrac{E_b}{N_0}$ [db]')\n",
    "plt.ylabel(\"Block error rate (BLER)\")\n",
    "plt.legend([\"AE (2,2)\", \"AE (7,4)\", \\\n",
    "            \"AE (8,8)\"])\n",
    "plt.show()\n",
    "# plt.savefig(\"./figures/autoencoder_2_2_bler_EbNo.png\")"
   ]
  },
  {
   "cell_type": "markdown",
   "metadata": {},
   "source": [
    "##### Comparing numbers of layers for (8,8)"
   ]
  },
  {
   "cell_type": "code",
   "execution_count": 55,
   "metadata": {},
   "outputs": [
    {
     "data": {
      "image/png": "[encoded data removed]",
      "text/plain": [
       "<Figure size 432x288 with 1 Axes>"
      ]
     },
     "metadata": {
      "needs_background": "light"
     },
     "output_type": "display_data"
    }
   ],
   "source": [
    "plt.semilogy(Eb_N0_dbs, autoencoder8_8_tap_2l_bler, 'r.--')\n",
    "plt.semilogy(Eb_N0_dbs, autoencoder8_8_tap_3l_bler, 'b.--')\n",
    "plt.semilogy(Eb_N0_dbs, autoencoder8_8_tap_4l_bler, 'g.--')\n",
    "plt.semilogy(Eb_N0_dbs, autoencoder8_8_tap_5l_bler, 'y.--')\n",
    "plt.title(r'Autoencoder (8,8) BLER against $\\dfrac{E_b}{N_0}$')\n",
    "plt.xlabel(r'$\\dfrac{E_b}{N_0}$ [db]')\n",
    "plt.ylabel(\"Block error rate (BLER)\")\n",
    "plt.legend([\"2 Layers\", \"3 Layers\", \"4 Layers\", \"5 Layers\"])\n",
    "plt.show()\n",
    "# plt.savefig(\"./figures/autoencoder_8_8_bler_EbNo_2-5_layers.png\")"
   ]
  },
  {
   "cell_type": "markdown",
   "metadata": {},
   "source": [
    "From the above graph we can see that adding more layers just reduces the performance of the autoencoder. This implies the best number of layers is 2."
   ]
  },
  {
   "cell_type": "markdown",
   "metadata": {},
   "source": [
    "### Implementing Uncoded BPSK"
   ]
  },
  {
   "cell_type": "markdown",
   "metadata": {},
   "source": [
    " would be good to use this in the presentation\n",
    " https://en.wikipedia.org/wiki/Phase-shift_keying\n",
    " \n",
    " ##### Uncoded BPSK (2,2)"
   ]
  },
  {
   "cell_type": "code",
   "execution_count": 63,
   "metadata": {},
   "outputs": [
    {
     "data": {
      "application/vnd.jupyter.widget-view+json": {
       "model_id": "3f7f45f0176a4ae8ae66d2e73df22974",
       "version_major": 2,
       "version_minor": 0
      },
      "text/plain": [
       "HBox(children=(IntProgress(value=0, description='1st loop', max=25, style=ProgressStyle(description_width='ini…"
      ]
     },
     "metadata": {},
     "output_type": "display_data"
    },
    {
     "name": "stdout",
     "output_type": "stream",
     "text": [
      "Took 132.86356496810913\n"
     ]
    }
   ],
   "source": [
    "# (2,2)\n",
    "t0 = time()\n",
    "Eb_N0_dbs = np.arange(-4,8.5,0.5)\n",
    "bler_bpsk = np.empty(Eb_N0_dbs.size)\n",
    "for i, ratio_db in enumerate(tqdm_notebook(Eb_N0_dbs, desc=\"1st loop\")):\n",
    "#     print(f\"ratio_db = {ratio_db}, i = {i}/{Eb_N0_dbs.size}\")\n",
    "    ## Get noise std_dev \n",
    "    noise_std = get_noise_sigma(ratio_db, Rr=1)\n",
    "    # Encode, add noise and decode data, then get BLER\n",
    "    bler_bpsk[i] = bpsk_get_bler(noise_std, test_data4)\n",
    "print(f\"Took {time() - t0}\")"
   ]
  },
  {
   "cell_type": "code",
   "execution_count": 66,
   "metadata": {},
   "outputs": [
    {
     "data": {
      "application/vnd.jupyter.widget-view+json": {
       "model_id": "0292c59d7e5b4601ae8f40aeffd59f6f",
       "version_major": 2,
       "version_minor": 0
      },
      "text/plain": [
       "HBox(children=(IntProgress(value=0, description='1st loop', max=25, style=ProgressStyle(description_width='ini…"
      ]
     },
     "metadata": {},
     "output_type": "display_data"
    },
    {
     "name": "stdout",
     "output_type": "stream",
     "text": [
      "Took 477.8880424499512\n"
     ]
    }
   ],
   "source": [
    "# (4,4)\n",
    "t0 = time()\n",
    "Eb_N0_dbs = np.arange(-4,8.5,0.5)\n",
    "bler_bpsk = np.empty(Eb_N0_dbs.size)\n",
    "for i, ratio_db in enumerate(tqdm_notebook(Eb_N0_dbs, desc=\"1st loop\")):\n",
    "#     print(f\"ratio_db = {ratio_db}, i = {i}/{Eb_N0_dbs.size}\")\n",
    "    ## Get noise std_dev \n",
    "    noise_std = get_noise_sigma(ratio_db, Rr=1)\n",
    "    # Encode, add noise and decode data, then get BLER\n",
    "    bler_bpsk[i] = bpsk_get_bler(noise_std, test_data16)\n",
    "print(f\"Took {time() - t0}\")"
   ]
  },
  {
   "cell_type": "code",
   "execution_count": 69,
   "metadata": {},
   "outputs": [
    {
     "data": {
      "application/vnd.jupyter.widget-view+json": {
       "model_id": "9eb29ab8b81f470b83c997da724e2b5f",
       "version_major": 2,
       "version_minor": 0
      },
      "text/plain": [
       "HBox(children=(IntProgress(value=0, description='1st loop', max=25, style=ProgressStyle(description_width='ini…"
      ]
     },
     "metadata": {},
     "output_type": "display_data"
    },
    {
     "name": "stdout",
     "output_type": "stream",
     "text": [
      "Took 77.36253523826599\n"
     ]
    }
   ],
   "source": [
    "# (8,8)\n",
    "t0 = time()\n",
    "Eb_N0_dbs = np.arange(-4,8.5,0.5)\n",
    "bler_bpsk = np.empty(Eb_N0_dbs.size)\n",
    "for i, ratio_db in enumerate(tqdm_notebook(Eb_N0_dbs, desc=\"1st loop\")):\n",
    "#     print(f\"ratio_db = {ratio_db}, i = {i}/{Eb_N0_dbs.size}\")\n",
    "    ## Get noise std_dev \n",
    "    noise_std = get_noise_sigma(ratio_db, Rr=1)\n",
    "    # Encode, add noise and decode data, then get BLER\n",
    "    bler_bpsk[i] = bpsk_get_bler(noise_std, test_data256)\n",
    "print(f\"Took {time() - t0}\")"
   ]
  },
  {
   "cell_type": "markdown",
   "metadata": {},
   "source": [
    "##### Uncoded BPSK (8,8)"
   ]
  },
  {
   "cell_type": "code",
   "execution_count": 101,
   "metadata": {},
   "outputs": [],
   "source": [
    "# ## Save\n",
    "# Original data\n",
    "\n",
    "# bpsk_2_2_bler = bler_bpsk\n",
    "# np.save('./key_results/bpsk_2_2_bler.npy', bpsk_2_2_bler)\n",
    "\n",
    "# bpsk_4_4_bler = bler_bpsk\n",
    "# np.save('./key_results/bpsk_4_4_bler.npy', bpsk_4_4_bler_new)\n",
    "\n",
    "# bpsk_8_8_bler = bler_bpsk\n",
    "# np.save('./key_results/bpsk_8_8_bler.npy', bpsk_8_8_bler)\n",
    "\n",
    "# Rr = 1\n",
    "# bpsk_2_2_bler_Rr1 = bler_bpsk\n",
    "# np.save('./key_results/bpsk_2_2_bler_Rr1.npy', bpsk_2_2_bler_Rr1)\n",
    "\n",
    "# bpsk_4_4_bler_Rr1 = bler_bpsk\n",
    "# np.save('./key_results/bpsk_4_4_bler_Rr1.npy', bpsk_4_4_bler_Rr1)\n",
    "\n",
    "# bpsk_8_8_bler_Rr1 = bler_bpsk\n",
    "# np.save('./key_results/bpsk_8_8_bler_Rr1.npy', bpsk_8_8_bler_Rr1)\n",
    "\n",
    "\n",
    "# ## Load\n",
    "bpsk_2_2_bler = np.load('./key_results/bpsk_2_2_bler.npy')\n",
    "bpsk_4_4_bler = np.load('./key_results/bpsk_4_4_bler.npy')\n",
    "bpsk_8_8_bler = np.load('./key_results/bpsk_8_8_bler.npy')\n",
    "\n",
    "bpsk_2_2_bler_Rr1 = np.load('./key_results/bpsk_2_2_bler_Rr1.npy')\n",
    "bpsk_4_4_bler_Rr1 = np.load('./key_results/bpsk_4_4_bler_Rr1.npy')\n",
    "bpsk_8_8_bler_Rr1 = np.load('./key_results/bpsk_8_8_bler_Rr1.npy')"
   ]
  },
  {
   "cell_type": "code",
   "execution_count": 71,
   "metadata": {},
   "outputs": [
    {
     "data": {
      "image/png": "[encoded data removed]",
      "text/plain": [
       "<Figure size 432x288 with 1 Axes>"
      ]
     },
     "metadata": {
      "needs_background": "light"
     },
     "output_type": "display_data"
    }
   ],
   "source": [
    "plt.semilogy(Eb_N0_dbs, bpsk_2_2_bler, 'k--')\n",
    "plt.semilogy(Eb_N0_dbs, bpsk_4_4_bler, 'b-')\n",
    "plt.semilogy(Eb_N0_dbs, bpsk_8_8_bler, 'k-')\n",
    "plt.semilogy(Eb_N0_dbs, bpsk_2_2_bler_Rr1, 'g--')\n",
    "plt.semilogy(Eb_N0_dbs, bpsk_4_4_bler_Rr1, 'y-')\n",
    "plt.semilogy(Eb_N0_dbs, bpsk_8_8_bler_Rr1, 'g-')\n",
    "\n",
    "plt.title(r'BPSK (4,4) BLER against $\\dfrac{E_b}{N_0}$')\n",
    "plt.xlabel(r'$\\dfrac{E_b}{N_0}$ [db]')\n",
    "plt.ylabel(\"Block error rate (BLER)\")\n",
    "plt.legend([\"Uncoded BPSK (2,2)\", \"Uncoded BPSK (4,4)\", \\\n",
    "            \"Uncoded BPSK (8,8)\", \"Uncoded BPSK (2,2) Rr=1\", \\\n",
    "            \"Uncoded BPSK (4,4) Rr=1\", \"Uncoded BPSK (8,8) Rr=1\"])\n",
    "plt.show()\n",
    "# plt.savefig(\"./figures/autoencoder_2_2_bler_EbNo.png\")"
   ]
  },
  {
   "cell_type": "markdown",
   "metadata": {},
   "source": [
    "### Implementing Hamming Encoded BPSK"
   ]
  },
  {
   "cell_type": "code",
   "execution_count": 133,
   "metadata": {},
   "outputs": [
    {
     "name": "stdout",
     "output_type": "stream",
     "text": [
      "bler =  0.024232\n",
      "all_true =  False\n"
     ]
    }
   ],
   "source": [
    "std = 0.22\n",
    "# Encode the one_hot_encoded_vectors into bits\n",
    "test_data_enc = hamming_7_4_encode(test_data4, G)   \n",
    "# add noise\n",
    "noise = std * np.random.randn(test_data_enc.shape[0],\\\n",
    "                              test_data_enc.shape[1])\n",
    "r = test_data_enc + noise\n",
    "# Do error correction and decode message\n",
    "corrected_message = hamming_7_4_decode_and_correct(r, H,\\\n",
    "                                                   R)\n",
    "# Get Block error rate\n",
    "bler = get_block_error_rate(test_data4, corrected_message)\n",
    "all_true = (corrected_message == test_data4).all()\n",
    "print(\"bler = \", bler)\n",
    "print(\"all_true = \", all_true)"
   ]
  },
  {
   "cell_type": "code",
   "execution_count": 80,
   "metadata": {},
   "outputs": [
    {
     "data": {
      "application/vnd.jupyter.widget-view+json": {
       "model_id": "adbeedb016c84bde8c74efa189c803e6",
       "version_major": 2,
       "version_minor": 0
      },
      "text/plain": [
       "HBox(children=(IntProgress(value=0, description='1st loop', max=25, style=ProgressStyle(description_width='ini…"
      ]
     },
     "metadata": {},
     "output_type": "display_data"
    },
    {
     "name": "stdout",
     "output_type": "stream",
     "text": [
      "Took 1127.330214500427225\n"
     ]
    }
   ],
   "source": [
    "t0 = time()\n",
    "# Eb_N0_dbs = np.arange(-4,-2,0.5)\n",
    "Eb_N0_dbs = np.arange(-4,8.5,0.5)\n",
    "bler_hamming_HD = np.empty(Eb_N0_dbs.size)\n",
    "for i, ratio_db in enumerate(tqdm_notebook(Eb_N0_dbs, desc=\"1st loop\")):\n",
    "    print(f\"ratio_db = {ratio_db}, i = {i}/{Eb_N0_dbs.size}\", end=\"\\r\")\n",
    "    ## Get noise std_dev \n",
    "    noise_std = get_noise_sigma(ratio_db, Rr=4/7)\n",
    "    ## Transmit Hamming encoded and BPSK\n",
    "    test_data_enc = hamming_7_4_encode(test_data4, G) \n",
    "    bpsk_encoded = bpsk_encode_vec(test_data_enc)\n",
    "    # Add AWGN noise\n",
    "    noise = noise_std * np.random.randn(bpsk_encoded.shape[0],\\\n",
    "                                        bpsk_encoded.shape[1])\n",
    "    received = bpsk_encoded + noise\n",
    "    # Decode using BPSK\n",
    "    bpsk_decoded = bpsk_decode_vec(received)\n",
    "\n",
    "    # Decode using BPSK\n",
    "    corrected_message = hamming_7_4_decode_and_correct(bpsk_decoded, H,\\\n",
    "                                                       R_ham)\n",
    "    # Check Accuracy on test set\n",
    "    bler_hamming_HD[i] = get_block_error_rate(test_data4, corrected_message)\n",
    "print(f\"Took {time() - t0}\")"
   ]
  },
  {
   "cell_type": "code",
   "execution_count": 81,
   "metadata": {},
   "outputs": [],
   "source": [
    "# ## Save\n",
    "# hamming_7_4_HD_bler = bler_hamming_HD\n",
    "# np.save('./key_results/hamming_7_4_HD_bler.npy', hamming_7_4_HD_bler)\n",
    "\n",
    "# hamming_7_4_HD_bler_Rr4_7 = bler_hamming_HD\n",
    "# np.save('./key_results/hamming_7_4_HD_bler_Rr4_7.npy', hamming_7_4_HD_bler_Rr4_7)\n",
    "\n",
    "# ## Load\n",
    "hamming_7_4_HD_bler = np.load('./key_results/hamming_7_4_HD_bler.npy')\n",
    "hamming_7_4_HD_bler_Rr4_7 = np.load('./key_results/hamming_7_4_HD_bler_Rr4_7.npy')"
   ]
  },
  {
   "cell_type": "code",
   "execution_count": 82,
   "metadata": {},
   "outputs": [
    {
     "data": {
      "image/png": "[encoded data removed]",
      "text/plain": [
       "<Figure size 432x288 with 1 Axes>"
      ]
     },
     "metadata": {
      "needs_background": "light"
     },
     "output_type": "display_data"
    }
   ],
   "source": [
    "plt.semilogy(Eb_N0_dbs, hamming_7_4_HD_bler, 'b--')\n",
    "plt.semilogy(Eb_N0_dbs, hamming_7_4_HD_bler_Rr4_7, 'g--')\n",
    "plt.title(r'Hamming encoded BPSK (4,4) BLER against $\\dfrac{E_b}{N_0}$')\n",
    "plt.xlabel(r'$\\dfrac{E_b}{N_0}$ [db]')\n",
    "plt.ylabel(\"Block error rate (BLER)\")\n",
    "plt.legend([\"Original\", \"R = 4/7\"])\n",
    "plt.show()\n",
    "# plt.savefig(\"./figures/autoencoder_2_2_bler_EbNo.png\")"
   ]
  },
  {
   "cell_type": "markdown",
   "metadata": {},
   "source": [
    "### Hamming Encoding with Hard Decision"
   ]
  },
  {
   "cell_type": "markdown",
   "metadata": {},
   "source": [
    "http://www.dsplog.com/2009/09/29/hamming-74-code-with-hard-decision-decoding/ \n",
    "\n",
    "<br>\n",
    "http://www.dsplog.com/2009/01/04/viterbi/"
   ]
  },
  {
   "cell_type": "code",
   "execution_count": null,
   "metadata": {},
   "outputs": [],
   "source": []
  },
  {
   "cell_type": "markdown",
   "metadata": {},
   "source": [
    "### Hamming Encoding with MLD"
   ]
  },
  {
   "cell_type": "code",
   "execution_count": null,
   "metadata": {},
   "outputs": [],
   "source": []
  },
  {
   "cell_type": "markdown",
   "metadata": {},
   "source": [
    "### Comparison of Hamming, BPSK and autoencoder systems\n",
    "\n",
    "##### O'Shea Figure 3a"
   ]
  },
  {
   "cell_type": "code",
   "execution_count": 106,
   "metadata": {},
   "outputs": [],
   "source": [
    "# Load three sets of results\n",
    "# bpsk_4_4_bler = np.load('./key_results/bpsk_4_4_bler.npy')\n",
    "bpsk_4_4_bler_Rr1 = np.load('./key_results/bpsk_4_4_bler_Rr1.npy')\n",
    "# hamming_7_4_HD_bler = np.load('./key_results/hamming_7_4_HD_bler.npy')\n",
    "hamming_7_4_HD_bler_Rr4_7 = np.load('./key_results/hamming_7_4_HD_bler_Rr4_7.npy')\n",
    "leaky_relu_autoencoder_7_4_bler = np.load('./key_results/leaky_relu_autoencoder_7_4_bler.npy')"
   ]
  },
  {
   "cell_type": "code",
   "execution_count": 107,
   "metadata": {},
   "outputs": [
    {
     "data": {
      "image/png": "[encoded data removed]",
      "text/plain": [
       "<Figure size 432x288 with 1 Axes>"
      ]
     },
     "metadata": {},
     "output_type": "display_data"
    }
   ],
   "source": [
    "# Uncoded BPSK (4,4)\n",
    "# Hamming (7,4) Hard Decision\n",
    "# Autoencoder (7,4)\n",
    "# Hamming (7,4) MLD\n",
    "\n",
    "plt.semilogy(Eb_N0_dbs, bpsk_4_4_bler_Rr1, 'k-')\n",
    "plt.semilogy(Eb_N0_dbs, hamming_7_4_HD_bler_Rr4_7, 'b-.')\n",
    "plt.semilogy(Eb_N0_dbs, leaky_relu_autoencoder_7_4_bler0_8866_Rr4_7, 'r.')\n",
    "plt.title(r'BLER against $\\dfrac{E_b}{N_0}$')\n",
    "plt.xlabel(r'$\\dfrac{E_b}{N_0}$ [db]')\n",
    "plt.ylabel(\"Block error rate (BLER)\")\n",
    "plt.legend(['Uncoded BPSK (4,4)', 'Hamming (7,4), Hard Decision', \\\n",
    "            'Autoencoder (7,4)'],\\\n",
    "           loc=\"lower left\")\n",
    "plt.grid(True)\n",
    "plt.axis([-4, 8, 1e-5, 1])\n",
    "plt.show()\n",
    "# plt.savefig(\"./figures/bler_vs_eb_only_three.png\")"
   ]
  },
  {
   "cell_type": "markdown",
   "metadata": {},
   "source": [
    "##### O'Shea Figure 3b"
   ]
  },
  {
   "cell_type": "code",
   "execution_count": 104,
   "metadata": {},
   "outputs": [],
   "source": [
    "# Load three sets of results\n",
    "# bpsk_2_2_bler = np.load('./key_results/bpsk_2_2_bler.npy')\n",
    "# bpsk_8_8_bler = np.load('./key_results/bpsk_8_8_bler.npy')\n",
    "bpsk_2_2_bler_Rr1 = np.load('./key_results/bpsk_2_2_bler_Rr1.npy')\n",
    "bpsk_8_8_bler_Rr1 = np.load('./key_results/bpsk_8_8_bler_Rr1.npy')\n",
    "\n",
    "leaky_relu_autoencoder_2_2_bler = np.load('./key_results/leaky_relu_autoencoder_2_2_bler.npy')\n",
    "leaky_relu_autoencoder_8_8_bler = np.load('./key_results/leaky_relu_autoencoder_8_8_bler.npy')"
   ]
  },
  {
   "cell_type": "code",
   "execution_count": 105,
   "metadata": {},
   "outputs": [
    {
     "name": "stderr",
     "output_type": "stream",
     "text": [
      "/home/ubuntu/anaconda3/envs/tensorflow_p36/lib/python3.6/site-packages/matplotlib/axes/_base.py:2575: UserWarning: aspect is not supported for Axes with xscale=linear, yscale=log\n",
      "  self.apply_aspect()\n",
      "/home/ubuntu/anaconda3/envs/tensorflow_p36/lib/python3.6/site-packages/matplotlib/axes/_base.py:4371: UserWarning: aspect is not supported for Axes with xscale=linear, yscale=log\n",
      "  self.apply_aspect()\n",
      "/home/ubuntu/anaconda3/envs/tensorflow_p36/lib/python3.6/site-packages/matplotlib/axes/_base.py:4371: UserWarning: aspect is not supported for Axes with xscale=linear, yscale=log\n",
      "  self.apply_aspect()\n",
      "/home/ubuntu/anaconda3/envs/tensorflow_p36/lib/python3.6/site-packages/matplotlib/axes/_base.py:848: UserWarning: aspect is not supported for Axes with xscale=linear, yscale=log\n",
      "  self.apply_aspect()\n"
     ]
    },
    {
     "data": {
      "image/png": "[encoded data removed]",
      "text/plain": [
       "<Figure size 432x288 with 1 Axes>"
      ]
     },
     "metadata": {},
     "output_type": "display_data"
    }
   ],
   "source": [
    "fig, ax = plt.subplots()\n",
    "ax.semilogy(Eb_N0_dbs, bpsk_8_8_bler_Rr1, 'k-')\n",
    "ax.semilogy(Eb_N0_dbs, leaky_relu_autoencoder_8_8_bler_2l_0_1763, \\\n",
    "            'ro-', markerfacecolor='none')\n",
    "ax.semilogy(Eb_N0_dbs, bpsk_2_2_bler_Rr1, 'k--')\n",
    "ax.semilogy(Eb_N0_dbs, leaky_relu_autoencoder_2_2_bler_0_0683_Rr1, \\\n",
    "            'rs', markerfacecolor='none')\n",
    "ax.set_title(r'BLER against $\\dfrac{E_b}{N_0}$')\n",
    "ax.set_xlabel(r'$\\dfrac{E_b}{N_0}$ [db]')\n",
    "ax.set_ylabel(\"Block error rate (BLER)\")\n",
    "ax.grid(True)\n",
    "ax.set_aspect('equal', 'box')\n",
    "plt.legend(['Uncoded BPSK (8,8)', 'Autoencoder (8,8)',\\\n",
    "            'Uncoded BPSK (2,2)', 'Autoencoder (2,2)'], loc=\"lower left\")\n",
    "plt.axis([-4, 8, 1e-6, 1])\n",
    "plt.show()\n",
    "# ax.savefig(\"./figures/bler_vs_eb_only_three.png\")"
   ]
  },
  {
   "cell_type": "markdown",
   "metadata": {},
   "source": [
    "Clearly at the moment I need to fix a few things:\n",
    "- Autoencoder (8,8) isn't doing well enough.\n",
    "- I need to have a bigger data set for test_data256 so I have a smoother line at error rates of 10^-5.\n",
    "- Need to work out why my BPSK is doing better than the one in the paper."
   ]
  },
  {
   "cell_type": "markdown",
   "metadata": {},
   "source": [
    "## Sweeping across different activation functions\n",
    "\n",
    "- Tanh - ~linear for small inputs\n",
    "- Relu - captures non linearity well\n",
    "- Sigmoid, softmax, linear\n",
    "- Inception learning"
   ]
  },
  {
   "cell_type": "code",
   "execution_count": null,
   "metadata": {},
   "outputs": [],
   "source": [
    "# M = 4 # Number of one hot encoded messages\n",
    "# R = 2 # R = k/n\n",
    "\n",
    "# sigma = get_noise_sigma(7, R)\n",
    "# print(\"sigma = \",sigma)\n",
    "# all_one_hot_messagesTmp = np.diag(np.ones(M))\n",
    "# autoencoderTmp, transmitterTmp, recieverTmp, autoencoder_symbsTmp, kTmp, NcTmp, NrTmp = make_model(M, R, sigma, \"relu\")\n",
    "\n",
    "# # Fit the model\n",
    "# autoencoderTmp.fit(train_data4, train_data4,\n",
    "#                 epochs=2,\n",
    "#                 batch_size=1000*M,\n",
    "#                 shuffle=True,\n",
    "#                 validation_data=(valid_data4,\n",
    "#                                  valid_data4))\n",
    "# # Get the test BLER\n",
    "# pred_symbs_tmp = autoencoder_symbsTmp.predict(test_data4)\n",
    "# bler_tmp = get_block_error_rate(test_data4, pred_symbs_tmp)\n",
    "# print(\"bler_tmp = \", bler_tmp)"
   ]
  },
  {
   "cell_type": "code",
   "execution_count": 89,
   "metadata": {},
   "outputs": [
    {
     "name": "stdout",
     "output_type": "stream",
     "text": [
      "sigma =  0.22334179607548157\n",
      "\n",
      "\n",
      "act_f =  leaky_relu\n",
      "\n",
      "i =  0\n"
     ]
    },
    {
     "name": "stderr",
     "output_type": "stream",
     "text": [
      "/home/apsw/.local/lib/python3.6/site-packages/keras/activations.py:211: UserWarning: Do not pass a layer instance (such as LeakyReLU) as the activation argument of another layer. Instead, advanced activation layers should be used just like any other layer in a model.\n",
      "  identifier=identifier.__class__.__name__))\n",
      "/home/apsw/.local/lib/python3.6/site-packages/keras/activations.py:211: UserWarning: Do not pass a layer instance (such as LeakyReLU) as the activation argument of another layer. Instead, advanced activation layers should be used just like any other layer in a model.\n",
      "  identifier=identifier.__class__.__name__))\n",
      "/home/apsw/.local/lib/python3.6/site-packages/keras/activations.py:211: UserWarning: Do not pass a layer instance (such as LeakyReLU) as the activation argument of another layer. Instead, advanced activation layers should be used just like any other layer in a model.\n",
      "  identifier=identifier.__class__.__name__))\n"
     ]
    },
    {
     "name": "stdout",
     "output_type": "stream",
     "text": [
      "Train on 7200000 samples, validate on 800000 samples\n",
      "Epoch 1/5\n",
      "7200000/7200000 [==============================] - 23s 3us/step - loss: 0.3564 - val_loss: 0.0422\n",
      "Epoch 2/5\n",
      "7200000/7200000 [==============================] - 22s 3us/step - loss: 0.0208 - val_loss: 0.0114\n",
      "Epoch 3/5\n",
      "7200000/7200000 [==============================] - 21s 3us/step - loss: 0.0086 - val_loss: 0.0065\n",
      "Epoch 4/5\n",
      "7200000/7200000 [==============================] - 23s 3us/step - loss: 0.0057 - val_loss: 0.0052\n",
      "Epoch 5/5\n",
      "7200000/7200000 [==============================] - 22s 3us/step - loss: 0.0049 - val_loss: 0.0048\n",
      "\n",
      "i =  1\n"
     ]
    },
    {
     "name": "stderr",
     "output_type": "stream",
     "text": [
      "/home/apsw/.local/lib/python3.6/site-packages/keras/activations.py:211: UserWarning: Do not pass a layer instance (such as LeakyReLU) as the activation argument of another layer. Instead, advanced activation layers should be used just like any other layer in a model.\n",
      "  identifier=identifier.__class__.__name__))\n",
      "/home/apsw/.local/lib/python3.6/site-packages/keras/activations.py:211: UserWarning: Do not pass a layer instance (such as LeakyReLU) as the activation argument of another layer. Instead, advanced activation layers should be used just like any other layer in a model.\n",
      "  identifier=identifier.__class__.__name__))\n",
      "/home/apsw/.local/lib/python3.6/site-packages/keras/activations.py:211: UserWarning: Do not pass a layer instance (such as LeakyReLU) as the activation argument of another layer. Instead, advanced activation layers should be used just like any other layer in a model.\n",
      "  identifier=identifier.__class__.__name__))\n"
     ]
    },
    {
     "name": "stdout",
     "output_type": "stream",
     "text": [
      "Train on 7200000 samples, validate on 800000 samples\n",
      "Epoch 1/5\n",
      "7200000/7200000 [==============================] - 23s 3us/step - loss: 0.4023 - val_loss: 0.0340\n",
      "Epoch 2/5\n",
      "7200000/7200000 [==============================] - 23s 3us/step - loss: 0.0180 - val_loss: 0.0105\n",
      "Epoch 3/5\n",
      "7200000/7200000 [==============================] - 22s 3us/step - loss: 0.0080 - val_loss: 0.0065\n",
      "Epoch 4/5\n",
      "7200000/7200000 [==============================] - 20s 3us/step - loss: 0.0057 - val_loss: 0.0053\n",
      "Epoch 5/5\n",
      "7200000/7200000 [==============================] - 24s 3us/step - loss: 0.0050 - val_loss: 0.0047\n",
      "\n",
      "i =  2\n"
     ]
    },
    {
     "name": "stderr",
     "output_type": "stream",
     "text": [
      "/home/apsw/.local/lib/python3.6/site-packages/keras/activations.py:211: UserWarning: Do not pass a layer instance (such as LeakyReLU) as the activation argument of another layer. Instead, advanced activation layers should be used just like any other layer in a model.\n",
      "  identifier=identifier.__class__.__name__))\n",
      "/home/apsw/.local/lib/python3.6/site-packages/keras/activations.py:211: UserWarning: Do not pass a layer instance (such as LeakyReLU) as the activation argument of another layer. Instead, advanced activation layers should be used just like any other layer in a model.\n",
      "  identifier=identifier.__class__.__name__))\n",
      "/home/apsw/.local/lib/python3.6/site-packages/keras/activations.py:211: UserWarning: Do not pass a layer instance (such as LeakyReLU) as the activation argument of another layer. Instead, advanced activation layers should be used just like any other layer in a model.\n",
      "  identifier=identifier.__class__.__name__))\n"
     ]
    },
    {
     "name": "stdout",
     "output_type": "stream",
     "text": [
      "Train on 7200000 samples, validate on 800000 samples\n",
      "Epoch 1/5\n",
      "7200000/7200000 [==============================] - 23s 3us/step - loss: 0.3726 - val_loss: 0.0314\n",
      "Epoch 2/5\n",
      "7200000/7200000 [==============================] - 22s 3us/step - loss: 0.0169 - val_loss: 0.0100\n",
      "Epoch 3/5\n",
      "7200000/7200000 [==============================] - 21s 3us/step - loss: 0.0077 - val_loss: 0.0063\n",
      "Epoch 4/5\n",
      "7200000/7200000 [==============================] - 21s 3us/step - loss: 0.0056 - val_loss: 0.0049\n",
      "Epoch 5/5\n",
      "7200000/7200000 [==============================] - 21s 3us/step - loss: 0.0049 - val_loss: 0.0047\n",
      "\n",
      "i =  3\n"
     ]
    },
    {
     "name": "stderr",
     "output_type": "stream",
     "text": [
      "/home/apsw/.local/lib/python3.6/site-packages/keras/activations.py:211: UserWarning: Do not pass a layer instance (such as LeakyReLU) as the activation argument of another layer. Instead, advanced activation layers should be used just like any other layer in a model.\n",
      "  identifier=identifier.__class__.__name__))\n",
      "/home/apsw/.local/lib/python3.6/site-packages/keras/activations.py:211: UserWarning: Do not pass a layer instance (such as LeakyReLU) as the activation argument of another layer. Instead, advanced activation layers should be used just like any other layer in a model.\n",
      "  identifier=identifier.__class__.__name__))\n",
      "/home/apsw/.local/lib/python3.6/site-packages/keras/activations.py:211: UserWarning: Do not pass a layer instance (such as LeakyReLU) as the activation argument of another layer. Instead, advanced activation layers should be used just like any other layer in a model.\n",
      "  identifier=identifier.__class__.__name__))\n"
     ]
    },
    {
     "name": "stdout",
     "output_type": "stream",
     "text": [
      "Train on 7200000 samples, validate on 800000 samples\n",
      "Epoch 1/5\n",
      "7200000/7200000 [==============================] - 23s 3us/step - loss: 0.2901 - val_loss: 0.0320\n",
      "Epoch 2/5\n",
      "7200000/7200000 [==============================] - 21s 3us/step - loss: 0.0177 - val_loss: 0.0106\n",
      "Epoch 3/5\n",
      "7200000/7200000 [==============================] - 22s 3us/step - loss: 0.0081 - val_loss: 0.0066\n",
      "Epoch 4/5\n",
      "7200000/7200000 [==============================] - 21s 3us/step - loss: 0.0057 - val_loss: 0.0049\n",
      "Epoch 5/5\n",
      "7200000/7200000 [==============================] - 21s 3us/step - loss: 0.0049 - val_loss: 0.0047\n",
      "\n",
      "i =  4\n"
     ]
    },
    {
     "name": "stderr",
     "output_type": "stream",
     "text": [
      "/home/apsw/.local/lib/python3.6/site-packages/keras/activations.py:211: UserWarning: Do not pass a layer instance (such as LeakyReLU) as the activation argument of another layer. Instead, advanced activation layers should be used just like any other layer in a model.\n",
      "  identifier=identifier.__class__.__name__))\n",
      "/home/apsw/.local/lib/python3.6/site-packages/keras/activations.py:211: UserWarning: Do not pass a layer instance (such as LeakyReLU) as the activation argument of another layer. Instead, advanced activation layers should be used just like any other layer in a model.\n",
      "  identifier=identifier.__class__.__name__))\n",
      "/home/apsw/.local/lib/python3.6/site-packages/keras/activations.py:211: UserWarning: Do not pass a layer instance (such as LeakyReLU) as the activation argument of another layer. Instead, advanced activation layers should be used just like any other layer in a model.\n",
      "  identifier=identifier.__class__.__name__))\n"
     ]
    },
    {
     "name": "stdout",
     "output_type": "stream",
     "text": [
      "Train on 7200000 samples, validate on 800000 samples\n",
      "Epoch 1/5\n",
      "7200000/7200000 [==============================] - 22s 3us/step - loss: 0.3623 - val_loss: 0.0290\n",
      "Epoch 2/5\n",
      "7200000/7200000 [==============================] - 22s 3us/step - loss: 0.0160 - val_loss: 0.0096\n",
      "Epoch 3/5\n",
      "7200000/7200000 [==============================] - 22s 3us/step - loss: 0.0077 - val_loss: 0.0061\n",
      "Epoch 4/5\n",
      "7200000/7200000 [==============================] - 21s 3us/step - loss: 0.0055 - val_loss: 0.0051\n",
      "Epoch 5/5\n",
      "7200000/7200000 [==============================] - 22s 3us/step - loss: 0.0048 - val_loss: 0.0046\n",
      "\n",
      "i =  5\n"
     ]
    },
    {
     "name": "stderr",
     "output_type": "stream",
     "text": [
      "/home/apsw/.local/lib/python3.6/site-packages/keras/activations.py:211: UserWarning: Do not pass a layer instance (such as LeakyReLU) as the activation argument of another layer. Instead, advanced activation layers should be used just like any other layer in a model.\n",
      "  identifier=identifier.__class__.__name__))\n",
      "/home/apsw/.local/lib/python3.6/site-packages/keras/activations.py:211: UserWarning: Do not pass a layer instance (such as LeakyReLU) as the activation argument of another layer. Instead, advanced activation layers should be used just like any other layer in a model.\n",
      "  identifier=identifier.__class__.__name__))\n",
      "/home/apsw/.local/lib/python3.6/site-packages/keras/activations.py:211: UserWarning: Do not pass a layer instance (such as LeakyReLU) as the activation argument of another layer. Instead, advanced activation layers should be used just like any other layer in a model.\n",
      "  identifier=identifier.__class__.__name__))\n"
     ]
    },
    {
     "name": "stdout",
     "output_type": "stream",
     "text": [
      "Train on 7200000 samples, validate on 800000 samples\n",
      "Epoch 1/5\n",
      "7200000/7200000 [==============================] - 24s 3us/step - loss: 0.2703 - val_loss: 0.0320\n",
      "Epoch 2/5\n",
      "7200000/7200000 [==============================] - 21s 3us/step - loss: 0.0183 - val_loss: 0.0111\n",
      "Epoch 3/5\n",
      "7200000/7200000 [==============================] - 21s 3us/step - loss: 0.0085 - val_loss: 0.0067\n",
      "Epoch 4/5\n",
      "7200000/7200000 [==============================] - 24s 3us/step - loss: 0.0059 - val_loss: 0.0055\n",
      "Epoch 5/5\n",
      "7200000/7200000 [==============================] - 20s 3us/step - loss: 0.0049 - val_loss: 0.0048\n",
      "\n",
      "i =  6\n"
     ]
    },
    {
     "name": "stderr",
     "output_type": "stream",
     "text": [
      "/home/apsw/.local/lib/python3.6/site-packages/keras/activations.py:211: UserWarning: Do not pass a layer instance (such as LeakyReLU) as the activation argument of another layer. Instead, advanced activation layers should be used just like any other layer in a model.\n",
      "  identifier=identifier.__class__.__name__))\n",
      "/home/apsw/.local/lib/python3.6/site-packages/keras/activations.py:211: UserWarning: Do not pass a layer instance (such as LeakyReLU) as the activation argument of another layer. Instead, advanced activation layers should be used just like any other layer in a model.\n",
      "  identifier=identifier.__class__.__name__))\n",
      "/home/apsw/.local/lib/python3.6/site-packages/keras/activations.py:211: UserWarning: Do not pass a layer instance (such as LeakyReLU) as the activation argument of another layer. Instead, advanced activation layers should be used just like any other layer in a model.\n",
      "  identifier=identifier.__class__.__name__))\n"
     ]
    },
    {
     "name": "stdout",
     "output_type": "stream",
     "text": [
      "Train on 7200000 samples, validate on 800000 samples\n",
      "Epoch 1/5\n",
      "7200000/7200000 [==============================] - 23s 3us/step - loss: 0.3671 - val_loss: 0.0407\n",
      "Epoch 2/5\n",
      "7200000/7200000 [==============================] - 21s 3us/step - loss: 0.0223 - val_loss: 0.0130\n",
      "Epoch 3/5\n",
      "7200000/7200000 [==============================] - 22s 3us/step - loss: 0.0095 - val_loss: 0.0074\n",
      "Epoch 4/5\n",
      "7200000/7200000 [==============================] - 23s 3us/step - loss: 0.0062 - val_loss: 0.0055\n",
      "Epoch 5/5\n",
      "7200000/7200000 [==============================] - 23s 3us/step - loss: 0.0050 - val_loss: 0.0048\n",
      "\n",
      "i =  7\n"
     ]
    },
    {
     "name": "stderr",
     "output_type": "stream",
     "text": [
      "/home/apsw/.local/lib/python3.6/site-packages/keras/activations.py:211: UserWarning: Do not pass a layer instance (such as LeakyReLU) as the activation argument of another layer. Instead, advanced activation layers should be used just like any other layer in a model.\n",
      "  identifier=identifier.__class__.__name__))\n",
      "/home/apsw/.local/lib/python3.6/site-packages/keras/activations.py:211: UserWarning: Do not pass a layer instance (such as LeakyReLU) as the activation argument of another layer. Instead, advanced activation layers should be used just like any other layer in a model.\n",
      "  identifier=identifier.__class__.__name__))\n",
      "/home/apsw/.local/lib/python3.6/site-packages/keras/activations.py:211: UserWarning: Do not pass a layer instance (such as LeakyReLU) as the activation argument of another layer. Instead, advanced activation layers should be used just like any other layer in a model.\n",
      "  identifier=identifier.__class__.__name__))\n"
     ]
    },
    {
     "name": "stdout",
     "output_type": "stream",
     "text": [
      "Train on 7200000 samples, validate on 800000 samples\n",
      "Epoch 1/5\n",
      "7200000/7200000 [==============================] - 17s 2us/step - loss: 0.3045 - val_loss: 0.0310\n",
      "Epoch 2/5\n",
      "7200000/7200000 [==============================] - 14s 2us/step - loss: 0.0169 - val_loss: 0.0103\n",
      "Epoch 3/5\n",
      "7200000/7200000 [==============================] - 14s 2us/step - loss: 0.0078 - val_loss: 0.0063\n",
      "Epoch 4/5\n",
      "7200000/7200000 [==============================] - 14s 2us/step - loss: 0.0056 - val_loss: 0.0052\n",
      "Epoch 5/5\n",
      "7200000/7200000 [==============================] - 14s 2us/step - loss: 0.0049 - val_loss: 0.0046\n",
      "\n",
      "i =  8\n"
     ]
    },
    {
     "name": "stderr",
     "output_type": "stream",
     "text": [
      "/home/apsw/.local/lib/python3.6/site-packages/keras/activations.py:211: UserWarning: Do not pass a layer instance (such as LeakyReLU) as the activation argument of another layer. Instead, advanced activation layers should be used just like any other layer in a model.\n",
      "  identifier=identifier.__class__.__name__))\n",
      "/home/apsw/.local/lib/python3.6/site-packages/keras/activations.py:211: UserWarning: Do not pass a layer instance (such as LeakyReLU) as the activation argument of another layer. Instead, advanced activation layers should be used just like any other layer in a model.\n",
      "  identifier=identifier.__class__.__name__))\n",
      "/home/apsw/.local/lib/python3.6/site-packages/keras/activations.py:211: UserWarning: Do not pass a layer instance (such as LeakyReLU) as the activation argument of another layer. Instead, advanced activation layers should be used just like any other layer in a model.\n",
      "  identifier=identifier.__class__.__name__))\n"
     ]
    },
    {
     "name": "stdout",
     "output_type": "stream",
     "text": [
      "Train on 7200000 samples, validate on 800000 samples\n",
      "Epoch 1/5\n",
      "7200000/7200000 [==============================] - 16s 2us/step - loss: 0.4320 - val_loss: 0.0375\n",
      "Epoch 2/5\n",
      "7200000/7200000 [==============================] - 14s 2us/step - loss: 0.0195 - val_loss: 0.0111\n",
      "Epoch 3/5\n",
      "7200000/7200000 [==============================] - 14s 2us/step - loss: 0.0084 - val_loss: 0.0067\n",
      "Epoch 4/5\n",
      "7200000/7200000 [==============================] - 14s 2us/step - loss: 0.0058 - val_loss: 0.0054\n",
      "Epoch 5/5\n",
      "7200000/7200000 [==============================] - 14s 2us/step - loss: 0.0049 - val_loss: 0.0049\n",
      "\n",
      "i =  9\n"
     ]
    },
    {
     "name": "stderr",
     "output_type": "stream",
     "text": [
      "/home/apsw/.local/lib/python3.6/site-packages/keras/activations.py:211: UserWarning: Do not pass a layer instance (such as LeakyReLU) as the activation argument of another layer. Instead, advanced activation layers should be used just like any other layer in a model.\n",
      "  identifier=identifier.__class__.__name__))\n",
      "/home/apsw/.local/lib/python3.6/site-packages/keras/activations.py:211: UserWarning: Do not pass a layer instance (such as LeakyReLU) as the activation argument of another layer. Instead, advanced activation layers should be used just like any other layer in a model.\n",
      "  identifier=identifier.__class__.__name__))\n",
      "/home/apsw/.local/lib/python3.6/site-packages/keras/activations.py:211: UserWarning: Do not pass a layer instance (such as LeakyReLU) as the activation argument of another layer. Instead, advanced activation layers should be used just like any other layer in a model.\n",
      "  identifier=identifier.__class__.__name__))\n"
     ]
    },
    {
     "name": "stdout",
     "output_type": "stream",
     "text": [
      "Train on 7200000 samples, validate on 800000 samples\n",
      "Epoch 1/5\n",
      "7200000/7200000 [==============================] - 20s 3us/step - loss: 0.5139 - val_loss: 0.0965\n",
      "Epoch 2/5\n",
      "7200000/7200000 [==============================] - 16s 2us/step - loss: 0.0365 - val_loss: 0.0161\n",
      "Epoch 3/5\n",
      "7200000/7200000 [==============================] - 21s 3us/step - loss: 0.0112 - val_loss: 0.0080\n",
      "Epoch 4/5\n",
      "7200000/7200000 [==============================] - 16s 2us/step - loss: 0.0067 - val_loss: 0.0055\n",
      "Epoch 5/5\n",
      "7200000/7200000 [==============================] - 15s 2us/step - loss: 0.0052 - val_loss: 0.0045\n",
      "\n",
      "\n",
      "act_f =  tanh\n",
      "\n",
      "i =  0\n",
      "Train on 7200000 samples, validate on 800000 samples\n",
      "Epoch 1/5\n",
      "7200000/7200000 [==============================] - 19s 3us/step - loss: 0.3689 - val_loss: 0.0460\n",
      "Epoch 2/5\n",
      "7200000/7200000 [==============================] - 16s 2us/step - loss: 0.0244 - val_loss: 0.0135\n",
      "Epoch 3/5\n",
      "7200000/7200000 [==============================] - 15s 2us/step - loss: 0.0097 - val_loss: 0.0071\n",
      "Epoch 4/5\n",
      "7200000/7200000 [==============================] - 16s 2us/step - loss: 0.0062 - val_loss: 0.0054\n",
      "Epoch 5/5\n",
      "7200000/7200000 [==============================] - 14s 2us/step - loss: 0.0051 - val_loss: 0.0047\n",
      "\n",
      "i =  1\n",
      "Train on 7200000 samples, validate on 800000 samples\n",
      "Epoch 1/5\n",
      "7200000/7200000 [==============================] - 18s 3us/step - loss: 0.3618 - val_loss: 0.0425\n",
      "Epoch 2/5\n",
      "7200000/7200000 [==============================] - 15s 2us/step - loss: 0.0227 - val_loss: 0.0125\n",
      "Epoch 3/5\n",
      "7200000/7200000 [==============================] - 16s 2us/step - loss: 0.0090 - val_loss: 0.0068\n",
      "Epoch 4/5\n",
      "7200000/7200000 [==============================] - 15s 2us/step - loss: 0.0059 - val_loss: 0.0052\n",
      "Epoch 5/5\n",
      "7200000/7200000 [==============================] - 16s 2us/step - loss: 0.0050 - val_loss: 0.0048\n",
      "\n",
      "i =  2\n",
      "Train on 7200000 samples, validate on 800000 samples\n",
      "Epoch 1/5\n",
      "7200000/7200000 [==============================] - 18s 3us/step - loss: 0.3659 - val_loss: 0.0697\n",
      "Epoch 2/5\n",
      "7200000/7200000 [==============================] - 16s 2us/step - loss: 0.0369 - val_loss: 0.0188\n",
      "Epoch 3/5\n",
      "7200000/7200000 [==============================] - 17s 2us/step - loss: 0.0126 - val_loss: 0.0086\n",
      "Epoch 4/5\n",
      "7200000/7200000 [==============================] - 18s 2us/step - loss: 0.0069 - val_loss: 0.0057\n",
      "Epoch 5/5\n",
      "7200000/7200000 [==============================] - 16s 2us/step - loss: 0.0053 - val_loss: 0.0049\n",
      "\n",
      "i =  3\n",
      "Train on 7200000 samples, validate on 800000 samples\n",
      "Epoch 1/5\n",
      "7200000/7200000 [==============================] - 22s 3us/step - loss: 0.4702 - val_loss: 0.0789\n",
      "Epoch 2/5\n",
      "7200000/7200000 [==============================] - 21s 3us/step - loss: 0.0416 - val_loss: 0.0221\n",
      "Epoch 3/5\n",
      "7200000/7200000 [==============================] - 17s 2us/step - loss: 0.0150 - val_loss: 0.0103\n",
      "Epoch 4/5\n",
      "7200000/7200000 [==============================] - 16s 2us/step - loss: 0.0079 - val_loss: 0.0062\n",
      "Epoch 5/5\n",
      "7200000/7200000 [==============================] - 17s 2us/step - loss: 0.0055 - val_loss: 0.0049\n",
      "\n",
      "i =  4\n",
      "Train on 7200000 samples, validate on 800000 samples\n",
      "Epoch 1/5\n",
      "7200000/7200000 [==============================] - 17s 2us/step - loss: 0.4052 - val_loss: 0.0646\n",
      "Epoch 2/5\n",
      "7200000/7200000 [==============================] - 15s 2us/step - loss: 0.0307 - val_loss: 0.0151\n",
      "Epoch 3/5\n",
      "7200000/7200000 [==============================] - 15s 2us/step - loss: 0.0105 - val_loss: 0.0075\n",
      "Epoch 4/5\n",
      "7200000/7200000 [==============================] - 21s 3us/step - loss: 0.0063 - val_loss: 0.0054\n",
      "Epoch 5/5\n",
      "7200000/7200000 [==============================] - 29s 4us/step - loss: 0.0050 - val_loss: 0.0048\n",
      "\n",
      "i =  5\n",
      "Train on 7200000 samples, validate on 800000 samples\n",
      "Epoch 1/5\n",
      "7200000/7200000 [==============================] - 27s 4us/step - loss: 0.2521 - val_loss: 0.0422\n",
      "Epoch 2/5\n",
      "7200000/7200000 [==============================] - 25s 3us/step - loss: 0.0230 - val_loss: 0.0130\n",
      "Epoch 3/5\n",
      "7200000/7200000 [==============================] - 25s 3us/step - loss: 0.0094 - val_loss: 0.0071\n",
      "Epoch 4/5\n",
      "7200000/7200000 [==============================] - 28s 4us/step - loss: 0.0060 - val_loss: 0.0053\n",
      "Epoch 5/5\n",
      "7200000/7200000 [==============================] - 26s 4us/step - loss: 0.0050 - val_loss: 0.0048\n",
      "\n",
      "i =  6\n",
      "Train on 7200000 samples, validate on 800000 samples\n",
      "Epoch 1/5\n",
      "7200000/7200000 [==============================] - 28s 4us/step - loss: 0.4304 - val_loss: 0.0499\n",
      "Epoch 2/5\n",
      "7200000/7200000 [==============================] - 26s 4us/step - loss: 0.0260 - val_loss: 0.0139\n",
      "Epoch 3/5\n",
      "7200000/7200000 [==============================] - 26s 4us/step - loss: 0.0100 - val_loss: 0.0074\n",
      "Epoch 4/5\n",
      "7200000/7200000 [==============================] - 27s 4us/step - loss: 0.0062 - val_loss: 0.0053\n",
      "Epoch 5/5\n",
      "7200000/7200000 [==============================] - 27s 4us/step - loss: 0.0050 - val_loss: 0.0048\n",
      "\n",
      "i =  7\n",
      "Train on 7200000 samples, validate on 800000 samples\n",
      "Epoch 1/5\n",
      "7200000/7200000 [==============================] - 30s 4us/step - loss: 0.3321 - val_loss: 0.0548\n",
      "Epoch 2/5\n",
      "7200000/7200000 [==============================] - 27s 4us/step - loss: 0.0307 - val_loss: 0.0179\n",
      "Epoch 3/5\n",
      "7200000/7200000 [==============================] - 25s 3us/step - loss: 0.0130 - val_loss: 0.0095\n",
      "Epoch 4/5\n",
      "7200000/7200000 [==============================] - 16s 2us/step - loss: 0.0081 - val_loss: 0.0068\n",
      "Epoch 5/5\n",
      "7200000/7200000 [==============================] - 24s 3us/step - loss: 0.0059 - val_loss: 0.0054\n",
      "\n",
      "i =  8\n",
      "Train on 7200000 samples, validate on 800000 samples\n",
      "Epoch 1/5\n",
      "7200000/7200000 [==============================] - 29s 4us/step - loss: 0.4041 - val_loss: 0.1142\n",
      "Epoch 2/5\n",
      "7200000/7200000 [==============================] - 25s 4us/step - loss: 0.0763 - val_loss: 0.0555\n",
      "Epoch 3/5\n",
      "7200000/7200000 [==============================] - 29s 4us/step - loss: 0.0490 - val_loss: 0.0449\n",
      "Epoch 4/5\n",
      "7200000/7200000 [==============================] - 27s 4us/step - loss: 0.0429 - val_loss: 0.0441\n",
      "Epoch 5/5\n",
      "7200000/7200000 [==============================] - 27s 4us/step - loss: 0.0400 - val_loss: 0.0355\n",
      "\n",
      "i =  9\n",
      "Train on 7200000 samples, validate on 800000 samples\n",
      "Epoch 1/5\n",
      "7200000/7200000 [==============================] - 30s 4us/step - loss: 0.3083 - val_loss: 0.0401\n",
      "Epoch 2/5\n",
      "7200000/7200000 [==============================] - 28s 4us/step - loss: 0.0218 - val_loss: 0.0123\n",
      "Epoch 3/5\n",
      "7200000/7200000 [==============================] - 28s 4us/step - loss: 0.0090 - val_loss: 0.0072\n",
      "Epoch 4/5\n",
      "7200000/7200000 [==============================] - 27s 4us/step - loss: 0.0059 - val_loss: 0.0054\n",
      "Epoch 5/5\n",
      "7200000/7200000 [==============================] - 27s 4us/step - loss: 0.0050 - val_loss: 0.0046\n"
     ]
    }
   ],
   "source": [
    "# Initialise data structures\n",
    "# activation_funcs = [\"relu\", \"tanh\", \"sigmoid\", \"linear\", \"softmax\"]\n",
    "activation_funcs = [\"leaky_relu\",\"tanh\"]\n",
    "# activation_func_sweep_results = {\"relu\":[], \"tanh\":[], \"sigmoid\":[], \"linear\": [], \"softmax\":[], \"leaky_relu\":[]}\n",
    "activation_func_sweep_results = {\"relu\":[], \"tanh\":[], \"sigmoid\":[], \"linear\": [], \n",
    "                                 \"softmax\":[{},{},{},{},{},{},{},{}], \"leaky_relu\":[]}\n",
    "\n",
    "# Initialise Variables\n",
    "M = 4 # Number of one hot encoded messages\n",
    "R = 2 # R = k/n\n",
    "sigma = get_noise_sigma(7, R)\n",
    "print(\"sigma = \",sigma)\n",
    "all_one_hot_messagesTmp = np.diag(np.ones(M))\n",
    "\n",
    "for act_f in activation_funcs:\n",
    "    print(\"\\n\\nact_f = \", act_f)\n",
    "    for i in range(10):\n",
    "        print(\"\\ni = \", i)\n",
    "        \n",
    "        if(act_f == \"leaky_relu\"):\n",
    "            input_act = keras.layers.advanced_activations.LeakyReLU()\n",
    "        else:\n",
    "            input_act = act_f\n",
    "        \n",
    "        # Make a model\n",
    "        autoencoderTmp, transmitterTmp, recieverTmp,\\\n",
    "            autoencoder_symbsTmp, kTmp, NcTmp, NrTmp \\\n",
    "            = make_model(M, R, sigma, input_act)\n",
    "        \n",
    "        # Fit the model\n",
    "        autoencoderTmp.fit(train_data4, train_data4,\n",
    "                        epochs=5,\n",
    "                        batch_size=1000*M,\n",
    "                        shuffle=True,\n",
    "                        validation_data=(valid_data4,\n",
    "                                         valid_data4))\n",
    "        # Append a dictionary to the list for this activation \n",
    "        # function\n",
    "        activation_func_sweep_results[act_f].append({})\n",
    "        # Get the test BLER\n",
    "        pred_symbs_tmp = autoencoder_symbsTmp.predict(test_data4)\n",
    "        bler_tmp = get_block_error_rate(test_data4, pred_symbs_tmp) \n",
    "        activation_func_sweep_results[act_f][i][\"bler\"] = bler_tmp\n",
    "#         # Save the model\n",
    "#         activation_func_sweep_results[act_f][i][\"model\"] = {}\n",
    "#         activation_func_sweep_results[act_f][i][\"model\"][\"autoencoder\"] = autoencoderTmp\n",
    "#         activation_func_sweep_results[act_f][i][\"model\"][\"transmitter\"] = transmitterTmp\n",
    "#         activation_func_sweep_results[act_f][i][\"model\"][\"autoencoder_symbs\"] = autoencoder_symbsTmp\n",
    "        # Save the constellation diagram\n",
    "        const_diag = transmitterTmp.predict(all_one_hot_messagesTmp)\n",
    "        activation_func_sweep_results[act_f][i][\"const_diag\"] = const_diag\n",
    "#         # Save the models\n",
    "#         auto_file_path = './models/activ_func_sweep/' + act_f + str(i) + \"autoencoder\"\n",
    "#         autoencoderTmp.save(auto_file_path+\".model\")\n",
    "#         autoencoderTmp.save_weights(auto_file_path+'.h5')\n",
    "        \n",
    "#         tx_file_path = './models/activ_func_sweep/' + act_f + str(i) + \"transmitter\"\n",
    "#         transmitterTmp.save(tx_file_path+\".model\")\n",
    "#         transmitterTmp.save_weights(tx_file_path+'.h5')\n",
    "        \n",
    "#         auto_symbs_file_path = './models/activ_func_sweep/' + act_f + str(i) + \"autoencoder_symbs\"\n",
    "#         autoencoder_symbsTmp.save(auto_symbs_file_path+\".model\")\n",
    "#         autoencoder_symbsTmp.save_weights(auto_symbs_file_path+'.h5')"
   ]
  },
  {
   "cell_type": "code",
   "execution_count": 91,
   "metadata": {},
   "outputs": [],
   "source": [
    "af_blers_tmp = np.zeros((2,10))\n",
    "af_const_diags_tmp = np.zeros((2,10,4,1,2))\n",
    "\n",
    "for j, act_f in enumerate([\"leaky_relu\", \"tanh\"]):\n",
    "    for i in range(10):\n",
    "        af_blers_tmp[j,i] = activation_func_sweep_results[act_f][i][\"bler\"]\n",
    "        af_const_diags_tmp[j,i,:,:,:] = activation_func_sweep_results[act_f][i][\"const_diag\"]"
   ]
  },
  {
   "cell_type": "code",
   "execution_count": 101,
   "metadata": {},
   "outputs": [
    {
     "data": {
      "image/png": "[encoded data removed]",
      "text/plain": [
       "<Figure size 432x288 with 1 Axes>"
      ]
     },
     "metadata": {
      "needs_background": "light"
     },
     "output_type": "display_data"
    }
   ],
   "source": [
    "print(\"Means\")\n",
    "print(af_blers_tmp.mean(axis=1))\n",
    "print(\"Mins\")\n",
    "print(af_blers_tmp.min(axis=1))\n",
    "\n",
    "tmp = af_const_diags_tmp[0,0]\n",
    "fig, ax = plt.subplots()\n",
    "ax.plot(tmp[:,:,0], tmp[:,:,1],\\\n",
    "        'k.')\n",
    "ax.set_title(\"CS Constellation Diagram: Tanh\")\n",
    "ax.set_aspect('equal', 'box')\n",
    "plt.xticks([-2,-1,0,1,2])\n",
    "plt.yticks([-2,-1,0,1,2])\n",
    "plt.grid(True)"
   ]
  },
  {
   "cell_type": "code",
   "execution_count": 102,
   "metadata": {},
   "outputs": [],
   "source": [
    "# np.save('./key_results/af_blers_tanh_vs_relu.npy', af_blers_tmp)\n",
    "# np.save('./key_results/af_const_diags_tanh_vs_relu.npy', af_const_diags_tmp)"
   ]
  },
  {
   "cell_type": "code",
   "execution_count": 103,
   "metadata": {},
   "outputs": [],
   "source": [
    "af_blers_tmp2 = np.load('./key_results/af_blers_tanh_vs_relu.npy')\n",
    "af_const_diags_tmp2 = np.load('./key_results/af_const_diags_tanh_vs_relu.npy')"
   ]
  },
  {
   "cell_type": "markdown",
   "metadata": {},
   "source": [
    "### Get the data from the models saved"
   ]
  },
  {
   "cell_type": "code",
   "execution_count": 106,
   "metadata": {},
   "outputs": [],
   "source": [
    "# # Initialise data structures\n",
    "# activation_funcs = [\"relu\", \"tanh\", \"sigmoid\", \"linear\", \"softmax\"]\n",
    "# # activation_funcs = [\"softmax\"]\n",
    "# activation_func_sweep_results = {\"relu\":[], \"tanh\":[], \"sigmoid\":[], \"linear\": [], \"softmax\":[], \"leakyrelu\":[]}\n",
    "# af_blers = np.zeros((5,10))\n",
    "# af_const_diags = np.zeros((5,10,4,1,2))\n",
    "\n",
    "# # Initialise Variables\n",
    "# M = 4 # Number of one hot encoded messages\n",
    "# R = 2 # R = k/n\n",
    "# sigma = get_noise_sigma(7, R)\n",
    "# print(\"sigma = \",sigma)\n",
    "# all_one_hot_messagesTmp = np.diag(np.ones(M))\n",
    "\n",
    "# for j, act_f in enumerate(activation_funcs):\n",
    "#     print(\"\\nact_f = \", act_f)\n",
    "#     #     for i in range(10):\n",
    "#     for i in range(10):\n",
    "#         print(\"i = \", i)\n",
    "                \n",
    "#         # Load a model's autoencoder, transmitter and \n",
    "#         # autoencoder_symbs\n",
    "#         auto_file_path = './models/activ_func_sweep/' + act_f + str(i) + \"autoencoder\"\n",
    "#         autoencoderTmp, transmitterTmp, recieverTmp, autoencoder_symbsTmp, kTmp, NcTmp, NrTmp = make_model(4, 2, sigma, act_f)\n",
    "#         # autoencoder_loaded = load_model('first_qpsk_model.model')\n",
    "#         autoencoderTmp.load_weights(auto_file_path+'.h5', by_name=True)\n",
    "        \n",
    "#         # Append a dictionary to the list for this activation \n",
    "#         # function\n",
    "#         activation_func_sweep_results[act_f].append({})\n",
    "#         # Get the test BLER\n",
    "#         pred_symbs_tmp = autoencoder_symbsTmp.predict(test_data4)\n",
    "#         bler_tmp = get_block_error_rate(test_data4, pred_symbs_tmp) \n",
    "#         activation_func_sweep_results[act_f][i][\"bler\"] = bler_tmp\n",
    "#         af_blers[j,i] = bler_tmp\n",
    "        \n",
    "#         # Save the constellation diagram\n",
    "#         const_diag = transmitterTmp.predict(all_one_hot_messagesTmp)\n",
    "#         activation_func_sweep_results[act_f][i][\"const_diag\"] = const_diag\n",
    "#         af_const_diags[j,i,:,:,:] = const_diag\n",
    "        \n",
    "#         # Save the models in the dictionary\n",
    "#         activation_func_sweep_results[act_f][i][\"model\"] = {}\n",
    "#         activation_func_sweep_results[act_f][i][\"model\"][\"autoencoder\"] = autoencoderTmp\n",
    "#         activation_func_sweep_results[act_f][i][\"model\"][\"transmitter\"] = transmitterTmp\n",
    "#         activation_func_sweep_results[act_f][i][\"model\"][\"autoencoder_symbs\"] = autoencoder_symbsTmp"
   ]
  },
  {
   "cell_type": "markdown",
   "metadata": {},
   "source": [
    "#### Save the dictionary"
   ]
  },
  {
   "cell_type": "code",
   "execution_count": 64,
   "metadata": {},
   "outputs": [],
   "source": [
    "# np.save('./key_results/af_blers.npy', af_blers)\n",
    "# np.save('./key_results/af_const_diags.npy', af_const_diags)"
   ]
  },
  {
   "cell_type": "markdown",
   "metadata": {},
   "source": [
    "### Plot the test errors for the five activation functions"
   ]
  },
  {
   "cell_type": "code",
   "execution_count": 51,
   "metadata": {},
   "outputs": [],
   "source": [
    "af_blers = np.load('./key_results/af_blers.npy')\n",
    "af_const_diags = np.load('./key_results/af_const_diags.npy')"
   ]
  },
  {
   "cell_type": "code",
   "execution_count": 61,
   "metadata": {},
   "outputs": [
    {
     "name": "stdout",
     "output_type": "stream",
     "text": [
      "np.mins\n",
      "[0.0578365 0.0015135 0.294128  0.0015285 0.294504 ]\n",
      "np.means\n",
      "[0.55835335 0.00155635 0.29458565 0.00156515 0.4387    ]\n"
     ]
    },
    {
     "data": {
      "image/png": "[encoded data removed]",
      "text/plain": [
       "<Figure size 432x288 with 1 Axes>"
      ]
     },
     "metadata": {
      "needs_background": "light"
     },
     "output_type": "display_data"
    }
   ],
   "source": [
    "# MAYBE CHANGE TO A SEMILOGY GRAPH INSTEAD\n",
    "plt.semilogy(np.zeros(10), af_blers[0,:], 'r.')\n",
    "plt.semilogy(1*np.ones(10), af_blers[1,:], 'bx')\n",
    "plt.semilogy(2*np.ones(10), af_blers[2,:], 'g*')\n",
    "plt.semilogy(3*np.ones(10), af_blers[3,:], 'ko')\n",
    "plt.semilogy(4*np.ones(10), af_blers[4,:], 'mx')\n",
    "plt.title(\"Test errors for different activation functions\")\n",
    "plt.ylabel(\"Test error\")\n",
    "plt.legend([\"relu\", \"tanh\", \"sigmoid\", \"linear\", \"softmax\"], loc=\"lower right\")\n",
    "print(\"np.mins\")\n",
    "print(af_blers.min(axis=1))\n",
    "print(\"np.means\")\n",
    "print(af_blers.mean(axis=1))\n",
    "# plt.savefig(\"./figures/first_act_f_comparisson_logy.png\")"
   ]
  },
  {
   "cell_type": "markdown",
   "metadata": {},
   "source": [
    "Note that Tanh has the lowest bler out of all the activation functions, marginally ahead of linear. I want to check leaky relu as well though as that looked promising in the small amount of stuff I ran for it. As sen below the constellation diagrams look fine for Tanh and Linear below. Leaky relu is marginally better than tanh. Going to use tanh and Relu from now on."
   ]
  },
  {
   "cell_type": "code",
   "execution_count": 72,
   "metadata": {},
   "outputs": [
    {
     "data": {
      "image/png": "[encoded data removed]",
      "text/plain": [
       "<Figure size 432x288 with 1 Axes>"
      ]
     },
     "metadata": {
      "needs_background": "light"
     },
     "output_type": "display_data"
    },
    {
     "data": {
      "image/png": "[encoded data removed]",
      "text/plain": [
       "<Figure size 432x288 with 1 Axes>"
      ]
     },
     "metadata": {
      "needs_background": "light"
     },
     "output_type": "display_data"
    }
   ],
   "source": [
    "tanh_channel_symbols = af_const_diags[1,0,:,:,:]\n",
    "linear_channel_symbols = af_const_diags[3,0,:,:,:]\n",
    "\n",
    "fig, ax = plt.subplots()\n",
    "ax.plot(tanh_channel_symbols[:,:,0], tanh_channel_symbols[:,:,1],\\\n",
    "        'k.')\n",
    "ax.set_title(\"CS Constellation Diagram: Tanh\")\n",
    "ax.set_aspect('equal', 'box')\n",
    "plt.xticks([-2,-1,0,1,2])\n",
    "plt.yticks([-2,-1,0,1,2])\n",
    "plt.grid(True)\n",
    "\n",
    "fig, ax = plt.subplots()\n",
    "ax.plot(linear_channel_symbols[:,:,0], linear_channel_symbols[:,:,1],\\\n",
    "        'k.')\n",
    "ax.set_title(\"CS Constellation Diagram: Linear\")\n",
    "ax.set_aspect('equal', 'box')\n",
    "plt.xticks([-2,-1,0,1,2])\n",
    "plt.yticks([-2,-1,0,1,2])\n",
    "plt.grid(True)"
   ]
  },
  {
   "cell_type": "markdown",
   "metadata": {},
   "source": [
    "## Training two systems side by side"
   ]
  },
  {
   "cell_type": "code",
   "execution_count": null,
   "metadata": {},
   "outputs": [],
   "source": []
  },
  {
   "cell_type": "code",
   "execution_count": null,
   "metadata": {},
   "outputs": [],
   "source": []
  },
  {
   "cell_type": "code",
   "execution_count": null,
   "metadata": {},
   "outputs": [],
   "source": []
  },
  {
   "cell_type": "markdown",
   "metadata": {},
   "source": [
    "## RTN (Radio transfomer networks)\n",
    "They found it consistently outperformed a normal autoencoder"
   ]
  }
 ],
 "metadata": {
  "kernelspec": {
   "display_name": "Python 3",
   "language": "python",
   "name": "python3"
  },
  "language_info": {
   "codemirror_mode": {
    "name": "ipython",
    "version": 3
   },
   "file_extension": ".py",
   "mimetype": "text/x-python",
   "name": "python",
   "nbconvert_exporter": "python",
   "pygments_lexer": "ipython3",
   "version": "3.6.5"
  }
 },
 "nbformat": 4,
 "nbformat_minor": 2
}
