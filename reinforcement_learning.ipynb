{
 "cells": [
  {
   "cell_type": "markdown",
   "metadata": {},
   "source": [
    "## Reinforcement Learning - Aoudia and Hoydis\n",
    "##### Imports"
   ]
  },
  {
   "cell_type": "code",
   "execution_count": 1,
   "metadata": {},
   "outputs": [
    {
     "name": "stderr",
     "output_type": "stream",
     "text": [
      "Using TensorFlow backend.\n"
     ]
    }
   ],
   "source": [
    "import tensorflow as tf\n",
    "import keras \n",
    "import numpy as np\n",
    "from keras.layers import Input, Dense, Lambda, ELU, Reshape, Flatten, Concatenate\n",
    "from keras.models import Model\n",
    "from keras.layers.normalization import BatchNormalization\n",
    "from keras import backend as K\n",
    "from keras.layers import advanced_activations\n",
    "from keras.engine.topology import Layer\n",
    "from keras.legacy import interfaces\n",
    "from keras.initializers import Zeros as kZeros\n",
    "from keras.utils import multi_gpu_model, plot_model\n",
    "import matplotlib.pyplot as plt\n",
    "import seaborn as sns\n",
    "from keras.models import load_model\n",
    "from keras.callbacks import EarlyStopping, History, ModelCheckpoint\n",
    "import sklearn\n",
    "from sklearn.model_selection import train_test_split\n",
    "from sklearn.manifold import TSNE\n",
    "from time import time\n",
    "import pickle\n",
    "import multiprocessing"
   ]
  },
  {
   "cell_type": "code",
   "execution_count": 2,
   "metadata": {},
   "outputs": [],
   "source": [
    "# # confirm TensorFlow sees the GPU\n",
    "# from tensorflow.python.client import device_lib\n",
    "# assert 'GPU' in str(device_lib.list_local_devices())\n",
    "\n",
    "# # confirm Keras sees the GPU\n",
    "# from keras import backend\n",
    "# assert len(backend.tensorflow_backend._get_available_gpus()) > 0"
   ]
  },
  {
   "cell_type": "code",
   "execution_count": 3,
   "metadata": {},
   "outputs": [],
   "source": [
    "# # This is in a seperate box because it isn't running on the \n",
    "# # AWS server. \n",
    "# from tqdm import tqdm_notebook, tnrange\n",
    "# from joblib import Parallel, delayed"
   ]
  },
  {
   "cell_type": "markdown",
   "metadata": {},
   "source": [
    "##### Useful guides\n",
    "https://hub.packtpub.com/build-reinforcement-learning-agent-in-keras-tutorial/\n",
    "<br>\n",
    "https://medium.com/ml-everything/policy-based-reinforcement-learning-with-keras-4996015a0b1\n",
    "<br>\n",
    "\n",
    "##### Notes from paper\n",
    "- Loss function = Cross Entropy\n",
    "- Normalisation = Average L2 power constraint = 1. $\\mathbb{E}\\left[\\frac{1}{N}\\left\\Vert x\\right\\Vert_2^2\\right]$ = 1.\n",
    "- Trained at an SNR of 10dB for AWGN and an SNR of 20dB for RBF channel. $\\sigma_{\\pi}^2$ = 0.02 at training time.\n",
    "    - During RL exploration $\\mathbf{x_p} = \\mathbf{x} + \\mathbf{w}$, where each element of $\\mathbf{w}$ is i.i.d ~ $\\mathcal{N}(0,\\sigma_{\\pi}^2)$\n",
    "- M= 256, N=4. N= the number of complex channel uses, so n = 8. Therefore n,k = (8,8)\n",
    "- AWGN -> 1 hidden layer, size M, ReLu activation function\n",
    "- Rayleigh -> see diagram.\n",
    "    - Two layers (Dense(20,tanh)->Dense(2,linear)) calculate an estimate for $\\hat{h}$, then we divide the received signal by $\\hat{h}$ then have two layers for finding the received signal. Dense(M,ReLu) then Dense(M,Softmax). Then have the select maximum likelihood symbol layer.\n",
    "- SNR $ = \\frac{\\mathbb{E}\\left[\\frac{1}{N}\\left\\Vert x\\right\\Vert_2^2\\right]}{\\sigma^2}$, but because of the normalisation this is $\\frac{1}{\\sigma^2}$.\n",
    "- The RBF seems to be slow fading, but I could check for fast fading as well. Rayleigh fading is of the form $\\mathbf{r} = \\mathbf{s}*\\mathbf{h} + \\mathbf{n}$ where $\\mathbf{h}$ ~ $\\mathcal{N}(0,\\sigma_m^2)$, $\\mathbf{n}$ ~ $\\mathcal{N}(0,\\sigma_a^2)$. \n",
    "    - Slow fading: h stays the same across the whole minibatch\n",
    "    - Fast fading: h changes every sample\n",
    "- I'm going to guess that $\\sigma_m ~ \\frac{1}{3}$. Because this means that 98% of the time it's less than 1. Which sounds alright.\n",
    "- I could also try Ricean fading and see how the model performs against that.\n",
    "- Ricean fading would actually be the most general, as then it could learn Rayleigh fading, and it could also learn AWGN just by learning to make $\\hat{h}$ every time.\n",
    "\n",
    "##### Work Log\n",
    "\n",
    "27/05/2019\n",
    "- Started researching RBF, think I can implement it in a custom layer.\n",
    "- Made lots of notes\n",
    "- Copied over functions from other notebook.\n",
    "\n",
    "28/05/2019\n",
    "- Made functions for making the Tx and Rx blocks for the unsupervised learning, however these will likely need to be edited.\n",
    "\n",
    "\n",
    "29/05/2019\n",
    "- Got food poisoning the night before and did no work.\n",
    "\n",
    "31/05/2019\n",
    "- Got the rbf supervised model fitting, but with no good results. \n",
    "- Copied the architecture from the paper exactly, however it was not effective. This involved:\n",
    "    - Adding layers for complex multiplication and division.\n",
    "    - Adding layers for seperately finding the $\\hat{h}$ as an expert feature.\n",
    "    - Adding a custom layer that added rbf fast fading \n",
    "- Initially I set the $sigma_m$ to 0.33, for the reasons laid out above, but the model wasn't making any progress training. So after some research I found it written online somewhere that it is often set to $\\frac{1}{\\sqrt{2}}$ to give unity fading gain on average. This seems wrong as you should expect to lose power in the channel. However, upon trying this the model trained vastly more successfully so I may stick with this, or train at a higher SNR if I don't use this.\n",
    "- Going to try debugging it for a while, then I may try using different numbers of layers and activation functions to try and get the two supervised lines in Figures 6a and 6b from the Aoudia and Hoydis paper. After this I can try and get the reinforcement learned lines giving the same results. \n",
    "\n",
    "03/06/2019\n",
    "- Converting the interim report into the introduction and background sections of the final report. Also writing the abstract.\n",
    "\n",
    "04/06/2019\n",
    "- Fixed the average power normalisation\n",
    "- Continued converting the interim report into the start of a final report.\n",
    "- Found that the model had very significant gains if I trained it with $sigma_a = 0$, investigating whether this could be an effective way of training the $\\hat{h}$ estimation section of the model more quickly so it could then go on to learning the additive noise section later. However this is not how it would be able to work in a normal channel.\n",
    "    - On this subject it was found that the model hardly learnt anything in an RBF channel at 20db of SNR. So 40db was trialled which was more successful, but still trained extremely slowly. This is how no noise was trielled, which gave extremely fast reduction of validation loss.\n",
    "    \n",
    "05/06/2019\n",
    "- Got supervised AWGN graph for a range of SNRs.\n",
    "- Converted interim report into the first two sections of the final report. Adapted Implementation Plan, Evaluation Plan sections and moved Safety, Ethical and Legal plan into the appendix.\n",
    "- Trained supervised_rbf_sa40 for 100 epochs locally.\n",
    "\n",
    "06/06/2019\n",
    "- Added parallel for using joblib for the sweeping across SNRs\n",
    "- Tried running the best supervised_rbf_sa40 model over a range of SNRs, it gave an alright shaped curve but with error rates varying from 0.99 to 0.92, so absurdly high.\n",
    "\n",
    "07/06/2019\n",
    "- Tried out a few different combinations of activation functions\n",
    "- Wrote a function for making a general model with variable numbers of layers and activation functions.\n",
    "- Found out that rayleigh block fading has the same $\\hat{h}$ for the whole block, what I have been doing so far is \"*slow rayleigh fading*\"\n",
    "\n",
    "8-13/06/2019\n",
    "- Wrote most of the report\n",
    "\n",
    "15/06/2019\n",
    "- Tried to make a RBF autoencoder. Got it having non-zero gradients, but it couldn't see the weights of the individual transmitters and receivers. Also it took prohibitively long for block sizes of ~1000.\n",
    "\n",
    "\n",
    "##### To do\n",
    "- Investigate BCH codes, see how long I think it would take to implement one. \n",
    "- Look at a t-SNE reduced constellation diagram for the supervised_rbf_sa40 model to try and see if it has multiple symbols converging to single points.\n",
    "\n",
    "### Function Definitions"
   ]
  },
  {
   "cell_type": "code",
   "execution_count": 4,
   "metadata": {},
   "outputs": [],
   "source": [
    "def most_likely(posterior_probs):\n",
    "    max_vals = K.max(posterior_probs, axis=1, keepdims=True) \n",
    "    max_vals = K.cast(max_vals, 'float32')\n",
    "    geT = K.greater_equal(posterior_probs, max_vals)\n",
    "    return K.cast(geT, 'float32')"
   ]
  },
  {
   "cell_type": "code",
   "execution_count": 5,
   "metadata": {},
   "outputs": [],
   "source": [
    "def get_noise_sigma(Eb_N0_db, Rr=None, Rc=None):\n",
    "    assert(not((Rr == None)&(Rc == None)))\n",
    "    if(Rr == None):\n",
    "        Rr = Rc/2.\n",
    "    Eb_N0 = 10.**(Eb_N0_db/10.)\n",
    "    return np.sqrt(1./(2.*Rr*Eb_N0))"
   ]
  },
  {
   "cell_type": "code",
   "execution_count": 6,
   "metadata": {},
   "outputs": [],
   "source": [
    "def get_data_set(M, total_size):\n",
    "    t0 = time()\n",
    "    all_one_hot_messages = np.diag(np.ones(M))\n",
    "    perc_train = 0.75\n",
    "    perc_valid = 0.1\n",
    "\n",
    "    ## Making Data Set\n",
    "    multiple = total_size//M\n",
    "    diff = total_size - (multiple * M)\n",
    "\n",
    "    ## Get quotient \n",
    "    ## Converted the array into a list because it is significantly\n",
    "    ## faster\n",
    "    l = []\n",
    "    all_one_hot_messages_lst = all_one_hot_messages.tolist()\n",
    "    for mult in range(multiple):\n",
    "        for i in range(M):\n",
    "            l.append([all_one_hot_messages_lst[i]])\n",
    "    data = np.concatenate(l)\n",
    "\n",
    "    # Add remainder\n",
    "    random_inds = np.random.choice(np.arange(M),size=diff, replace=False)\n",
    "    extra_rows = all_one_hot_messages[random_inds,:]\n",
    "    data = np.concatenate((data, extra_rows), axis=0)\n",
    "    np.random.shuffle(data)\n",
    "    file_path = \"./data/data\"+str(M)+\".npy\"\n",
    "    np.save(file_path, data)\n",
    "    print(f\"Took {time() - t0}s\")\n",
    "    return data, file_path, all_one_hot_messages"
   ]
  },
  {
   "cell_type": "code",
   "execution_count": 7,
   "metadata": {},
   "outputs": [],
   "source": [
    "class MostLikelySymbol(Layer):\n",
    "    \"\"\"Return the most likely symbol from a softmax input in the\n",
    "    one hot encoded form.\n",
    "\n",
    "    This layer is only active at test time as otherwise it would\n",
    "    stop gradient propogation during training. Also it is useful\n",
    "    to train with a softmax output to encourage a decisive \n",
    "    decision and because it means you can assess confidence.\n",
    "\n",
    "    # Arguments\n",
    "        None\n",
    "\n",
    "    # Input shape\n",
    "        Arbitrary. Use the keyword argument `input_shape`\n",
    "        (tuple of integers, does not include the samples axis)\n",
    "        when using this layer as the first layer in a model.\n",
    "\n",
    "    # Output shape\n",
    "        Same shape as input.\n",
    "    \"\"\"\n",
    "\n",
    "    @interfaces.legacy_gaussiannoise_support\n",
    "    def __init__(self, **kwargs):\n",
    "        super(MostLikelySymbol, self).__init__(**kwargs)\n",
    "        self.supports_masking = True\n",
    "\n",
    "    def call(self, inputs, training=None):\n",
    "        def most_likely():\n",
    "            max_vals = K.max(inputs, axis=1, keepdims=True) \n",
    "            max_vals = K.cast(max_vals, 'float32')\n",
    "            geT = K.greater_equal(inputs, max_vals)\n",
    "            return K.cast(geT, 'float32')            \n",
    "        return K.in_train_phase(inputs, most_likely, training=training)\n",
    "\n",
    "    def get_config(self):\n",
    "        config = {}\n",
    "        base_config = super(MostLikelySymbol, self).get_config()\n",
    "        return dict(list(base_config.items()) + list(config.items()))\n",
    "\n",
    "    def compute_output_shape(self, input_shape):\n",
    "        return input_shape"
   ]
  },
  {
   "cell_type": "code",
   "execution_count": 8,
   "metadata": {},
   "outputs": [],
   "source": [
    "class GaussianNoise2(Layer):\n",
    "    \"\"\"Apply additive zero-centered Gaussian noise at both traning\n",
    "    and test time.\n",
    "\n",
    "    This is useful to mitigate overfitting\n",
    "    (you could see it as a form of random data augmentation).\n",
    "    Gaussian Noise (GS) is a natural choice as corruption process\n",
    "    for real valued inputs.\n",
    "\n",
    "    Unlike the built in GaussianNoise regularisation layer it is \n",
    "    active at both training and test time. \n",
    "\n",
    "    # Arguments\n",
    "        stddev: float, standard deviation of the noise distribution.\n",
    "\n",
    "    # Input shape\n",
    "        Arbitrary. Use the keyword argument `input_shape`\n",
    "        (tuple of integers, does not include the samples axis)\n",
    "        when using this layer as the first layer in a model.\n",
    "\n",
    "    # Output shape\n",
    "        Same shape as input.\n",
    "    \"\"\"\n",
    "\n",
    "    @interfaces.legacy_gaussiannoise_support\n",
    "    def __init__(self, stddev, **kwargs):\n",
    "        super(GaussianNoise2, self).__init__(**kwargs)\n",
    "        self.supports_masking = True\n",
    "        self.stddev = stddev\n",
    "\n",
    "    def call(self, inputs, training=None):\n",
    "        def noised():\n",
    "            return inputs + K.random_normal(shape=K.shape(inputs),\n",
    "                                            mean=0.,\n",
    "                                            stddev=self.stddev)\n",
    "        return K.in_train_phase(noised, noised, training=training)\n",
    "\n",
    "    def get_config(self):\n",
    "        config = {'stddev': self.stddev}\n",
    "        base_config = super(GaussianNoise2, self).get_config()\n",
    "        return dict(list(base_config.items()) + list(config.items()))\n",
    "\n",
    "    def compute_output_shape(self, input_shape):\n",
    "        return input_shape"
   ]
  },
  {
   "cell_type": "code",
   "execution_count": 9,
   "metadata": {},
   "outputs": [],
   "source": [
    "class RayleighSlowFading(Layer):\n",
    "    \"\"\"\n",
    "    Applies Rayleigh Block (fast) Fading to the input data at both \n",
    "    training and test time.\n",
    "\n",
    "    # Arguments\n",
    "        sigma_m: float, standard deviation of the multiplicative \n",
    "        constant noise distribution.\n",
    "        sigma_a: float, standard deviation of the additive \n",
    "        constant noise distribution.\n",
    "\n",
    "    # Input shape\n",
    "        Arbitrary. Use the keyword argument `input_shape`\n",
    "        (tuple of integers, does not include the samples axis)\n",
    "        when using this layer as the first layer in a model.\n",
    "\n",
    "    # Output shape\n",
    "        Same shape as input.\n",
    "    \"\"\"\n",
    "\n",
    "    def __init__(self, sigma_m, sigma_a, **kwargs):\n",
    "        super(RayleighSlowFading, self).__init__(**kwargs)\n",
    "        self.supports_masking = True\n",
    "        self.sigma_m = sigma_m\n",
    "        self.sigma_a = sigma_a\n",
    "\n",
    "    def call(self, inputs, training=None):   \n",
    "        def custom_mult(in_,col_sel,h):\n",
    "            tmp = K.tf.multiply(col_sel,h)\n",
    "            tmp_expand = K.expand_dims(tmp,axis=1)\n",
    "            return K.tf.multiply(in_,tmp_expand)\n",
    "        def complex_mult(in_,h):\n",
    "            o1 = K.constant(np.array([1,0]))\n",
    "            o2 = K.constant(np.array([0,1]))\n",
    "            h_swap = K.tf.reverse(h,[1])\n",
    "            in_swap = K.tf.reverse(in_,[2])\n",
    "\n",
    "            t1 = custom_mult(in_,o1,h)          # real*real\n",
    "            t2 = custom_mult(in_swap,o1,h_swap) # imaginary*imaginary\n",
    "            t3 = custom_mult(in_swap,o2,h)      # real*imaginary\n",
    "            t4 = custom_mult(in_,o2,h_swap)     # imaginary*real\n",
    "\n",
    "            total1 = K.tf.math.subtract(t1,t2)  # r1*r2-i1*i2\n",
    "            total2 = K.tf.math.add(t3,t4)       # r1*i2 + i1*r2\n",
    "            return K.tf.math.add(total1,total2) # r1*r2-i1*i2 + r1*i2 + i1*r2\n",
    "        def rayleigh_slow_fade():\n",
    "            hT = K.random_normal(shape=(K.shape(inputs)[0],K.shape(inputs)[2]),\n",
    "                                 mean=0.,\n",
    "                                 stddev=self.sigma_m)\n",
    "            nT = K.random_normal(shape=K.shape(inputs),\n",
    "                                 mean=0.,\n",
    "                                 stddev=self.sigma_a)\n",
    "            return K.tf.add(complex_mult(inputs,hT),nT)\n",
    "        return K.in_train_phase(rayleigh_slow_fade, rayleigh_slow_fade, training=training)\n",
    "\n",
    "    def get_config(self):\n",
    "        config = {'sigma_m': self.sigma_m, 'sigma_a': self.sigma_a}\n",
    "        base_config = super(RayleighSlowFading, self).get_config()\n",
    "        return dict(list(base_config.items()) + list(config.items()))\n",
    "\n",
    "    def compute_output_shape(self, input_shape):\n",
    "        return input_shape"
   ]
  },
  {
   "cell_type": "code",
   "execution_count": 10,
   "metadata": {},
   "outputs": [],
   "source": [
    "class RayleighBlockFading(Layer):\n",
    "    \"\"\"\n",
    "    Applies Rayleigh Block (fast) Fading to the input data at both \n",
    "    training and test time.\n",
    "\n",
    "    # Arguments\n",
    "        sigma_m: float, standard deviation of the multiplicative \n",
    "        constant noise distribution.\n",
    "        sigma_a: float, standard deviation of the additive \n",
    "        constant noise distribution.\n",
    "\n",
    "    # Input shape\n",
    "        Arbitrary. Use the keyword argument `input_shape`\n",
    "        (tuple of integers, does not include the samples axis)\n",
    "        when using this layer as the first layer in a model.\n",
    "\n",
    "    # Output shape\n",
    "        Same shape as input.\n",
    "    \"\"\"\n",
    "\n",
    "    def __init__(self, sigma_m, sigma_a, **kwargs):\n",
    "        super(RayleighBlockFading, self).__init__(**kwargs)\n",
    "        self.supports_masking = True\n",
    "        self.sigma_m = sigma_m\n",
    "        self.sigma_a = sigma_a\n",
    "        self.name = \"RayleighBlockFading\"\n",
    "\n",
    "    def call(self, inputs, training=None):   \n",
    "        def custom_mult_block(in_,col_sel,h):\n",
    "            tmp = K.tf.multiply(col_sel,h)\n",
    "            expanded_twice = K.expand_dims(K.expand_dims(tmp,axis=1),axis=1)\n",
    "            return K.tf.multiply(in_,expanded_twice)\n",
    "        def complex_mult_block(in_,h):\n",
    "            o1 = K.constant(np.array([1,0]))\n",
    "            o2 = K.constant(np.array([0,1]))\n",
    "            h_swap = K.tf.reverse(h,[1])\n",
    "            in_swap = K.tf.reverse(in_,[3])\n",
    "\n",
    "            t1 = custom_mult_block(in_,o1,h)          # real*real\n",
    "            t2 = custom_mult_block(in_swap,o1,h_swap) # imaginary*imaginary\n",
    "            t3 = custom_mult_block(in_swap,o2,h)      # real*imaginary\n",
    "            t4 = custom_mult_block(in_,o2,h_swap)     # imaginary*real\n",
    "\n",
    "            total1 = K.tf.math.subtract(t1,t2)  # r1*r2-i1*i2\n",
    "            total2 = K.tf.math.add(t3,t4)       # r1*i2 + i1*r2\n",
    "            return K.tf.math.add(total1,total2) # r1*r2-i1*i2 + r1*i2 + i1*r2\n",
    "        def rayleigh_block_fade():\n",
    "            # in_.shape = (Batch_size, Block_size, Nc, 2)\n",
    "            hT = K.random_normal(shape=(K.shape(inputs)[0],K.shape(inputs)[3]),\n",
    "                                 mean=0.,\n",
    "                                 stddev=self.sigma_m)\n",
    "            nT = K.random_normal(shape=K.shape(inputs),\n",
    "                                 mean=0.,\n",
    "                                 stddev=self.sigma_a)\n",
    "            return K.tf.add(complex_mult_block(inputs,hT),nT)\n",
    "        return K.in_train_phase(rayleigh_block_fade, rayleigh_block_fade, training=training)\n",
    "\n",
    "    def get_config(self):\n",
    "        config = {'sigma_m': self.sigma_m, 'sigma_a': self.sigma_a}\n",
    "        base_config = super(RayleighBlockFading, self).get_config()\n",
    "        return dict(list(base_config.items()) + list(config.items()))\n",
    "\n",
    "    def compute_output_shape(self, input_shape):\n",
    "        return input_shape"
   ]
  },
  {
   "cell_type": "code",
   "execution_count": 11,
   "metadata": {},
   "outputs": [],
   "source": [
    "def get_layer_shapes(start, end, num_steps):\n",
    "    shapes = [start]\n",
    "    diff = (end-start)/(num_steps-1)\n",
    "    # Always start with a full dense layer\n",
    "    for i in range(1,num_steps):\n",
    "        shapes.append(int(start + i*diff))\n",
    "    return shapes"
   ]
  },
  {
   "cell_type": "code",
   "execution_count": 12,
   "metadata": {},
   "outputs": [],
   "source": [
    "def make_complex_n_layer_lr_tanh_tapering_model(M, R, sigma, \\\n",
    "                                                hl_activation_func, \\\n",
    "                                                ol_activation_func, \\\n",
    "                                                num_layers):\n",
    "    ### Initialising Parameters\n",
    "    k = np.log2(M) # Number of bits needed to represent M \n",
    "                   # messages\n",
    "    Nc = int(round(k/R)) # Number of bit being used to represent\n",
    "                        # channel symbols being used \n",
    "                        # Number of complex channel uses\n",
    "    Nr = Nc*2 # Number of real channel uses\n",
    "\n",
    "    ### Defining Layers\n",
    "    ## TRANSMITTER\n",
    "    tx_shapes = get_layer_shapes(M, Nr, num_layers)\n",
    "    input_message = Input(shape=(M,), name=\"input\")\n",
    "    # Hidden Tx layers\n",
    "    tx1 = Dense(tx_shapes[0],activation=hl_activation_func, \\\n",
    "                name=\"tx1\")(input_message)\n",
    "    for i in range(1,num_layers-1):\n",
    "        tx1 = Dense(tx_shapes[i],activation=hl_activation_func, \\\n",
    "                    name=(\"tx\"+str(i+1)))(tx1)\n",
    "    # Final layer with a different activation function to capture non\n",
    "    # linearity\n",
    "    tx_n = Dense(tx_shapes[-1],activation=ol_activation_func, \\\n",
    "                 name=(\"tx\"+str(num_layers)))(tx1)\n",
    "    # Reshape it to complex channel symbols\n",
    "    tx_complex = Lambda(lambda x : K.reshape(x, (-1,Nc,2)),\n",
    "                       output_shape=(Nc,2), \\\n",
    "                        name=\"tx_reshape\")(tx_n)\n",
    "\n",
    "    # Normalisation Layer\n",
    "    tx_norm = Lambda(lambda x : K.l2_normalize(x,axis=2),\n",
    "                     output_shape=(Nc,2), name=\"tx_norm\")\\\n",
    "                        (tx_complex)\n",
    "    tx_norm_scaled = Lambda(lambda x : K.tf.multiply(np.float32(np.sqrt(2)), x),\n",
    "                      output_shape=(Nc,2), name=\"tx_norm_scaled\")\\\n",
    "                        (tx_norm)\n",
    "    \n",
    "    # Add Noise \n",
    "    noise = GaussianNoise2(sigma)(tx_norm_scaled)\n",
    "\n",
    "    ## RECIEVER\n",
    "    # Flatten the input\n",
    "    noise_flat = Lambda(lambda x : K.reshape(x, (-1,Nr)),\n",
    "                       output_shape=(Nr,),\\\n",
    "                        name=\"noise_flat\")(noise)\n",
    "    # First layer with the different activation function\n",
    "    # to capture non-linearity and for symmetry with the \n",
    "    # transmitter.\n",
    "    rx1 = Dense(tx_shapes[-2],activation=ol_activation_func, name=\"rx1\")\\\n",
    "                (noise_flat)\n",
    "    # Hidden Rx Layers\n",
    "    if(num_layers >= 3):\n",
    "        layer_ind = -3\n",
    "    else:\n",
    "        layer_ind = -2\n",
    "    rx_i = Dense(tx_shapes[layer_ind],activation=hl_activation_func, \\\n",
    "                name=\"rx2\")(rx1)\n",
    "    for i in range(2,num_layers):\n",
    "        ind = max(0,num_layers - 2 - i)\n",
    "        rx_i = Dense(tx_shapes[ind],activation=hl_activation_func, \\\n",
    "                    name=(\"rx\"+str(i+1)))(rx_i)\n",
    "    # Dense layer with softmax activation\n",
    "    rx_softmax = Dense(tx_shapes[0],activation='softmax', \\\n",
    "                       name=\"rx_softmax\")(rx_i)\n",
    "    \n",
    "    # Select the symbols with the maximum probabilities\n",
    "    ml_symbs = MostLikelySymbol()(rx_softmax)\n",
    "    \n",
    "    ###Defining the models\n",
    "    autoencoder = Model(input_message, rx_softmax)\n",
    "    ## Model the Tx and Rx seperately as well\n",
    "    # Model the Tx\n",
    "    transmitter = Model(input_message, tx_norm_scaled)\n",
    "    # Model the Tx plus the noise\n",
    "    channel_sym_with_noise = Model(input_message, noise)\n",
    "    channel_symbol = Input(shape=(Nr,))\n",
    "    # Take the last layer of the autoencoder model\n",
    "    reciever_layers = autoencoder.layers[-(num_layers+1)](channel_symbol)\n",
    "    for i in range(num_layers):\n",
    "        reciever_layers = autoencoder.layers[-(num_layers-i)](reciever_layers)\n",
    "\n",
    "    # Create a model of the reciever\n",
    "    reciever = Model(channel_symbol, reciever_layers)\n",
    "    autoencoder_symbs = Model(input_message,ml_symbs) \n",
    "    \n",
    "    # Compile the model\n",
    "    autoencoder.compile(loss='categorical_crossentropy',\n",
    "                        optimizer=\"adam\")\n",
    "    return autoencoder, transmitter, reciever,\\\n",
    "            autoencoder_symbs, k, Nc, Nr"
   ]
  },
  {
   "cell_type": "code",
   "execution_count": 13,
   "metadata": {},
   "outputs": [],
   "source": [
    "def custom_mult(in_,col_sel,h):\n",
    "    tmp = K.tf.multiply(col_sel,h)\n",
    "    tmp_expand = K.expand_dims(tmp,axis=1)\n",
    "    return K.tf.multiply(in_,tmp_expand)\n",
    "\n",
    "def complex_div(in_lst):\n",
    "    in_,h = in_lst\n",
    "    o1 = K.constant(np.array([1,0]))\n",
    "    o2 = K.constant(np.array([0,1]))\n",
    "    h_swap = K.tf.reverse(h,[1])\n",
    "    in_swap = K.tf.reverse(in_,[2])\n",
    "\n",
    "    t1 = custom_mult(in_,o1,h)          # real*real\n",
    "    t2 = custom_mult(in_swap,o1,h_swap) # imaginary*imaginary\n",
    "    t3 = custom_mult(in_swap,o2,h)      # real*imaginary\n",
    "    t4 = custom_mult(in_,o2,h_swap)     # imaginary*real\n",
    "\n",
    "    total1 = K.tf.math.add(t1,t2)        # xr*hr-xi*hi\n",
    "    total2 = K.tf.math.subtract(t4,t3)   # xr*hi-xi*hr\n",
    "    total = K.tf.math.add(total1,total2) # xr*hr+xi*hi + xr*hi-xi*hr\n",
    "\n",
    "    scale_factor = K.sum(K.tf.math.square(h), axis=1) # hr^2 + hi^2\n",
    "    scale_factor_expanded_twice = K.expand_dims(K.expand_dims(scale_factor, axis=1), axis=2)\n",
    "    return K.tf.math.divide(total,scale_factor_expanded_twice) \n",
    "\n",
    "def complex_mult(in_,h):\n",
    "    o1 = K.constant(np.array([1,0]))\n",
    "    o2 = K.constant(np.array([0,1]))\n",
    "    h_swap = K.tf.reverse(h,[1])\n",
    "    in_swap = K.tf.reverse(in_,[2])\n",
    "\n",
    "    t1 = custom_mult(in_,o1,h)          # real*real\n",
    "    t2 = custom_mult(in_swap,o1,h_swap) # imaginary*imaginary\n",
    "    t3 = custom_mult(in_swap,o2,h)      # real*imaginary\n",
    "    t4 = custom_mult(in_,o2,h_swap)     # imaginary*real\n",
    "\n",
    "    total1 = K.tf.math.subtract(t1,t2)  # r1*r2-i1*i2\n",
    "    total2 = K.tf.math.add(t3,t4)       # r1*i2 + i1*r2\n",
    "    return K.tf.math.add(total1,total2) # r1*r2-i1*i2 + r1*i2 + i1*r2\n",
    "\n",
    "sigma_m = 0.33\n",
    "sigma_a = 1\n",
    "\n",
    "def rayleigh_slow_fade(in_, sigma_m, sigma_a):\n",
    "    # in_.shape = (Batch_size, Nc, 2)\n",
    "    hT = K.random_normal(shape=(K.shape(in_)[0],K.shape(in_)[2]),\n",
    "                         mean=0.,\n",
    "                         stddev=sigma_m)\n",
    "    nT = K.random_normal(shape=K.shape(in_),\n",
    "                         mean=0.,\n",
    "                         stddev=sigma_a)\n",
    "    return K.tf.add(complex_mult(in_,hT),nT)"
   ]
  },
  {
   "cell_type": "code",
   "execution_count": 14,
   "metadata": {},
   "outputs": [],
   "source": [
    "def custom_mult_block(in_,col_sel,h):\n",
    "    tmp = K.tf.multiply(col_sel,h)\n",
    "    expanded_twice = K.expand_dims(K.expand_dims(tmp,axis=1),axis=1)\n",
    "    return K.tf.multiply(in_,expanded_twice)\n",
    "\n",
    "def complex_div_block(in_lst):\n",
    "    in_,h = in_lst\n",
    "    o1 = K.constant(np.array([1,0]))\n",
    "    o2 = K.constant(np.array([0,1]))\n",
    "    h_swap = K.tf.reverse(h,[1])\n",
    "    in_swap = K.tf.reverse(in_,[3])\n",
    "\n",
    "    t1 = custom_mult_block(in_,o1,h)          # real*real\n",
    "    t2 = custom_mult_block(in_swap,o1,h_swap) # imaginary*imaginary\n",
    "    t3 = custom_mult_block(in_swap,o2,h)      # real*imaginary\n",
    "    t4 = custom_mult_block(in_,o2,h_swap)     # imaginary*real\n",
    "\n",
    "    total1 = K.tf.math.add(t1,t2)        # xr*hr-xi*hi\n",
    "    total2 = K.tf.math.subtract(t4,t3)   # xr*hi-xi*hr\n",
    "    total = K.tf.math.add(total1,total2) # xr*hr+xi*hi + xr*hi-xi*hr\n",
    "\n",
    "    scale_factor = K.sum(K.tf.math.square(h), axis=1) # hr^2 + hi^2\n",
    "    # Will probably need updating to expand three times\n",
    "    scale_factor_expanded_thrice = K.expand_dims(\n",
    "                                    K.expand_dims(\n",
    "                                     K.expand_dims(scale_factor, axis=1), axis=2), axis=3)\n",
    "    return K.tf.math.divide(total,scale_factor_expanded_thrice) \n",
    "\n",
    "def complex_mult_block(in_,h):\n",
    "    o1 = K.constant(np.array([1,0]))\n",
    "    o2 = K.constant(np.array([0,1]))\n",
    "    h_swap = K.tf.reverse(h,[1])\n",
    "    in_swap = K.tf.reverse(in_,[3])\n",
    "\n",
    "    t1 = custom_mult_block(in_,o1,h)          # real*real\n",
    "    t2 = custom_mult_block(in_swap,o1,h_swap) # imaginary*imaginary\n",
    "    t3 = custom_mult_block(in_swap,o2,h)      # real*imaginary\n",
    "    t4 = custom_mult_block(in_,o2,h_swap)     # imaginary*real\n",
    "\n",
    "    total1 = K.tf.math.subtract(t1,t2)  # r1*r2-i1*i2\n",
    "    total2 = K.tf.math.add(t3,t4)       # r1*i2 + i1*r2\n",
    "    return K.tf.math.add(total1,total2) # r1*r2-i1*i2 + r1*i2 + i1*r2\n",
    "\n",
    "def rayleigh_block_fade(in_, sigma_m, sigma_a):\n",
    "    # in_.shape = (Batch_size, Block_size, Nc, 2)\n",
    "    # Gives the same multiplicative factor h to all\n",
    "    # the messages in the block.\n",
    "    # Adds different additive noise for each bit.\n",
    "    hT = K.random_normal(shape=(K.shape(in_)[0],K.shape(in_)[3]),\n",
    "                         mean=0.,\n",
    "                         stddev=sigma_m)\n",
    "    nT = K.random_normal(shape=K.shape(in_),\n",
    "                         mean=0.,\n",
    "                         stddev=sigma_a)\n",
    "    return K.tf.add(complex_mult_block(in_,hT),nT)"
   ]
  },
  {
   "cell_type": "code",
   "execution_count": 15,
   "metadata": {},
   "outputs": [],
   "source": [
    "def get_num_elements(tensor):\n",
    "    dim_lst = tensor.get_shape().as_list()\n",
    "    num_elements = 1\n",
    "    for dim in dim_lst:\n",
    "        if(dim != None):\n",
    "            num_elements *= dim\n",
    "    return num_elements\n",
    "\n",
    "def get_avg_power(signal):\n",
    "    # Gets the power according to the definition \n",
    "    # on the top of the fraction in Eq 8 the\n",
    "    # Aoudia and Hoydis paper.\n",
    "    assert(len(signal.shape) == 3)\n",
    "    num_elements = get_num_elements(signal)\n",
    "    sq = K.tf.math.square(signal)\n",
    "    sq_sum_all = K.sum(K.sum(K.sum(sq,axis=2),axis=1),axis=0)\n",
    "    return K.tf.math.divide(sq_sum_all,K.tf.dtypes.cast(num_elements,tf.float32))\n",
    "\n",
    "def avg_power_normalise(signal):\n",
    "    avg_power = get_avg_power(signal)\n",
    "    return K.tf.math.divide(signal,K.tf.math.sqrt(avg_power))\n",
    "#     return K.tf.math.divide(signal,avg_power)"
   ]
  },
  {
   "cell_type": "code",
   "execution_count": 16,
   "metadata": {},
   "outputs": [
    {
     "data": {
      "text/plain": [
       "1.0000001"
      ]
     },
     "execution_count": 16,
     "metadata": {},
     "output_type": "execute_result"
    }
   ],
   "source": [
    "# average power constraint layer\n",
    "B = 1000000\n",
    "Nc = 4\n",
    "tx_T = K.constant(np.random.normal(0,2,(B,Nc,2)))\n",
    "sess = tf.Session()\n",
    "with sess.as_default():\n",
    "    tx_T.eval(session=sess)\n",
    "# tx_T.eval(session=sess)\n",
    "get_avg_power(avg_power_normalise(tx_T)).eval(session=sess)"
   ]
  },
  {
   "cell_type": "code",
   "execution_count": 17,
   "metadata": {},
   "outputs": [
    {
     "data": {
      "text/plain": [
       "1.6666666"
      ]
     },
     "execution_count": 17,
     "metadata": {},
     "output_type": "execute_result"
    }
   ],
   "source": [
    "get_avg_power(K.constant(np.array([[[0,1,2]]]))).eval(session=sess)"
   ]
  },
  {
   "cell_type": "markdown",
   "metadata": {},
   "source": [
    "AWGN alternating model has a single dense ReLu layer, I'm going to use the topology I found to be best in the other notebook, two layers, tapered "
   ]
  },
  {
   "cell_type": "code",
   "execution_count": 18,
   "metadata": {},
   "outputs": [],
   "source": [
    "def get_rsf_autoencoder(k, Nc, sigma_m, sigma_a):\n",
    "#     k = np.log2(M) # Number of bits needed to represent M \n",
    "#                    # messages\n",
    "    M = 2**k\n",
    "    Nr = Nc*2 # Number of real channel uses\n",
    "    \n",
    "    ### Defining Layers\n",
    "    ## TRANSMITTER\n",
    "    tx_input_message = Input(shape=(M,), name=\"input\")\n",
    "    tx1 = keras.layers.Embedding(M, M, name=\"embedding\")(tx_input_message)\n",
    "    tx1 = keras.layers.ELU(alpha=1.0, name=\"embed_ELU\")(tx1)\n",
    "    # Reshape it to complex channel symbols\n",
    "    tx_flat = Reshape((M*M,), name=\"post_embed_flatten\")(tx1)  \n",
    "    tx2 = Dense(Nr,activation=\"linear\", name=\"tx2\")(tx_flat)\n",
    "    # Reshape it to complex channel symbols\n",
    "    tx_complex = Reshape((Nc,2), name=\"tx_reshape\")(tx2)\n",
    "    # Normalisation Layer\n",
    "    tx_norm = Lambda(lambda x : avg_power_normalise(x),\n",
    "                     output_shape=(Nc,2), name=\"tx_norm\")\\\n",
    "                    (tx_complex)\n",
    "    tx_norm_scaled = Lambda(lambda x : K.tf.multiply(np.float32(np.sqrt(2)), x),\n",
    "                      output_shape=(Nc,2), name=\"tx_norm_scaled\")\\\n",
    "                        (tx_norm)\n",
    "    # Add AWGN Noise \n",
    "    noise = RayleighSlowFading(sigma_m,sigma_a)(tx_norm)\n",
    "\n",
    "    ## receiver\n",
    "    # Flatten the input\n",
    "    noise_flat = Reshape((Nr,), name=\"noise_flat\")(noise)\n",
    "    # First layer with the different activation function\n",
    "    # to capture non-linearity and for symmetry with the \n",
    "    # transmitter.\n",
    "    h1 = Dense(20,activation=\"tanh\", name=\"h1\")\\\n",
    "                (noise_flat)\n",
    "    h_hat = Dense(2,activation=\"linear\", name=\"h_hat\")\\\n",
    "                (h1)\n",
    "    y_over_h = Lambda(lambda x : complex_div(x),\n",
    "                      output_shape=(Nc,2),\\\n",
    "                      name=\"y_over_h\")([noise, h_hat])\n",
    "    y_over_h_flat = Reshape((Nr,), name=\"y_over_h_flat\")(y_over_h)\n",
    "    rx1 = Dense(M,activation=\"relu\", name=\"rx1\")\\\n",
    "                (y_over_h_flat)\n",
    "    # Dense layer with softmax activation\n",
    "    rx_softmax = Dense(M,activation='softmax', \\\n",
    "                       name=\"rx_softmax\")(rx1)\n",
    "    # Select the symbols with the maximum probabilities\n",
    "    ml_symbs = MostLikelySymbol()(rx_softmax)\n",
    "\n",
    "    ###Defining the models\n",
    "    # Model the Tx\n",
    "    autoencoder = Model(tx_input_message, rx_softmax)\n",
    "    autoencoder_symbs = Model(tx_input_message,ml_symbs) \n",
    "    transmitter = Model(tx_input_message, tx_norm_scaled)\n",
    "    # Model the Tx plus the noise\n",
    "    channel_sym_with_noise = Model(tx_input_message, noise)\n",
    "    # Model the whole receiver (including h_est)\n",
    "    channel_symbol = Input(shape=(Nc,2), name=\"channel_symbols\")\n",
    "    num_layers = 7\n",
    "    receiver_layers = autoencoder.layers[-num_layers](channel_symbol)\n",
    "    for i in range(2):\n",
    "        receiver_layers = autoencoder.layers[-(num_layers-1-i)](receiver_layers)\n",
    "    h_estimator = Model(channel_symbol, receiver_layers)\n",
    "    receiver_layers = autoencoder.layers[-(num_layers-3)]([channel_symbol,receiver_layers])\n",
    "    for i in range(3,num_layers-1):\n",
    "        receiver_layers = autoencoder.layers[-(num_layers-1-i)](receiver_layers)\n",
    "    whole_receiver = Model(channel_symbol, receiver_layers)\n",
    "    # Create a model of only the receiver\n",
    "    rx_in = Input(shape=(Nc,2), name=\"rx_in\")\n",
    "    rx_layers = autoencoder.layers[-3](rx_in)\n",
    "    rx_layers = autoencoder.layers[-2](rx_layers)\n",
    "    rx_layers = autoencoder.layers[-1](rx_layers)\n",
    "    receiver = Model(rx_in, rx_layers)\n",
    "    # Compile the model\n",
    "    autoencoder.compile(loss='categorical_crossentropy',\n",
    "                        optimizer=\"adam\")\n",
    "\n",
    "    return autoencoder, autoencoder_symbs, transmitter, \\\n",
    "        channel_sym_with_noise, receiver, whole_receiver,\\\n",
    "        h_estimator"
   ]
  },
  {
   "cell_type": "code",
   "execution_count": 19,
   "metadata": {},
   "outputs": [],
   "source": [
    "def get_rsf_autoencoder_model(k, Nc, sigma_m, sigma_a):\n",
    "#     k = np.log2(M) # Number of bits needed to represent M \n",
    "#                    # messages\n",
    "    M = 2**k\n",
    "    Nr = Nc*2 # Number of real channel uses\n",
    "    \n",
    "    ### Defining Layers\n",
    "    ## TRANSMITTER\n",
    "    def Transmitter():\n",
    "        tx_input_message = Input(shape=(M,), name=\"tx_input_message\")\n",
    "        tx1 = keras.layers.Embedding(M, M, name=\"embedding\")(tx_input_message)\n",
    "        tx1 = keras.layers.ELU(alpha=1.0, name=\"embed_ELU\")(tx1)\n",
    "        # Reshape it to complex channel symbols\n",
    "        tx_flat = Reshape((M*M,), name=\"post_embed_flatten\")(tx1)  \n",
    "        tx2 = Dense(Nr,activation=\"linear\", name=\"tx2\")(tx_flat)\n",
    "        # Reshape it to complex channel symbols\n",
    "        tx_complex = Reshape((Nc,2), name=\"tx_reshape\")(tx2)\n",
    "        # Normalisation Layer\n",
    "        tx_norm = Lambda(lambda x : avg_power_normalise(x),\n",
    "                         output_shape=(Nc,2), name=\"tx_norm\")\\\n",
    "                        (tx_complex)\n",
    "        tx_norm_scaled = Lambda(lambda x : K.tf.multiply(np.float32(np.sqrt(2)), x),\n",
    "                          output_shape=(Nc,2), name=\"tx_norm_scaled\")\\\n",
    "                            (tx_norm)\n",
    "        return Model(tx_input_message, tx_norm_scaled, name=\"Transmitter\")\n",
    "    \n",
    "    def HEstimator():\n",
    "        h_est_input = Input(shape=(Nc,2), name=\"h_est_input\")\n",
    "        noise_flat = Flatten(name=\"noise_flat\")(h_est_input)\n",
    "        # First layer with the different activation function\n",
    "        # to capture non-linearity and for symmetry with the \n",
    "        # transmitter.\n",
    "        h1 = Dense(20,activation=\"tanh\", name=\"h1\")\\\n",
    "                    (noise_flat)\n",
    "        h_hat = Dense(2,activation=\"linear\", name=\"h_hat\")\\\n",
    "                    (h1)\n",
    "        return Model(h_est_input,h_hat, name=\"HEstimator\")\n",
    "    \n",
    "    def Receiver():\n",
    "        receiver_input = Input(shape=(Nc,2), name=\"receiver_input\")\n",
    "        y_over_h_flat = Flatten(name=\"y_over_h_flat\")(receiver_input)\n",
    "        rx1 = Dense(M,activation=\"relu\", name=\"rx1\")\\\n",
    "                    (y_over_h_flat)\n",
    "        # Dense layer with softmax activation\n",
    "        rx_softmax = Dense(M,activation='softmax', \\\n",
    "                           name=\"rx_softmax\")(rx1)\n",
    "        return Model(receiver_input,rx_softmax, name=\"Receiver\")\n",
    "    \n",
    "    # Overall Autoencoder\n",
    "    ae_input_message = Input(shape=(M,), name=\"ae_input_message\")\n",
    "    channel_symbols = Transmitter()(ae_input_message)\n",
    "    noised = RayleighSlowFading(sigma_m,sigma_a)(channel_symbols)\n",
    "    h_hat = HEstimator()(noised)\n",
    "    y_over_h = Lambda(lambda x : complex_div(x),\n",
    "                      output_shape=(Nc,2),\\\n",
    "                      name=\"y_over_h\")([noised, h_hat])\n",
    "    rx_softmax = Receiver()(y_over_h)\n",
    "    ml_symbs = MostLikelySymbol()(rx_softmax)\n",
    "   \n",
    "    ###Defining the models\n",
    "    autoencoder = Model(ae_input_message, rx_softmax)\n",
    "    autoencoder_symbs = Model(ae_input_message,ml_symbs) \n",
    "    transmitter = Model(ae_input_message, channel_symbols)\n",
    "    channel_sym_with_noise = Model(ae_input_message, noised)\n",
    "    ## Submodel layers for rx and h_est model\n",
    "    channel_symbol = Input(shape=(Nc,2), name=\"channel_symbol\")\n",
    "    h_hat2 = autoencoder.layers[-3](channel_symbol)\n",
    "    rx_input = Input(shape=(Nc,2), name=\"rx_input\")\n",
    "    received_pdf2 = autoencoder.layers[-1](rx_input)\n",
    "    h_est = Model(channel_symbol,h_hat2)\n",
    "    receiver = Model(rx_input,received_pdf2)\n",
    "\n",
    "\n",
    "    # Compile the model\n",
    "    autoencoder.compile(loss='categorical_crossentropy',\n",
    "                        optimizer=\"adam\")\n",
    "\n",
    "    return autoencoder, autoencoder_symbs, transmitter, \\\n",
    "        channel_sym_with_noise, receiver, h_est"
   ]
  },
  {
   "cell_type": "code",
   "execution_count": 20,
   "metadata": {},
   "outputs": [],
   "source": [
    "def get_rsf_autoencoder_custom(k, Nc, sigma_m, sigma_a, \\\n",
    "                               num_layers, tx_activation_func, \\\n",
    "                               rx_activation_func, rx_end_activation_func):\n",
    "#     k = np.log2(M) # Number of bits needed to represent M \n",
    "#                    # messages\n",
    "    M = 2**k\n",
    "    Nr = Nc*2 # Number of real channel uses\n",
    "    \n",
    "    ### Defining Layers\n",
    "    ## TRANSMITTER\n",
    "    # ELU layer captures non-linearity\n",
    "    tx_input_message = Input(shape=(M,), name=\"input\")\n",
    "    tx1 = keras.layers.Embedding(M, M, name=\"embedding\")(tx_input_message)\n",
    "    tx1 = keras.layers.ELU(alpha=1.0, name=\"embed_ELU\")(tx1)\n",
    "    # Reshape it to complex channel symbols\n",
    "    tx_flat = Reshape((M*M,), name=\"post_embed_flatten\")(tx1)  \n",
    "    # Tx encoding layers\n",
    "    for i in range(num_layers-2):\n",
    "        width = Nr if i == 0 else M\n",
    "        tx_flat = Dense(width,activation=tx_activation_func, name=\"tx_\"+str(i+2))(tx_flat)\n",
    "    tx_n = Dense(Nr,activation=\"tanh\", name=\"tx_\"+str(num_layers))(tx_flat)\n",
    "    # Reshape it to complex channel symbols\n",
    "    tx_complex = Reshape((Nc,2), name=\"tx_reshape\")(tx_n)\n",
    "    # Normalisation Layer\n",
    "    tx_norm = Lambda(lambda x : avg_power_normalise(x),\n",
    "                     output_shape=(Nc,2), name=\"tx_norm\")\\\n",
    "                    (tx_complex)\n",
    "    tx_norm_scaled = Lambda(lambda x : K.tf.multiply(np.float32(np.sqrt(2)), x),\n",
    "                      output_shape=(Nc,2), name=\"tx_norm_scaled\")\\\n",
    "                        (tx_norm)\n",
    "    # Add AWGN Noise \n",
    "    noise = RayleighSlowFading(sigma_m,sigma_a)(tx_norm)\n",
    "\n",
    "    ## receiver\n",
    "    # Flatten the input\n",
    "    noise_flat = Reshape((Nr,), name=\"noise_flat\")(noise)\n",
    "    # First layer with the different activation function\n",
    "    # to capture non-linearity and for symmetry with the \n",
    "    # transmitter.\n",
    "    h1 = Dense(20,activation=\"tanh\", name=\"h1\")\\\n",
    "                (noise_flat)\n",
    "    h_hat = Dense(2,activation=rx_activation_func, name=\"h_hat\")\\\n",
    "                (h1)\n",
    "    y_over_h = Lambda(lambda x : complex_div(x),\n",
    "                      output_shape=(Nc,2),\\\n",
    "                      name=\"y_over_h\")([noise, h_hat])\n",
    "    y_over_h_flat = Reshape((Nr,), name=\"y_over_h_flat\")(y_over_h)\n",
    "    rx_1 = Dense(M,activation=rx_activation_func, name=\"rx_1\")\\\n",
    "                (y_over_h_flat)\n",
    "    for i in range(num_layers-3):\n",
    "        rx_1 = Dense(M,activation=rx_activation_func, name=\"rx_\"+str(i+2))(rx_1)\n",
    "    if(num_layers > 2):\n",
    "        rx_1 = Dense(M,activation=rx_end_activation_func, name=\"rx_\"+str(num_layers-1))(rx_1)\n",
    "    # Dense layer with softmax activation\n",
    "    rx_softmax = Dense(M,activation='softmax', \\\n",
    "                       name=\"rx_softmax\")(rx_1)\n",
    "    # Select the symbols with the maximum probabilities\n",
    "    ml_symbs = MostLikelySymbol()(rx_softmax)\n",
    "\n",
    "    ###Defining the models\n",
    "    # Model the Tx\n",
    "    autoencoder = Model(tx_input_message, rx_softmax)\n",
    "    autoencoder_symbs = Model(tx_input_message,ml_symbs) \n",
    "    transmitter = Model(tx_input_message, tx_norm_scaled)\n",
    "    # Model the Tx plus the noise\n",
    "    channel_sym_with_noise = Model(tx_input_message, noise)\n",
    "    # Model the Rx\n",
    "    channel_symbol = Input(shape=(Nc,2), name=\"rx_in\")\n",
    "    total_layers = 6+num_layers\n",
    "    # First four layers getting h_hat and reshaping\n",
    "    receiver_layers = autoencoder.layers[-total_layers](channel_symbol)\n",
    "    for i in range(3):\n",
    "        receiver_layers = autoencoder.layers[-(total_layers-1-i)](receiver_layers)\n",
    "    # Needs different format for the y_over_h layer\n",
    "    receiver_layers = autoencoder.layers[-(num_layers+2)]([channel_symbol,receiver_layers])\n",
    "    for i in range(0,num_layers+1):\n",
    "        receiver_layers = autoencoder.layers[i-num_layers-1](receiver_layers)\n",
    "    # Create a model of the receiver\n",
    "    receiver = Model(channel_symbol, receiver_layers)\n",
    "    # Compile the model\n",
    "    autoencoder.compile(loss='categorical_crossentropy',\n",
    "                        optimizer=\"adam\")\n",
    "\n",
    "    return autoencoder, autoencoder_symbs, transmitter, \\\n",
    "        channel_sym_with_noise, receiver"
   ]
  },
  {
   "cell_type": "code",
   "execution_count": 21,
   "metadata": {},
   "outputs": [],
   "source": [
    "def get_paper_rbf_rx_and_tx_models(M, Nc, sigma_m, sigma_a):\n",
    "    k = np.log2(M) # Number of bits needed to represent M \n",
    "                   # messages\n",
    "    Nr = Nc*2 # Number of real channel uses\n",
    "\n",
    "    ### Defining Layers\n",
    "    ## TRANSMITTER\n",
    "    tx_input_message = Input(shape=(M,), name=\"input\")\n",
    "    tx1 = keras.layers.Embedding(M, M*M)(tx_input_message)\n",
    "    tx1 = keras.layers.ELU(alpha=1.0)(tx1)\n",
    "    tx2 = Dense(Nr,activation=\"linear\", name=\"tx2\")(tx1)\n",
    "\n",
    "    # Reshape it to complex channel symbols\n",
    "    tx_complex = Lambda(lambda x : K.reshape(x, (-1,Nc,2)),\n",
    "                       output_shape=(Nc,2), \\\n",
    "                        name=\"tx_reshape\")(tx2)\n",
    "\n",
    "    # Normalisation Layer\n",
    "    tx_norm = Lambda(lambda x : K.l2_normalize(x,axis=2),\n",
    "                     output_shape=(Nc,2), name=\"tx_norm\")\\\n",
    "                        (tx_complex)\n",
    "    tx_norm_scaled = Lambda(lambda x : K.tf.multiply(np.float32(np.sqrt(Nr)), x),\n",
    "                      output_shape=(Nc,2), name=\"tx_norm_scaled\")\\\n",
    "                        (tx_norm)\n",
    "    # Add AWGN Noise \n",
    "    noise = RayleighSlowFading(sigma_m,sigma_a)(tx_norm_scaled)\n",
    "\n",
    "    ## RECIEVER\n",
    "    rx_input_message = Input(shape=(Nc,2), name=\"input\")\n",
    "    # Flatten the input\n",
    "    noise_flat = Lambda(lambda x : K.reshape(x, (-1,Nr)),\n",
    "                       output_shape=(Nr,),\\\n",
    "                        name=\"noise_flat\")(rx_input_message)\n",
    "    # First layer with the different activation function\n",
    "    # to capture non-linearity and for symmetry with the \n",
    "    # transmitter.\n",
    "    h1 = Dense(20,activation=\"tanh\", name=\"h1\")\\\n",
    "                (noise_flat)\n",
    "    h_hat = Dense(2,activation=\"linear\", name=\"h_hat\")\\\n",
    "                (h1)\n",
    "    h_complex = Lambda(lambda x : K.reshape(x, (-1,1,2)),\n",
    "                       output_shape=(Nc,2),\\\n",
    "                       name=\"h_complex\")(h_hat)\n",
    "    y_over_h = Lambda(lambda x : complex_div(x,h_complex),\n",
    "                      output_shape=(Nc,2),\\\n",
    "                      name=\"y_over_h\")(rx_input_message)\n",
    "    y_over_h_flat = Lambda(lambda x : K.reshape(x, (-1,Nr)),\n",
    "                       output_shape=(Nr,),\\\n",
    "                        name=\"noise_flat\")(y_over_h)\n",
    "    rx1 = Dense(M,activation=\"relu\", name=\"rx1\")\\\n",
    "                (y_over_h_flat)\n",
    "    # Dense layer with softmax activation\n",
    "    rx_softmax = Dense(M,activation='softmax', \\\n",
    "                       name=\"rx_softmax\")(rx1)\n",
    "    # Select the symbols with the maximum probabilities\n",
    "    ml_symbs = MostLikelySymbol()(rx_softmax)\n",
    "\n",
    "    ###Defining the models\n",
    "    # Model the Tx\n",
    "    transmitter = Model(tx_input_message, tx_norm_scaled)\n",
    "    # Model the Tx plus the noise\n",
    "    channel_sym_with_noise = Model(tx_input_message, noise)\n",
    "    # Model the Rx\n",
    "    receiver = Model(rx_input_message,rx_softmax)\n",
    "    receiver_symbs = Model(rx_input_message,ml_symbs)\n",
    "\n",
    "    # Compile the model\n",
    "    transmitter.compile(loss='categorical_crossentropy',\n",
    "                        optimizer=\"adam\")\n",
    "    receiver.compile(loss='categorical_crossentropy',\n",
    "                        optimizer=\"adam\")\n",
    "    return transmitter, channel_sym_with_noise, receiver,\\\n",
    "                receiver_symbs"
   ]
  },
  {
   "cell_type": "code",
   "execution_count": 22,
   "metadata": {},
   "outputs": [],
   "source": [
    "def get_paper_awgn_rx_and_tx_models(M, Nc, sigma):\n",
    "    k = np.log2(M) # Number of bits needed to represent M \n",
    "                   # messages\n",
    "    Nr = Nc*2 # Number of real channel uses\n",
    "\n",
    "    ### Defining Layers\n",
    "    ## TRANSMITTER\n",
    "    tx_input_message = Input(shape=(M,), name=\"input\")\n",
    "    tx1 = keras.layers.Embedding(M, M*M)(tx_input_message)\n",
    "    tx1 = keras.layers.ELU(alpha=1.0)(tx1)\n",
    "    tx2 = Dense(Nr,activation=\"linear\", name=\"tx2\")(tx1)\n",
    "\n",
    "    # Reshape it to complex channel symbols\n",
    "    tx_complex = Lambda(lambda x : K.reshape(x, (-1,Nc,2)),\n",
    "                       output_shape=(Nc,2), \\\n",
    "                        name=\"tx_reshape\")(tx2)\n",
    "\n",
    "    # Normalisation Layer\n",
    "    tx_norm = Lambda(lambda x : K.l2_normalize(x,axis=2),\n",
    "                     output_shape=(Nc,2), name=\"tx_norm\")\\\n",
    "                        (tx_complex)\n",
    "    tx_norm_scaled = Lambda(lambda x : K.tf.multiply(np.float32(np.sqrt(Nr)), x),\n",
    "                      output_shape=(Nc,2), name=\"tx_norm_scaled\")\\\n",
    "                        (tx_norm)\n",
    "    # Add AWGN Noise \n",
    "    noise = GaussianNoise2(sigma)(tx_norm_scaled)\n",
    "\n",
    "    ## RECIEVER\n",
    "    rx_input_message = Input(shape=(M,), name=\"input\")\n",
    "    # Flatten the input\n",
    "    noise_flat = Lambda(lambda x : K.reshape(x, (-1,Nr)),\n",
    "                       output_shape=(Nr,),\\\n",
    "                        name=\"noise_flat\")(rx_input_message)\n",
    "    # First layer with the different activation function\n",
    "    # to capture non-linearity and for symmetry with the \n",
    "    # transmitter.\n",
    "    rx1 = Dense(M,activation=\"relu\", name=\"rx1\")\\\n",
    "                (noise_flat)\n",
    "    # Dense layer with softmax activation\n",
    "    rx_softmax = Dense(M,activation='softmax', \\\n",
    "                       name=\"rx_softmax\")(rx1)\n",
    "    # Select the symbols with the maximum probabilities\n",
    "    ml_symbs = MostLikelySymbol()(rx_softmax)\n",
    "\n",
    "    ###Defining the models\n",
    "    # Model the Tx\n",
    "    transmitter = Model(tx_input_message, tx_norm_scaled)\n",
    "    # Model the Tx plus the noise\n",
    "    channel_sym_with_noise = Model(tx_input_message, noise)\n",
    "    # Model the Rx\n",
    "    receiver = Model(rx_input_message,rx_softmax)\n",
    "    receiver_symbs = Model(rx_input_message,ml_symbs)\n",
    "\n",
    "    # Compile the model\n",
    "    transmitter.compile(loss='categorical_crossentropy',\n",
    "                        optimizer=\"adam\")\n",
    "    receiver.compile(loss='categorical_crossentropy',\n",
    "                        optimizer=\"adam\")    \n",
    "    return transmitter, channel_sym_with_noise, receiver,\\\n",
    "                receiver_symbs"
   ]
  },
  {
   "cell_type": "code",
   "execution_count": 23,
   "metadata": {},
   "outputs": [],
   "source": [
    "def db_to_sigma_a(db):\n",
    "#     return 10**(-db/20)\n",
    "    return 10**(-db/10)"
   ]
  },
  {
   "cell_type": "code",
   "execution_count": 24,
   "metadata": {},
   "outputs": [],
   "source": [
    "def get_block_error_rate(test_data, pred_symbs):\n",
    "    errors = (test_data != pred_symbs)\n",
    "    block_errors = errors.any(axis=1)\n",
    "    return block_errors.sum()/block_errors.shape[0]"
   ]
  },
  {
   "cell_type": "code",
   "execution_count": 25,
   "metadata": {},
   "outputs": [],
   "source": [
    "def get_complex_tapered_noise_bler_SNR(M, R, SNR, weights_file_path, \\\n",
    "                                   test_data, hl_activation_func, \\\n",
    "                                   ol_activation_func, num_layers):\n",
    "    ## Get noise std_dev \n",
    "    noise_std = db_to_sigma_a(SNR)   \n",
    "    ## Make new model with loaded weights\n",
    "    autoencoder8_8_tap_nl, _, _, autoencoder_symbs8_8_tap_nl, \\\n",
    "        _, _, _ \\\n",
    "        = make_complex_n_layer_lr_tanh_tapering_model(M, R, noise_std, \\\n",
    "                                                      hl_activation_func, \\\n",
    "                                                      ol_activation_func, \\\n",
    "                                                      num_layers)    \n",
    "    autoencoder8_8_tap_nl.load_weights(weights_file_path, by_name=True)    \n",
    "    ## Check Accuracy on test set\n",
    "    pred_symbs = autoencoder_symbs8_8_tap_nl.predict(test_data)\n",
    "    return get_block_error_rate(test_data, pred_symbs)"
   ]
  },
  {
   "cell_type": "code",
   "execution_count": 26,
   "metadata": {},
   "outputs": [],
   "source": [
    "def get_supervised_rsf_bler_SNR(k, Nc, sigma_m, SNR, \\\n",
    "                                weights_file_path, \\\n",
    "                                test_data):\n",
    "    ## Get noise std_dev \n",
    "    sigma_a = db_to_sigma_a(SNR)   \n",
    "    ## Make new model with loaded weights\n",
    "    autoencoder_rsf_tmp, autoencoder_symbs_rsf_tmp, \\\n",
    "        _, _, _, _,_ \\\n",
    "        = get_rsf_autoencoder(k, Nc, sigma_m, sigma_a)\n",
    "    autoencoder_rsf_tmp.load_weights(weights_file_path, by_name=True)\n",
    "\n",
    "    ## Check Accuracy on test set\n",
    "    pred_symbs = autoencoder_symbs_rsf_tmp.predict(test_data)\n",
    "    return get_block_error_rate(test_data, pred_symbs)"
   ]
  },
  {
   "cell_type": "code",
   "execution_count": 27,
   "metadata": {},
   "outputs": [],
   "source": [
    "def get_rbf_autoencoder(k, Nc, block_size, sigma_m, sigma_a):\n",
    "    # Internal Parameters\n",
    "    M = 2**k\n",
    "    Nr = Nc*2 # Number of real channel uses\n",
    "\n",
    "    ## Transmitter\n",
    "    def Transmitter():\n",
    "        # (?,M) -> (?,Nc,2)   \n",
    "        tx_input_message = Input(shape=(M,), name=\"tx_input\")\n",
    "        tx1 = keras.layers.Embedding(M, M, name=\"embedding\")(tx_input_message)\n",
    "        tx1 = keras.layers.ELU(alpha=1.0, name=\"embed_ELU\")(tx1)\n",
    "        tx_flat = Flatten(name=\"post_embed_flatten\")(tx1)  \n",
    "        tx2 = Dense(Nr,activation=\"linear\", name=\"tx2\")(tx_flat)\n",
    "        tx_complex = Reshape((Nc,2), name=\"tx_reshape\")(tx2)\n",
    "        tx_norm = Lambda(lambda x : avg_power_normalise(x),\n",
    "                         output_shape=(Nc,2), name=\"tx_norm\")\\\n",
    "                        (tx_complex)\n",
    "        tx_norm_scaled = Lambda(lambda x : K.tf.multiply(np.float32(np.sqrt(2)), x),\n",
    "                          output_shape=(Nc,2), name=\"tx_norm_scaled\")\\\n",
    "                            (tx_norm)\n",
    "        return Model(tx_input_message, tx_norm_scaled, name=\"Transmitter\")\n",
    "    transmitter = Transmitter()\n",
    "\n",
    "    ## Block Transmitter\n",
    "    def tx_block_lambda(block_in):\n",
    "        # (?,block_size,M) -> (?,block_size,Nc,2)   \n",
    "#         test_lst = [0]*block_size\n",
    "        test_lst = []\n",
    "        for i in range(block_size):\n",
    "            tmp = transmitter(block_in[:,i,:])\n",
    "            test_lst.append(Lambda(lambda x : K.expand_dims(x,axis=1))(tmp))\n",
    "        return Concatenate(axis=1)(test_lst)\n",
    "    \n",
    "    def BlockTransmitter():\n",
    "        # (?,block_size,M) -> (?,block_size,Nc,2)\n",
    "        block_in = Input(shape=(block_size,M), name=\"tx_block_input_message\")\n",
    "        tx_output = Lambda(lambda x : tx_block_lambda(x),\n",
    "                           output_shape=(block_size,Nc,2),\\\n",
    "                           name=\"tx_blk_out\")(block_in)\n",
    "        return Model(block_in, tx_output, name=\"BlockTransmitter\")  \n",
    "    \n",
    "    ## H Parameter Estimator\n",
    "    def HEstimator():    \n",
    "        h_est_input = Input(shape=(block_size,Nc,2), name=\"h_est_input\")\n",
    "        noise_flat = Flatten(name=\"noise_flat\")(h_est_input)\n",
    "        h1 = Dense(20,activation=\"tanh\", name=\"h1\")\\\n",
    "                    (noise_flat)\n",
    "        h_hat = Dense(2,activation=\"linear\", name=\"h_hat\")\\\n",
    "                    (h1)\n",
    "        return Model(h_est_input, h_hat, name=\"HEstimator\")\n",
    "\n",
    "    ## Receiver\n",
    "    def Receiver():\n",
    "        # (?,Nc,2) -> (?,M)   \n",
    "        rx_input_message = Input(shape=(Nc,2), name=\"rx_input\")\n",
    "        y_over_h_flat = Flatten(name=\"y_over_h_flat\")(rx_input_message)\n",
    "        rx1 = Dense(M,activation=\"relu\", name=\"rx1\")\\\n",
    "                    (y_over_h_flat)\n",
    "        # Dense layer with softmax activation\n",
    "        rx_softmax = Dense(M,activation='softmax', \\\n",
    "                           name=\"rx_softmax\")(rx1)\n",
    "        return Model(rx_input_message, rx_softmax, name=\"Receiver\")\n",
    "    receiver = Receiver()\n",
    "    \n",
    "    ## Block Receiver\n",
    "    def rx_block_lambda(block_in):\n",
    "        # (?,block_size,Nc,2) -> (?,block_size,M)   \n",
    "#         test_lst = [0]*block_size\n",
    "        test_lst = []\n",
    "        for i in range(block_size):\n",
    "            tmp = receiver(block_in[:,i,:,:])\n",
    "            test_lst.append(Lambda(lambda x : K.expand_dims(x,axis=1))(tmp))\n",
    "        return Concatenate(axis=1)(test_lst)\n",
    "    \n",
    "    def BlockReceiver():\n",
    "        # (?,block_size,Nc,2) -> (?,block_size,M)   \n",
    "        block_in = Input(shape=(block_size,Nc,2), name=\"rx_block_input_message\")\n",
    "        rx_output = Lambda(lambda x : rx_block_lambda(x),\n",
    "                           output_shape=(block_size,M),\\\n",
    "                           name=\"rx_blk_out\")(block_in)\n",
    "        return Model(block_in, rx_output, name=\"BlockReceiver\")  \n",
    "    \n",
    "    ## Overall Autoencoder\n",
    "    ae_block_input = Input(shape=(block_size,M), name=\"ae_block_input\")\n",
    "    channel_symbs = BlockTransmitter()(ae_block_input)\n",
    "    faded = RayleighBlockFading(sigma_m,sigma_a)(channel_symbs)\n",
    "    h_est = HEstimator()(faded)\n",
    "    y_over_h = Lambda(lambda x : complex_div_block(x),\n",
    "                      output_shape=(block_size,Nc,2),\\\n",
    "                      name=\"y_over_h_block\")([faded, h_est])\n",
    "    received_pdf = BlockReceiver()(y_over_h)\n",
    "    ml_symbs = MostLikelySymbol()(received_pdf)\n",
    "        \n",
    "    ## Overall Autoencoder Models\n",
    "    autoencoder = Model(ae_block_input,received_pdf)\n",
    "    autoencoder_symbs = Model(ae_block_input,ml_symbs) \n",
    "    autoencoder.compile(loss='categorical_crossentropy',\n",
    "                    optimizer=\"adam\")\n",
    "    \n",
    "    ## Submodel layers  \n",
    "    rx_blc_input = Input(shape=(block_size,Nc,2), name=\"rx_blc_input_\")\n",
    "    rx_blc_input2 = Input(shape=(block_size,Nc,2), name=\"rx_blc_input_\")\n",
    "    h_est2 = autoencoder.layers[-3](rx_blc_input)\n",
    "    y_over_h2 = autoencoder.layers[-2]([rx_blc_input, h_est2])\n",
    "    received_pdf2 = autoencoder.layers[-1](y_over_h2)\n",
    "    \n",
    "    ## Submodels\n",
    "    transmitter_block = Model(ae_block_input,channel_symbs)\n",
    "    channel_sym_with_noise = Model(ae_block_input,faded)\n",
    "    h_estimator = Model(rx_blc_input,h_est2)\n",
    "    receiver_block = Model(rx_blc_input2,autoencoder.layers[-1](rx_blc_input2))\n",
    "    whole_rx = Model(rx_blc_input,received_pdf2)\n",
    "    transmitter_block.compile(loss='categorical_crossentropy',\n",
    "                              optimizer=\"adam\")\n",
    "    channel_sym_with_noise.compile(loss='categorical_crossentropy',\n",
    "                                   optimizer=\"adam\")    \n",
    "    h_estimator.compile(loss='categorical_crossentropy',\n",
    "                        optimizer=\"adam\")\n",
    "    receiver_block.compile(loss='categorical_crossentropy',\n",
    "                           optimizer=\"adam\")    \n",
    "    whole_rx.compile(loss='categorical_crossentropy',\n",
    "                     optimizer=\"adam\")   \n",
    "       \n",
    "    return autoencoder, autoencoder_symbs, transmitter_block, \\\n",
    "        channel_sym_with_noise, h_estimator, receiver_block, whole_rx"
   ]
  },
  {
   "cell_type": "markdown",
   "metadata": {},
   "source": [
    "### Running Code"
   ]
  },
  {
   "cell_type": "markdown",
   "metadata": {},
   "source": [
    "### Loading Models, Data and Results"
   ]
  },
  {
   "cell_type": "code",
   "execution_count": 28,
   "metadata": {},
   "outputs": [],
   "source": [
    "# # Get a set of data for a particular M\n",
    "# total_size = 1000000\n",
    "# all_one_hot_messages256 = np.diag(np.ones(256))\n",
    "\n",
    "\n",
    "# # Automatically saves the data for m to a filepath of\n",
    "# # './data/data${M}.npy'\n",
    "# t2 = time()\n",
    "# func_data256, file_path256, all_one_hot_messages256 = get_data_set(256, total_size)\n",
    "# print(f\"Finished 256 in {time()-t2}s\")\n",
    "\n",
    "# # Don't use this function unless it's for a new M, just\n",
    "# # load the data you have calculated other times.\n",
    "# # This makes results more comparible and saves time."
   ]
  },
  {
   "cell_type": "code",
   "execution_count": 29,
   "metadata": {},
   "outputs": [],
   "source": [
    "# Load the data calculated from previous runs\n",
    "all_one_hot_messages256 = np.diag(np.ones(256))\n",
    "data256 = np.load('./data/data256.npy')"
   ]
  },
  {
   "cell_type": "code",
   "execution_count": 30,
   "metadata": {},
   "outputs": [
    {
     "name": "stderr",
     "output_type": "stream",
     "text": [
      "/home/ubuntu/anaconda3/envs/tensorflow_p36/lib/python3.6/site-packages/sklearn/model_selection/_split.py:2179: FutureWarning: From version 0.21, test_size will always complement train_size unless both are specified.\n",
      "  FutureWarning)\n"
     ]
    },
    {
     "name": "stdout",
     "output_type": "stream",
     "text": [
      "train_data256.shape = (7200000, 256)\n",
      "valid_data256.shape = (800000, 256)\n",
      "test_data256.shape = (2000000, 256)\n"
     ]
    }
   ],
   "source": [
    "# Splitting into training, testing and validation sets\n",
    "train_data256, test_data256 = train_test_split(data256, \\\n",
    "                                         train_size=0.8)\n",
    "train_data256, valid_data256 = train_test_split(train_data256, \\\n",
    "                                         train_size=0.9)\n",
    "print(f\"train_data256.shape = {train_data256.shape}\")\n",
    "print(f\"valid_data256.shape = {valid_data256.shape}\")\n",
    "print(f\"test_data256.shape = {test_data256.shape}\")"
   ]
  },
  {
   "cell_type": "markdown",
   "metadata": {},
   "source": [
    "##### Getting a supervised model for AWGN"
   ]
  },
  {
   "cell_type": "code",
   "execution_count": 31,
   "metadata": {},
   "outputs": [
    {
     "name": "stdout",
     "output_type": "stream",
     "text": [
      "WARNING:tensorflow:From /home/ubuntu/anaconda3/envs/tensorflow_p36/lib/python3.6/site-packages/tensorflow/python/framework/op_def_library.py:263: colocate_with (from tensorflow.python.framework.ops) is deprecated and will be removed in a future version.\n",
      "Instructions for updating:\n",
      "Colocations handled automatically by placer.\n"
     ]
    },
    {
     "name": "stderr",
     "output_type": "stream",
     "text": [
      "/home/ubuntu/anaconda3/envs/tensorflow_p36/lib/python3.6/site-packages/keras/activations.py:211: UserWarning: Do not pass a layer instance (such as LeakyReLU) as the activation argument of another layer. Instead, advanced activation layers should be used just like any other layer in a model.\n",
      "  identifier=identifier.__class__.__name__))\n",
      "/home/ubuntu/anaconda3/envs/tensorflow_p36/lib/python3.6/site-packages/keras/activations.py:211: UserWarning: Do not pass a layer instance (such as LeakyReLU) as the activation argument of another layer. Instead, advanced activation layers should be used just like any other layer in a model.\n",
      "  identifier=identifier.__class__.__name__))\n"
     ]
    }
   ],
   "source": [
    "# (8,8)\n",
    "M = 2**8 # Number of one hot encoded messages\n",
    "R = 2 # R = k/n_r\n",
    "sigma = get_noise_sigma(7, Rc=R)\n",
    "hl_activation_func = keras.layers.advanced_activations.LeakyReLU()\n",
    "hl_activation_func.__name__ = 'leakyrelu'\n",
    "ol_activation_func = \"tanh\"\n",
    "num_layers = 2\n",
    "\n",
    "autoencoder8_8_tap_2l, transmitter8_8_tap_2l, reciever8_8_tap_2l, \\\n",
    "    autoencoder_symbs8_8_tap_2l, k8_8_tap_2l, Nc8_8_tap_2l, Nr8_8_tap_2l \\\n",
    "    = make_complex_n_layer_lr_tanh_tapering_model(M, R, sigma, \\\n",
    "                                                  hl_activation_func, \\\n",
    "                                                  ol_activation_func, \\\n",
    "                                                  num_layers)"
   ]
  },
  {
   "cell_type": "code",
   "execution_count": 32,
   "metadata": {},
   "outputs": [],
   "source": [
    "es = EarlyStopping(monitor='val_loss', mode='min', verbose=1, patience=20)"
   ]
  },
  {
   "cell_type": "code",
   "execution_count": 32,
   "metadata": {},
   "outputs": [],
   "source": [
    "# # Previous 0.1763\n",
    "# autoencoder8_8_tap_2l.fit(train_data256, train_data256,\n",
    "#                        epochs=1000,\n",
    "#                        batch_size=1000,\n",
    "#                        shuffle=True,\n",
    "#                        validation_data=(valid_data256,\n",
    "#                                         valid_data256),\n",
    "#                        callbacks=[es])"
   ]
  },
  {
   "cell_type": "code",
   "execution_count": 33,
   "metadata": {},
   "outputs": [],
   "source": [
    "autoencoder8_8_tap_2l.load_weights('./models/autoencoder8_8_tap_2l3.3856e-06.h5', by_name=True)"
   ]
  },
  {
   "cell_type": "markdown",
   "metadata": {},
   "source": [
    "#### Getting a supervised model for RBF"
   ]
  },
  {
   "cell_type": "markdown",
   "metadata": {},
   "source": [
    "##### RBF autoencoder notes\n",
    "I need:\n",
    "- tx to be M -> Nc,2\n",
    "- h_est to be block,M -> 2,\n",
    "- rx to be Nc,2 -> M\n",
    "\n",
    "Could use tf.stack maybe?\n",
    "\n",
    "https://stackoverflow.com/questions/43151775/how-to-have-parallel-convolutional-layers-in-keras\n",
    "This seem encouraging, model transmitter and receiver as functions, then make new funcitions, transmitter_block and receiver_block which are:\n",
    "- tx_block: B,M -> B,Nc,2\n",
    "- rx_block: B,Nc,2 -> B,M\n",
    "\n",
    "Then make a new model called h_est which is:\n",
    "- h_est: block,M -> 2.\n",
    "\n",
    "Connect these three layers together to make one model called autoencoder."
   ]
  },
  {
   "cell_type": "markdown",
   "metadata": {},
   "source": [
    "##### Notes on Debugging the None gradient bug\n",
    "- First it I had them in seperate models\n",
    "    - It worked up until the receiver_block model was added. However the receiver_block model could be fit, all the individual blocks could be fit. Just not the autoencoder.\n",
    "- Changed to putting the two problem blocks together not in models. Still didn't work.\n",
    "- Switched to a more functional way of assembling the model.\n",
    "    - Isolated it to it being a problem of the multiple input to the receiver block.\n",
    "    - Moved it so the y_over_h layer was seperate to the ReceiverBlock model and moved back to having the receiver block call all the functionality from inside a lambda.\n",
    "    - It worked!!!\n",
    "    - Added back in all the transmitter blocks, took a while.\n",
    "    - Tidied up code to get rid of all random commented out code.\n",
    "    - One last check, it didn't work any more. No idea why. \n",
    "- Back to square one\n",
    "    - Removing the names from the models doesn't help.\n",
    "    - Changing the name of the y_over_h didn't help.\n",
    "    - It works up to after the y_over_h layer.\n",
    "    - It also works with the h_est and y_over_h layers skipped.\n",
    "    - Can't be the y_over_h block as exactly this is used in the make_rsf_autoencoder function.\n",
    "    - Tried swapping the contents of the BlockReceiver function for a simple two layers that would definitely not have a none gradient. Still doesn't work.\n",
    "    - Must be the combination of the y_over_h and the receiver block together, but why???\n",
    "    - Found a seperate error from adding back in the name's incorrectly, also took out the initialisations of M and Nc inside tx_block_lambda. Then it worked again with the dummy BlockReceiver function. \n",
    "    - Doesn't work if I put the normal BlockReceiver function back in. \n",
    "    - Turned the flattening Reshapes into Flattens, still works with the dummy BlockReceiver function.\n",
    "    - Changed the internals of tx_block_lambda and rx_block_lambda to use the concatenate method instead. This gets rid of all the K.variables and the .assigns. Makes everything in these functions a Keras layer/model.\n",
    "        - Works with the dummy BlockReceiver function.\n",
    "        - Works with the lambdas. Going to save, then tidy up my code. If it stops working I'll git reset --hard\n",
    "- Added back in the transmitter and channel_sym_with_noise blocks, still works."
   ]
  },
  {
   "cell_type": "code",
   "execution_count": 34,
   "metadata": {},
   "outputs": [],
   "source": [
    "train_data256_10 = np.reshape(train_data256, [-1,10,256])\n",
    "valid_data256_10 = np.reshape(valid_data256, [-1,10,256])\n",
    "test_data256_10 = np.reshape(test_data256, [-1,10,256])"
   ]
  },
  {
   "cell_type": "code",
   "execution_count": 35,
   "metadata": {},
   "outputs": [],
   "source": [
    "train_data256_100 = np.reshape(train_data256, [-1,100,256])\n",
    "valid_data256_100 = np.reshape(valid_data256, [-1,100,256])\n",
    "test_data256_100 = np.reshape(test_data256, [-1,100,256])"
   ]
  },
  {
   "cell_type": "code",
   "execution_count": 36,
   "metadata": {},
   "outputs": [],
   "source": [
    "train_data256_1000 = np.reshape(train_data256, [-1,1000,256])\n",
    "valid_data256_1000 = np.reshape(valid_data256, [-1,1000,256])\n",
    "test_data256_1000 = np.reshape(test_data256, [-1,1000,256])"
   ]
  },
  {
   "cell_type": "markdown",
   "metadata": {},
   "source": [
    "Time take to compile\n",
    "\n",
    "| Block Size | Compile Time (s) | h_est parameters | training s/step |\n",
    "|---|---|---|---|\n",
    "| 10  | 4.75 | 1662 | 173$\\mu s$ |\n",
    "| 100 | 33.45 | 16062 |  |\n",
    "| 1000 | ~15 mins | ? |  |"
   ]
  },
  {
   "cell_type": "code",
   "execution_count": 61,
   "metadata": {},
   "outputs": [
    {
     "name": "stdout",
     "output_type": "stream",
     "text": [
      "Took 2.58s\n"
     ]
    }
   ],
   "source": [
    "t0 = time()\n",
    "k = 8\n",
    "Nc = 4 \n",
    "block_size = 10\n",
    "sigma_m = 1./np.sqrt(2.)\n",
    "sigma_a = db_to_sigma_a(40)\n",
    "autoencoder_rbf_10, autoencoder_symbs_rbf_10, transmitter_block_rbf_10, \\\n",
    "    channel_sym_with_noise_rbf_10, h_estimator, receiver_block_rbf_10, \\\n",
    "    whole_rx_rbf_10 \\\n",
    "    = get_rbf_autoencoder(k, Nc, block_size, sigma_m, sigma_a)\n",
    "history_rbf_10 = History()\n",
    "checkpoints_rbf_10 = ModelCheckpoint(\"./models/rbf_supervised/autoencoder_rbf_10_e{epoch:02d}_vl{val_loss}.h5\", save_best_only=True, save_weights_only=True)\n",
    "plot_model(autoencoder_rbf_10,to_file='./figures/autoencoder_rbf_10.png',show_shapes=True)\n",
    "print(f\"Took {round(time()-t0,2)}s\")"
   ]
  },
  {
   "cell_type": "code",
   "execution_count": 64,
   "metadata": {},
   "outputs": [
    {
     "name": "stdout",
     "output_type": "stream",
     "text": [
      "Took 18.88s\n"
     ]
    }
   ],
   "source": [
    "t0 = time()\n",
    "k = 8\n",
    "Nc = 4 \n",
    "block_size = 100\n",
    "sigma_m = 1./np.sqrt(2.)\n",
    "sigma_a = db_to_sigma_a(40)\n",
    "autoencoder_rbf_10e2, autoencoder_symbs_rbf_10e2, transmitter_block_rbf_10e2, \\\n",
    "    channel_sym_with_noise_rbf_10e2, h_estimator, receiver_block_rbf_10e2, \\\n",
    "    whole_rx_rbf_10e2 \\\n",
    "    = get_rbf_autoencoder(k, Nc, block_size, sigma_m, sigma_a)\n",
    "history_rbf_10e2 = History()\n",
    "checkpoints_rbf_10e2 = ModelCheckpoint(\"./models/rbf_supervised/autoencoder_rbf_10e2_e{epoch:02d}_vl{val_loss}.h5\", save_best_only=True, save_weights_only=True)\n",
    "# plot_model(autoencoder_rbf_10e2,to_file='./figures/aoudia_paper/autoencoder_rbf_10e2.png',show_shapes=True)\n",
    "# plot_model(autoencoder_rbf_10e2,to_file='./final_report/figures/aoudia_paper/autoencoder_rbf_10e2.png',show_shapes=True)\n",
    "print(f\"Took {round(time()-t0,2)}s\")"
   ]
  },
  {
   "cell_type": "code",
   "execution_count": 37,
   "metadata": {},
   "outputs": [
    {
     "name": "stdout",
     "output_type": "stream",
     "text": [
      "Took 4.61s\n"
     ]
    }
   ],
   "source": [
    "# t0 = time()\n",
    "# k = 8\n",
    "# Nc = 4 \n",
    "# block_size = 10\n",
    "# sigma_m = 1./np.sqrt(2.)\n",
    "# sigma_a = db_to_sigma_a(40)\n",
    "# autoencoder_rbf_10e3, autoencoder_symbs_rbf_10e3, transmitter_block_rbf_10e3, \\\n",
    "#     channel_sym_with_noise_rbf_10e3, h_estimator, receiver_block_rbf_10e3, \\\n",
    "#     whole_rx_rbf_10e3 \\\n",
    "#     = get_rbf_autoencoder(k, Nc, block_size, sigma_m, sigma_a)\n",
    "# history_rbf_10e3 = History()\n",
    "# checkpoints_rbf_10e3 = ModelCheckpoint(\"./models/rbf_supervised/autoencoder_rbf_10e3_e{epoch:02d}_vl{val_loss}.h5\", save_best_only=True, save_weights_only=True)\n",
    "# # plot_model(autoencoder_rbf_10e3,to_file='./figures/autoencoder_rbf_10e3.png',show_shapes=True)\n",
    "# print(f\"Took {round(time()-t0,2)}s\")"
   ]
  },
  {
   "cell_type": "code",
   "execution_count": 47,
   "metadata": {},
   "outputs": [
    {
     "name": "stdout",
     "output_type": "stream",
     "text": [
      "__________________________________________________________________________________________________\n",
      "Layer (type)                    Output Shape         Param #     Connected to                     \n",
      "==================================================================================================\n",
      "ae_block_input (InputLayer)     (None, 10, 256)      0                                            \n",
      "__________________________________________________________________________________________________\n",
      "BlockTransmitter (Model)        (None, 10, 4, 2)     0           ae_block_input[0][0]             \n",
      "__________________________________________________________________________________________________\n",
      "RayleighBlockFading (RayleighBl (None, 10, 4, 2)     0           BlockTransmitter[1][0]           \n",
      "__________________________________________________________________________________________________\n",
      "HEstimator (Model)              (None, 2)            1662        RayleighBlockFading[0][0]        \n",
      "__________________________________________________________________________________________________\n",
      "y_over_h_block (Lambda)         (None, 10, 4, 2)     0           RayleighBlockFading[0][0]        \n",
      "                                                                 HEstimator[1][0]                 \n",
      "__________________________________________________________________________________________________\n",
      "BlockReceiver (Model)           (None, 10, 256)      0           y_over_h_block[0][0]             \n",
      "==================================================================================================\n",
      "Total params: 1,662\n",
      "Trainable params: 1,662\n",
      "Non-trainable params: 0\n",
      "__________________________________________________________________________________________________\n"
     ]
    }
   ],
   "source": [
    "autoencoder_rbf_10.summary()"
   ]
  },
  {
   "cell_type": "code",
   "execution_count": 50,
   "metadata": {
    "scrolled": true
   },
   "outputs": [
    {
     "name": "stdout",
     "output_type": "stream",
     "text": [
      "Train on 720000 samples, validate on 80000 samples\n",
      "Epoch 1/10\n",
      "720000/720000 [==============================] - 125s 173us/step - loss: 5.5467 - val_loss: 5.5456\n",
      "Epoch 2/10\n",
      "720000/720000 [==============================] - 115s 160us/step - loss: 5.5456 - val_loss: 5.5455\n",
      "Epoch 3/10\n",
      "720000/720000 [==============================] - 115s 160us/step - loss: 5.5455 - val_loss: 5.5455\n",
      "Epoch 4/10\n",
      "720000/720000 [==============================] - 115s 160us/step - loss: 5.5455 - val_loss: 5.5454\n",
      "Epoch 5/10\n",
      "719000/720000 [============================>.] - ETA: 0s - loss: 5.5454"
     ]
    },
    {
     "ename": "KeyboardInterrupt",
     "evalue": "",
     "output_type": "error",
     "traceback": [
      "\u001b[0;31m---------------------------------------------------------------------------\u001b[0m",
      "\u001b[0;31mKeyboardInterrupt\u001b[0m                         Traceback (most recent call last)",
      "\u001b[0;32m<ipython-input-50-41017382a631>\u001b[0m in \u001b[0;36m<module>\u001b[0;34m()\u001b[0m\n\u001b[1;32m      5\u001b[0m                          validation_data=(valid_data256_10,\n\u001b[1;32m      6\u001b[0m                                           valid_data256_10),\n\u001b[0;32m----> 7\u001b[0;31m                          callbacks=[es, history_rbf_10, checkpoints_rbf_10])\n\u001b[0m",
      "\u001b[0;32m~/anaconda3/envs/tensorflow_p36/lib/python3.6/site-packages/keras/engine/training.py\u001b[0m in \u001b[0;36mfit\u001b[0;34m(self, x, y, batch_size, epochs, verbose, callbacks, validation_split, validation_data, shuffle, class_weight, sample_weight, initial_epoch, steps_per_epoch, validation_steps, **kwargs)\u001b[0m\n\u001b[1;32m   1037\u001b[0m                                         \u001b[0minitial_epoch\u001b[0m\u001b[0;34m=\u001b[0m\u001b[0minitial_epoch\u001b[0m\u001b[0;34m,\u001b[0m\u001b[0;34m\u001b[0m\u001b[0m\n\u001b[1;32m   1038\u001b[0m                                         \u001b[0msteps_per_epoch\u001b[0m\u001b[0;34m=\u001b[0m\u001b[0msteps_per_epoch\u001b[0m\u001b[0;34m,\u001b[0m\u001b[0;34m\u001b[0m\u001b[0m\n\u001b[0;32m-> 1039\u001b[0;31m                                         validation_steps=validation_steps)\n\u001b[0m\u001b[1;32m   1040\u001b[0m \u001b[0;34m\u001b[0m\u001b[0m\n\u001b[1;32m   1041\u001b[0m     def evaluate(self, x=None, y=None,\n",
      "\u001b[0;32m~/anaconda3/envs/tensorflow_p36/lib/python3.6/site-packages/keras/engine/training_arrays.py\u001b[0m in \u001b[0;36mfit_loop\u001b[0;34m(model, f, ins, out_labels, batch_size, epochs, verbose, callbacks, val_f, val_ins, shuffle, callback_metrics, initial_epoch, steps_per_epoch, validation_steps)\u001b[0m\n\u001b[1;32m    210\u001b[0m                         val_outs = test_loop(model, val_f, val_ins,\n\u001b[1;32m    211\u001b[0m                                              \u001b[0mbatch_size\u001b[0m\u001b[0;34m=\u001b[0m\u001b[0mbatch_size\u001b[0m\u001b[0;34m,\u001b[0m\u001b[0;34m\u001b[0m\u001b[0m\n\u001b[0;32m--> 212\u001b[0;31m                                              verbose=0)\n\u001b[0m\u001b[1;32m    213\u001b[0m                         \u001b[0mval_outs\u001b[0m \u001b[0;34m=\u001b[0m \u001b[0mto_list\u001b[0m\u001b[0;34m(\u001b[0m\u001b[0mval_outs\u001b[0m\u001b[0;34m)\u001b[0m\u001b[0;34m\u001b[0m\u001b[0m\n\u001b[1;32m    214\u001b[0m                         \u001b[0;31m# Same labels assumed.\u001b[0m\u001b[0;34m\u001b[0m\u001b[0;34m\u001b[0m\u001b[0m\n",
      "\u001b[0;32m~/anaconda3/envs/tensorflow_p36/lib/python3.6/site-packages/keras/engine/training_arrays.py\u001b[0m in \u001b[0;36mtest_loop\u001b[0;34m(model, f, ins, batch_size, verbose, steps)\u001b[0m\n\u001b[1;32m    390\u001b[0m                 \u001b[0mins_batch\u001b[0m\u001b[0;34m[\u001b[0m\u001b[0mi\u001b[0m\u001b[0;34m]\u001b[0m \u001b[0;34m=\u001b[0m \u001b[0mins_batch\u001b[0m\u001b[0;34m[\u001b[0m\u001b[0mi\u001b[0m\u001b[0;34m]\u001b[0m\u001b[0;34m.\u001b[0m\u001b[0mtoarray\u001b[0m\u001b[0;34m(\u001b[0m\u001b[0;34m)\u001b[0m\u001b[0;34m\u001b[0m\u001b[0m\n\u001b[1;32m    391\u001b[0m \u001b[0;34m\u001b[0m\u001b[0m\n\u001b[0;32m--> 392\u001b[0;31m             \u001b[0mbatch_outs\u001b[0m \u001b[0;34m=\u001b[0m \u001b[0mf\u001b[0m\u001b[0;34m(\u001b[0m\u001b[0mins_batch\u001b[0m\u001b[0;34m)\u001b[0m\u001b[0;34m\u001b[0m\u001b[0m\n\u001b[0m\u001b[1;32m    393\u001b[0m             \u001b[0;32mif\u001b[0m \u001b[0misinstance\u001b[0m\u001b[0;34m(\u001b[0m\u001b[0mbatch_outs\u001b[0m\u001b[0;34m,\u001b[0m \u001b[0mlist\u001b[0m\u001b[0;34m)\u001b[0m\u001b[0;34m:\u001b[0m\u001b[0;34m\u001b[0m\u001b[0m\n\u001b[1;32m    394\u001b[0m                 \u001b[0;32mif\u001b[0m \u001b[0mbatch_index\u001b[0m \u001b[0;34m==\u001b[0m \u001b[0;36m0\u001b[0m\u001b[0;34m:\u001b[0m\u001b[0;34m\u001b[0m\u001b[0m\n",
      "\u001b[0;32m~/anaconda3/envs/tensorflow_p36/lib/python3.6/site-packages/keras/backend/tensorflow_backend.py\u001b[0m in \u001b[0;36m__call__\u001b[0;34m(self, inputs)\u001b[0m\n\u001b[1;32m   2713\u001b[0m                 \u001b[0;32mreturn\u001b[0m \u001b[0mself\u001b[0m\u001b[0;34m.\u001b[0m\u001b[0m_legacy_call\u001b[0m\u001b[0;34m(\u001b[0m\u001b[0minputs\u001b[0m\u001b[0;34m)\u001b[0m\u001b[0;34m\u001b[0m\u001b[0m\n\u001b[1;32m   2714\u001b[0m \u001b[0;34m\u001b[0m\u001b[0m\n\u001b[0;32m-> 2715\u001b[0;31m             \u001b[0;32mreturn\u001b[0m \u001b[0mself\u001b[0m\u001b[0;34m.\u001b[0m\u001b[0m_call\u001b[0m\u001b[0;34m(\u001b[0m\u001b[0minputs\u001b[0m\u001b[0;34m)\u001b[0m\u001b[0;34m\u001b[0m\u001b[0m\n\u001b[0m\u001b[1;32m   2716\u001b[0m         \u001b[0;32melse\u001b[0m\u001b[0;34m:\u001b[0m\u001b[0;34m\u001b[0m\u001b[0m\n\u001b[1;32m   2717\u001b[0m             \u001b[0;32mif\u001b[0m \u001b[0mpy_any\u001b[0m\u001b[0;34m(\u001b[0m\u001b[0mis_tensor\u001b[0m\u001b[0;34m(\u001b[0m\u001b[0mx\u001b[0m\u001b[0;34m)\u001b[0m \u001b[0;32mfor\u001b[0m \u001b[0mx\u001b[0m \u001b[0;32min\u001b[0m \u001b[0minputs\u001b[0m\u001b[0;34m)\u001b[0m\u001b[0;34m:\u001b[0m\u001b[0;34m\u001b[0m\u001b[0m\n",
      "\u001b[0;32m~/anaconda3/envs/tensorflow_p36/lib/python3.6/site-packages/keras/backend/tensorflow_backend.py\u001b[0m in \u001b[0;36m_call\u001b[0;34m(self, inputs)\u001b[0m\n\u001b[1;32m   2673\u001b[0m             \u001b[0mfetched\u001b[0m \u001b[0;34m=\u001b[0m \u001b[0mself\u001b[0m\u001b[0;34m.\u001b[0m\u001b[0m_callable_fn\u001b[0m\u001b[0;34m(\u001b[0m\u001b[0;34m*\u001b[0m\u001b[0marray_vals\u001b[0m\u001b[0;34m,\u001b[0m \u001b[0mrun_metadata\u001b[0m\u001b[0;34m=\u001b[0m\u001b[0mself\u001b[0m\u001b[0;34m.\u001b[0m\u001b[0mrun_metadata\u001b[0m\u001b[0;34m)\u001b[0m\u001b[0;34m\u001b[0m\u001b[0m\n\u001b[1;32m   2674\u001b[0m         \u001b[0;32melse\u001b[0m\u001b[0;34m:\u001b[0m\u001b[0;34m\u001b[0m\u001b[0m\n\u001b[0;32m-> 2675\u001b[0;31m             \u001b[0mfetched\u001b[0m \u001b[0;34m=\u001b[0m \u001b[0mself\u001b[0m\u001b[0;34m.\u001b[0m\u001b[0m_callable_fn\u001b[0m\u001b[0;34m(\u001b[0m\u001b[0;34m*\u001b[0m\u001b[0marray_vals\u001b[0m\u001b[0;34m)\u001b[0m\u001b[0;34m\u001b[0m\u001b[0m\n\u001b[0m\u001b[1;32m   2676\u001b[0m         \u001b[0;32mreturn\u001b[0m \u001b[0mfetched\u001b[0m\u001b[0;34m[\u001b[0m\u001b[0;34m:\u001b[0m\u001b[0mlen\u001b[0m\u001b[0;34m(\u001b[0m\u001b[0mself\u001b[0m\u001b[0;34m.\u001b[0m\u001b[0moutputs\u001b[0m\u001b[0;34m)\u001b[0m\u001b[0;34m]\u001b[0m\u001b[0;34m\u001b[0m\u001b[0m\n\u001b[1;32m   2677\u001b[0m \u001b[0;34m\u001b[0m\u001b[0m\n",
      "\u001b[0;32m~/anaconda3/envs/tensorflow_p36/lib/python3.6/site-packages/tensorflow/python/client/session.py\u001b[0m in \u001b[0;36m__call__\u001b[0;34m(self, *args, **kwargs)\u001b[0m\n\u001b[1;32m   1437\u001b[0m           ret = tf_session.TF_SessionRunCallable(\n\u001b[1;32m   1438\u001b[0m               \u001b[0mself\u001b[0m\u001b[0;34m.\u001b[0m\u001b[0m_session\u001b[0m\u001b[0;34m.\u001b[0m\u001b[0m_session\u001b[0m\u001b[0;34m,\u001b[0m \u001b[0mself\u001b[0m\u001b[0;34m.\u001b[0m\u001b[0m_handle\u001b[0m\u001b[0;34m,\u001b[0m \u001b[0margs\u001b[0m\u001b[0;34m,\u001b[0m \u001b[0mstatus\u001b[0m\u001b[0;34m,\u001b[0m\u001b[0;34m\u001b[0m\u001b[0m\n\u001b[0;32m-> 1439\u001b[0;31m               run_metadata_ptr)\n\u001b[0m\u001b[1;32m   1440\u001b[0m         \u001b[0;32mif\u001b[0m \u001b[0mrun_metadata\u001b[0m\u001b[0;34m:\u001b[0m\u001b[0;34m\u001b[0m\u001b[0m\n\u001b[1;32m   1441\u001b[0m           \u001b[0mproto_data\u001b[0m \u001b[0;34m=\u001b[0m \u001b[0mtf_session\u001b[0m\u001b[0;34m.\u001b[0m\u001b[0mTF_GetBuffer\u001b[0m\u001b[0;34m(\u001b[0m\u001b[0mrun_metadata_ptr\u001b[0m\u001b[0;34m)\u001b[0m\u001b[0;34m\u001b[0m\u001b[0m\n",
      "\u001b[0;31mKeyboardInterrupt\u001b[0m: "
     ]
    }
   ],
   "source": [
    "autoencoder_rbf_10.fit(train_data256_10, train_data256_10,\n",
    "                         epochs=10,\n",
    "                         batch_size=1000,\n",
    "                         shuffle=True,\n",
    "                         validation_data=(valid_data256_10,\n",
    "                                          valid_data256_10),\n",
    "                         callbacks=[es, history_rbf_10, checkpoints_rbf_10])"
   ]
  },
  {
   "cell_type": "code",
   "execution_count": 51,
   "metadata": {},
   "outputs": [],
   "source": [
    "# autoencoder_rbf_10.save('./models/rbf_supervised/autoencoder_rbf40_bs10_first.model')\n",
    "# autoencoder_rbf_10.save_weights('./models/rbf_supervised/autoencoder_rbf40_bs10_first.h5')\n",
    "\n",
    "### Loading\n",
    "# autoencoder_rbf_10.load_weights('./models/rbf_supervised/autoencoder_rbf40_bs10_first.h5', by_name=True)\n"
   ]
  },
  {
   "cell_type": "code",
   "execution_count": null,
   "metadata": {
    "scrolled": true
   },
   "outputs": [
    {
     "name": "stdout",
     "output_type": "stream",
     "text": [
      "Train on 720 samples, validate on 80 samples\n",
      "Epoch 1/10\n"
     ]
    }
   ],
   "source": [
    "autoencoder_rbf_10e2.fit(train_data256_1000, train_data256_1000,\n",
    "                         epochs=10,\n",
    "                         batch_size=10000,\n",
    "                         shuffle=True,\n",
    "                         validation_data=(valid_data256_1000,\n",
    "                                          valid_data256_1000),\n",
    "                         callbacks=[es, history_rbf, checkpoints_rbf])"
   ]
  },
  {
   "cell_type": "code",
   "execution_count": null,
   "metadata": {
    "scrolled": true
   },
   "outputs": [
    {
     "name": "stdout",
     "output_type": "stream",
     "text": [
      "Train on 720 samples, validate on 80 samples\n",
      "Epoch 1/10\n"
     ]
    }
   ],
   "source": [
    "# autoencoder_rbf_10e3.fit(train_data256_1000, train_data256_1000,\n",
    "#                          epochs=10,\n",
    "#                          batch_size=10000,\n",
    "#                          shuffle=True,\n",
    "#                          validation_data=(valid_data256_1000,\n",
    "#                                           valid_data256_1000),\n",
    "#                          callbacks=[es, history_rbf, checkpoints_rbf])"
   ]
  },
  {
   "cell_type": "markdown",
   "metadata": {},
   "source": [
    "##### Getting a supervised model for RSF\n",
    "\n",
    "The RSF model is trained at an SNR of 20db, because of the normalisation this is a sigma_a of 0.1. Could also set sigma_m to satisfy $2\\sigma_m^2=1$, ($\\sigma_m = \\frac{1}{\\sqrt{2}}$) so that the average fade gain is unity.\n",
    "\n",
    "SNR = $\\frac{1}{\\sigma_2}$\n"
   ]
  },
  {
   "cell_type": "code",
   "execution_count": 53,
   "metadata": {},
   "outputs": [
    {
     "data": {
      "text/plain": [
       "0.01"
      ]
     },
     "execution_count": 53,
     "metadata": {},
     "output_type": "execute_result"
    }
   ],
   "source": [
    "db_to_sigma_a(40)"
   ]
  },
  {
   "cell_type": "code",
   "execution_count": 42,
   "metadata": {},
   "outputs": [],
   "source": [
    "# Training at 20db\n",
    "k = 8\n",
    "Nc = 4\n",
    "# sigma_m = 0.33\n",
    "sigma_m = np.sqrt(0.5)\n",
    "sigma_a = db_to_sigma_a(20)\n",
    "autoencoder_rsf, autoencoder_symbs_rsf, transmitter_rsf, \\\n",
    "    channel_sym_with_noise_rsf, receiver_rsf, _, _ \\\n",
    "    = get_rsf_autoencoder(k, Nc, sigma_m, sigma_a)\n",
    "history_rsf = History()\n",
    "checkpoints_rsf = ModelCheckpoint(\"./models/rsf_supervised/autoencoder_rsf_{val_loss}.h5\", save_best_only=True, save_weights_only=True)"
   ]
  },
  {
   "cell_type": "code",
   "execution_count": 41,
   "metadata": {
    "scrolled": true
   },
   "outputs": [],
   "source": [
    "# autoencoder_rsf.fit(train_data256, train_data256,\n",
    "#                     epochs=10,\n",
    "#                     batch_size=10000,\n",
    "#                     shuffle=True,\n",
    "#                     validation_data=(valid_data256,\n",
    "#                                      valid_data256),\n",
    "#                     callbacks=[es, history_rsf, checkpoints_rsf])"
   ]
  },
  {
   "cell_type": "code",
   "execution_count": 43,
   "metadata": {},
   "outputs": [],
   "source": [
    "# Training at 40db\n",
    "k = 8\n",
    "Nc = 4\n",
    "# sigma_m = 0.33\n",
    "sigma_m = np.sqrt(0.5)\n",
    "sigma_a = db_to_sigma_a(40)\n",
    "autoencoder_rsf_40, autoencoder_symbs_rsf_40, transmitter_rsf_40, \\\n",
    "    channel_sym_with_noise_rsf_40, receiver_rsf_40, whole_receiver_rsf_40, \\\n",
    "    h_estimator_rsf_40 \\\n",
    "    = get_rsf_autoencoder(k, Nc, sigma_m, sigma_a)\n",
    "history_rsf_40 = History()\n",
    "checkpoints_rsf_40 = ModelCheckpoint(\"./models/rsf_supervised/autoencoder_rsf_40_vl{val_loss}_e{epoch:02d}.h5\", save_best_only=True, save_weights_only=True)\n",
    "# plot_model(autoencoder_rsf_40,to_file='./figures/aoudia_paper/autoencoder_rsf_arch.png',show_shapes=True)\n",
    "# plot_model(autoencoder_rsf_40,to_file='./final_report/figures/aoudia_paper/autoencoder_rsf_arch.png',show_shapes=True)"
   ]
  },
  {
   "cell_type": "code",
   "execution_count": 90,
   "metadata": {},
   "outputs": [],
   "source": [
    "# plot_model(transmitter_rsf_40,to_file='./figures/aoudia_paper/transmitter_rsf_arch.png',show_shapes=True)\n",
    "# plot_model(transmitter_rsf_40,to_file='./final_report/figures/aoudia_paper/transmitter_rsf_arch.png',show_shapes=True)"
   ]
  },
  {
   "cell_type": "code",
   "execution_count": 91,
   "metadata": {},
   "outputs": [],
   "source": [
    "# plot_model(receiver_rsf_40,to_file='./figures/aoudia_paper/receiver_rsf_arch.png',show_shapes=True)\n",
    "# plot_model(receiver_rsf_40,to_file='./final_report/figures/aoudia_paper/receiver_rsf_arch.png',show_shapes=True)"
   ]
  },
  {
   "cell_type": "code",
   "execution_count": 92,
   "metadata": {},
   "outputs": [],
   "source": [
    "# plot_model(h_estimator_rsf_40,to_file='./figures/aoudia_paper/h_estimator_rsf_arch.png',show_shapes=True)\n",
    "# plot_model(h_estimator_rsf_40,to_file='./final_report/figures/aoudia_paper/h_estimator_rsf_arch.png',show_shapes=True)"
   ]
  },
  {
   "cell_type": "code",
   "execution_count": 60,
   "metadata": {},
   "outputs": [],
   "source": [
    "# Training at 40db\n",
    "k = 8\n",
    "Nc = 4\n",
    "# sigma_m = 0.33\n",
    "sigma_m = np.sqrt(0.5)\n",
    "sigma_a = db_to_sigma_a(40)\n",
    "autoencoder_rsf_40, autoencoder_symbs_rsf_40, transmitter_rsf_40, \\\n",
    "    channel_sym_with_noise_rsf_40, receiver_rsf_40, h_est_rsf_40 \\\n",
    "    = get_rsf_autoencoder_model(k, Nc, sigma_m, sigma_a)\n",
    "history_rsf_40 = History()\n",
    "checkpoints_rsf_40 = ModelCheckpoint(\"./models/rsf_supervised/autoencoder_rsf_40_vl{val_loss}_e{epoch:02d}.h5\", save_best_only=True, save_weights_only=True)\n",
    "# plot_model(autoencoder_rsf_40,to_file='./figures/aoudia_paper/autoencoder_rsf_arch.png',show_shapes=True)\n",
    "# plot_model(autoencoder_rsf_40,to_file='./final_report/figures/aoudia_paper/autoencoder_rsf_arch.png',show_shapes=True)"
   ]
  },
  {
   "cell_type": "code",
   "execution_count": 61,
   "metadata": {},
   "outputs": [],
   "source": [
    "# plot_model(transmitter_rsf_40,to_file='./figures/aoudia_paper/transmitter_rsf_arch.png',show_shapes=True)"
   ]
  },
  {
   "cell_type": "code",
   "execution_count": 57,
   "metadata": {
    "scrolled": true
   },
   "outputs": [],
   "source": [
    "# autoencoder_rsf_40.fit(train_data256, train_data256,\n",
    "# #                     epochs=10,\n",
    "#                     epochs=70,\n",
    "#                     batch_size=10000,\n",
    "#                     shuffle=True,\n",
    "#                     validation_data=(valid_data256,\n",
    "#                                      valid_data256),\n",
    "#                     callbacks=[es, history_rsf_40, checkpoints_rsf_40])"
   ]
  },
  {
   "cell_type": "code",
   "execution_count": 79,
   "metadata": {},
   "outputs": [],
   "source": [
    "# history_rsf_40_local = history_rsf_40_local + history_rsf_40.history[\"val_loss\"]\n",
    "# np.save(\"./models/rsf_supervised/histories/history_rsf_40_local.npy\",history_rsf_40_local)\n",
    "\n",
    "history_rsf_40_local = np.load(\"./models/rsf_supervised/histories/history_rsf_40_local.npy\")"
   ]
  },
  {
   "cell_type": "code",
   "execution_count": 45,
   "metadata": {},
   "outputs": [],
   "source": [
    "# Training with no additive noise\n",
    "k = 8\n",
    "Nc = 4\n",
    "# sigma_m = 0.33\n",
    "sigma_m = np.sqrt(0.5)\n",
    "sigma_a = 0\n",
    "autoencoder_rsf_0, autoencoder_symbs_rsf_0, transmitter_rsf_0, \\\n",
    "    channel_sym_with_noise_rsf_0, receiver_rsf_0, _, _ \\\n",
    "    = get_rsf_autoencoder(k, Nc, sigma_m, sigma_a)"
   ]
  },
  {
   "cell_type": "code",
   "execution_count": 60,
   "metadata": {},
   "outputs": [],
   "source": [
    "# history_rsf_40 = np.array([4.5165, 4.4356, 4.4190, 4.4086, 4.3993, \\\n",
    "#                            4.3925, 4.3877, 4.3864, 4.3838, 4.3824])\n",
    "# history_rsf_0 = np.array([5.5452, 5.5452, 2.1448, 1.6362e-04, 3.6967e-04,\\\n",
    "#                            1.1467e-04, 5.1886e-04, 0.0019, 1.3443e-05, 8.5237e-04])\n",
    "# np.save(\"./models/rsf_supervised/histories/history_rsf_0.npy\",history_rsf_0)\n",
    "# np.save(\"./models/rsf_supervised/histories/history_rsf_40.npy\",history_rsf_40)\n",
    "\n",
    "history_rsf_40 = np.load(\"./models/rsf_supervised/histories/history_rsf_40.npy\")\n",
    "history_rsf_0 = np.load(\"./models/rsf_supervised/histories/history_rsf_0.npy\")"
   ]
  },
  {
   "cell_type": "code",
   "execution_count": 61,
   "metadata": {
    "scrolled": true
   },
   "outputs": [],
   "source": [
    "# history_rsf_0 = autoencoder_rsf_0.fit(train_data256, train_data256,\n",
    "#                                       epochs=10, batch_size=10000,\n",
    "#                                       shuffle=True,\n",
    "#                                       validation_data=(valid_data256,\n",
    "#                                                        valid_data256),\n",
    "#                                       callbacks=[es, history_rsf_0, checkpoints_rsf_0],\n",
    "#                                       verbose=1)"
   ]
  },
  {
   "cell_type": "code",
   "execution_count": 47,
   "metadata": {},
   "outputs": [],
   "source": [
    "### Saving\n",
    "# Individual power constraint, sigma_m = 1/sqrt(2)\n",
    "# autoencoder_rsf.save('./models/autoencoder_rsf_0.1589.model')\n",
    "# autoencoder_rsf.save_weights('./models/autoencoder_rsf_0.1589.h5')\n",
    "\n",
    "# autoencoder_rsf_ap.save('./models/autoencoder_rsf_ap_5.5459.model')\n",
    "# autoencoder_rsf_ap.save_weights('./models/autoencoder_rsf_ap_5.5459.h5')\n",
    "\n",
    "# autoencoder_rsf_40.save('./models/autoencoder_rsf_sa40_4.3824.model')\n",
    "# autoencoder_rsf_40.save_weights('./models/autoencoder_rsf_sa40_4.3824.h5')\n",
    "\n",
    "# autoencoder_rsf_40.save('./models/autoencoder_rsf_sa40_4.3870.model')\n",
    "# autoencoder_rsf_40.save_weights('./models/autoencoder_rsf_sa40_4.3870.h5')\n",
    "\n",
    "# autoencoder_rsf_0.save('./models/autoencoder_rsf_sa0_8.5237e_04.model')\n",
    "# autoencoder_rsf_0.save_weights('./models/autoencoder_rsf_sa0_8.5237e_04.h5')\n",
    "\n",
    "### Loading\n",
    "autoencoder_rsf.load_weights('./models/rsf_supervised/autoencoder_rsf_0.1589.h5', by_name=True)\n",
    "autoencoder_rsf_40.load_weights('./models/rsf_supervised/autoencoder_rsf_sa40_4.3824.h5', by_name=True)\n",
    "# autoencoder_rsf_40.load_weights('./models/autoencoder_rsf_sa0_8.5237e_04.h5', by_name=True)\n",
    "autoencoder_rsf_0.load_weights('./models/rsf_supervised/autoencoder_rsf_sa0_8.5237e_04.h5', by_name=True)"
   ]
  },
  {
   "cell_type": "markdown",
   "metadata": {},
   "source": [
    "##### Supervised RSF with leaky-relu instead of relu and more tanh layers"
   ]
  },
  {
   "cell_type": "markdown",
   "metadata": {},
   "source": [
    "Local train_data256.shape = (720,000; 256) <br>\n",
    "AWS train_data256.shape = (7,200,000; 256)"
   ]
  },
  {
   "cell_type": "code",
   "execution_count": 64,
   "metadata": {},
   "outputs": [
    {
     "name": "stderr",
     "output_type": "stream",
     "text": [
      "/home/ubuntu/anaconda3/envs/tensorflow_p36/lib/python3.6/site-packages/keras/activations.py:211: UserWarning: Do not pass a layer instance (such as LeakyReLU) as the activation argument of another layer. Instead, advanced activation layers should be used just like any other layer in a model.\n",
      "  identifier=identifier.__class__.__name__))\n",
      "/home/ubuntu/anaconda3/envs/tensorflow_p36/lib/python3.6/site-packages/keras/activations.py:211: UserWarning: Do not pass a layer instance (such as LeakyReLU) as the activation argument of another layer. Instead, advanced activation layers should be used just like any other layer in a model.\n",
      "  identifier=identifier.__class__.__name__))\n"
     ]
    }
   ],
   "source": [
    "# Training at 40db with custom activation functions and layers\n",
    "k = 8\n",
    "Nc = 4\n",
    "# sigma_m = 0.33\n",
    "sigma_m = np.sqrt(0.5)\n",
    "sigma_a = db_to_sigma_a(40)\n",
    "num_layers = 2\n",
    "\n",
    "act_f = keras.layers.advanced_activations.LeakyReLU()\n",
    "act_f.__name__ = 'leakyrelu'\n",
    "\n",
    "tx_activation_func = act_f\n",
    "rx_activation_func = act_f\n",
    "rx_end_activation_func = \"tanh\"\n",
    "\n",
    "autoencoder_rsf_2l_lr_lr_tanh_40, autoencoder_symbs_rsf_2l_lr_lr_tanh_40, transmitter_rsf_2l_lr_lr_tanh_40, \\\n",
    "    channel_sym_with_noise_rsf_2l_lr_lr_tanh_40, receiver_rsf_2l_lr_lr_tanh_40 \\\n",
    "    = get_rsf_autoencoder_custom(k, Nc, sigma_m, sigma_a, \\\n",
    "                                 num_layers, tx_activation_func, \\\n",
    "                                 rx_activation_func, rx_end_activation_func)\n",
    "\n",
    "history_rsf_2l_lr_lr_tanh_40 = History()\n",
    "checkpoints_rsf_2l_lr_lr_tanh_40 = ModelCheckpoint(\"./models/rsf_supervised/autoencoder_rsf_2l_lr_lr_tanh_40_vl{val_loss}_e{epoch:02d}.h5\", save_best_only=True, save_weights_only=True)"
   ]
  },
  {
   "cell_type": "code",
   "execution_count": 67,
   "metadata": {
    "scrolled": true
   },
   "outputs": [
    {
     "name": "stdout",
     "output_type": "stream",
     "text": [
      "WARNING:tensorflow:From /home/ubuntu/anaconda3/envs/tensorflow_p36/lib/python3.6/site-packages/tensorflow/python/ops/math_ops.py:3066: to_int32 (from tensorflow.python.ops.math_ops) is deprecated and will be removed in a future version.\n",
      "Instructions for updating:\n",
      "Use tf.cast instead.\n",
      "Train on 720000 samples, validate on 800000 samples\n",
      "Epoch 1/10\n",
      "720000/720000 [==============================] - 52s 73us/step - loss: 5.5549 - val_loss: 5.5457\n",
      "Epoch 2/10\n",
      "720000/720000 [==============================] - 52s 72us/step - loss: 5.5456 - val_loss: 5.5457\n",
      "Epoch 3/10\n",
      "720000/720000 [==============================] - 53s 73us/step - loss: 5.5455 - val_loss: 5.5456\n",
      "Epoch 4/10\n",
      "720000/720000 [==============================] - 53s 73us/step - loss: 5.5454 - val_loss: 5.5457\n",
      "Epoch 5/10\n",
      "720000/720000 [==============================] - 52s 73us/step - loss: 5.5454 - val_loss: 5.5456\n",
      "Epoch 6/10\n",
      "720000/720000 [==============================] - 53s 73us/step - loss: 5.5454 - val_loss: 5.5457\n",
      "Epoch 7/10\n",
      "720000/720000 [==============================] - 53s 74us/step - loss: 5.5453 - val_loss: 5.5456\n",
      "Epoch 8/10\n",
      "720000/720000 [==============================] - 52s 73us/step - loss: 5.5454 - val_loss: 5.5456\n",
      "Epoch 9/10\n",
      "720000/720000 [==============================] - 52s 73us/step - loss: 5.5453 - val_loss: 5.5456\n",
      "Epoch 10/10\n",
      "720000/720000 [==============================] - 53s 74us/step - loss: 5.5453 - val_loss: 5.5455\n"
     ]
    },
    {
     "data": {
      "text/plain": [
       "<keras.callbacks.History at 0x7f6c603ea0f0>"
      ]
     },
     "execution_count": 67,
     "metadata": {},
     "output_type": "execute_result"
    }
   ],
   "source": [
    "# # Set to local train_data size to train faster over the first 10 epochs\n",
    "# autoencoder_rsf_2l_lr_lr_tanh_40.fit(train_data256[:720000,:], train_data256[:720000,:],\n",
    "#                     epochs=10,\n",
    "#                     batch_size=10000,\n",
    "#                     shuffle=True,\n",
    "#                     validation_data=(valid_data256,\n",
    "#                                      valid_data256),\n",
    "#                     callbacks=[es, history_rsf_2l_lr_lr_tanh_40, checkpoints_rsf_2l_lr_lr_tanh_40])"
   ]
  },
  {
   "cell_type": "code",
   "execution_count": 78,
   "metadata": {},
   "outputs": [],
   "source": [
    "# Training at 40db with custom activation functions and layers\n",
    "k = 8\n",
    "Nc = 4\n",
    "# sigma_m = 0.33\n",
    "sigma_m = np.sqrt(0.5)\n",
    "sigma_a = db_to_sigma_a(40)\n",
    "num_layers = 2\n",
    "\n",
    "tx_activation_func = \"tanh\"\n",
    "rx_activation_func = \"tanh\"\n",
    "rx_end_activation_func = \"tanh\"\n",
    "\n",
    "autoencoder_rsf_2l_th_th_th_40, autoencoder_symbs_rsf_2l_th_th_th_40, transmitter_rsf_2l_th_th_th_40, \\\n",
    "    channel_sym_with_noise_rsf_2l_th_th_th_40, receiver_rsf_2l_th_th_th_40 \\\n",
    "    = get_rsf_autoencoder_custom(k, Nc, sigma_m, sigma_a, \\\n",
    "                                 num_layers, tx_activation_func, \\\n",
    "                                 rx_activation_func, rx_end_activation_func)\n",
    "\n",
    "history_rsf_2l_th_th_th_40 = History()\n",
    "checkpoints_rsf_2l_th_th_th_40 = ModelCheckpoint(\"./models/rsf_supervised/autoencoder_rsf_2l_th_th_th_40_vl{val_loss}_e{epoch:02d}.h5\", save_best_only=True, save_weights_only=True)"
   ]
  },
  {
   "cell_type": "code",
   "execution_count": 79,
   "metadata": {
    "scrolled": true
   },
   "outputs": [
    {
     "name": "stdout",
     "output_type": "stream",
     "text": [
      "Train on 720000 samples, validate on 800000 samples\n",
      "Epoch 1/10\n",
      "720000/720000 [==============================] - 55s 76us/step - loss: 5.5473 - val_loss: 5.5456\n",
      "Epoch 2/10\n",
      "720000/720000 [==============================] - 49s 68us/step - loss: 5.5454 - val_loss: 5.5457\n",
      "Epoch 3/10\n",
      "720000/720000 [==============================] - 49s 68us/step - loss: 5.5454 - val_loss: 5.5456\n",
      "Epoch 4/10\n",
      "720000/720000 [==============================] - 49s 69us/step - loss: 5.5453 - val_loss: 5.5455\n",
      "Epoch 5/10\n",
      "720000/720000 [==============================] - 49s 68us/step - loss: 5.5454 - val_loss: 5.5456\n",
      "Epoch 6/10\n",
      "720000/720000 [==============================] - 49s 68us/step - loss: 5.5453 - val_loss: 5.5455\n",
      "Epoch 7/10\n",
      "720000/720000 [==============================] - 49s 68us/step - loss: 5.5453 - val_loss: 5.5455\n",
      "Epoch 8/10\n",
      "720000/720000 [==============================] - 49s 68us/step - loss: 5.5453 - val_loss: 5.5455\n",
      "Epoch 9/10\n",
      "720000/720000 [==============================] - 48s 67us/step - loss: 5.5452 - val_loss: 5.5455\n",
      "Epoch 10/10\n",
      "720000/720000 [==============================] - 50s 69us/step - loss: 5.5452 - val_loss: 5.5455\n"
     ]
    },
    {
     "data": {
      "text/plain": [
       "<keras.callbacks.History at 0x7f6c400969b0>"
      ]
     },
     "execution_count": 79,
     "metadata": {},
     "output_type": "execute_result"
    }
   ],
   "source": [
    "# # Set to local train_data size to train faster over the first 10 epochs\n",
    "# autoencoder_rsf_2l_th_th_th_40.fit(train_data256[:720000,:], train_data256[:720000,:],\n",
    "#                     epochs=10,\n",
    "#                     batch_size=10000,\n",
    "#                     shuffle=True,\n",
    "#                     validation_data=(valid_data256,\n",
    "#                                      valid_data256),\n",
    "#                     callbacks=[es, history_rsf_2l_th_th_th_40, checkpoints_rsf_2l_th_th_th_40])"
   ]
  },
  {
   "cell_type": "code",
   "execution_count": 82,
   "metadata": {},
   "outputs": [],
   "source": [
    "# Training at 40db with custom activation functions and layers\n",
    "k = 8\n",
    "Nc = 4\n",
    "# sigma_m = 0.33\n",
    "sigma_m = np.sqrt(0.5)\n",
    "sigma_a = db_to_sigma_a(40)\n",
    "num_layers = 2\n",
    "\n",
    "tx_activation_func = \"linear\"\n",
    "rx_activation_func = \"linear\"\n",
    "rx_end_activation_func = \"relu\"\n",
    "\n",
    "autoencoder_rsf_2l_lin_lin_rl_40, autoencoder_symbs_rsf_2l_lin_lin_rl_40, transmitter_rsf_2l_lin_lin_rl_40, \\\n",
    "    channel_sym_with_noise_rsf_2l_lin_lin_rl_40, receiver_rsf_2l_lin_lin_rl_40 \\\n",
    "    = get_rsf_autoencoder_custom(k, Nc, sigma_m, sigma_a, \\\n",
    "                                 num_layers, tx_activation_func, \\\n",
    "                                 rx_activation_func, rx_end_activation_func)\n",
    "\n",
    "history_rsf_2l_lin_lin_rl_40 = History()\n",
    "checkpoints_rsf_2l_lin_lin_rl_40 = ModelCheckpoint(\"./models/rsf_supervised/autoencoder_rsf_2l_lin_lin_rl_40_vl{val_loss}_e{epoch:02d}.h5\", save_best_only=True, save_weights_only=True)"
   ]
  },
  {
   "cell_type": "code",
   "execution_count": 83,
   "metadata": {
    "scrolled": true
   },
   "outputs": [
    {
     "name": "stdout",
     "output_type": "stream",
     "text": [
      "Train on 720000 samples, validate on 800000 samples\n",
      "Epoch 1/10\n",
      "720000/720000 [==============================] - 55s 77us/step - loss: 5.5510 - val_loss: 5.5456\n",
      "Epoch 2/10\n",
      "720000/720000 [==============================] - 54s 75us/step - loss: 5.5455 - val_loss: 5.5456\n",
      "Epoch 3/10\n",
      "720000/720000 [==============================] - 54s 75us/step - loss: 5.5454 - val_loss: 5.5455\n",
      "Epoch 4/10\n",
      "720000/720000 [==============================] - 54s 74us/step - loss: 5.5453 - val_loss: 5.5456\n",
      "Epoch 5/10\n",
      "720000/720000 [==============================] - 55s 76us/step - loss: 5.5453 - val_loss: 5.5456\n",
      "Epoch 6/10\n",
      "720000/720000 [==============================] - 53s 74us/step - loss: 5.5453 - val_loss: 5.5456\n",
      "Epoch 7/10\n",
      "720000/720000 [==============================] - 54s 75us/step - loss: 5.5453 - val_loss: 5.5456\n",
      "Epoch 8/10\n",
      "720000/720000 [==============================] - 54s 76us/step - loss: 5.5453 - val_loss: 5.5455\n",
      "Epoch 9/10\n",
      "720000/720000 [==============================] - 54s 75us/step - loss: 5.5453 - val_loss: 5.5456\n",
      "Epoch 10/10\n",
      "720000/720000 [==============================] - 53s 74us/step - loss: 5.5453 - val_loss: 5.5455\n"
     ]
    },
    {
     "data": {
      "text/plain": [
       "<keras.callbacks.History at 0x7f6bb4190e10>"
      ]
     },
     "execution_count": 83,
     "metadata": {},
     "output_type": "execute_result"
    }
   ],
   "source": [
    "# # Set to local train_data size to train faster over the first 10 epochs\n",
    "# autoencoder_rsf_2l_lin_lin_rl_40.fit(train_data256[:720000,:], train_data256[:720000,:],\n",
    "#                     epochs=10,\n",
    "#                     batch_size=10000,\n",
    "#                     shuffle=True,\n",
    "#                     validation_data=(valid_data256,\n",
    "#                                      valid_data256),\n",
    "#                     callbacks=[es, history_rsf_2l_lin_lin_rl_40, checkpoints_rsf_2l_lin_lin_rl_40])"
   ]
  },
  {
   "cell_type": "code",
   "execution_count": 89,
   "metadata": {},
   "outputs": [],
   "source": [
    "# Paper copy to check if it's to do with training on the\n",
    "# AWS that is causing the trouble\n",
    "k = 8\n",
    "Nc = 4\n",
    "# sigma_m = 0.33\n",
    "sigma_m = np.sqrt(0.5)\n",
    "sigma_a = db_to_sigma_a(40)\n",
    "autoencoder_rsf_40_aws, autoencoder_symbs_rsf_40_aws, transmitter_rsf_40_aws, \\\n",
    "    channel_sym_with_noise_rsf_40_aws, receiver_rsf_40_aws \\\n",
    "    = get_rsf_autoencoder(k, Nc, sigma_m, sigma_a)\n",
    "history_rsf_40_aws = History()\n",
    "checkpoints_rsf_40_aws = ModelCheckpoint(\"./models/rsf_supervised/autoencoder_rsf_40_aws_vl{val_loss}_e{epoch:02d}.h5\", save_best_only=True, save_weights_only=True)"
   ]
  },
  {
   "cell_type": "code",
   "execution_count": 90,
   "metadata": {
    "scrolled": true
   },
   "outputs": [
    {
     "name": "stdout",
     "output_type": "stream",
     "text": [
      "Train on 720000 samples, validate on 800000 samples\n",
      "Epoch 1/10\n",
      "720000/720000 [==============================] - 55s 77us/step - loss: 5.5500 - val_loss: 5.5454\n",
      "Epoch 2/10\n",
      "720000/720000 [==============================] - 49s 68us/step - loss: 5.5452 - val_loss: 5.5454\n",
      "Epoch 3/10\n",
      "720000/720000 [==============================] - 49s 68us/step - loss: 5.5452 - val_loss: 5.5454\n",
      "Epoch 4/10\n",
      "720000/720000 [==============================] - 49s 68us/step - loss: 5.5452 - val_loss: 5.5454\n",
      "Epoch 5/10\n",
      "720000/720000 [==============================] - 50s 69us/step - loss: 5.5452 - val_loss: 5.5454\n",
      "Epoch 6/10\n",
      "720000/720000 [==============================] - 50s 70us/step - loss: 5.5452 - val_loss: 5.5454\n",
      "Epoch 7/10\n",
      "720000/720000 [==============================] - 50s 69us/step - loss: 5.5451 - val_loss: 5.5454\n",
      "Epoch 8/10\n",
      "720000/720000 [==============================] - 49s 67us/step - loss: 5.5451 - val_loss: 5.5454\n",
      "Epoch 9/10\n",
      "720000/720000 [==============================] - 50s 70us/step - loss: 5.5451 - val_loss: 5.5454\n",
      "Epoch 10/10\n",
      "720000/720000 [==============================] - 49s 68us/step - loss: 5.5451 - val_loss: 5.5454\n"
     ]
    },
    {
     "data": {
      "text/plain": [
       "<keras.callbacks.History at 0x7f66b9f1f908>"
      ]
     },
     "execution_count": 90,
     "metadata": {},
     "output_type": "execute_result"
    }
   ],
   "source": [
    "# autoencoder_rsf_40_aws.fit(train_data256[:720000,:], train_data256[:720000,:],\n",
    "#                     epochs=10,\n",
    "#                     batch_size=10000,\n",
    "#                     shuffle=True,\n",
    "#                     validation_data=(valid_data256,\n",
    "#                                      valid_data256),\n",
    "#                     callbacks=[es, history_rsf_40_aws, checkpoints_rsf_40_aws])"
   ]
  },
  {
   "cell_type": "markdown",
   "metadata": {},
   "source": [
    "##### Try the paper architecture but 10 epochs with no noise, 10 with 80db, 10 with 40"
   ]
  },
  {
   "cell_type": "code",
   "execution_count": 92,
   "metadata": {
    "scrolled": true
   },
   "outputs": [
    {
     "name": "stdout",
     "output_type": "stream",
     "text": [
      "Train on 720000 samples, validate on 800000 samples\n",
      "Epoch 1/10\n",
      "720000/720000 [==============================] - 51s 71us/step - loss: 5.5729 - val_loss: 5.5562\n",
      "Epoch 2/10\n",
      "720000/720000 [==============================] - 53s 73us/step - loss: 5.5540 - val_loss: 5.5524\n",
      "Epoch 3/10\n",
      "720000/720000 [==============================] - 53s 74us/step - loss: 5.5515 - val_loss: 5.5505\n",
      "Epoch 4/10\n",
      "720000/720000 [==============================] - 53s 74us/step - loss: 5.5498 - val_loss: 5.5494\n",
      "Epoch 5/10\n",
      "720000/720000 [==============================] - 53s 73us/step - loss: 5.5488 - val_loss: 5.5490\n",
      "Epoch 6/10\n",
      "720000/720000 [==============================] - 53s 74us/step - loss: 5.5483 - val_loss: 5.5485\n",
      "Epoch 7/10\n",
      "720000/720000 [==============================] - 53s 74us/step - loss: 5.5480 - val_loss: 5.5480\n",
      "Epoch 8/10\n",
      "720000/720000 [==============================] - 53s 74us/step - loss: 5.5477 - val_loss: 5.5479\n",
      "Epoch 9/10\n",
      "720000/720000 [==============================] - 54s 75us/step - loss: 5.5472 - val_loss: 5.5473\n",
      "Epoch 10/10\n",
      "720000/720000 [==============================] - 53s 74us/step - loss: 5.5468 - val_loss: 5.5471\n",
      "Train on 720000 samples, validate on 800000 samples\n",
      "Epoch 1/10\n",
      "720000/720000 [==============================] - 55s 76us/step - loss: 5.5469 - val_loss: 5.5454\n",
      "Epoch 2/10\n",
      "720000/720000 [==============================] - 54s 75us/step - loss: 5.5453 - val_loss: 5.5454\n",
      "Epoch 3/10\n",
      "720000/720000 [==============================] - 53s 74us/step - loss: 5.5452 - val_loss: 5.5454\n",
      "Epoch 4/10\n",
      "720000/720000 [==============================] - 54s 75us/step - loss: 5.5452 - val_loss: 5.5454\n",
      "Epoch 5/10\n",
      "720000/720000 [==============================] - 53s 74us/step - loss: 5.5452 - val_loss: 5.5454\n",
      "Epoch 6/10\n",
      "720000/720000 [==============================] - 54s 75us/step - loss: 5.5451 - val_loss: 5.5454\n",
      "Epoch 7/10\n",
      "720000/720000 [==============================] - 54s 75us/step - loss: 5.5451 - val_loss: 5.5453\n",
      "Epoch 8/10\n",
      "720000/720000 [==============================] - 54s 75us/step - loss: 5.5450 - val_loss: 5.5452\n",
      "Epoch 9/10\n",
      "720000/720000 [==============================] - 53s 74us/step - loss: 5.5448 - val_loss: 5.5448\n",
      "Epoch 10/10\n",
      "720000/720000 [==============================] - 54s 75us/step - loss: 5.5405 - val_loss: 5.5213\n",
      "Train on 720000 samples, validate on 800000 samples\n",
      "Epoch 1/10\n",
      "720000/720000 [==============================] - 55s 77us/step - loss: 5.5478 - val_loss: 5.5454\n",
      "Epoch 2/10\n",
      "720000/720000 [==============================] - 54s 75us/step - loss: 5.5453 - val_loss: 5.5455\n",
      "Epoch 3/10\n",
      "720000/720000 [==============================] - 53s 74us/step - loss: 5.5453 - val_loss: 5.5454\n",
      "Epoch 4/10\n",
      "720000/720000 [==============================] - 53s 73us/step - loss: 5.5452 - val_loss: 5.5454\n",
      "Epoch 5/10\n",
      "720000/720000 [==============================] - 54s 75us/step - loss: 5.5452 - val_loss: 5.5454\n",
      "Epoch 6/10\n",
      "720000/720000 [==============================] - 53s 74us/step - loss: 5.5451 - val_loss: 5.5454\n",
      "Epoch 7/10\n",
      "720000/720000 [==============================] - 53s 74us/step - loss: 5.5451 - val_loss: 5.5454\n",
      "Epoch 8/10\n",
      "720000/720000 [==============================] - 54s 75us/step - loss: 5.5451 - val_loss: 5.5454\n",
      "Epoch 9/10\n",
      "720000/720000 [==============================] - 53s 73us/step - loss: 5.5451 - val_loss: 5.5454\n",
      "Epoch 10/10\n",
      "720000/720000 [==============================] - 54s 75us/step - loss: 5.5451 - val_loss: 5.5454\n"
     ]
    }
   ],
   "source": [
    "# # Paper copy to check if it's to do with training on the\n",
    "# # AWS that is causing the trouble\n",
    "# k = 8\n",
    "# Nc = 4\n",
    "# # sigma_m = 0.33\n",
    "# sigma_m = np.sqrt(0.5)\n",
    "# sigma_a = db_to_sigma_a(0)\n",
    "# autoencoder_rsf_0_80_40_aws, autoencoder_symbs_rsf_0_80_40_aws, transmitter_rsf_0_80_40_aws, \\\n",
    "#     channel_sym_with_noise_rsf_0_80_40_aws, receiver_rsf_0_80_40_aws \\\n",
    "#     = get_rsf_autoencoder(k, Nc, sigma_m, sigma_a)\n",
    "# history_rsf_0_80_40_aws = History()\n",
    "# checkpoints_rsf_0_80_40_aws = ModelCheckpoint(\"./models/rsf_supervised/autoencoder_rsf_0_80_40_aws_vl{val_loss}_e{epoch:02d}.h5\", save_best_only=True, save_weights_only=True)\n",
    "\n",
    "# autoencoder_rsf_0_80_40_aws.fit(train_data256[:720000,:], train_data256[:720000,:],\n",
    "#                     epochs=10,\n",
    "#                     batch_size=10000,\n",
    "#                     shuffle=True,\n",
    "#                     validation_data=(valid_data256,\n",
    "#                                      valid_data256),\n",
    "#                     callbacks=[es, history_rsf_0_80_40_aws, checkpoints_rsf_0_80_40_aws])\n",
    "# autoencoder_rsf_0.save('./models/autoencoder_rsf_0_80_40_aws.model')\n",
    "# autoencoder_rsf_0.save_weights('./models/autoencoder_rsf_0_80_40_aws.h5')\n",
    "\n",
    "# sigma_a = db_to_sigma_a(80)\n",
    "# autoencoder_rsf_0_80_40_aws, autoencoder_symbs_rsf_0_80_40_aws, transmitter_rsf_0_80_40_aws, \\\n",
    "#     channel_sym_with_noise_rsf_0_80_40_aws, receiver_rsf_0_80_40_aws \\\n",
    "#     = get_rsf_autoencoder(k, Nc, sigma_m, sigma_a)\n",
    "# autoencoder_rsf.load_weights('./models/autoencoder_rsf_0_80_40_aws.h5', by_name=True)\n",
    "\n",
    "\n",
    "# autoencoder_rsf_0_80_40_aws.fit(train_data256[:720000,:], train_data256[:720000,:],\n",
    "#                     epochs=10,\n",
    "#                     batch_size=10000,\n",
    "#                     shuffle=True,\n",
    "#                     validation_data=(valid_data256,\n",
    "#                                      valid_data256),\n",
    "#                     callbacks=[es, history_rsf_0_80_40_aws, checkpoints_rsf_0_80_40_aws])\n",
    "# autoencoder_rsf_0.save('./models/autoencoder_rsf_0_80_40_aws.model')\n",
    "# autoencoder_rsf_0.save_weights('./models/autoencoder_rsf_0_80_40_aws.h5')\n",
    "\n",
    "\n",
    "# sigma_a = db_to_sigma_a(40)\n",
    "# autoencoder_rsf_0_80_40_aws, autoencoder_symbs_rsf_0_80_40_aws, transmitter_rsf_0_80_40_aws, \\\n",
    "#     channel_sym_with_noise_rsf_0_80_40_aws, receiver_rsf_0_80_40_aws \\\n",
    "#     = get_rsf_autoencoder(k, Nc, sigma_m, sigma_a)\n",
    "# autoencoder_rsf.load_weights('./models/autoencoder_rsf_0_80_40_aws.h5', by_name=True)\n",
    "\n",
    "# autoencoder_rsf_0_80_40_aws.fit(train_data256[:720000,:], train_data256[:720000,:],\n",
    "#                     epochs=10,\n",
    "#                     batch_size=10000,\n",
    "#                     shuffle=True,\n",
    "#                     validation_data=(valid_data256,\n",
    "#                                      valid_data256),\n",
    "#                     callbacks=[es, history_rsf_0_80_40_aws, checkpoints_rsf_0_80_40_aws])\n",
    "# autoencoder_rsf_0.save('./models/autoencoder_rsf_0_80_40_aws.model')\n",
    "# autoencoder_rsf_0.save_weights('./models/autoencoder_rsf_0_80_40_aws.h5')"
   ]
  },
  {
   "cell_type": "code",
   "execution_count": null,
   "metadata": {
    "scrolled": true
   },
   "outputs": [
    {
     "name": "stdout",
     "output_type": "stream",
     "text": [
      "Train on 720000 samples, validate on 800000 samples\n",
      "Epoch 1/10\n",
      "720000/720000 [==============================] - 55s 77us/step - loss: 5.5500 - val_loss: 5.5454\n",
      "Epoch 2/10\n",
      "720000/720000 [==============================] - 49s 68us/step - loss: 5.5452 - val_loss: 5.5454\n",
      "Epoch 3/10\n",
      "720000/720000 [==============================] - 49s 68us/step - loss: 5.5452 - val_loss: 5.5454\n",
      "Epoch 4/10\n",
      "720000/720000 [==============================] - 49s 68us/step - loss: 5.5452 - val_loss: 5.5454\n",
      "Epoch 5/10\n",
      "620000/720000 [========================>.....] - ETA: 5s - loss: 5.5452"
     ]
    }
   ],
   "source": [
    "# autoencoder_rsf_0_80_40_aws.fit(train_data256[:720000,:], train_data256[:720000,:],\n",
    "#                     epochs=10,\n",
    "#                     batch_size=10000,\n",
    "#                     shuffle=True,\n",
    "#                     validation_data=(valid_data256,\n",
    "#                                      valid_data256),\n",
    "#                     callbacks=[es, history_rsf_0_80_40_aws, checkpoints_rsf_0_80_40_aws])"
   ]
  },
  {
   "cell_type": "code",
   "execution_count": 83,
   "metadata": {},
   "outputs": [],
   "source": [
    "### Saving\n",
    "# history_rsf_2l_lr_lr_tanh_40_aws = np.array(history_rsf_2l_lr_lr_tanh_40.history[\"val_loss\"])\n",
    "# np.save(\"./models/rsf_supervised/histories/history_rsf_2l_lr_lr_tanh_40_aws.npy\",history_rsf_2l_lr_lr_tanh_40_aws)\n",
    "\n",
    "# history_rsf_2l_th_th_th_40_aws = np.array(history_rsf_2l_th_th_th_40.history[\"val_loss\"])\n",
    "# np.save(\"./models/rsf_supervised/histories/history_rsf_2l_th_th_th_40_aws.npy\",history_rsf_2l_th_th_th_40_aws)\n",
    "\n",
    "# history_rsf_2l_lin_lin_rl_40_aws = np.array(history_rsf_2l_lin_lin_rl_40.history[\"val_loss\"])\n",
    "# np.save(\"./models/rsf_supervised/histories/history_rsf_2l_lin_lin_rl_40_aws.npy\",history_rsf_2l_lin_lin_rl_40_aws)\n",
    "\n",
    "# Paper copy but on AWS to check if that's the problem\n",
    "# history_rsf_paper_40_aws = np.array(history_rsf_40_aws.history[\"val_loss\"])\n",
    "# np.save(\"./models/rsf_supervised/histories/history_rsf_paper_40_aws.npy\",history_rsf_paper_40_aws)\n",
    "\n",
    "# history_rsf_0_80_40_aws = np.array(history_rsf_0_80_40_aws.history[\"val_loss\"])\n",
    "# np.save(\"./models/rsf_supervised/histories/history_rsf_0_80_40_aws.npy\",history_rsf_0_80_40_aws)\n",
    "\n",
    "\n",
    "### Loading\n",
    "history_rsf_2l_lr_lr_tanh_40_aws = np.load(\"./models/rsf_supervised/histories/history_rsf_2l_lr_lr_tanh_40_aws.npy\")\n",
    "history_rsf_2l_th_th_th_40_aws = np.load(\"./models/rsf_supervised/histories/history_rsf_2l_th_th_th_40_aws.npy\")\n",
    "history_rsf_2l_lin_lin_rl_40_aws =  np.load(\"./models/rsf_supervised/histories/history_rsf_2l_lin_lin_rl_40_aws.npy\")\n",
    "# history_rsf_paper_40_aws = np.load(\"./models/rsf_supervised/histories/history_rsf_paper_40_aws.npy\")\n",
    "# history_rsf_paper_40_local = np.load(\"./models/rsf_supervised/histories/history_rsf_paper_40_local.npy\")\n",
    "# history_rsf_0_80_40_aws =  np.load(\"./models/rsf_supervised/histories/history_rsf_0_80_40_aws.npy\")"
   ]
  },
  {
   "cell_type": "markdown",
   "metadata": {},
   "source": [
    "##### Comparing the different architectures for rbf_supervised"
   ]
  },
  {
   "cell_type": "code",
   "execution_count": 84,
   "metadata": {},
   "outputs": [
    {
     "data": {
      "image/png": "[encoded data removed]",
      "text/plain": [
       "<Figure size 432x288 with 1 Axes>"
      ]
     },
     "metadata": {
      "needs_background": "light"
     },
     "output_type": "display_data"
    }
   ],
   "source": [
    "x = np.arange(1,11)\n",
    "plt.figure()\n",
    "plt.semilogy(x,history_rsf_40_local[:10])\n",
    "plt.semilogy(x,history_rsf_2l_lr_lr_tanh_40_aws)\n",
    "plt.semilogy(x,history_rsf_2l_th_th_th_40_aws)\n",
    "plt.semilogy(x,history_rsf_2l_lin_lin_rl_40_aws)\n",
    "plt.xlabel(\"SNR (db)\")\n",
    "plt.ylabel(\"Error Rate\")\n",
    "plt.title(\"Comparing Different Architectures/Activation Functions\\nRSF 40db\")\n",
    "plt.grid()\n",
    "plt.legend([\"Paper 2l-lin-lin-relu\", \"2l-lr-lr-tanh\", \"2l_th_th_th\", \"2l_lin_lin_rl\"])\n",
    "# plt.savefig(\"./figures/aoudia_paper/rsf_unsuccessful_alt_archs.png\")\n",
    "# plt.savefig(\"./final_report/figures/aoudia_paper/rsf_unsuccessful_alt_archs.png\")\n",
    "plt.show()"
   ]
  },
  {
   "cell_type": "markdown",
   "metadata": {},
   "source": [
    "##### Getting an  alternating model for AWGN"
   ]
  },
  {
   "cell_type": "code",
   "execution_count": 111,
   "metadata": {},
   "outputs": [],
   "source": [
    "M = 8\n",
    "Nc = 4\n",
    "sigma = 0.22\n",
    "transmitter, channel_sym_with_noise, \\\n",
    "    receiver, receiver_symbs \\\n",
    "    = get_paper_awgn_rx_and_tx_models(M, Nc, sigma)"
   ]
  },
  {
   "cell_type": "markdown",
   "metadata": {},
   "source": [
    "##### Getting an  alternating model for RBF"
   ]
  },
  {
   "cell_type": "code",
   "execution_count": 105,
   "metadata": {},
   "outputs": [],
   "source": [
    "M = 8\n",
    "Nc = 4\n",
    "sigma_m = 0.33\n",
    "sigma_a = 1\n",
    "transmitter, channel_sym_with_noise, \\\n",
    "    receiver, receiver_symbs \\\n",
    "    = get_paper_rbf_rx_and_tx_models(M, Nc, sigma_m, sigma_a)"
   ]
  },
  {
   "cell_type": "code",
   "execution_count": null,
   "metadata": {},
   "outputs": [],
   "source": []
  },
  {
   "cell_type": "code",
   "execution_count": null,
   "metadata": {},
   "outputs": [],
   "source": []
  },
  {
   "cell_type": "markdown",
   "metadata": {},
   "source": [
    "#### Get Supervised AWGN performance across the SNR range of [-4,0.5,13]"
   ]
  },
  {
   "cell_type": "code",
   "execution_count": 37,
   "metadata": {
    "scrolled": true
   },
   "outputs": [
    {
     "name": "stdout",
     "output_type": "stream",
     "text": [
      "ratio_db = -4.0, i = 1/35\r\n",
      "0th loop took 6.67572021484375e-06s\n",
      "ratio_db = -3.5, i = 2/35\r\n",
      "1th loop took 2.384185791015625e-06s\n",
      "ratio_db = -3.0, i = 3/35\r\n",
      "2th loop took 1.9073486328125e-06s\n",
      "ratio_db = -2.5, i = 4/35\r\n",
      "3th loop took 1.6689300537109375e-06s\n",
      "ratio_db = -2.0, i = 5/35\r\n",
      "4th loop took 1.430511474609375e-06s\n",
      "ratio_db = -1.5, i = 6/35\r\n",
      "5th loop took 1.9073486328125e-06s\n",
      "ratio_db = -1.0, i = 7/35\r\n",
      "6th loop took 1.9073486328125e-06s\n",
      "ratio_db = -0.5, i = 8/35\r\n",
      "7th loop took 1.9073486328125e-06s\n",
      "ratio_db = 0.0, i = 9/35\r\n",
      "8th loop took 1.430511474609375e-06s\n",
      "ratio_db = 0.5, i = 10/35\r\n",
      "9th loop took 1.430511474609375e-06s\n",
      "ratio_db = 1.0, i = 11/35\r\n",
      "10th loop took 2.1457672119140625e-06s\n",
      "ratio_db = 1.5, i = 12/35\r\n",
      "11th loop took 1.6689300537109375e-06s\n",
      "ratio_db = 2.0, i = 13/35\r\n",
      "12th loop took 1.430511474609375e-06s\n",
      "ratio_db = 2.5, i = 14/35\r\n",
      "13th loop took 1.9073486328125e-06s\n",
      "ratio_db = 3.0, i = 15/35\r\n",
      "14th loop took 1.6689300537109375e-06s\n",
      "ratio_db = 3.5, i = 16/35\r\n",
      "15th loop took 1.6689300537109375e-06s\n",
      "ratio_db = 4.0, i = 17/35\r\n",
      "16th loop took 1.6689300537109375e-06s\n",
      "ratio_db = 4.5, i = 18/35\r\n",
      "17th loop took 1.430511474609375e-06s\n",
      "ratio_db = 5.0, i = 19/35\r"
     ]
    },
    {
     "name": "stderr",
     "output_type": "stream",
     "text": [
      "/home/ubuntu/anaconda3/envs/tensorflow_p36/lib/python3.6/site-packages/keras/activations.py:211: UserWarning: Do not pass a layer instance (such as LeakyReLU) as the activation argument of another layer. Instead, advanced activation layers should be used just like any other layer in a model.\n",
      "  identifier=identifier.__class__.__name__))\n",
      "/home/ubuntu/anaconda3/envs/tensorflow_p36/lib/python3.6/site-packages/keras/activations.py:211: UserWarning: Do not pass a layer instance (such as LeakyReLU) as the activation argument of another layer. Instead, advanced activation layers should be used just like any other layer in a model.\n",
      "  identifier=identifier.__class__.__name__))\n"
     ]
    },
    {
     "name": "stdout",
     "output_type": "stream",
     "text": [
      "\n",
      "18th loop took 44.78780651092529s\n",
      "ratio_db = 5.5, i = 20/35\r"
     ]
    },
    {
     "name": "stderr",
     "output_type": "stream",
     "text": [
      "/home/ubuntu/anaconda3/envs/tensorflow_p36/lib/python3.6/site-packages/keras/activations.py:211: UserWarning: Do not pass a layer instance (such as LeakyReLU) as the activation argument of another layer. Instead, advanced activation layers should be used just like any other layer in a model.\n",
      "  identifier=identifier.__class__.__name__))\n",
      "/home/ubuntu/anaconda3/envs/tensorflow_p36/lib/python3.6/site-packages/keras/activations.py:211: UserWarning: Do not pass a layer instance (such as LeakyReLU) as the activation argument of another layer. Instead, advanced activation layers should be used just like any other layer in a model.\n",
      "  identifier=identifier.__class__.__name__))\n"
     ]
    },
    {
     "name": "stdout",
     "output_type": "stream",
     "text": [
      "\n",
      "19th loop took 43.936283111572266s\n",
      "ratio_db = 6.0, i = 21/35\r"
     ]
    },
    {
     "name": "stderr",
     "output_type": "stream",
     "text": [
      "/home/ubuntu/anaconda3/envs/tensorflow_p36/lib/python3.6/site-packages/keras/activations.py:211: UserWarning: Do not pass a layer instance (such as LeakyReLU) as the activation argument of another layer. Instead, advanced activation layers should be used just like any other layer in a model.\n",
      "  identifier=identifier.__class__.__name__))\n",
      "/home/ubuntu/anaconda3/envs/tensorflow_p36/lib/python3.6/site-packages/keras/activations.py:211: UserWarning: Do not pass a layer instance (such as LeakyReLU) as the activation argument of another layer. Instead, advanced activation layers should be used just like any other layer in a model.\n",
      "  identifier=identifier.__class__.__name__))\n"
     ]
    },
    {
     "name": "stdout",
     "output_type": "stream",
     "text": [
      "\n",
      "20th loop took 44.38273882865906s\n",
      "ratio_db = 6.5, i = 22/35\r"
     ]
    },
    {
     "name": "stderr",
     "output_type": "stream",
     "text": [
      "/home/ubuntu/anaconda3/envs/tensorflow_p36/lib/python3.6/site-packages/keras/activations.py:211: UserWarning: Do not pass a layer instance (such as LeakyReLU) as the activation argument of another layer. Instead, advanced activation layers should be used just like any other layer in a model.\n",
      "  identifier=identifier.__class__.__name__))\n",
      "/home/ubuntu/anaconda3/envs/tensorflow_p36/lib/python3.6/site-packages/keras/activations.py:211: UserWarning: Do not pass a layer instance (such as LeakyReLU) as the activation argument of another layer. Instead, advanced activation layers should be used just like any other layer in a model.\n",
      "  identifier=identifier.__class__.__name__))\n"
     ]
    },
    {
     "name": "stdout",
     "output_type": "stream",
     "text": [
      "\n",
      "21th loop took 44.90769720077515s\n",
      "ratio_db = 7.0, i = 23/35\r"
     ]
    },
    {
     "name": "stderr",
     "output_type": "stream",
     "text": [
      "/home/ubuntu/anaconda3/envs/tensorflow_p36/lib/python3.6/site-packages/keras/activations.py:211: UserWarning: Do not pass a layer instance (such as LeakyReLU) as the activation argument of another layer. Instead, advanced activation layers should be used just like any other layer in a model.\n",
      "  identifier=identifier.__class__.__name__))\n",
      "/home/ubuntu/anaconda3/envs/tensorflow_p36/lib/python3.6/site-packages/keras/activations.py:211: UserWarning: Do not pass a layer instance (such as LeakyReLU) as the activation argument of another layer. Instead, advanced activation layers should be used just like any other layer in a model.\n",
      "  identifier=identifier.__class__.__name__))\n"
     ]
    },
    {
     "name": "stdout",
     "output_type": "stream",
     "text": [
      "\n",
      "22th loop took 45.09571576118469s\n",
      "ratio_db = 7.5, i = 24/35\r"
     ]
    },
    {
     "name": "stderr",
     "output_type": "stream",
     "text": [
      "/home/ubuntu/anaconda3/envs/tensorflow_p36/lib/python3.6/site-packages/keras/activations.py:211: UserWarning: Do not pass a layer instance (such as LeakyReLU) as the activation argument of another layer. Instead, advanced activation layers should be used just like any other layer in a model.\n",
      "  identifier=identifier.__class__.__name__))\n",
      "/home/ubuntu/anaconda3/envs/tensorflow_p36/lib/python3.6/site-packages/keras/activations.py:211: UserWarning: Do not pass a layer instance (such as LeakyReLU) as the activation argument of another layer. Instead, advanced activation layers should be used just like any other layer in a model.\n",
      "  identifier=identifier.__class__.__name__))\n"
     ]
    },
    {
     "name": "stdout",
     "output_type": "stream",
     "text": [
      "\n",
      "23th loop took 45.79934883117676s\n",
      "ratio_db = 8.0, i = 25/35\r"
     ]
    },
    {
     "name": "stderr",
     "output_type": "stream",
     "text": [
      "/home/ubuntu/anaconda3/envs/tensorflow_p36/lib/python3.6/site-packages/keras/activations.py:211: UserWarning: Do not pass a layer instance (such as LeakyReLU) as the activation argument of another layer. Instead, advanced activation layers should be used just like any other layer in a model.\n",
      "  identifier=identifier.__class__.__name__))\n",
      "/home/ubuntu/anaconda3/envs/tensorflow_p36/lib/python3.6/site-packages/keras/activations.py:211: UserWarning: Do not pass a layer instance (such as LeakyReLU) as the activation argument of another layer. Instead, advanced activation layers should be used just like any other layer in a model.\n",
      "  identifier=identifier.__class__.__name__))\n"
     ]
    },
    {
     "name": "stdout",
     "output_type": "stream",
     "text": [
      "\n",
      "24th loop took 46.489802837371826s\n",
      "ratio_db = 8.5, i = 26/35\r"
     ]
    },
    {
     "name": "stderr",
     "output_type": "stream",
     "text": [
      "/home/ubuntu/anaconda3/envs/tensorflow_p36/lib/python3.6/site-packages/keras/activations.py:211: UserWarning: Do not pass a layer instance (such as LeakyReLU) as the activation argument of another layer. Instead, advanced activation layers should be used just like any other layer in a model.\n",
      "  identifier=identifier.__class__.__name__))\n",
      "/home/ubuntu/anaconda3/envs/tensorflow_p36/lib/python3.6/site-packages/keras/activations.py:211: UserWarning: Do not pass a layer instance (such as LeakyReLU) as the activation argument of another layer. Instead, advanced activation layers should be used just like any other layer in a model.\n",
      "  identifier=identifier.__class__.__name__))\n"
     ]
    },
    {
     "name": "stdout",
     "output_type": "stream",
     "text": [
      "\n",
      "25th loop took 46.33193874359131s\n",
      "ratio_db = 9.0, i = 27/35\r"
     ]
    },
    {
     "name": "stderr",
     "output_type": "stream",
     "text": [
      "/home/ubuntu/anaconda3/envs/tensorflow_p36/lib/python3.6/site-packages/keras/activations.py:211: UserWarning: Do not pass a layer instance (such as LeakyReLU) as the activation argument of another layer. Instead, advanced activation layers should be used just like any other layer in a model.\n",
      "  identifier=identifier.__class__.__name__))\n",
      "/home/ubuntu/anaconda3/envs/tensorflow_p36/lib/python3.6/site-packages/keras/activations.py:211: UserWarning: Do not pass a layer instance (such as LeakyReLU) as the activation argument of another layer. Instead, advanced activation layers should be used just like any other layer in a model.\n",
      "  identifier=identifier.__class__.__name__))\n"
     ]
    },
    {
     "name": "stdout",
     "output_type": "stream",
     "text": [
      "\n",
      "26th loop took 47.14553141593933s\n",
      "ratio_db = 9.5, i = 28/35\r"
     ]
    },
    {
     "name": "stderr",
     "output_type": "stream",
     "text": [
      "/home/ubuntu/anaconda3/envs/tensorflow_p36/lib/python3.6/site-packages/keras/activations.py:211: UserWarning: Do not pass a layer instance (such as LeakyReLU) as the activation argument of another layer. Instead, advanced activation layers should be used just like any other layer in a model.\n",
      "  identifier=identifier.__class__.__name__))\n",
      "/home/ubuntu/anaconda3/envs/tensorflow_p36/lib/python3.6/site-packages/keras/activations.py:211: UserWarning: Do not pass a layer instance (such as LeakyReLU) as the activation argument of another layer. Instead, advanced activation layers should be used just like any other layer in a model.\n",
      "  identifier=identifier.__class__.__name__))\n"
     ]
    },
    {
     "name": "stdout",
     "output_type": "stream",
     "text": [
      "\n",
      "27th loop took 47.4978563785553s\n",
      "ratio_db = 10.0, i = 29/35\r"
     ]
    },
    {
     "name": "stderr",
     "output_type": "stream",
     "text": [
      "/home/ubuntu/anaconda3/envs/tensorflow_p36/lib/python3.6/site-packages/keras/activations.py:211: UserWarning: Do not pass a layer instance (such as LeakyReLU) as the activation argument of another layer. Instead, advanced activation layers should be used just like any other layer in a model.\n",
      "  identifier=identifier.__class__.__name__))\n",
      "/home/ubuntu/anaconda3/envs/tensorflow_p36/lib/python3.6/site-packages/keras/activations.py:211: UserWarning: Do not pass a layer instance (such as LeakyReLU) as the activation argument of another layer. Instead, advanced activation layers should be used just like any other layer in a model.\n",
      "  identifier=identifier.__class__.__name__))\n"
     ]
    },
    {
     "name": "stdout",
     "output_type": "stream",
     "text": [
      "\n",
      "28th loop took 47.802834272384644s\n",
      "ratio_db = 10.5, i = 30/35\r"
     ]
    },
    {
     "name": "stderr",
     "output_type": "stream",
     "text": [
      "/home/ubuntu/anaconda3/envs/tensorflow_p36/lib/python3.6/site-packages/keras/activations.py:211: UserWarning: Do not pass a layer instance (such as LeakyReLU) as the activation argument of another layer. Instead, advanced activation layers should be used just like any other layer in a model.\n",
      "  identifier=identifier.__class__.__name__))\n",
      "/home/ubuntu/anaconda3/envs/tensorflow_p36/lib/python3.6/site-packages/keras/activations.py:211: UserWarning: Do not pass a layer instance (such as LeakyReLU) as the activation argument of another layer. Instead, advanced activation layers should be used just like any other layer in a model.\n",
      "  identifier=identifier.__class__.__name__))\n"
     ]
    },
    {
     "name": "stdout",
     "output_type": "stream",
     "text": [
      "\n",
      "29th loop took 48.616352558135986s\n",
      "ratio_db = 11.0, i = 31/35\r"
     ]
    },
    {
     "name": "stderr",
     "output_type": "stream",
     "text": [
      "/home/ubuntu/anaconda3/envs/tensorflow_p36/lib/python3.6/site-packages/keras/activations.py:211: UserWarning: Do not pass a layer instance (such as LeakyReLU) as the activation argument of another layer. Instead, advanced activation layers should be used just like any other layer in a model.\n",
      "  identifier=identifier.__class__.__name__))\n",
      "/home/ubuntu/anaconda3/envs/tensorflow_p36/lib/python3.6/site-packages/keras/activations.py:211: UserWarning: Do not pass a layer instance (such as LeakyReLU) as the activation argument of another layer. Instead, advanced activation layers should be used just like any other layer in a model.\n",
      "  identifier=identifier.__class__.__name__))\n"
     ]
    },
    {
     "name": "stdout",
     "output_type": "stream",
     "text": [
      "\n",
      "30th loop took 48.884952545166016s\n",
      "ratio_db = 11.5, i = 32/35\r"
     ]
    },
    {
     "name": "stderr",
     "output_type": "stream",
     "text": [
      "/home/ubuntu/anaconda3/envs/tensorflow_p36/lib/python3.6/site-packages/keras/activations.py:211: UserWarning: Do not pass a layer instance (such as LeakyReLU) as the activation argument of another layer. Instead, advanced activation layers should be used just like any other layer in a model.\n",
      "  identifier=identifier.__class__.__name__))\n",
      "/home/ubuntu/anaconda3/envs/tensorflow_p36/lib/python3.6/site-packages/keras/activations.py:211: UserWarning: Do not pass a layer instance (such as LeakyReLU) as the activation argument of another layer. Instead, advanced activation layers should be used just like any other layer in a model.\n",
      "  identifier=identifier.__class__.__name__))\n"
     ]
    },
    {
     "name": "stdout",
     "output_type": "stream",
     "text": [
      "\n",
      "31th loop took 49.15961956977844s\n",
      "ratio_db = 12.0, i = 33/35\r"
     ]
    },
    {
     "name": "stderr",
     "output_type": "stream",
     "text": [
      "/home/ubuntu/anaconda3/envs/tensorflow_p36/lib/python3.6/site-packages/keras/activations.py:211: UserWarning: Do not pass a layer instance (such as LeakyReLU) as the activation argument of another layer. Instead, advanced activation layers should be used just like any other layer in a model.\n",
      "  identifier=identifier.__class__.__name__))\n",
      "/home/ubuntu/anaconda3/envs/tensorflow_p36/lib/python3.6/site-packages/keras/activations.py:211: UserWarning: Do not pass a layer instance (such as LeakyReLU) as the activation argument of another layer. Instead, advanced activation layers should be used just like any other layer in a model.\n",
      "  identifier=identifier.__class__.__name__))\n"
     ]
    },
    {
     "name": "stdout",
     "output_type": "stream",
     "text": [
      "\n",
      "32th loop took 49.388458490371704s\n",
      "ratio_db = 12.5, i = 34/35\r"
     ]
    },
    {
     "name": "stderr",
     "output_type": "stream",
     "text": [
      "/home/ubuntu/anaconda3/envs/tensorflow_p36/lib/python3.6/site-packages/keras/activations.py:211: UserWarning: Do not pass a layer instance (such as LeakyReLU) as the activation argument of another layer. Instead, advanced activation layers should be used just like any other layer in a model.\n",
      "  identifier=identifier.__class__.__name__))\n",
      "/home/ubuntu/anaconda3/envs/tensorflow_p36/lib/python3.6/site-packages/keras/activations.py:211: UserWarning: Do not pass a layer instance (such as LeakyReLU) as the activation argument of another layer. Instead, advanced activation layers should be used just like any other layer in a model.\n",
      "  identifier=identifier.__class__.__name__))\n"
     ]
    },
    {
     "name": "stdout",
     "output_type": "stream",
     "text": [
      "\n",
      "33th loop took 49.931763887405396s\n",
      "ratio_db = 13.0, i = 35/35\r"
     ]
    },
    {
     "name": "stderr",
     "output_type": "stream",
     "text": [
      "/home/ubuntu/anaconda3/envs/tensorflow_p36/lib/python3.6/site-packages/keras/activations.py:211: UserWarning: Do not pass a layer instance (such as LeakyReLU) as the activation argument of another layer. Instead, advanced activation layers should be used just like any other layer in a model.\n",
      "  identifier=identifier.__class__.__name__))\n",
      "/home/ubuntu/anaconda3/envs/tensorflow_p36/lib/python3.6/site-packages/keras/activations.py:211: UserWarning: Do not pass a layer instance (such as LeakyReLU) as the activation argument of another layer. Instead, advanced activation layers should be used just like any other layer in a model.\n",
      "  identifier=identifier.__class__.__name__))\n"
     ]
    },
    {
     "name": "stdout",
     "output_type": "stream",
     "text": [
      "\n",
      "34th loop took 50.42385458946228s\n",
      "\n",
      "Took 800.5894069671631\n"
     ]
    }
   ],
   "source": [
    "# (8,8) tapered, n layers\n",
    "t0 = time()\n",
    "SNRs_db = np.arange(-4,13.5,0.5)\n",
    "# bler = np.empty(SNRs_db.size)\n",
    "bler = np.load('./key_results/paper2/autoencoder_awgn10.npy')\n",
    "\n",
    "hl_act_f = keras.layers.advanced_activations.LeakyReLU()\n",
    "hl_act_f.__name__ = 'leakyrelu'\n",
    "\n",
    "# for i, ratio_db in enumerate(tqdm_notebook(SNRs_db, desc=\"1st loop\")):\n",
    "for i, ratio_db in enumerate(SNRs_db):\n",
    "    print(f\"ratio_db = {ratio_db}, i = {i+1}/{SNRs_db.size}\", end=\"\\r\")\n",
    "    t1 = time()\n",
    "    if(ratio_db >= 5):\n",
    "        bler[i] = get_complex_tapered_noise_bler_SNR(2**8, 2, ratio_db, \\\n",
    "                                                     './models/autoencoder8_8_tap_2l0.0050.h5', \\\n",
    "                                                     test_data256, hl_act_f, \\\n",
    "                                                     \"tanh\", 2)\n",
    "    print(f\"\\n{i}th loop took {time() - t1}s\")\n",
    "# autoencoder_awgn10 = bler\n",
    "# np.save('./key_results/paper2/autoencoder_awgn10.npy', autoencoder_awgn10)\n",
    "\n",
    "print(f\"\\nTook {time() - t0}\")"
   ]
  },
  {
   "cell_type": "code",
   "execution_count": 72,
   "metadata": {},
   "outputs": [],
   "source": [
    "### Save\n",
    "# autoencoder_awgn = bler\n",
    "# np.save('./key_results/paper2/autoencoder_awgn.npy', autoencoder_awgn)\n",
    "\n",
    "# autoencoder_awgn10 = bler\n",
    "# np.save('./key_results/paper2/autoencoder_awgn10.npy', autoencoder_awgn10)\n",
    "\n",
    "### Load\n",
    "autoencoder_awgn = np.load('./key_results/paper2/autoencoder_awgn.npy')\n",
    "autoencoder_awgn10 = np.load('./key_results/paper2/autoencoder_awgn10.npy')"
   ]
  },
  {
   "cell_type": "code",
   "execution_count": 66,
   "metadata": {},
   "outputs": [
    {
     "data": {
      "text/plain": [
       "array([1.58489319, 1.49623566, 1.41253754, 1.33352143, 1.25892541,\n",
       "       1.18850223, 1.12201845, 1.05925373, 1.        , 0.94406088,\n",
       "       0.89125094, 0.84139514, 0.79432823, 0.74989421, 0.70794578,\n",
       "       0.66834392, 0.63095734, 0.59566214, 0.56234133, 0.53088444,\n",
       "       0.50118723, 0.47315126, 0.44668359, 0.4216965 , 0.39810717,\n",
       "       0.3758374 , 0.35481339, 0.33496544, 0.31622777, 0.29853826,\n",
       "       0.28183829, 0.26607251, 0.25118864, 0.23713737, 0.22387211])"
      ]
     },
     "execution_count": 66,
     "metadata": {},
     "output_type": "execute_result"
    }
   ],
   "source": [
    "SNRs_db = np.arange(-4,13.5,0.5)\n",
    "db_to_sigma_a(SNRs_db)"
   ]
  },
  {
   "cell_type": "markdown",
   "metadata": {},
   "source": [
    "#### Get Supervised RSF performance across the SNR range of [-4,1,30]"
   ]
  },
  {
   "cell_type": "code",
   "execution_count": null,
   "metadata": {
    "scrolled": true
   },
   "outputs": [],
   "source": [
    "# autoencoder with rbf\n",
    "# - trained at an SNR of 40\n",
    "# - exactly the same architecture as the paper\n",
    "# - training val_loss of 4.3824\n",
    "t0 = time()\n",
    "SNRs_db = np.arange(-4,30,1)\n",
    "bler = np.empty(SNRs_db.size)\n",
    "\n",
    "for i, ratio_db in enumerate(tqdm_notebook(SNRs_db, desc=\"1st loop\")):\n",
    "# for i, ratio_db in enumerate(SNRs_db):\n",
    "    print(f\"ratio_db = {ratio_db}, i = {i+1}/{SNRs_db.size}\", end=\"\\r\")\n",
    "    t1 = time()\n",
    "    bler[i] = get_supervised_rsf_bler_SNR(8, 4, np.sqrt(0.5), ratio_db, \\\n",
    "                                          './models/rsf_supervised/autoencoder_rsf_sa40_4.3824.h5', \\\n",
    "                                          test_data256)\n",
    "\n",
    "    \n",
    "#     print(f\"\\n{i}th loop took {time() - t1}s\")\n",
    "print(f\"\\nTook {time() - t0}\")"
   ]
  },
  {
   "cell_type": "code",
   "execution_count": 156,
   "metadata": {},
   "outputs": [
    {
     "name": "stdout",
     "output_type": "stream",
     "text": [
      "num_cores =  4\n",
      "Took 136.46156430244446s\n"
     ]
    }
   ],
   "source": [
    "t0 = time()\n",
    "num_cores = multiprocessing.cpu_count()\n",
    "print(\"num_cores = \", num_cores)\n",
    "\n",
    "def tmp(SNR):\n",
    "    return get_supervised_rsf_bler_SNR(8, 4, np.sqrt(0.5), SNR, \\\n",
    "                                          './models/rsf_supervised/autoencoder_rbf_sa40_4.3824.h5', \\\n",
    "                                          test_data256)\n",
    "\n",
    "results = Parallel(n_jobs=num_cores)(delayed(tmp)(SNR) for SNR in SNRs_db)\n",
    "print(f\"Took {time()-t0}s\")"
   ]
  },
  {
   "cell_type": "code",
   "execution_count": 158,
   "metadata": {},
   "outputs": [
    {
     "data": {
      "text/plain": [
       "[0.995525, 0.994975, 0.99555, 0.99547]"
      ]
     },
     "execution_count": 158,
     "metadata": {},
     "output_type": "execute_result"
    }
   ],
   "source": [
    "results"
   ]
  },
  {
   "cell_type": "code",
   "execution_count": 160,
   "metadata": {},
   "outputs": [
    {
     "data": {
      "text/plain": [
       "array([0.995455, 0.995345, 0.9953  , 0.99551 , 0.994965, 0.994895,\n",
       "       0.99479 , 0.9947  , 0.99411 , 0.99397 , 0.994045, 0.993545,\n",
       "       0.99333 , 0.992605, 0.99238 , 0.991515, 0.990945, 0.990435,\n",
       "       0.989335, 0.98868 , 0.987745, 0.98669 , 0.984195, 0.982355,\n",
       "       0.98044 , 0.97794 , 0.97541 , 0.970705, 0.967605, 0.96307 ,\n",
       "       0.95757 , 0.950065, 0.942965, 0.935495, 0.9258  ])"
      ]
     },
     "execution_count": 160,
     "metadata": {},
     "output_type": "execute_result"
    }
   ],
   "source": [
    "# From second run to check constistency\n",
    "bler"
   ]
  },
  {
   "cell_type": "code",
   "execution_count": 49,
   "metadata": {},
   "outputs": [
    {
     "data": {
      "text/plain": [
       "array([0.9945, 0.9975, 0.9945, 0.9955, 0.9955, 0.991 , 0.993 , 0.9925,\n",
       "       0.989 , 0.9915, 0.983 , 0.98  , 0.976 , 0.9765, 0.96  , 0.9575,\n",
       "       0.9405, 0.926 , 0.8955, 0.878 , 0.8475, 0.806 , 0.7665, 0.6995,\n",
       "       0.6605, 0.6145, 0.559 , 0.512 , 0.4585, 0.424 , 0.397 , 0.361 ,\n",
       "       0.342 , 0.3165])"
      ]
     },
     "execution_count": 49,
     "metadata": {},
     "output_type": "execute_result"
    }
   ],
   "source": [
    "# from -4 to 30 run\n",
    "bler"
   ]
  },
  {
   "cell_type": "code",
   "execution_count": 58,
   "metadata": {},
   "outputs": [
    {
     "data": {
      "text/plain": [
       "array([0.995535, 0.99516 , 0.99502 , 0.994455, 0.99419 , 0.993845,\n",
       "       0.993175, 0.99226 , 0.990925, 0.98967 , 0.98738 , 0.984355,\n",
       "       0.980925, 0.974795, 0.967475, 0.95784 , 0.94379 , 0.92575 ,\n",
       "       0.902345, 0.87441 , 0.838795, 0.798815, 0.75632 , 0.70641 ,\n",
       "       0.656895, 0.606725, 0.55868 , 0.51174 , 0.473755, 0.434715,\n",
       "       0.4013  , 0.37387 , 0.34917 , 0.327785])"
      ]
     },
     "execution_count": 58,
     "metadata": {},
     "output_type": "execute_result"
    }
   ],
   "source": [
    "# from -4 to 30 run\n",
    "bler"
   ]
  },
  {
   "cell_type": "code",
   "execution_count": 147,
   "metadata": {},
   "outputs": [
    {
     "data": {
      "text/plain": [
       "array([0.995415, 0.99536 , 0.995215, 0.995095])"
      ]
     },
     "execution_count": 147,
     "metadata": {},
     "output_type": "execute_result"
    }
   ],
   "source": [
    "# From first run\n",
    "bler"
   ]
  },
  {
   "cell_type": "code",
   "execution_count": 57,
   "metadata": {},
   "outputs": [],
   "source": [
    "# autoencoder_rbf_sa40_4_3824_bler = bler\n",
    "# np.save('./key_results/paper2/autoencoder_rbf_sa40_4_3824_bler.npy', autoencoder_rbf_sa40_4_3824_bler)\n",
    "\n",
    "# autoencoder_rbf_sa40_4_3824_bler_4_30 = bler\n",
    "# np.save('./key_results/paper2/autoencoder_rbf_sa40_4_3824_bler_4_30.npy', autoencoder_rbf_sa40_4_3824_bler_4_30)\n",
    "\n",
    "\n",
    "autoencoder_rsf_sa40_4_3824_bler = np.load('./key_results/paper2/autoencoder_rbf_sa40_4_3824_bler.npy')\n",
    "autoencoder_rbf_sa40_4_3824_bler_4_30 = np.load('./key_results/paper2/autoencoder_rbf_sa40_4_3824_bler_4_30.npy')"
   ]
  },
  {
   "cell_type": "markdown",
   "metadata": {},
   "source": [
    "### Figure 6a - AWGN supervised vs unsupervised across a range of SNRs"
   ]
  },
  {
   "cell_type": "code",
   "execution_count": 34,
   "metadata": {},
   "outputs": [],
   "source": [
    "# Dummy data for messing with the way the plot looks\n",
    "x = np.arange(-4,13.5,0.5)\n",
    "y = np.exp(-0.1*x**2)\n",
    "z = y*0.8"
   ]
  },
  {
   "cell_type": "code",
   "execution_count": 76,
   "metadata": {},
   "outputs": [
    {
     "data": {
      "text/plain": [
       "array([9.64925e-01, 9.56290e-01, 9.44590e-01, 9.29410e-01, 9.08040e-01,\n",
       "       8.80110e-01, 8.42395e-01, 7.93590e-01, 7.25765e-01, 6.45315e-01,\n",
       "       5.48310e-01, 4.36680e-01, 3.20405e-01, 2.09300e-01, 1.21800e-01,\n",
       "       5.94700e-02, 2.34100e-02, 7.48500e-03, 1.68500e-03, 2.40000e-04,\n",
       "       3.50000e-05, 0.00000e+00, 0.00000e+00, 0.00000e+00, 0.00000e+00,\n",
       "       0.00000e+00, 0.00000e+00, 0.00000e+00, 0.00000e+00, 0.00000e+00,\n",
       "       0.00000e+00, 0.00000e+00, 0.00000e+00, 0.00000e+00, 0.00000e+00])"
      ]
     },
     "execution_count": 76,
     "metadata": {},
     "output_type": "execute_result"
    }
   ],
   "source": [
    "autoencoder_awgn10"
   ]
  },
  {
   "cell_type": "code",
   "execution_count": 41,
   "metadata": {},
   "outputs": [
    {
     "data": {
      "text/plain": [
       "array([9.64925e-01, 9.56290e-01, 9.44590e-01, 9.29410e-01, 9.08040e-01,\n",
       "       8.80110e-01, 8.42395e-01, 7.93590e-01, 7.25765e-01, 6.45315e-01,\n",
       "       5.48310e-01, 4.36680e-01, 3.20405e-01, 2.09300e-01, 1.21800e-01,\n",
       "       5.94700e-02, 2.34100e-02, 7.48500e-03, 1.68800e-03, 2.68000e-04,\n",
       "       2.70000e-05, 2.00000e-06, 0.00000e+00, 0.00000e+00, 0.00000e+00,\n",
       "       0.00000e+00, 0.00000e+00, 0.00000e+00, 0.00000e+00, 0.00000e+00,\n",
       "       0.00000e+00, 0.00000e+00, 0.00000e+00, 0.00000e+00, 0.00000e+00])"
      ]
     },
     "execution_count": 41,
     "metadata": {},
     "output_type": "execute_result"
    }
   ],
   "source": [
    "autoencoder_awgn10"
   ]
  },
  {
   "cell_type": "code",
   "execution_count": 42,
   "metadata": {},
   "outputs": [
    {
     "data": {
      "image/png": "[encoded data removed]",
      "text/plain": [
       "<Figure size 432x288 with 1 Axes>"
      ]
     },
     "metadata": {},
     "output_type": "display_data"
    }
   ],
   "source": [
    "x = np.arange(-4,13.5,0.5)\n",
    "autoencoder_awgn = np.load('./key_results/paper2/autoencoder_awgn.npy')\n",
    "autoencoder_awgn10 = np.load('./key_results/paper2/autoencoder_awgn10.npy')\n",
    "\n",
    "plt.figure()\n",
    "plt.semilogy(x,autoencoder_awgn,'^-', color=\"orange\", markerfacecolor='none', markersize=4, linewidth=0.5)\n",
    "plt.semilogy(x,autoencoder_awgn10,'^-', color=\"blue\", markerfacecolor='none', markersize=4, linewidth=0.5)\n",
    "# plt.semilogy(x,z,'D-', color=\"blue\", markerfacecolor='none', markersize=3, linewidth=0.5)\n",
    "plt.xlabel(\"SNR (db)\")\n",
    "plt.ylabel(\"Error Rate\")\n",
    "plt.grid()\n",
    "plt.legend([\"Supervised20\", \"Supervised10\"])\n",
    "# plt.savefig(\"./figures/aoudia_paper/awgn_supervised.png\")\n",
    "# plt.savefig(\"./final_report/figures/aoudia_paper/awgn_supervised.png\")\n",
    "plt.show()"
   ]
  },
  {
   "cell_type": "code",
   "execution_count": 40,
   "metadata": {},
   "outputs": [
    {
     "data": {
      "image/png": "[encoded data removed]",
      "text/plain": [
       "<Figure size 432x288 with 1 Axes>"
      ]
     },
     "metadata": {},
     "output_type": "display_data"
    }
   ],
   "source": [
    "plt.figure()\n",
    "plt.semilogy(x,autoencoder_awgn,'^-', color=\"orange\", markerfacecolor='none', markersize=4, linewidth=0.5)\n",
    "plt.semilogy(x,z,'D-', color=\"blue\", markerfacecolor='none', markersize=3, linewidth=0.5)\n",
    "plt.xlabel(\"SNR (db)\")\n",
    "plt.ylabel(\"Error Rate\")\n",
    "plt.grid()\n",
    "plt.legend([\"Supervised\", \"Alternating\"])\n",
    "plt.show()"
   ]
  },
  {
   "cell_type": "markdown",
   "metadata": {},
   "source": [
    "### Figure 6b - RBF supervised vs unsupervised across a range of SNRs"
   ]
  },
  {
   "cell_type": "code",
   "execution_count": 60,
   "metadata": {},
   "outputs": [
    {
     "data": {
      "image/png": "[encoded data removed]",
      "text/plain": [
       "<Figure size 432x288 with 1 Axes>"
      ]
     },
     "metadata": {
      "needs_background": "light"
     },
     "output_type": "display_data"
    }
   ],
   "source": [
    "x30 = np.arange(-4,30,1)\n",
    "\n",
    "plt.figure()\n",
    "# plt.semilogy(x,autoencoder_rsf_sa40_4_3824_bler,'^-', color=\"orange\", markerfacecolor='none', markersize=4, linewidth=0.5)\n",
    "plt.semilogy(x30,autoencoder_rbf_sa40_4_3824_bler_4_30,'^-', color=\"orange\", markerfacecolor='none', markersize=4, linewidth=0.5)\n",
    "# plt.semilogy(x,z,'D-', color=\"blue\", markerfacecolor='none', markersize=3, linewidth=0.5)\n",
    "plt.xlabel(\"SNR (db)\")\n",
    "plt.ylabel(\"Error Rate\")\n",
    "plt.grid()\n",
    "plt.legend([\"Supervised RSF\"])\n",
    "# plt.savefig(\"./figures/aoudia_paper/autoencoder_rsf_bler.png\")\n",
    "# plt.savefig(\"./final_report/figures/aoudia_paper/autoencoder_rsf_bler.png\")\n",
    "plt.show()"
   ]
  },
  {
   "cell_type": "code",
   "execution_count": null,
   "metadata": {},
   "outputs": [],
   "source": []
  },
  {
   "cell_type": "markdown",
   "metadata": {},
   "source": [
    "### Rician Fading\n",
    "\n",
    "https://en.wikipedia.org/wiki/Rician_fading\n",
    "<br>\n",
    "\n",
    "https://www.gaussianwaves.com/tag/rician/\n",
    "\n",
    "Also see the document in downloads about it."
   ]
  }
 ],
 "metadata": {
  "kernelspec": {
   "display_name": "Python 3",
   "language": "python",
   "name": "python3"
  },
  "language_info": {
   "codemirror_mode": {
    "name": "ipython",
    "version": 3
   },
   "file_extension": ".py",
   "mimetype": "text/x-python",
   "name": "python",
   "nbconvert_exporter": "python",
   "pygments_lexer": "ipython3",
   "version": "3.6.5"
  }
 },
 "nbformat": 4,
 "nbformat_minor": 2
}
